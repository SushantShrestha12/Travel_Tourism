{
  "cells": [
    {
      "cell_type": "code",
      "execution_count": 3,
      "metadata": {
        "id": "ZQfQdkyCigfC"
      },
      "outputs": [],
      "source": [
        "import pandas as pd\n",
        "import numpy as np"
      ]
    },
    {
      "cell_type": "code",
      "execution_count": 4,
      "metadata": {
        "id": "tAppA_u9ioz8"
      },
      "outputs": [],
      "source": [
        "# Loading datasets\n",
        "df = pd.read_csv('Nepali_Treking_EnhancedV2.csv')"
      ]
    },
    {
      "cell_type": "code",
      "execution_count": 5,
      "metadata": {
        "colab": {
          "base_uri": "https://localhost:8080/",
          "height": 1000
        },
        "id": "XPnvay2djMoH",
        "outputId": "61ebd854-345f-42d7-c4d8-58cfb3b70777"
      },
      "outputs": [
        {
          "data": {
            "text/html": [
              "<div>\n",
              "<style scoped>\n",
              "    .dataframe tbody tr th:only-of-type {\n",
              "        vertical-align: middle;\n",
              "    }\n",
              "\n",
              "    .dataframe tbody tr th {\n",
              "        vertical-align: top;\n",
              "    }\n",
              "\n",
              "    .dataframe thead th {\n",
              "        text-align: right;\n",
              "    }\n",
              "</style>\n",
              "<table border=\"1\" class=\"dataframe\">\n",
              "  <thead>\n",
              "    <tr style=\"text-align: right;\">\n",
              "      <th></th>\n",
              "      <th>Unnamed: 0</th>\n",
              "      <th>Trek</th>\n",
              "      <th>Cost</th>\n",
              "      <th>Time</th>\n",
              "      <th>Trip Grade</th>\n",
              "      <th>Max Altitude</th>\n",
              "      <th>Accomodation</th>\n",
              "      <th>Best Travel Time</th>\n",
              "      <th>Date of Travel</th>\n",
              "      <th>Sex</th>\n",
              "      <th>...</th>\n",
              "      <th>Regional code</th>\n",
              "      <th>Country</th>\n",
              "      <th>Fitness Level</th>\n",
              "      <th>Weather Conditions</th>\n",
              "      <th>Trekking Group Size</th>\n",
              "      <th>Guide/No Guide</th>\n",
              "      <th>Equipment Used</th>\n",
              "      <th>Purpose of Travel</th>\n",
              "      <th>Health Incidents</th>\n",
              "      <th>Review/Satisfaction</th>\n",
              "    </tr>\n",
              "  </thead>\n",
              "  <tbody>\n",
              "    <tr>\n",
              "      <th>0</th>\n",
              "      <td>0</td>\n",
              "      <td>Everest Base Camp Trek</td>\n",
              "      <td>\\n$1,420     USD</td>\n",
              "      <td>16 Days</td>\n",
              "      <td>Moderate</td>\n",
              "      <td>5545 m</td>\n",
              "      <td>Hotel/Guesthouse</td>\n",
              "      <td>March - May &amp; Sept - Dec</td>\n",
              "      <td>9/13/2022</td>\n",
              "      <td>Non-Binary</td>\n",
              "      <td>...</td>\n",
              "      <td>0</td>\n",
              "      <td>total</td>\n",
              "      <td>Intermediate</td>\n",
              "      <td>Clear</td>\n",
              "      <td>10.0</td>\n",
              "      <td>Guide</td>\n",
              "      <td>Poles</td>\n",
              "      <td>Leisure</td>\n",
              "      <td>NaN</td>\n",
              "      <td>4.5</td>\n",
              "    </tr>\n",
              "    <tr>\n",
              "      <th>1</th>\n",
              "      <td>1</td>\n",
              "      <td>Everest Base Camp Short Trek</td>\n",
              "      <td>\\n$1,295     USD</td>\n",
              "      <td>14 Days</td>\n",
              "      <td>Moderate</td>\n",
              "      <td>5545 m</td>\n",
              "      <td>Hotel/Guesthouse</td>\n",
              "      <td>March - May &amp; Sept - Dec</td>\n",
              "      <td>09/04/2021</td>\n",
              "      <td>Female</td>\n",
              "      <td>...</td>\n",
              "      <td>40</td>\n",
              "      <td>Afghanistan</td>\n",
              "      <td>NaN</td>\n",
              "      <td>NaN</td>\n",
              "      <td>NaN</td>\n",
              "      <td>NaN</td>\n",
              "      <td>NaN</td>\n",
              "      <td>NaN</td>\n",
              "      <td>NaN</td>\n",
              "      <td>NaN</td>\n",
              "    </tr>\n",
              "    <tr>\n",
              "      <th>2</th>\n",
              "      <td>2</td>\n",
              "      <td>Everest Base Camp Heli Shuttle Trek</td>\n",
              "      <td>\\n$2000 USD</td>\n",
              "      <td>12 Days</td>\n",
              "      <td>Moderate</td>\n",
              "      <td>5545 m</td>\n",
              "      <td>Hotel/Guesthouse</td>\n",
              "      <td>March - May &amp; Sept - Dec</td>\n",
              "      <td>1/25/2021</td>\n",
              "      <td>Female</td>\n",
              "      <td>...</td>\n",
              "      <td>80</td>\n",
              "      <td>Albania</td>\n",
              "      <td>Advanced</td>\n",
              "      <td>Snowy</td>\n",
              "      <td>12.0</td>\n",
              "      <td>Guide</td>\n",
              "      <td>Oxygen</td>\n",
              "      <td>Charity</td>\n",
              "      <td>NaN</td>\n",
              "      <td>5.0</td>\n",
              "    </tr>\n",
              "    <tr>\n",
              "      <th>3</th>\n",
              "      <td>3</td>\n",
              "      <td>Everest Base Camp Heli Trek</td>\n",
              "      <td>\\n$3,300     USD</td>\n",
              "      <td>11 Days</td>\n",
              "      <td>Moderate</td>\n",
              "      <td>5545 m</td>\n",
              "      <td>Hotel/Guesthouse</td>\n",
              "      <td>March - May &amp; Sept - Dec</td>\n",
              "      <td>1/28/2022</td>\n",
              "      <td>Non-Binary</td>\n",
              "      <td>...</td>\n",
              "      <td>120</td>\n",
              "      <td>Algeria</td>\n",
              "      <td>Intermediate</td>\n",
              "      <td>Clear</td>\n",
              "      <td>5.0</td>\n",
              "      <td>Guide</td>\n",
              "      <td>Poles</td>\n",
              "      <td>Leisure</td>\n",
              "      <td>NaN</td>\n",
              "      <td>4.0</td>\n",
              "    </tr>\n",
              "    <tr>\n",
              "      <th>4</th>\n",
              "      <td>4</td>\n",
              "      <td>Everest Base Camp Trek for Seniors</td>\n",
              "      <td>\\n$1,800     USD</td>\n",
              "      <td>20 Days</td>\n",
              "      <td>Moderate</td>\n",
              "      <td>5545 m</td>\n",
              "      <td>Hotel/Guesthouse</td>\n",
              "      <td>March - May &amp; Sept - Dec</td>\n",
              "      <td>10/21/2021</td>\n",
              "      <td>Non-Binary</td>\n",
              "      <td>...</td>\n",
              "      <td>200</td>\n",
              "      <td>Andra</td>\n",
              "      <td>Beginner</td>\n",
              "      <td>Cloudy</td>\n",
              "      <td>6.0</td>\n",
              "      <td>No Guide</td>\n",
              "      <td>NaN</td>\n",
              "      <td>Adventure</td>\n",
              "      <td>Minor Injury</td>\n",
              "      <td>3.5</td>\n",
              "    </tr>\n",
              "    <tr>\n",
              "      <th>5</th>\n",
              "      <td>5</td>\n",
              "      <td>Everest Chola Pass Trek</td>\n",
              "      <td>\\n$1,720     USD</td>\n",
              "      <td>19 Days</td>\n",
              "      <td>Strenuous</td>\n",
              "      <td>5545 m</td>\n",
              "      <td>Hotel/Guesthouse</td>\n",
              "      <td>March - May &amp; Sept - Dec</td>\n",
              "      <td>1/25/2022</td>\n",
              "      <td>Non-Binary</td>\n",
              "      <td>...</td>\n",
              "      <td>240</td>\n",
              "      <td>Angola</td>\n",
              "      <td>Intermediate</td>\n",
              "      <td>Clear</td>\n",
              "      <td>10.0</td>\n",
              "      <td>Guide</td>\n",
              "      <td>Poles</td>\n",
              "      <td>Leisure</td>\n",
              "      <td>NaN</td>\n",
              "      <td>4.5</td>\n",
              "    </tr>\n",
              "    <tr>\n",
              "      <th>6</th>\n",
              "      <td>6</td>\n",
              "      <td>Gokyo Lake Renjo La Pass Trek</td>\n",
              "      <td>\\n$1,450     USD</td>\n",
              "      <td>16 Days</td>\n",
              "      <td>Moderate</td>\n",
              "      <td>5360 m</td>\n",
              "      <td>Hotel/Guesthouse</td>\n",
              "      <td>March - May &amp; Sept - Dec.</td>\n",
              "      <td>08/07/2022</td>\n",
              "      <td>Male</td>\n",
              "      <td>...</td>\n",
              "      <td>280</td>\n",
              "      <td>Antigua Berbuda</td>\n",
              "      <td>NaN</td>\n",
              "      <td>NaN</td>\n",
              "      <td>NaN</td>\n",
              "      <td>NaN</td>\n",
              "      <td>NaN</td>\n",
              "      <td>NaN</td>\n",
              "      <td>NaN</td>\n",
              "      <td>NaN</td>\n",
              "    </tr>\n",
              "    <tr>\n",
              "      <th>7</th>\n",
              "      <td>7</td>\n",
              "      <td>Everest High Passes Trek</td>\n",
              "      <td>\\n$1,950     USD</td>\n",
              "      <td>22 Days</td>\n",
              "      <td>Strenuous</td>\n",
              "      <td>5545 m</td>\n",
              "      <td>Hotel/Guesthouse</td>\n",
              "      <td>April - May &amp; Sept - Nov</td>\n",
              "      <td>01/04/2021</td>\n",
              "      <td>Transgender</td>\n",
              "      <td>...</td>\n",
              "      <td>310</td>\n",
              "      <td>Azerbaijan</td>\n",
              "      <td>Advanced</td>\n",
              "      <td>Snowy</td>\n",
              "      <td>12.0</td>\n",
              "      <td>Guide</td>\n",
              "      <td>Oxygen</td>\n",
              "      <td>Charity</td>\n",
              "      <td>NaN</td>\n",
              "      <td>5.0</td>\n",
              "    </tr>\n",
              "    <tr>\n",
              "      <th>8</th>\n",
              "      <td>8</td>\n",
              "      <td>Short Everest Trek</td>\n",
              "      <td>\\n$1060 USD</td>\n",
              "      <td>7 Days</td>\n",
              "      <td>Easy To Moderate</td>\n",
              "      <td>3900 m</td>\n",
              "      <td>Hotel/Guesthouse</td>\n",
              "      <td>March - May &amp; Sept - Dec.</td>\n",
              "      <td>6/28/2022</td>\n",
              "      <td>Female</td>\n",
              "      <td>...</td>\n",
              "      <td>320</td>\n",
              "      <td>Argentina</td>\n",
              "      <td>Intermediate</td>\n",
              "      <td>Clear</td>\n",
              "      <td>5.0</td>\n",
              "      <td>Guide</td>\n",
              "      <td>Poles</td>\n",
              "      <td>Leisure</td>\n",
              "      <td>NaN</td>\n",
              "      <td>4.0</td>\n",
              "    </tr>\n",
              "    <tr>\n",
              "      <th>9</th>\n",
              "      <td>9</td>\n",
              "      <td>Everest Panorama Trek</td>\n",
              "      <td>\\n$1150 USD</td>\n",
              "      <td>10 Days</td>\n",
              "      <td>Easy To Moderate</td>\n",
              "      <td>3860 m</td>\n",
              "      <td>Hotel/Guesthouse</td>\n",
              "      <td>Jan - May &amp; Sept - Dec</td>\n",
              "      <td>1/31/2020</td>\n",
              "      <td>Female</td>\n",
              "      <td>...</td>\n",
              "      <td>360</td>\n",
              "      <td>Australia</td>\n",
              "      <td>Beginner</td>\n",
              "      <td>Cloudy</td>\n",
              "      <td>6.0</td>\n",
              "      <td>No Guide</td>\n",
              "      <td>NaN</td>\n",
              "      <td>Adventure</td>\n",
              "      <td>Minor Injury</td>\n",
              "      <td>3.5</td>\n",
              "    </tr>\n",
              "  </tbody>\n",
              "</table>\n",
              "<p>10 rows × 26 columns</p>\n",
              "</div>"
            ],
            "text/plain": [
              "   Unnamed: 0                                 Trek              Cost  \\\n",
              "0           0               Everest Base Camp Trek  \\n$1,420     USD   \n",
              "1           1         Everest Base Camp Short Trek  \\n$1,295     USD   \n",
              "2           2  Everest Base Camp Heli Shuttle Trek       \\n$2000 USD   \n",
              "3           3          Everest Base Camp Heli Trek  \\n$3,300     USD   \n",
              "4           4   Everest Base Camp Trek for Seniors  \\n$1,800     USD   \n",
              "5           5              Everest Chola Pass Trek  \\n$1,720     USD   \n",
              "6           6        Gokyo Lake Renjo La Pass Trek  \\n$1,450     USD   \n",
              "7           7             Everest High Passes Trek  \\n$1,950     USD   \n",
              "8           8                   Short Everest Trek       \\n$1060 USD   \n",
              "9           9                Everest Panorama Trek       \\n$1150 USD   \n",
              "\n",
              "       Time        Trip Grade Max Altitude      Accomodation  \\\n",
              "0   16 Days          Moderate       5545 m  Hotel/Guesthouse   \n",
              "1   14 Days          Moderate       5545 m  Hotel/Guesthouse   \n",
              "2   12 Days          Moderate       5545 m  Hotel/Guesthouse   \n",
              "3   11 Days          Moderate       5545 m  Hotel/Guesthouse   \n",
              "4   20 Days          Moderate       5545 m  Hotel/Guesthouse   \n",
              "5   19 Days         Strenuous       5545 m  Hotel/Guesthouse   \n",
              "6   16 Days          Moderate       5360 m  Hotel/Guesthouse   \n",
              "7   22 Days         Strenuous       5545 m  Hotel/Guesthouse   \n",
              "8    7 Days  Easy To Moderate       3900 m  Hotel/Guesthouse   \n",
              "9   10 Days  Easy To Moderate       3860 m  Hotel/Guesthouse   \n",
              "\n",
              "            Best Travel Time Date of Travel          Sex  ...  Regional code  \\\n",
              "0   March - May & Sept - Dec      9/13/2022   Non-Binary  ...              0   \n",
              "1   March - May & Sept - Dec     09/04/2021       Female  ...             40   \n",
              "2   March - May & Sept - Dec      1/25/2021       Female  ...             80   \n",
              "3   March - May & Sept - Dec      1/28/2022   Non-Binary  ...            120   \n",
              "4   March - May & Sept - Dec     10/21/2021   Non-Binary  ...            200   \n",
              "5   March - May & Sept - Dec      1/25/2022   Non-Binary  ...            240   \n",
              "6  March - May & Sept - Dec.     08/07/2022         Male  ...            280   \n",
              "7   April - May & Sept - Nov     01/04/2021  Transgender  ...            310   \n",
              "8  March - May & Sept - Dec.      6/28/2022       Female  ...            320   \n",
              "9     Jan - May & Sept - Dec      1/31/2020       Female  ...            360   \n",
              "\n",
              "           Country Fitness Level  Weather Conditions Trekking Group Size  \\\n",
              "0            total  Intermediate               Clear                10.0   \n",
              "1      Afghanistan           NaN                 NaN                 NaN   \n",
              "2          Albania      Advanced               Snowy                12.0   \n",
              "3          Algeria  Intermediate               Clear                 5.0   \n",
              "4            Andra      Beginner              Cloudy                 6.0   \n",
              "5           Angola  Intermediate               Clear                10.0   \n",
              "6  Antigua Berbuda           NaN                 NaN                 NaN   \n",
              "7       Azerbaijan      Advanced               Snowy                12.0   \n",
              "8        Argentina  Intermediate               Clear                 5.0   \n",
              "9        Australia      Beginner              Cloudy                 6.0   \n",
              "\n",
              "   Guide/No Guide  Equipment Used Purpose of Travel Health Incidents  \\\n",
              "0           Guide           Poles           Leisure              NaN   \n",
              "1             NaN             NaN               NaN              NaN   \n",
              "2           Guide          Oxygen           Charity              NaN   \n",
              "3           Guide           Poles           Leisure              NaN   \n",
              "4        No Guide             NaN         Adventure     Minor Injury   \n",
              "5           Guide           Poles           Leisure              NaN   \n",
              "6             NaN             NaN               NaN              NaN   \n",
              "7           Guide          Oxygen           Charity              NaN   \n",
              "8           Guide           Poles           Leisure              NaN   \n",
              "9        No Guide             NaN         Adventure     Minor Injury   \n",
              "\n",
              "  Review/Satisfaction  \n",
              "0                 4.5  \n",
              "1                 NaN  \n",
              "2                 5.0  \n",
              "3                 4.0  \n",
              "4                 3.5  \n",
              "5                 4.5  \n",
              "6                 NaN  \n",
              "7                 5.0  \n",
              "8                 4.0  \n",
              "9                 3.5  \n",
              "\n",
              "[10 rows x 26 columns]"
            ]
          },
          "execution_count": 5,
          "metadata": {},
          "output_type": "execute_result"
        }
      ],
      "source": [
        "df.head(10)"
      ]
    },
    {
      "cell_type": "code",
      "execution_count": 6,
      "metadata": {
        "colab": {
          "base_uri": "https://localhost:8080/"
        },
        "id": "lDZxG9ZUnBpH",
        "outputId": "e20fb4df-0c23-4010-da0b-6fa8f8667253"
      },
      "outputs": [
        {
          "name": "stdout",
          "output_type": "stream",
          "text": [
            "<class 'pandas.core.frame.DataFrame'>\n",
            "RangeIndex: 383 entries, 0 to 382\n",
            "Data columns (total 26 columns):\n",
            " #   Column               Non-Null Count  Dtype  \n",
            "---  ------               --------------  -----  \n",
            " 0   Unnamed: 0           383 non-null    int64  \n",
            " 1   Trek                 383 non-null    object \n",
            " 2   Cost                 383 non-null    object \n",
            " 3   Time                 383 non-null    object \n",
            " 4   Trip Grade           383 non-null    object \n",
            " 5   Max Altitude         383 non-null    object \n",
            " 6   Accomodation         383 non-null    object \n",
            " 7   Best Travel Time     383 non-null    object \n",
            " 8   Date of Travel       383 non-null    object \n",
            " 9   Sex                  383 non-null    object \n",
            " 10  Age                  383 non-null    int64  \n",
            " 11  Employment Type      383 non-null    object \n",
            " 12  GraduateOrNot        383 non-null    object \n",
            " 13  AnnualIncome         383 non-null    int64  \n",
            " 14  FrequentFlyer        383 non-null    object \n",
            " 15  Year                 383 non-null    int64  \n",
            " 16  Regional code        383 non-null    int64  \n",
            " 17  Country              383 non-null    object \n",
            " 18  Fitness Level        345 non-null    object \n",
            " 19  Weather Conditions   345 non-null    object \n",
            " 20  Trekking Group Size  345 non-null    float64\n",
            " 21  Guide/No Guide       345 non-null    object \n",
            " 22  Equipment Used       207 non-null    object \n",
            " 23  Purpose of Travel    345 non-null    object \n",
            " 24  Health Incidents     138 non-null    object \n",
            " 25  Review/Satisfaction  345 non-null    float64\n",
            "dtypes: float64(2), int64(5), object(19)\n",
            "memory usage: 77.9+ KB\n"
          ]
        }
      ],
      "source": [
        "df.info()"
      ]
    },
    {
      "cell_type": "markdown",
      "metadata": {
        "id": "_nXnOr_ppqr6"
      },
      "source": [
        "## **Data Pre-Processing**"
      ]
    },
    {
      "cell_type": "code",
      "execution_count": 7,
      "metadata": {
        "id": "qtbp7ddufPKt"
      },
      "outputs": [],
      "source": [
        "# Droping the unnecessary 'Unnamed: 0' column\n",
        "df= df.drop(columns=['Unnamed: 0'])"
      ]
    },
    {
      "cell_type": "code",
      "execution_count": 8,
      "metadata": {
        "colab": {
          "base_uri": "https://localhost:8080/"
        },
        "id": "yoff5ULsfsfd",
        "outputId": "695b2677-ea79-4efe-cfec-a7451da63498"
      },
      "outputs": [
        {
          "name": "stdout",
          "output_type": "stream",
          "text": [
            "Index(['Trek', 'Cost', 'Time', 'Trip Grade', 'Max Altitude', 'Accomodation',\n",
            "       'Best Travel Time', 'Date of Travel', 'Sex', 'Employment Type',\n",
            "       'GraduateOrNot', 'FrequentFlyer', 'Country', 'Fitness Level',\n",
            "       'Weather Conditions', 'Guide/No Guide', 'Equipment Used',\n",
            "       'Purpose of Travel', 'Health Incidents'],\n",
            "      dtype='object')\n",
            "\n",
            "Index(['Age', 'AnnualIncome', 'Year', 'Regional code', 'Trekking Group Size',\n",
            "       'Review/Satisfaction'],\n",
            "      dtype='object')\n"
          ]
        }
      ],
      "source": [
        "print(df.select_dtypes(\"object\").columns, end=\"\\n\\n\")\n",
        "print(df.select_dtypes(np.number).columns)"
      ]
    },
    {
      "cell_type": "markdown",
      "metadata": {
        "id": "TSStzA5V5P10"
      },
      "source": [
        "## **`Trek` Column**"
      ]
    },
    {
      "cell_type": "code",
      "execution_count": 9,
      "metadata": {
        "colab": {
          "base_uri": "https://localhost:8080/"
        },
        "id": "SkBgUOaj5LRo",
        "outputId": "bbf60f94-de9f-4340-865f-93865dd6fa9d"
      },
      "outputs": [
        {
          "name": "stdout",
          "output_type": "stream",
          "text": [
            "0                 Everest Base Camp Trek\n",
            "1           Everest Base Camp Short Trek\n",
            "2    Everest Base Camp Heli Shuttle Trek\n",
            "3            Everest Base Camp Heli Trek\n",
            "4     Everest Base Camp Trek for Seniors\n",
            "Name: Trek, dtype: object\n"
          ]
        }
      ],
      "source": [
        "def clean_trek_name(trek_name):\n",
        "    # Remove non-ASCII characters\n",
        "    trek_name = trek_name.encode('ascii', 'ignore').decode('ascii')\n",
        "    # Strip extra whitespace\n",
        "    trek_name = trek_name.strip()\n",
        "    return trek_name\n",
        "\n",
        "# Apply the cleaning function to the 'Trek' column in df\n",
        "df['Trek'] = df['Trek'].apply(clean_trek_name)\n",
        "\n",
        "# Check the result\n",
        "print(df['Trek'].head())"
      ]
    },
    {
      "cell_type": "code",
      "execution_count": 10,
      "metadata": {
        "colab": {
          "base_uri": "https://localhost:8080/"
        },
        "id": "4CtOVFJJ5MKt",
        "outputId": "01fb0b72-044d-46cf-d2b6-19eb8c110262"
      },
      "outputs": [
        {
          "name": "stdout",
          "output_type": "stream",
          "text": [
            "Trek\n",
            "Annapurna Base Camp Trek                               15\n",
            "Upper Mustang Trek                                     15\n",
            "Manaslu Circuit Trek                                   15\n",
            "Annapurna Circuit Trek                                 15\n",
            "Mardi Himal Trek                                       15\n",
            "                                                       ..\n",
            "Everest Base Camp Heli Shuttle Trek                     1\n",
            "Gokyo Lake Renjo La Pass Trek                           1\n",
            "Everest Base Camp Trek with Chola and Renjo La Pass     1\n",
            "Luxury Everest Base Camp Heli Trek                      1\n",
            "Short Everest Trek                                      1\n",
            "Name: count, Length: 68, dtype: int64\n"
          ]
        }
      ],
      "source": [
        "print(df['Trek'].value_counts())"
      ]
    },
    {
      "cell_type": "code",
      "execution_count": 11,
      "metadata": {
        "colab": {
          "base_uri": "https://localhost:8080/",
          "height": 458
        },
        "id": "mev2R0ACO6cz",
        "outputId": "2c1dff31-7815-4428-9422-4a3b450201af"
      },
      "outputs": [
        {
          "data": {
            "text/plain": [
              "0                   Everest Base Camp Trek\n",
              "1             Everest Base Camp Short Trek\n",
              "2      Everest Base Camp Heli Shuttle Trek\n",
              "3              Everest Base Camp Heli Trek\n",
              "4       Everest Base Camp Trek for Seniors\n",
              "                      ...                 \n",
              "378               Ghorepani Poon Hill Trek\n",
              "379                     Upper Mustang Trek\n",
              "380                       Mardi Himal Trek\n",
              "381               Langtang Valley Trekking\n",
              "382                   Manaslu Circuit Trek\n",
              "Name: Trek, Length: 383, dtype: object"
            ]
          },
          "execution_count": 11,
          "metadata": {},
          "output_type": "execute_result"
        }
      ],
      "source": [
        "df['Trek']"
      ]
    },
    {
      "cell_type": "markdown",
      "metadata": {
        "id": "zV962L-HiVzc"
      },
      "source": [
        "## **`Cost` column**"
      ]
    },
    {
      "cell_type": "code",
      "execution_count": 12,
      "metadata": {
        "colab": {
          "base_uri": "https://localhost:8080/"
        },
        "id": "x8a7iNAljV7I",
        "outputId": "2a3a75be-3054-4ba3-f884-745fcc1f3be6"
      },
      "outputs": [
        {
          "name": "stdout",
          "output_type": "stream",
          "text": [
            "Cost\n",
            " $1,499     USD    36\n",
            " $1,499   USD      36\n",
            " $1,499  USD       36\n",
            " $1,499 USD        36\n",
            " $1,499    USD     36\n",
            "                   ..\n",
            "$1390    USD        1\n",
            "$1040    USD        1\n",
            "$1530    USD        1\n",
            "$3600    USD        1\n",
            "$690 USD            1\n",
            "Name: count, Length: 167, dtype: int64\n",
            "0    \\n$1,420     USD\n",
            "1    \\n$1,295     USD\n",
            "2         \\n$2000 USD\n",
            "3    \\n$3,300     USD\n",
            "4    \\n$1,800     USD\n",
            "Name: Cost, dtype: object\n"
          ]
        }
      ],
      "source": [
        "print(df['Cost'].value_counts(), end=\"\\n\")\n",
        "print(df['Cost'].head())"
      ]
    },
    {
      "cell_type": "code",
      "execution_count": 13,
      "metadata": {
        "colab": {
          "base_uri": "https://localhost:8080/",
          "height": 458
        },
        "id": "Hn4Dr7lUjcgZ",
        "outputId": "46a343bd-029e-479b-b502-036d4ebc0d7d"
      },
      "outputs": [
        {
          "data": {
            "text/plain": [
              "0      1420.0\n",
              "1      1295.0\n",
              "2      2000.0\n",
              "3      3300.0\n",
              "4      1800.0\n",
              "        ...  \n",
              "378     450.0\n",
              "379    2100.0\n",
              "380     590.0\n",
              "381     690.0\n",
              "382    1190.0\n",
              "Name: Cost, Length: 383, dtype: float32"
            ]
          },
          "execution_count": 13,
          "metadata": {},
          "output_type": "execute_result"
        }
      ],
      "source": [
        "df['Cost'] = df['Cost'].str.replace(r\"\\W|\\D|\\s\", \"\", regex=True) \\\n",
        "                                    .astype('float32')\n",
        "df['Cost']"
      ]
    },
    {
      "cell_type": "markdown",
      "metadata": {
        "id": "bkwfA4iql1zp"
      },
      "source": [
        "## **`Time` Column**"
      ]
    },
    {
      "cell_type": "code",
      "execution_count": 14,
      "metadata": {
        "colab": {
          "base_uri": "https://localhost:8080/",
          "height": 423
        },
        "id": "ZATJBdaHpnbH",
        "outputId": "334c602e-e6b2-4f5e-c478-cab1486de3b8"
      },
      "outputs": [
        {
          "data": {
            "text/html": [
              "<div>\n",
              "<style scoped>\n",
              "    .dataframe tbody tr th:only-of-type {\n",
              "        vertical-align: middle;\n",
              "    }\n",
              "\n",
              "    .dataframe tbody tr th {\n",
              "        vertical-align: top;\n",
              "    }\n",
              "\n",
              "    .dataframe thead th {\n",
              "        text-align: right;\n",
              "    }\n",
              "</style>\n",
              "<table border=\"1\" class=\"dataframe\">\n",
              "  <thead>\n",
              "    <tr style=\"text-align: right;\">\n",
              "      <th></th>\n",
              "      <th>Trek</th>\n",
              "      <th>Time</th>\n",
              "    </tr>\n",
              "  </thead>\n",
              "  <tbody>\n",
              "    <tr>\n",
              "      <th>0</th>\n",
              "      <td>Everest Base Camp Trek</td>\n",
              "      <td>16</td>\n",
              "    </tr>\n",
              "    <tr>\n",
              "      <th>1</th>\n",
              "      <td>Everest Base Camp Short Trek</td>\n",
              "      <td>14</td>\n",
              "    </tr>\n",
              "    <tr>\n",
              "      <th>2</th>\n",
              "      <td>Everest Base Camp Heli Shuttle Trek</td>\n",
              "      <td>12</td>\n",
              "    </tr>\n",
              "    <tr>\n",
              "      <th>3</th>\n",
              "      <td>Everest Base Camp Heli Trek</td>\n",
              "      <td>11</td>\n",
              "    </tr>\n",
              "    <tr>\n",
              "      <th>4</th>\n",
              "      <td>Everest Base Camp Trek for Seniors</td>\n",
              "      <td>20</td>\n",
              "    </tr>\n",
              "    <tr>\n",
              "      <th>...</th>\n",
              "      <td>...</td>\n",
              "      <td>...</td>\n",
              "    </tr>\n",
              "    <tr>\n",
              "      <th>378</th>\n",
              "      <td>Ghorepani Poon Hill Trek</td>\n",
              "      <td>10</td>\n",
              "    </tr>\n",
              "    <tr>\n",
              "      <th>379</th>\n",
              "      <td>Upper Mustang Trek</td>\n",
              "      <td>17</td>\n",
              "    </tr>\n",
              "    <tr>\n",
              "      <th>380</th>\n",
              "      <td>Mardi Himal Trek</td>\n",
              "      <td>9</td>\n",
              "    </tr>\n",
              "    <tr>\n",
              "      <th>381</th>\n",
              "      <td>Langtang Valley Trekking</td>\n",
              "      <td>11</td>\n",
              "    </tr>\n",
              "    <tr>\n",
              "      <th>382</th>\n",
              "      <td>Manaslu Circuit Trek</td>\n",
              "      <td>17</td>\n",
              "    </tr>\n",
              "  </tbody>\n",
              "</table>\n",
              "<p>383 rows × 2 columns</p>\n",
              "</div>"
            ],
            "text/plain": [
              "                                    Trek Time\n",
              "0                 Everest Base Camp Trek   16\n",
              "1           Everest Base Camp Short Trek   14\n",
              "2    Everest Base Camp Heli Shuttle Trek   12\n",
              "3            Everest Base Camp Heli Trek   11\n",
              "4     Everest Base Camp Trek for Seniors   20\n",
              "..                                   ...  ...\n",
              "378             Ghorepani Poon Hill Trek   10\n",
              "379                   Upper Mustang Trek   17\n",
              "380                     Mardi Himal Trek    9\n",
              "381             Langtang Valley Trekking   11\n",
              "382                 Manaslu Circuit Trek   17\n",
              "\n",
              "[383 rows x 2 columns]"
            ]
          },
          "execution_count": 14,
          "metadata": {},
          "output_type": "execute_result"
        }
      ],
      "source": [
        "# Step 1: Removing non-numeric characters (like \"days\" or extra spaces)\n",
        "df['Time'] = df['Time'].replace({'Days': '', 'days': '', ' ': ''}, regex=True)\n",
        "\n",
        "# Step 2: Checking the cleaned 'Time' column\n",
        "df[['Trek', 'Time']]"
      ]
    },
    {
      "cell_type": "markdown",
      "metadata": {
        "id": "WQqNWlZXl_Jp"
      },
      "source": [
        "## **`Trip Grade` Column**"
      ]
    },
    {
      "cell_type": "code",
      "execution_count": 15,
      "metadata": {
        "colab": {
          "base_uri": "https://localhost:8080/"
        },
        "id": "pozIaqUOk4lj",
        "outputId": "4286d751-535d-4227-af19-e9366d0c1ede"
      },
      "outputs": [
        {
          "name": "stdout",
          "output_type": "stream",
          "text": [
            "['Moderate' 'Strenuous' 'Easy To Moderate' 'Easy' 'Moderate+Demanding'\n",
            " 'Demanding' 'Light+Moderate' 'Demanding+Challenging' 'Light'\n",
            " 'Moderate-Hard' 'Easy-Moderate']\n",
            "\n",
            "Trip Grade\n",
            "Moderate                 92\n",
            "Demanding                75\n",
            "Easy To Moderate         58\n",
            "Moderate+Demanding       40\n",
            "Moderate-Hard            30\n",
            "Easy                     25\n",
            "Strenuous                23\n",
            "Demanding+Challenging    20\n",
            "Easy-Moderate            10\n",
            "Light+Moderate            5\n",
            "Light                     5\n",
            "Name: count, dtype: int64\n"
          ]
        }
      ],
      "source": [
        "print(df['Trip Grade'].unique(), end=\"\\n\\n\")\n",
        "print(df['Trip Grade'].value_counts())"
      ]
    },
    {
      "cell_type": "code",
      "execution_count": 16,
      "metadata": {
        "colab": {
          "base_uri": "https://localhost:8080/",
          "height": 458
        },
        "id": "KS8tbdZRXWWe",
        "outputId": "181103b1-bf02-4303-e639-4b5274e99d86"
      },
      "outputs": [
        {
          "data": {
            "text/plain": [
              "0      3\n",
              "1      3\n",
              "2      3\n",
              "3      3\n",
              "4      3\n",
              "      ..\n",
              "378    0\n",
              "379    4\n",
              "380    2\n",
              "381    3\n",
              "382    4\n",
              "Name: Trip Grade, Length: 383, dtype: int64"
            ]
          },
          "execution_count": 16,
          "metadata": {},
          "output_type": "execute_result"
        }
      ],
      "source": [
        "# Defining the mapping dictionary\n",
        "trip_grade_mapping = {\n",
        "    'Easy': 0,\n",
        "    'Light': 1,\n",
        "    'Easy To Moderate': 1,\n",
        "    'Light+Moderate': 2,\n",
        "    'Easy-Moderate': 2,\n",
        "    'Moderate': 3,\n",
        "    'Moderate-Hard': 4,\n",
        "    'Moderate+Demanding': 4,\n",
        "    'Demanding': 4,\n",
        "    'Strenuous': 5,\n",
        "    'Demanding+Challenging': 5\n",
        "}\n",
        "\n",
        "# Applying the mapping to the 'Trip Grade' column\n",
        "df['Trip Grade'] = df['Trip Grade'].map(trip_grade_mapping)\n",
        "\n",
        "# Preview the result\n",
        "df['Trip Grade']"
      ]
    },
    {
      "cell_type": "markdown",
      "metadata": {
        "id": "pUzKiMexYlfM"
      },
      "source": [
        "## **`Max Altitude` Column**"
      ]
    },
    {
      "cell_type": "code",
      "execution_count": 17,
      "metadata": {
        "colab": {
          "base_uri": "https://localhost:8080/",
          "height": 423
        },
        "id": "RKAOBwtsrmm9",
        "outputId": "dd060296-cf4b-4f62-f3ef-de2174a6f528"
      },
      "outputs": [
        {
          "data": {
            "text/html": [
              "<div>\n",
              "<style scoped>\n",
              "    .dataframe tbody tr th:only-of-type {\n",
              "        vertical-align: middle;\n",
              "    }\n",
              "\n",
              "    .dataframe tbody tr th {\n",
              "        vertical-align: top;\n",
              "    }\n",
              "\n",
              "    .dataframe thead th {\n",
              "        text-align: right;\n",
              "    }\n",
              "</style>\n",
              "<table border=\"1\" class=\"dataframe\">\n",
              "  <thead>\n",
              "    <tr style=\"text-align: right;\">\n",
              "      <th></th>\n",
              "      <th>Trek</th>\n",
              "      <th>Max Altitude</th>\n",
              "    </tr>\n",
              "  </thead>\n",
              "  <tbody>\n",
              "    <tr>\n",
              "      <th>0</th>\n",
              "      <td>Everest Base Camp Trek</td>\n",
              "      <td>5545</td>\n",
              "    </tr>\n",
              "    <tr>\n",
              "      <th>1</th>\n",
              "      <td>Everest Base Camp Short Trek</td>\n",
              "      <td>5545</td>\n",
              "    </tr>\n",
              "    <tr>\n",
              "      <th>2</th>\n",
              "      <td>Everest Base Camp Heli Shuttle Trek</td>\n",
              "      <td>5545</td>\n",
              "    </tr>\n",
              "    <tr>\n",
              "      <th>3</th>\n",
              "      <td>Everest Base Camp Heli Trek</td>\n",
              "      <td>5545</td>\n",
              "    </tr>\n",
              "    <tr>\n",
              "      <th>4</th>\n",
              "      <td>Everest Base Camp Trek for Seniors</td>\n",
              "      <td>5545</td>\n",
              "    </tr>\n",
              "    <tr>\n",
              "      <th>...</th>\n",
              "      <td>...</td>\n",
              "      <td>...</td>\n",
              "    </tr>\n",
              "    <tr>\n",
              "      <th>378</th>\n",
              "      <td>Ghorepani Poon Hill Trek</td>\n",
              "      <td>3210</td>\n",
              "    </tr>\n",
              "    <tr>\n",
              "      <th>379</th>\n",
              "      <td>Upper Mustang Trek</td>\n",
              "      <td>4200</td>\n",
              "    </tr>\n",
              "    <tr>\n",
              "      <th>380</th>\n",
              "      <td>Mardi Himal Trek</td>\n",
              "      <td>4500</td>\n",
              "    </tr>\n",
              "    <tr>\n",
              "      <th>381</th>\n",
              "      <td>Langtang Valley Trekking</td>\n",
              "      <td>4773</td>\n",
              "    </tr>\n",
              "    <tr>\n",
              "      <th>382</th>\n",
              "      <td>Manaslu Circuit Trek</td>\n",
              "      <td>5220</td>\n",
              "    </tr>\n",
              "  </tbody>\n",
              "</table>\n",
              "<p>383 rows × 2 columns</p>\n",
              "</div>"
            ],
            "text/plain": [
              "                                    Trek Max Altitude\n",
              "0                 Everest Base Camp Trek        5545 \n",
              "1           Everest Base Camp Short Trek        5545 \n",
              "2    Everest Base Camp Heli Shuttle Trek        5545 \n",
              "3            Everest Base Camp Heli Trek        5545 \n",
              "4     Everest Base Camp Trek for Seniors        5545 \n",
              "..                                   ...          ...\n",
              "378             Ghorepani Poon Hill Trek         3210\n",
              "379                   Upper Mustang Trek         4200\n",
              "380                     Mardi Himal Trek         4500\n",
              "381             Langtang Valley Trekking         4773\n",
              "382                 Manaslu Circuit Trek         5220\n",
              "\n",
              "[383 rows x 2 columns]"
            ]
          },
          "execution_count": 17,
          "metadata": {},
          "output_type": "execute_result"
        }
      ],
      "source": [
        "# Cleaning 'Max Altitude' by removing non-numeric characters and converting to numeric\n",
        "df['Max Altitude'] = df['Max Altitude'].replace({'m': '', ',': ''}, regex=True)\n",
        "\n",
        "# Checking the cleaned 'Max Altitude' column\n",
        "df[['Trek', 'Max Altitude']]"
      ]
    },
    {
      "cell_type": "markdown",
      "metadata": {
        "id": "omhp_EYfcgqe"
      },
      "source": [
        "## **`Accommodation` column**"
      ]
    },
    {
      "cell_type": "code",
      "execution_count": 18,
      "metadata": {
        "colab": {
          "base_uri": "https://localhost:8080/"
        },
        "id": "h6aq2kFzch8a",
        "outputId": "50c6b493-185b-4e45-b46a-2cd6ac079e18"
      },
      "outputs": [
        {
          "name": "stdout",
          "output_type": "stream",
          "text": [
            "['Hotel/Guesthouse' 'Hotel/Teahouse' 'Hotel/Teahouses'\n",
            " 'Hotel/Guest Houses' 'Hotel/Guesthouses' 'Hotel/Luxury Lodges'\n",
            " 'Hotel/Lodges' 'Teahouses/Lodges']\n",
            "\n",
            "Accomodation\n",
            "Hotel/Guesthouse       312\n",
            "Hotel/Teahouses         30\n",
            "Hotel/Teahouse          11\n",
            "Hotel/Lodges            10\n",
            "Hotel/Guest Houses       5\n",
            "Hotel/Guesthouses        5\n",
            "Hotel/Luxury Lodges      5\n",
            "Teahouses/Lodges         5\n",
            "Name: count, dtype: int64\n"
          ]
        }
      ],
      "source": [
        "print(df['Accomodation'].unique(), end=\"\\n\\n\")\n",
        "print(df['Accomodation'].value_counts())"
      ]
    },
    {
      "cell_type": "code",
      "execution_count": 19,
      "metadata": {
        "colab": {
          "base_uri": "https://localhost:8080/"
        },
        "id": "lFVW6E4mp3_7",
        "outputId": "8e45cb45-2096-4638-b380-4be3e4ad3a84"
      },
      "outputs": [
        {
          "name": "stdout",
          "output_type": "stream",
          "text": [
            "Unique values in Accommodation column after cleaning: ['Hotel/Guesthouse' 'Hotel/Teahouse' 'Luxury Lodge' 'Lodge'\n",
            " 'Teahouse/Lodge']\n",
            "Accommodation\n",
            "Hotel/Guesthouse    322\n",
            "Hotel/Teahouse       41\n",
            "Lodge                10\n",
            "Luxury Lodge          5\n",
            "Teahouse/Lodge        5\n",
            "Name: count, dtype: int64\n"
          ]
        }
      ],
      "source": [
        "# Step 1: Fixing the typo in the column name\n",
        "df.rename(columns={\"Accomodation\": \"Accommodation\"}, inplace=True)\n",
        "\n",
        "# Step 2: Standardizing the values (e.g., converting to title case)\n",
        "df['Accommodation'] = df['Accommodation'].str.strip().str.title()\n",
        "\n",
        "# Step 3: Standardizing common accommodation types using replace\n",
        "df['Accommodation'] = df['Accommodation'].replace({\n",
        "    'Hotel/Guesthouses': 'Hotel/Guesthouse',\n",
        "    'Hotel/Guest Houses': 'Hotel/Guesthouse',\n",
        "    'Hotel/Teahouses': 'Hotel/Teahouse',\n",
        "    'Hotel/Luxury Lodges': 'Luxury Lodge',\n",
        "    'Hotel/Lodges': 'Lodge',\n",
        "    'Teahouses/Lodges': 'Teahouse/Lodge'\n",
        "})\n",
        "\n",
        "# Verifying the final set of unique values\n",
        "unique_accommodation_values = df['Accommodation'].unique()\n",
        "\n",
        "# Output: Check the cleaned column\n",
        "print(\"Unique values in Accommodation column after cleaning:\", unique_accommodation_values)\n",
        "\n",
        "print(df['Accommodation'].value_counts())"
      ]
    },
    {
      "cell_type": "markdown",
      "metadata": {
        "id": "2Ak6znjehU9F"
      },
      "source": [
        "## **`Best Travel Time` column**"
      ]
    },
    {
      "cell_type": "code",
      "execution_count": 20,
      "metadata": {
        "colab": {
          "base_uri": "https://localhost:8080/"
        },
        "id": "aZTec8s9iPcF",
        "outputId": "839108af-54df-49f3-80f0-21df8cc77adb"
      },
      "outputs": [
        {
          "name": "stdout",
          "output_type": "stream",
          "text": [
            "Best Travel Time\n",
            "Jan - May & Sept - Dec       262\n",
            "March - May & Sept - Dec      36\n",
            "March - May & Sept - Nov      26\n",
            "March-May & Sept-Dec          10\n",
            "March - May & Sept - Nov.     10\n",
            "March - May & Sept - Dec.      7\n",
            "March-May & Sept-Dec.          6\n",
            "March - May & Setpt - Dec      5\n",
            "Jan- May & Sept - Dec          5\n",
            "March - May & Setpt - Nov      5\n",
            "March - Nov                    5\n",
            "Jan - May & Sept- Dec          5\n",
            "April - May & Sept - Nov       1\n",
            "Name: count, dtype: int64\n"
          ]
        }
      ],
      "source": [
        "print(df['Best Travel Time'].value_counts())"
      ]
    },
    {
      "cell_type": "markdown",
      "metadata": {
        "id": "o03fCDvyd73e"
      },
      "source": [
        "## **Normalizing**"
      ]
    },
    {
      "cell_type": "code",
      "execution_count": 21,
      "metadata": {
        "colab": {
          "base_uri": "https://localhost:8080/"
        },
        "id": "ymw3vHDRzQQB",
        "outputId": "386ec1d3-cdc8-49b0-e47d-bd3dd6a13e6a"
      },
      "outputs": [
        {
          "data": {
            "text/plain": [
              "array(['Mar - May & Sep - Dec', 'Apr - May & Sep - Nov',\n",
              "       'Jan - May & Sep - Dec', 'Mar - May & Sep - Nov', 'Mar - Nov'],\n",
              "      dtype=object)"
            ]
          },
          "execution_count": 21,
          "metadata": {},
          "output_type": "execute_result"
        }
      ],
      "source": [
        "import re\n",
        "def clean_best_travel_time(time: str) -> str:\n",
        "    # Shortening months for consistency\n",
        "    time = re.sub(r\"\\bSetpt\\b\", \"Sep\", time)\n",
        "    time = re.sub(r\"\\bSept\\b\", \"Sep\", time)\n",
        "    time = re.sub(r\"\\bJan\\b\", \"Jan\", time)\n",
        "    time = re.sub(r\"\\bMarch\\b\", \"Mar\", time)\n",
        "    time = re.sub(r\"\\bApril\\b\", \"Apr\", time)\n",
        "\n",
        "    # Remove punctuations and add spaces\n",
        "    time = re.sub(r\"\\.\", \"\", time)\n",
        "    time = re.sub(r\"\\s\", \"\", time)\n",
        "    time = re.sub(r\"-\", \" - \", time)\n",
        "    time = re.sub(r\"\\s*&\\s*\", \" & \", time)\n",
        "\n",
        "    return time\n",
        "\n",
        "df['Best Travel Time'] = df['Best Travel Time'].apply(clean_best_travel_time)\n",
        "\n",
        "df['Best Travel Time'].unique()"
      ]
    },
    {
      "cell_type": "code",
      "execution_count": 22,
      "metadata": {
        "colab": {
          "base_uri": "https://localhost:8080/"
        },
        "id": "lTo-Bq0RY7oB",
        "outputId": "c0c4ce19-3506-4e4a-ba62-0b0db5cb8871"
      },
      "outputs": [
        {
          "name": "stdout",
          "output_type": "stream",
          "text": [
            "Best Travel Time\n",
            "Jan - May & Sep - Dec    272\n",
            "Mar - May & Sep - Dec     64\n",
            "Mar - May & Sep - Nov     41\n",
            "Mar - Nov                  5\n",
            "Apr - May & Sep - Nov      1\n",
            "Name: count, dtype: int64\n"
          ]
        }
      ],
      "source": [
        "print(df['Best Travel Time'].value_counts())"
      ]
    },
    {
      "cell_type": "code",
      "execution_count": 23,
      "metadata": {
        "colab": {
          "base_uri": "https://localhost:8080/"
        },
        "id": "SKP-S5d4Zpf0",
        "outputId": "059de2f8-1dc8-4658-f111-a495e8264a9e"
      },
      "outputs": [
        {
          "name": "stdout",
          "output_type": "stream",
          "text": [
            "                                    Trek    Cost Time  Trip Grade  \\\n",
            "0                 Everest Base Camp Trek  1420.0   16           3   \n",
            "1           Everest Base Camp Short Trek  1295.0   14           3   \n",
            "2    Everest Base Camp Heli Shuttle Trek  2000.0   12           3   \n",
            "3            Everest Base Camp Heli Trek  3300.0   11           3   \n",
            "4     Everest Base Camp Trek for Seniors  1800.0   20           3   \n",
            "..                                   ...     ...  ...         ...   \n",
            "378             Ghorepani Poon Hill Trek   450.0   10           0   \n",
            "379                   Upper Mustang Trek  2100.0   17           4   \n",
            "380                     Mardi Himal Trek   590.0    9           2   \n",
            "381             Langtang Valley Trekking   690.0   11           3   \n",
            "382                 Manaslu Circuit Trek  1190.0   17           4   \n",
            "\n",
            "    Max Altitude     Accommodation       Best Travel Time Date of Travel  \\\n",
            "0          5545   Hotel/Guesthouse  Mar - May & Sep - Dec      9/13/2022   \n",
            "1          5545   Hotel/Guesthouse  Mar - May & Sep - Dec     09/04/2021   \n",
            "2          5545   Hotel/Guesthouse  Mar - May & Sep - Dec      1/25/2021   \n",
            "3          5545   Hotel/Guesthouse  Mar - May & Sep - Dec      1/28/2022   \n",
            "4          5545   Hotel/Guesthouse  Mar - May & Sep - Dec     10/21/2021   \n",
            "..           ...               ...                    ...            ...   \n",
            "378         3210  Hotel/Guesthouse  Jan - May & Sep - Dec     08/09/2022   \n",
            "379         4200  Hotel/Guesthouse  Jan - May & Sep - Dec     09/09/2022   \n",
            "380         4500  Hotel/Guesthouse  Jan - May & Sep - Dec     05/04/2021   \n",
            "381         4773  Hotel/Guesthouse  Jan - May & Sep - Dec      1/13/2021   \n",
            "382         5220  Hotel/Guesthouse  Jan - May & Sep - Dec      5/13/2025   \n",
            "\n",
            "            Sex  Age  ... Trekking Group Size Guide/No Guide  Equipment Used  \\\n",
            "0    Non-Binary   31  ...                10.0          Guide           Poles   \n",
            "1        Female   31  ...                 NaN            NaN             NaN   \n",
            "2        Female   34  ...                12.0          Guide          Oxygen   \n",
            "3    Non-Binary   28  ...                 5.0          Guide           Poles   \n",
            "4    Non-Binary   28  ...                 6.0       No Guide             NaN   \n",
            "..          ...  ...  ...                 ...            ...             ...   \n",
            "378        Male   25  ...                 5.0          Guide           Poles   \n",
            "379      Female   27  ...                 6.0       No Guide             NaN   \n",
            "380  Non-Binary   28  ...                10.0          Guide           Poles   \n",
            "381      Female   29  ...                 8.0       No Guide             NaN   \n",
            "382      Female   31  ...                12.0          Guide          Oxygen   \n",
            "\n",
            "    Purpose of Travel   Health Incidents  Review/Satisfaction Spring Summer  \\\n",
            "0             Leisure                NaN                  4.5      1      0   \n",
            "1                 NaN                NaN                  NaN      1      0   \n",
            "2             Charity                NaN                  5.0      1      0   \n",
            "3             Leisure                NaN                  4.0      1      0   \n",
            "4           Adventure       Minor Injury                  3.5      1      0   \n",
            "..                ...                ...                  ...    ...    ...   \n",
            "378           Leisure                NaN                  4.0      1      0   \n",
            "379         Adventure       Minor Injury                  3.5      1      0   \n",
            "380           Leisure                NaN                  4.5      1      0   \n",
            "381         Adventure  Altitude Sickness                  3.0      1      0   \n",
            "382           Charity                NaN                  5.0      1      0   \n",
            "\n",
            "    Autumn  Winter  \n",
            "0        1       1  \n",
            "1        1       1  \n",
            "2        1       1  \n",
            "3        1       1  \n",
            "4        1       1  \n",
            "..     ...     ...  \n",
            "378      1       1  \n",
            "379      1       1  \n",
            "380      1       1  \n",
            "381      1       1  \n",
            "382      1       1  \n",
            "\n",
            "[383 rows x 29 columns]\n"
          ]
        }
      ],
      "source": [
        "# Function to check if a season is included in the time range\n",
        "def season_in_range(time_range, season_months):\n",
        "    ranges = time_range.split(' & ')  # Split by ' & ' for multiple ranges\n",
        "    for r in ranges:\n",
        "        start_month, end_month = r.split(' - ')\n",
        "        start_month = start_month.strip()\n",
        "        end_month = end_month.strip()\n",
        "\n",
        "        # Create a list of months in the range\n",
        "        months_in_range = []\n",
        "        month_mapping = {\n",
        "            'Jan': 1, 'Feb': 2, 'Mar': 3, 'Apr': 4,\n",
        "            'May': 5, 'Jun': 6, 'Jul': 7, 'Aug': 8,\n",
        "            'Sep': 9, 'Oct': 10, 'Nov': 11, 'Dec': 12\n",
        "        }\n",
        "\n",
        "        # Get numeric representations of start and end months\n",
        "        start_month_num = month_mapping[start_month]\n",
        "        end_month_num = month_mapping[end_month]\n",
        "\n",
        "        # Populate months in range\n",
        "        if start_month_num <= end_month_num:\n",
        "            months_in_range = list(range(start_month_num, end_month_num + 1))\n",
        "        else:\n",
        "            months_in_range = list(range(start_month_num, 13)) + list(range(1, end_month_num + 1))\n",
        "\n",
        "        # Check if any of the months in the range belong to the season\n",
        "        if any(month_mapping[month] in months_in_range for month in season_months):\n",
        "            return True\n",
        "\n",
        "    return False\n",
        "\n",
        "# Function to create binary columns for each season\n",
        "def create_season_columns(df):\n",
        "    spring_months = ['Mar', 'Apr', 'May']\n",
        "    summer_months = ['Jun', 'Jul', 'Aug']\n",
        "    autumn_months = ['Sep', 'Oct', 'Nov']\n",
        "    winter_months = ['Dec', 'Jan', 'Feb']\n",
        "\n",
        "    df['Spring'] = df['Best Travel Time'].apply(lambda x: 1 if season_in_range(x, spring_months) else 0)\n",
        "    df['Summer'] = df['Best Travel Time'].apply(lambda x: 1 if season_in_range(x, summer_months) else 0)\n",
        "    df['Autumn'] = df['Best Travel Time'].apply(lambda x: 1 if season_in_range(x, autumn_months) else 0)\n",
        "    df['Winter'] = df['Best Travel Time'].apply(lambda x: 1 if season_in_range(x, winter_months) else 0)\n",
        "\n",
        "    return df\n",
        "\n",
        "# Apply the function to create new season columns\n",
        "df = create_season_columns(df)\n",
        "\n",
        "# Output: Verify the final DataFrame\n",
        "print(df)"
      ]
    },
    {
      "cell_type": "code",
      "execution_count": 24,
      "metadata": {
        "colab": {
          "base_uri": "https://localhost:8080/"
        },
        "id": "fPzjWT1w6nZI",
        "outputId": "e4315fe2-0b20-4e15-819b-ca6980c4d1ad"
      },
      "outputs": [
        {
          "name": "stdout",
          "output_type": "stream",
          "text": [
            "Spring\n",
            "1         383\n",
            "Name: count, dtype: int64\n"
          ]
        }
      ],
      "source": [
        "print(df[['Spring']].value_counts())"
      ]
    },
    {
      "cell_type": "code",
      "execution_count": 25,
      "metadata": {
        "colab": {
          "base_uri": "https://localhost:8080/"
        },
        "id": "d8Enl27VO0Eg",
        "outputId": "14b75483-c662-47d3-a4e0-f788cc9caa23"
      },
      "outputs": [
        {
          "name": "stdout",
          "output_type": "stream",
          "text": [
            "Summer\n",
            "0         378\n",
            "1           5\n",
            "Name: count, dtype: int64\n"
          ]
        }
      ],
      "source": [
        "print(df[['Summer']].value_counts())"
      ]
    },
    {
      "cell_type": "code",
      "execution_count": 26,
      "metadata": {
        "colab": {
          "base_uri": "https://localhost:8080/"
        },
        "id": "tXvbWdxSPkpn",
        "outputId": "8ca4db86-81d0-48b3-d63c-9cfcfd1a172d"
      },
      "outputs": [
        {
          "name": "stdout",
          "output_type": "stream",
          "text": [
            "Winter\n",
            "1         336\n",
            "0          47\n",
            "Name: count, dtype: int64\n"
          ]
        }
      ],
      "source": [
        "print(df[['Winter']].value_counts())"
      ]
    },
    {
      "cell_type": "code",
      "execution_count": 27,
      "metadata": {
        "colab": {
          "base_uri": "https://localhost:8080/"
        },
        "id": "PfTbUasoPnvw",
        "outputId": "10cd5d6b-10c0-432e-e5e9-7ad4cf82c7c4"
      },
      "outputs": [
        {
          "name": "stdout",
          "output_type": "stream",
          "text": [
            "Autumn\n",
            "1         383\n",
            "Name: count, dtype: int64\n"
          ]
        }
      ],
      "source": [
        "print(df[['Autumn']].value_counts())"
      ]
    },
    {
      "cell_type": "markdown",
      "metadata": {
        "id": "vmwbA2MFIY59"
      },
      "source": [
        "## **`Date of Travel` Column**"
      ]
    },
    {
      "cell_type": "code",
      "execution_count": 28,
      "metadata": {
        "colab": {
          "base_uri": "https://localhost:8080/"
        },
        "id": "zPFFHNc5F2Sk",
        "outputId": "68f7e9a7-6055-4cfe-c2fd-27000d8fe636"
      },
      "outputs": [
        {
          "name": "stdout",
          "output_type": "stream",
          "text": [
            "Date of Travel\n",
            "04/11/2022    3\n",
            "05/10/2022    3\n",
            "05/10/2021    3\n",
            "8/18/2021     3\n",
            "5/27/2023     3\n",
            "             ..\n",
            "09/08/2020    1\n",
            "10/28/2022    1\n",
            "10/09/2020    1\n",
            "7/14/2020     1\n",
            "5/13/2025     1\n",
            "Name: count, Length: 332, dtype: int64\n"
          ]
        }
      ],
      "source": [
        "print(df['Date of Travel'].value_counts())"
      ]
    },
    {
      "cell_type": "code",
      "execution_count": 29,
      "metadata": {
        "colab": {
          "base_uri": "https://localhost:8080/"
        },
        "id": "RePZY9TEHdwL",
        "outputId": "60ac182e-4a88-4fce-a392-608470ad411d"
      },
      "outputs": [
        {
          "data": {
            "text/plain": [
              "0"
            ]
          },
          "execution_count": 29,
          "metadata": {},
          "output_type": "execute_result"
        }
      ],
      "source": [
        "df[\"Date of Travel\"].isna().sum()"
      ]
    },
    {
      "cell_type": "code",
      "execution_count": 30,
      "metadata": {
        "colab": {
          "base_uri": "https://localhost:8080/"
        },
        "id": "rcfpTqvxH751",
        "outputId": "0e75cbea-bc06-48ab-8d04-26601edef3cc"
      },
      "outputs": [
        {
          "data": {
            "text/plain": [
              "(  Date of Travel\n",
              " 0     2022-09-13\n",
              " 1     2021-09-04\n",
              " 2     2021-01-25\n",
              " 3     2022-01-28\n",
              " 4     2021-10-21,\n",
              " 0)"
            ]
          },
          "execution_count": 30,
          "metadata": {},
          "output_type": "execute_result"
        }
      ],
      "source": [
        "# Convert the 'Date of Travel' column to a standard date format\n",
        "df['Date of Travel'] = pd.to_datetime(df['Date of Travel'], errors='coerce')\n",
        "\n",
        "# Display the cleaned column and check for any issues like NaT (missing dates) or incorrect values\n",
        "df[['Date of Travel']].head(), df['Date of Travel'].isna().sum()"
      ]
    },
    {
      "cell_type": "code",
      "execution_count": 31,
      "metadata": {
        "colab": {
          "base_uri": "https://localhost:8080/",
          "height": 423
        },
        "id": "5UcGmC13IF-F",
        "outputId": "b703dbbe-3ddf-4768-fcb4-6e781bad76ca"
      },
      "outputs": [
        {
          "data": {
            "text/html": [
              "<div>\n",
              "<style scoped>\n",
              "    .dataframe tbody tr th:only-of-type {\n",
              "        vertical-align: middle;\n",
              "    }\n",
              "\n",
              "    .dataframe tbody tr th {\n",
              "        vertical-align: top;\n",
              "    }\n",
              "\n",
              "    .dataframe thead th {\n",
              "        text-align: right;\n",
              "    }\n",
              "</style>\n",
              "<table border=\"1\" class=\"dataframe\">\n",
              "  <thead>\n",
              "    <tr style=\"text-align: right;\">\n",
              "      <th></th>\n",
              "      <th>Date of Travel</th>\n",
              "    </tr>\n",
              "  </thead>\n",
              "  <tbody>\n",
              "    <tr>\n",
              "      <th>0</th>\n",
              "      <td>2022-09-13</td>\n",
              "    </tr>\n",
              "    <tr>\n",
              "      <th>1</th>\n",
              "      <td>2021-09-04</td>\n",
              "    </tr>\n",
              "    <tr>\n",
              "      <th>2</th>\n",
              "      <td>2021-01-25</td>\n",
              "    </tr>\n",
              "    <tr>\n",
              "      <th>3</th>\n",
              "      <td>2022-01-28</td>\n",
              "    </tr>\n",
              "    <tr>\n",
              "      <th>4</th>\n",
              "      <td>2021-10-21</td>\n",
              "    </tr>\n",
              "    <tr>\n",
              "      <th>...</th>\n",
              "      <td>...</td>\n",
              "    </tr>\n",
              "    <tr>\n",
              "      <th>378</th>\n",
              "      <td>2022-08-09</td>\n",
              "    </tr>\n",
              "    <tr>\n",
              "      <th>379</th>\n",
              "      <td>2022-09-09</td>\n",
              "    </tr>\n",
              "    <tr>\n",
              "      <th>380</th>\n",
              "      <td>2021-05-04</td>\n",
              "    </tr>\n",
              "    <tr>\n",
              "      <th>381</th>\n",
              "      <td>2021-01-13</td>\n",
              "    </tr>\n",
              "    <tr>\n",
              "      <th>382</th>\n",
              "      <td>2025-05-13</td>\n",
              "    </tr>\n",
              "  </tbody>\n",
              "</table>\n",
              "<p>383 rows × 1 columns</p>\n",
              "</div>"
            ],
            "text/plain": [
              "    Date of Travel\n",
              "0       2022-09-13\n",
              "1       2021-09-04\n",
              "2       2021-01-25\n",
              "3       2022-01-28\n",
              "4       2021-10-21\n",
              "..             ...\n",
              "378     2022-08-09\n",
              "379     2022-09-09\n",
              "380     2021-05-04\n",
              "381     2021-01-13\n",
              "382     2025-05-13\n",
              "\n",
              "[383 rows x 1 columns]"
            ]
          },
          "execution_count": 31,
          "metadata": {},
          "output_type": "execute_result"
        }
      ],
      "source": [
        "df[['Date of Travel']]"
      ]
    },
    {
      "cell_type": "markdown",
      "metadata": {
        "id": "0GoOPV_eFkJO"
      },
      "source": [
        "## **`Sex` Column**"
      ]
    },
    {
      "cell_type": "code",
      "execution_count": 32,
      "metadata": {
        "colab": {
          "base_uri": "https://localhost:8080/",
          "height": 241
        },
        "id": "_pPjntiAFjGU",
        "outputId": "77d4bfa6-d0fb-4a2b-9272-d973990e080a"
      },
      "outputs": [
        {
          "data": {
            "text/plain": [
              "Sex\n",
              "Female         103\n",
              "Male            99\n",
              "Transgender     93\n",
              "Non-Binary      88\n",
              "Name: count, dtype: int64"
            ]
          },
          "execution_count": 32,
          "metadata": {},
          "output_type": "execute_result"
        }
      ],
      "source": [
        "df['Sex'].value_counts()"
      ]
    },
    {
      "cell_type": "code",
      "execution_count": 33,
      "metadata": {
        "colab": {
          "base_uri": "https://localhost:8080/"
        },
        "id": "s4NsMJKWFySz",
        "outputId": "be860280-6e95-4f9a-8f92-f718cb7a9cd0"
      },
      "outputs": [
        {
          "name": "stdout",
          "output_type": "stream",
          "text": [
            "Sex\n",
            "Other     181\n",
            "Female    103\n",
            "Male       99\n",
            "Name: count, dtype: int64\n"
          ]
        }
      ],
      "source": [
        "df['Sex'] = df['Sex'].apply(\n",
        "    lambda sex: \"Other\" if sex == \"Non-Binary\" or sex == \"Transgender\" else sex\n",
        ")\n",
        "\n",
        "print(df['Sex'].value_counts())"
      ]
    },
    {
      "cell_type": "markdown",
      "metadata": {
        "id": "WPE6ERo8JUXc"
      },
      "source": [
        "## **Exploratory Analysis and Visualization**"
      ]
    },
    {
      "cell_type": "code",
      "execution_count": 34,
      "metadata": {
        "colab": {
          "base_uri": "https://localhost:8080/",
          "height": 542
        },
        "id": "ReV-vPDjJS3P",
        "outputId": "41ef88c8-5cac-4cbe-b414-d840dadf3697"
      },
      "outputs": [
        {
          "data": {
            "application/vnd.plotly.v1+json": {
              "config": {
                "plotlyServerURL": "https://plot.ly"
              },
              "data": [
                {
                  "alignmentgroup": "True",
                  "bingroup": "x",
                  "hovertemplate": "Cost=%{x}<br>count=%{y}<extra></extra>",
                  "legendgroup": "",
                  "marker": {
                    "color": "#636efa",
                    "pattern": {
                      "shape": ""
                    }
                  },
                  "name": "",
                  "offsetgroup": "",
                  "orientation": "v",
                  "showlegend": false,
                  "type": "histogram",
                  "x": [
                    1420,
                    1295,
                    2000,
                    3300,
                    1800,
                    1720,
                    1450,
                    1950,
                    1060,
                    1150,
                    1100,
                    4200,
                    1900,
                    1090,
                    1090,
                    980,
                    1750,
                    850,
                    850,
                    1350,
                    1250,
                    1250,
                    1450,
                    860,
                    1450,
                    590,
                    1450,
                    1380,
                    1850,
                    2150,
                    2300,
                    2150,
                    750,
                    1180,
                    920,
                    750,
                    780,
                    1499,
                    1750,
                    1499,
                    1499,
                    1499,
                    1499,
                    1499,
                    1499,
                    1499,
                    1499,
                    1499,
                    1499,
                    1499,
                    1499,
                    1499,
                    1499,
                    1499,
                    1499,
                    1499,
                    1499,
                    1499,
                    1499,
                    1499,
                    1499,
                    1499,
                    1499,
                    1499,
                    1499,
                    1499,
                    1499,
                    1499,
                    1499,
                    1499,
                    1499,
                    1499,
                    1499,
                    1499,
                    1450,
                    1390,
                    1040,
                    1530,
                    1190,
                    3600,
                    1100,
                    1090,
                    450,
                    2100,
                    590,
                    690,
                    1190,
                    1090,
                    1090,
                    980,
                    1750,
                    850,
                    850,
                    1350,
                    1250,
                    1250,
                    1450,
                    860,
                    1450,
                    590,
                    1450,
                    1380,
                    1850,
                    2150,
                    2300,
                    2150,
                    750,
                    1180,
                    920,
                    750,
                    780,
                    1499,
                    1750,
                    1499,
                    1499,
                    1499,
                    1499,
                    1499,
                    1499,
                    1499,
                    1499,
                    1499,
                    1499,
                    1499,
                    1499,
                    1499,
                    1499,
                    1499,
                    1499,
                    1499,
                    1499,
                    1499,
                    1499,
                    1499,
                    1499,
                    1499,
                    1499,
                    1499,
                    1499,
                    1499,
                    1499,
                    1499,
                    1499,
                    1499,
                    1499,
                    1499,
                    1499,
                    1499,
                    1450,
                    1390,
                    1040,
                    1530,
                    1190,
                    3600,
                    1100,
                    1090,
                    450,
                    2100,
                    590,
                    690,
                    1190,
                    1090,
                    1090,
                    980,
                    1750,
                    850,
                    850,
                    1350,
                    1250,
                    1250,
                    1450,
                    860,
                    1450,
                    590,
                    1450,
                    1380,
                    1850,
                    2150,
                    2300,
                    2150,
                    750,
                    1180,
                    920,
                    750,
                    780,
                    1499,
                    1750,
                    1499,
                    1499,
                    1499,
                    1499,
                    1499,
                    1499,
                    1499,
                    1499,
                    1499,
                    1499,
                    1499,
                    1499,
                    1499,
                    1499,
                    1499,
                    1499,
                    1499,
                    1499,
                    1499,
                    1499,
                    1499,
                    1499,
                    1499,
                    1499,
                    1499,
                    1499,
                    1499,
                    1499,
                    1499,
                    1499,
                    1499,
                    1499,
                    1499,
                    1499,
                    1499,
                    1450,
                    1390,
                    1040,
                    1530,
                    1190,
                    3600,
                    1100,
                    1090,
                    450,
                    2100,
                    590,
                    690,
                    1190,
                    1090,
                    1090,
                    980,
                    1750,
                    850,
                    850,
                    1350,
                    1250,
                    1250,
                    1450,
                    860,
                    1450,
                    590,
                    1450,
                    1380,
                    1850,
                    2150,
                    2300,
                    2150,
                    750,
                    1180,
                    920,
                    750,
                    780,
                    1499,
                    1750,
                    1499,
                    1499,
                    1499,
                    1499,
                    1499,
                    1499,
                    1499,
                    1499,
                    1499,
                    1499,
                    1499,
                    1499,
                    1499,
                    1499,
                    1499,
                    1499,
                    1499,
                    1499,
                    1499,
                    1499,
                    1499,
                    1499,
                    1499,
                    1499,
                    1499,
                    1499,
                    1499,
                    1499,
                    1499,
                    1499,
                    1499,
                    1499,
                    1499,
                    1499,
                    1499,
                    1450,
                    1390,
                    1040,
                    1530,
                    1190,
                    3600,
                    1100,
                    1090,
                    450,
                    2100,
                    590,
                    690,
                    1190,
                    1090,
                    1090,
                    980,
                    1750,
                    850,
                    850,
                    1350,
                    1250,
                    1250,
                    1450,
                    860,
                    1450,
                    590,
                    1450,
                    1380,
                    1850,
                    2150,
                    2300,
                    2150,
                    750,
                    1180,
                    920,
                    750,
                    780,
                    1499,
                    1750,
                    1499,
                    1499,
                    1499,
                    1499,
                    1499,
                    1499,
                    1499,
                    1499,
                    1499,
                    1499,
                    1499,
                    1499,
                    1499,
                    1499,
                    1499,
                    1499,
                    1499,
                    1499,
                    1499,
                    1499,
                    1499,
                    1499,
                    1499,
                    1499,
                    1499,
                    1499,
                    1499,
                    1499,
                    1499,
                    1499,
                    1499,
                    1499,
                    1499,
                    1499,
                    1499,
                    1450,
                    1390,
                    1040,
                    1530,
                    1190,
                    3600,
                    1100,
                    1090,
                    450,
                    2100,
                    590,
                    690,
                    1190
                  ],
                  "xaxis": "x",
                  "yaxis": "y"
                },
                {
                  "alignmentgroup": "True",
                  "hovertemplate": "Cost=%{x}<extra></extra>",
                  "legendgroup": "",
                  "marker": {
                    "color": "#636efa"
                  },
                  "name": "",
                  "notched": true,
                  "offsetgroup": "",
                  "showlegend": false,
                  "type": "box",
                  "x": [
                    1420,
                    1295,
                    2000,
                    3300,
                    1800,
                    1720,
                    1450,
                    1950,
                    1060,
                    1150,
                    1100,
                    4200,
                    1900,
                    1090,
                    1090,
                    980,
                    1750,
                    850,
                    850,
                    1350,
                    1250,
                    1250,
                    1450,
                    860,
                    1450,
                    590,
                    1450,
                    1380,
                    1850,
                    2150,
                    2300,
                    2150,
                    750,
                    1180,
                    920,
                    750,
                    780,
                    1499,
                    1750,
                    1499,
                    1499,
                    1499,
                    1499,
                    1499,
                    1499,
                    1499,
                    1499,
                    1499,
                    1499,
                    1499,
                    1499,
                    1499,
                    1499,
                    1499,
                    1499,
                    1499,
                    1499,
                    1499,
                    1499,
                    1499,
                    1499,
                    1499,
                    1499,
                    1499,
                    1499,
                    1499,
                    1499,
                    1499,
                    1499,
                    1499,
                    1499,
                    1499,
                    1499,
                    1499,
                    1450,
                    1390,
                    1040,
                    1530,
                    1190,
                    3600,
                    1100,
                    1090,
                    450,
                    2100,
                    590,
                    690,
                    1190,
                    1090,
                    1090,
                    980,
                    1750,
                    850,
                    850,
                    1350,
                    1250,
                    1250,
                    1450,
                    860,
                    1450,
                    590,
                    1450,
                    1380,
                    1850,
                    2150,
                    2300,
                    2150,
                    750,
                    1180,
                    920,
                    750,
                    780,
                    1499,
                    1750,
                    1499,
                    1499,
                    1499,
                    1499,
                    1499,
                    1499,
                    1499,
                    1499,
                    1499,
                    1499,
                    1499,
                    1499,
                    1499,
                    1499,
                    1499,
                    1499,
                    1499,
                    1499,
                    1499,
                    1499,
                    1499,
                    1499,
                    1499,
                    1499,
                    1499,
                    1499,
                    1499,
                    1499,
                    1499,
                    1499,
                    1499,
                    1499,
                    1499,
                    1499,
                    1499,
                    1450,
                    1390,
                    1040,
                    1530,
                    1190,
                    3600,
                    1100,
                    1090,
                    450,
                    2100,
                    590,
                    690,
                    1190,
                    1090,
                    1090,
                    980,
                    1750,
                    850,
                    850,
                    1350,
                    1250,
                    1250,
                    1450,
                    860,
                    1450,
                    590,
                    1450,
                    1380,
                    1850,
                    2150,
                    2300,
                    2150,
                    750,
                    1180,
                    920,
                    750,
                    780,
                    1499,
                    1750,
                    1499,
                    1499,
                    1499,
                    1499,
                    1499,
                    1499,
                    1499,
                    1499,
                    1499,
                    1499,
                    1499,
                    1499,
                    1499,
                    1499,
                    1499,
                    1499,
                    1499,
                    1499,
                    1499,
                    1499,
                    1499,
                    1499,
                    1499,
                    1499,
                    1499,
                    1499,
                    1499,
                    1499,
                    1499,
                    1499,
                    1499,
                    1499,
                    1499,
                    1499,
                    1499,
                    1450,
                    1390,
                    1040,
                    1530,
                    1190,
                    3600,
                    1100,
                    1090,
                    450,
                    2100,
                    590,
                    690,
                    1190,
                    1090,
                    1090,
                    980,
                    1750,
                    850,
                    850,
                    1350,
                    1250,
                    1250,
                    1450,
                    860,
                    1450,
                    590,
                    1450,
                    1380,
                    1850,
                    2150,
                    2300,
                    2150,
                    750,
                    1180,
                    920,
                    750,
                    780,
                    1499,
                    1750,
                    1499,
                    1499,
                    1499,
                    1499,
                    1499,
                    1499,
                    1499,
                    1499,
                    1499,
                    1499,
                    1499,
                    1499,
                    1499,
                    1499,
                    1499,
                    1499,
                    1499,
                    1499,
                    1499,
                    1499,
                    1499,
                    1499,
                    1499,
                    1499,
                    1499,
                    1499,
                    1499,
                    1499,
                    1499,
                    1499,
                    1499,
                    1499,
                    1499,
                    1499,
                    1499,
                    1450,
                    1390,
                    1040,
                    1530,
                    1190,
                    3600,
                    1100,
                    1090,
                    450,
                    2100,
                    590,
                    690,
                    1190,
                    1090,
                    1090,
                    980,
                    1750,
                    850,
                    850,
                    1350,
                    1250,
                    1250,
                    1450,
                    860,
                    1450,
                    590,
                    1450,
                    1380,
                    1850,
                    2150,
                    2300,
                    2150,
                    750,
                    1180,
                    920,
                    750,
                    780,
                    1499,
                    1750,
                    1499,
                    1499,
                    1499,
                    1499,
                    1499,
                    1499,
                    1499,
                    1499,
                    1499,
                    1499,
                    1499,
                    1499,
                    1499,
                    1499,
                    1499,
                    1499,
                    1499,
                    1499,
                    1499,
                    1499,
                    1499,
                    1499,
                    1499,
                    1499,
                    1499,
                    1499,
                    1499,
                    1499,
                    1499,
                    1499,
                    1499,
                    1499,
                    1499,
                    1499,
                    1499,
                    1450,
                    1390,
                    1040,
                    1530,
                    1190,
                    3600,
                    1100,
                    1090,
                    450,
                    2100,
                    590,
                    690,
                    1190
                  ],
                  "xaxis": "x2",
                  "yaxis": "y2"
                }
              ],
              "layout": {
                "bargap": 0.1,
                "barmode": "relative",
                "legend": {
                  "tracegroupgap": 0
                },
                "template": {
                  "data": {
                    "bar": [
                      {
                        "error_x": {
                          "color": "#2a3f5f"
                        },
                        "error_y": {
                          "color": "#2a3f5f"
                        },
                        "marker": {
                          "line": {
                            "color": "#E5ECF6",
                            "width": 0.5
                          },
                          "pattern": {
                            "fillmode": "overlay",
                            "size": 10,
                            "solidity": 0.2
                          }
                        },
                        "type": "bar"
                      }
                    ],
                    "barpolar": [
                      {
                        "marker": {
                          "line": {
                            "color": "#E5ECF6",
                            "width": 0.5
                          },
                          "pattern": {
                            "fillmode": "overlay",
                            "size": 10,
                            "solidity": 0.2
                          }
                        },
                        "type": "barpolar"
                      }
                    ],
                    "carpet": [
                      {
                        "aaxis": {
                          "endlinecolor": "#2a3f5f",
                          "gridcolor": "white",
                          "linecolor": "white",
                          "minorgridcolor": "white",
                          "startlinecolor": "#2a3f5f"
                        },
                        "baxis": {
                          "endlinecolor": "#2a3f5f",
                          "gridcolor": "white",
                          "linecolor": "white",
                          "minorgridcolor": "white",
                          "startlinecolor": "#2a3f5f"
                        },
                        "type": "carpet"
                      }
                    ],
                    "choropleth": [
                      {
                        "colorbar": {
                          "outlinewidth": 0,
                          "ticks": ""
                        },
                        "type": "choropleth"
                      }
                    ],
                    "contour": [
                      {
                        "colorbar": {
                          "outlinewidth": 0,
                          "ticks": ""
                        },
                        "colorscale": [
                          [
                            0,
                            "#0d0887"
                          ],
                          [
                            0.1111111111111111,
                            "#46039f"
                          ],
                          [
                            0.2222222222222222,
                            "#7201a8"
                          ],
                          [
                            0.3333333333333333,
                            "#9c179e"
                          ],
                          [
                            0.4444444444444444,
                            "#bd3786"
                          ],
                          [
                            0.5555555555555556,
                            "#d8576b"
                          ],
                          [
                            0.6666666666666666,
                            "#ed7953"
                          ],
                          [
                            0.7777777777777778,
                            "#fb9f3a"
                          ],
                          [
                            0.8888888888888888,
                            "#fdca26"
                          ],
                          [
                            1,
                            "#f0f921"
                          ]
                        ],
                        "type": "contour"
                      }
                    ],
                    "contourcarpet": [
                      {
                        "colorbar": {
                          "outlinewidth": 0,
                          "ticks": ""
                        },
                        "type": "contourcarpet"
                      }
                    ],
                    "heatmap": [
                      {
                        "colorbar": {
                          "outlinewidth": 0,
                          "ticks": ""
                        },
                        "colorscale": [
                          [
                            0,
                            "#0d0887"
                          ],
                          [
                            0.1111111111111111,
                            "#46039f"
                          ],
                          [
                            0.2222222222222222,
                            "#7201a8"
                          ],
                          [
                            0.3333333333333333,
                            "#9c179e"
                          ],
                          [
                            0.4444444444444444,
                            "#bd3786"
                          ],
                          [
                            0.5555555555555556,
                            "#d8576b"
                          ],
                          [
                            0.6666666666666666,
                            "#ed7953"
                          ],
                          [
                            0.7777777777777778,
                            "#fb9f3a"
                          ],
                          [
                            0.8888888888888888,
                            "#fdca26"
                          ],
                          [
                            1,
                            "#f0f921"
                          ]
                        ],
                        "type": "heatmap"
                      }
                    ],
                    "heatmapgl": [
                      {
                        "colorbar": {
                          "outlinewidth": 0,
                          "ticks": ""
                        },
                        "colorscale": [
                          [
                            0,
                            "#0d0887"
                          ],
                          [
                            0.1111111111111111,
                            "#46039f"
                          ],
                          [
                            0.2222222222222222,
                            "#7201a8"
                          ],
                          [
                            0.3333333333333333,
                            "#9c179e"
                          ],
                          [
                            0.4444444444444444,
                            "#bd3786"
                          ],
                          [
                            0.5555555555555556,
                            "#d8576b"
                          ],
                          [
                            0.6666666666666666,
                            "#ed7953"
                          ],
                          [
                            0.7777777777777778,
                            "#fb9f3a"
                          ],
                          [
                            0.8888888888888888,
                            "#fdca26"
                          ],
                          [
                            1,
                            "#f0f921"
                          ]
                        ],
                        "type": "heatmapgl"
                      }
                    ],
                    "histogram": [
                      {
                        "marker": {
                          "pattern": {
                            "fillmode": "overlay",
                            "size": 10,
                            "solidity": 0.2
                          }
                        },
                        "type": "histogram"
                      }
                    ],
                    "histogram2d": [
                      {
                        "colorbar": {
                          "outlinewidth": 0,
                          "ticks": ""
                        },
                        "colorscale": [
                          [
                            0,
                            "#0d0887"
                          ],
                          [
                            0.1111111111111111,
                            "#46039f"
                          ],
                          [
                            0.2222222222222222,
                            "#7201a8"
                          ],
                          [
                            0.3333333333333333,
                            "#9c179e"
                          ],
                          [
                            0.4444444444444444,
                            "#bd3786"
                          ],
                          [
                            0.5555555555555556,
                            "#d8576b"
                          ],
                          [
                            0.6666666666666666,
                            "#ed7953"
                          ],
                          [
                            0.7777777777777778,
                            "#fb9f3a"
                          ],
                          [
                            0.8888888888888888,
                            "#fdca26"
                          ],
                          [
                            1,
                            "#f0f921"
                          ]
                        ],
                        "type": "histogram2d"
                      }
                    ],
                    "histogram2dcontour": [
                      {
                        "colorbar": {
                          "outlinewidth": 0,
                          "ticks": ""
                        },
                        "colorscale": [
                          [
                            0,
                            "#0d0887"
                          ],
                          [
                            0.1111111111111111,
                            "#46039f"
                          ],
                          [
                            0.2222222222222222,
                            "#7201a8"
                          ],
                          [
                            0.3333333333333333,
                            "#9c179e"
                          ],
                          [
                            0.4444444444444444,
                            "#bd3786"
                          ],
                          [
                            0.5555555555555556,
                            "#d8576b"
                          ],
                          [
                            0.6666666666666666,
                            "#ed7953"
                          ],
                          [
                            0.7777777777777778,
                            "#fb9f3a"
                          ],
                          [
                            0.8888888888888888,
                            "#fdca26"
                          ],
                          [
                            1,
                            "#f0f921"
                          ]
                        ],
                        "type": "histogram2dcontour"
                      }
                    ],
                    "mesh3d": [
                      {
                        "colorbar": {
                          "outlinewidth": 0,
                          "ticks": ""
                        },
                        "type": "mesh3d"
                      }
                    ],
                    "parcoords": [
                      {
                        "line": {
                          "colorbar": {
                            "outlinewidth": 0,
                            "ticks": ""
                          }
                        },
                        "type": "parcoords"
                      }
                    ],
                    "pie": [
                      {
                        "automargin": true,
                        "type": "pie"
                      }
                    ],
                    "scatter": [
                      {
                        "fillpattern": {
                          "fillmode": "overlay",
                          "size": 10,
                          "solidity": 0.2
                        },
                        "type": "scatter"
                      }
                    ],
                    "scatter3d": [
                      {
                        "line": {
                          "colorbar": {
                            "outlinewidth": 0,
                            "ticks": ""
                          }
                        },
                        "marker": {
                          "colorbar": {
                            "outlinewidth": 0,
                            "ticks": ""
                          }
                        },
                        "type": "scatter3d"
                      }
                    ],
                    "scattercarpet": [
                      {
                        "marker": {
                          "colorbar": {
                            "outlinewidth": 0,
                            "ticks": ""
                          }
                        },
                        "type": "scattercarpet"
                      }
                    ],
                    "scattergeo": [
                      {
                        "marker": {
                          "colorbar": {
                            "outlinewidth": 0,
                            "ticks": ""
                          }
                        },
                        "type": "scattergeo"
                      }
                    ],
                    "scattergl": [
                      {
                        "marker": {
                          "colorbar": {
                            "outlinewidth": 0,
                            "ticks": ""
                          }
                        },
                        "type": "scattergl"
                      }
                    ],
                    "scattermapbox": [
                      {
                        "marker": {
                          "colorbar": {
                            "outlinewidth": 0,
                            "ticks": ""
                          }
                        },
                        "type": "scattermapbox"
                      }
                    ],
                    "scatterpolar": [
                      {
                        "marker": {
                          "colorbar": {
                            "outlinewidth": 0,
                            "ticks": ""
                          }
                        },
                        "type": "scatterpolar"
                      }
                    ],
                    "scatterpolargl": [
                      {
                        "marker": {
                          "colorbar": {
                            "outlinewidth": 0,
                            "ticks": ""
                          }
                        },
                        "type": "scatterpolargl"
                      }
                    ],
                    "scatterternary": [
                      {
                        "marker": {
                          "colorbar": {
                            "outlinewidth": 0,
                            "ticks": ""
                          }
                        },
                        "type": "scatterternary"
                      }
                    ],
                    "surface": [
                      {
                        "colorbar": {
                          "outlinewidth": 0,
                          "ticks": ""
                        },
                        "colorscale": [
                          [
                            0,
                            "#0d0887"
                          ],
                          [
                            0.1111111111111111,
                            "#46039f"
                          ],
                          [
                            0.2222222222222222,
                            "#7201a8"
                          ],
                          [
                            0.3333333333333333,
                            "#9c179e"
                          ],
                          [
                            0.4444444444444444,
                            "#bd3786"
                          ],
                          [
                            0.5555555555555556,
                            "#d8576b"
                          ],
                          [
                            0.6666666666666666,
                            "#ed7953"
                          ],
                          [
                            0.7777777777777778,
                            "#fb9f3a"
                          ],
                          [
                            0.8888888888888888,
                            "#fdca26"
                          ],
                          [
                            1,
                            "#f0f921"
                          ]
                        ],
                        "type": "surface"
                      }
                    ],
                    "table": [
                      {
                        "cells": {
                          "fill": {
                            "color": "#EBF0F8"
                          },
                          "line": {
                            "color": "white"
                          }
                        },
                        "header": {
                          "fill": {
                            "color": "#C8D4E3"
                          },
                          "line": {
                            "color": "white"
                          }
                        },
                        "type": "table"
                      }
                    ]
                  },
                  "layout": {
                    "annotationdefaults": {
                      "arrowcolor": "#2a3f5f",
                      "arrowhead": 0,
                      "arrowwidth": 1
                    },
                    "autotypenumbers": "strict",
                    "coloraxis": {
                      "colorbar": {
                        "outlinewidth": 0,
                        "ticks": ""
                      }
                    },
                    "colorscale": {
                      "diverging": [
                        [
                          0,
                          "#8e0152"
                        ],
                        [
                          0.1,
                          "#c51b7d"
                        ],
                        [
                          0.2,
                          "#de77ae"
                        ],
                        [
                          0.3,
                          "#f1b6da"
                        ],
                        [
                          0.4,
                          "#fde0ef"
                        ],
                        [
                          0.5,
                          "#f7f7f7"
                        ],
                        [
                          0.6,
                          "#e6f5d0"
                        ],
                        [
                          0.7,
                          "#b8e186"
                        ],
                        [
                          0.8,
                          "#7fbc41"
                        ],
                        [
                          0.9,
                          "#4d9221"
                        ],
                        [
                          1,
                          "#276419"
                        ]
                      ],
                      "sequential": [
                        [
                          0,
                          "#0d0887"
                        ],
                        [
                          0.1111111111111111,
                          "#46039f"
                        ],
                        [
                          0.2222222222222222,
                          "#7201a8"
                        ],
                        [
                          0.3333333333333333,
                          "#9c179e"
                        ],
                        [
                          0.4444444444444444,
                          "#bd3786"
                        ],
                        [
                          0.5555555555555556,
                          "#d8576b"
                        ],
                        [
                          0.6666666666666666,
                          "#ed7953"
                        ],
                        [
                          0.7777777777777778,
                          "#fb9f3a"
                        ],
                        [
                          0.8888888888888888,
                          "#fdca26"
                        ],
                        [
                          1,
                          "#f0f921"
                        ]
                      ],
                      "sequentialminus": [
                        [
                          0,
                          "#0d0887"
                        ],
                        [
                          0.1111111111111111,
                          "#46039f"
                        ],
                        [
                          0.2222222222222222,
                          "#7201a8"
                        ],
                        [
                          0.3333333333333333,
                          "#9c179e"
                        ],
                        [
                          0.4444444444444444,
                          "#bd3786"
                        ],
                        [
                          0.5555555555555556,
                          "#d8576b"
                        ],
                        [
                          0.6666666666666666,
                          "#ed7953"
                        ],
                        [
                          0.7777777777777778,
                          "#fb9f3a"
                        ],
                        [
                          0.8888888888888888,
                          "#fdca26"
                        ],
                        [
                          1,
                          "#f0f921"
                        ]
                      ]
                    },
                    "colorway": [
                      "#636efa",
                      "#EF553B",
                      "#00cc96",
                      "#ab63fa",
                      "#FFA15A",
                      "#19d3f3",
                      "#FF6692",
                      "#B6E880",
                      "#FF97FF",
                      "#FECB52"
                    ],
                    "font": {
                      "color": "#2a3f5f"
                    },
                    "geo": {
                      "bgcolor": "white",
                      "lakecolor": "white",
                      "landcolor": "#E5ECF6",
                      "showlakes": true,
                      "showland": true,
                      "subunitcolor": "white"
                    },
                    "hoverlabel": {
                      "align": "left"
                    },
                    "hovermode": "closest",
                    "mapbox": {
                      "style": "light"
                    },
                    "paper_bgcolor": "white",
                    "plot_bgcolor": "#E5ECF6",
                    "polar": {
                      "angularaxis": {
                        "gridcolor": "white",
                        "linecolor": "white",
                        "ticks": ""
                      },
                      "bgcolor": "#E5ECF6",
                      "radialaxis": {
                        "gridcolor": "white",
                        "linecolor": "white",
                        "ticks": ""
                      }
                    },
                    "scene": {
                      "xaxis": {
                        "backgroundcolor": "#E5ECF6",
                        "gridcolor": "white",
                        "gridwidth": 2,
                        "linecolor": "white",
                        "showbackground": true,
                        "ticks": "",
                        "zerolinecolor": "white"
                      },
                      "yaxis": {
                        "backgroundcolor": "#E5ECF6",
                        "gridcolor": "white",
                        "gridwidth": 2,
                        "linecolor": "white",
                        "showbackground": true,
                        "ticks": "",
                        "zerolinecolor": "white"
                      },
                      "zaxis": {
                        "backgroundcolor": "#E5ECF6",
                        "gridcolor": "white",
                        "gridwidth": 2,
                        "linecolor": "white",
                        "showbackground": true,
                        "ticks": "",
                        "zerolinecolor": "white"
                      }
                    },
                    "shapedefaults": {
                      "line": {
                        "color": "#2a3f5f"
                      }
                    },
                    "ternary": {
                      "aaxis": {
                        "gridcolor": "white",
                        "linecolor": "white",
                        "ticks": ""
                      },
                      "baxis": {
                        "gridcolor": "white",
                        "linecolor": "white",
                        "ticks": ""
                      },
                      "bgcolor": "#E5ECF6",
                      "caxis": {
                        "gridcolor": "white",
                        "linecolor": "white",
                        "ticks": ""
                      }
                    },
                    "title": {
                      "x": 0.05
                    },
                    "xaxis": {
                      "automargin": true,
                      "gridcolor": "white",
                      "linecolor": "white",
                      "ticks": "",
                      "title": {
                        "standoff": 15
                      },
                      "zerolinecolor": "white",
                      "zerolinewidth": 2
                    },
                    "yaxis": {
                      "automargin": true,
                      "gridcolor": "white",
                      "linecolor": "white",
                      "ticks": "",
                      "title": {
                        "standoff": 15
                      },
                      "zerolinecolor": "white",
                      "zerolinewidth": 2
                    }
                  }
                },
                "title": {
                  "text": "Distribution of Cost"
                },
                "xaxis": {
                  "anchor": "y",
                  "domain": [
                    0,
                    1
                  ],
                  "title": {
                    "text": "Cost"
                  }
                },
                "xaxis2": {
                  "anchor": "y2",
                  "domain": [
                    0,
                    1
                  ],
                  "matches": "x",
                  "showgrid": true,
                  "showticklabels": false
                },
                "yaxis": {
                  "anchor": "x",
                  "domain": [
                    0,
                    0.8316
                  ],
                  "title": {
                    "text": "count"
                  }
                },
                "yaxis2": {
                  "anchor": "x2",
                  "domain": [
                    0.8416,
                    1
                  ],
                  "matches": "y2",
                  "showgrid": false,
                  "showline": false,
                  "showticklabels": false,
                  "ticks": ""
                }
              }
            }
          },
          "metadata": {},
          "output_type": "display_data"
        }
      ],
      "source": [
        "import plotly.express as px\n",
        "fig = px.histogram(df,\n",
        "                  x='Cost',\n",
        "                  marginal='box',\n",
        "                  title=\"Distribution of Cost\")\n",
        "fig.update_layout(bargap=0.1)\n",
        "fig.show()"
      ]
    },
    {
      "cell_type": "code",
      "execution_count": 35,
      "metadata": {
        "colab": {
          "base_uri": "https://localhost:8080/",
          "height": 542
        },
        "id": "Co_v3nDjJcxt",
        "outputId": "dc4a7e4e-ee3d-41d4-dac4-76c80c3d6f8c"
      },
      "outputs": [
        {
          "data": {
            "application/vnd.plotly.v1+json": {
              "config": {
                "plotlyServerURL": "https://plot.ly"
              },
              "data": [
                {
                  "alignmentgroup": "True",
                  "bingroup": "x",
                  "hovertemplate": "Time=%{x}<br>count=%{y}<extra></extra>",
                  "legendgroup": "",
                  "marker": {
                    "color": "#636efa",
                    "pattern": {
                      "shape": ""
                    }
                  },
                  "name": "",
                  "offsetgroup": "",
                  "orientation": "v",
                  "showlegend": false,
                  "type": "histogram",
                  "x": [
                    "16",
                    "14",
                    "12",
                    "11",
                    "20",
                    "19",
                    "16",
                    "22",
                    "7",
                    "10",
                    "9",
                    "11",
                    "21",
                    "14",
                    "11",
                    "9",
                    "9",
                    "9",
                    "8",
                    "18",
                    "14",
                    "12",
                    "9",
                    "9",
                    "17",
                    "5",
                    "15",
                    "14",
                    "20",
                    "17",
                    "18",
                    "18",
                    "10",
                    "16",
                    "14",
                    "8",
                    "9",
                    "11",
                    "14",
                    "14",
                    "16",
                    "17",
                    "15",
                    "18",
                    "17",
                    "18",
                    "14",
                    "10",
                    "18",
                    "11",
                    "14",
                    "15",
                    "20",
                    "25",
                    "12",
                    "19",
                    "9",
                    "22",
                    "17",
                    "19",
                    "14",
                    "21",
                    "27",
                    "13",
                    "12",
                    "20",
                    "17",
                    "14",
                    "14",
                    "25",
                    "7",
                    "8",
                    "17",
                    "20",
                    "16",
                    "15",
                    "10",
                    "19",
                    "13",
                    "9",
                    "19",
                    "16",
                    "10",
                    "17",
                    "9",
                    "11",
                    "17",
                    "14",
                    "11",
                    "9",
                    "9",
                    "9",
                    "8",
                    "18",
                    "14",
                    "12",
                    "9",
                    "9",
                    "17",
                    "5",
                    "15",
                    "14",
                    "20",
                    "17",
                    "18",
                    "18",
                    "10",
                    "16",
                    "14",
                    "8",
                    "9",
                    "11",
                    "14",
                    "14",
                    "16",
                    "17",
                    "15",
                    "18",
                    "17",
                    "18",
                    "14",
                    "10",
                    "18",
                    "11",
                    "14",
                    "15",
                    "20",
                    "25",
                    "12",
                    "19",
                    "9",
                    "22",
                    "17",
                    "19",
                    "14",
                    "21",
                    "27",
                    "13",
                    "12",
                    "20",
                    "17",
                    "14",
                    "14",
                    "25",
                    "7",
                    "8",
                    "17",
                    "20",
                    "16",
                    "15",
                    "10",
                    "19",
                    "13",
                    "9",
                    "19",
                    "16",
                    "10",
                    "17",
                    "9",
                    "11",
                    "17",
                    "14",
                    "11",
                    "9",
                    "9",
                    "9",
                    "8",
                    "18",
                    "14",
                    "12",
                    "9",
                    "9",
                    "17",
                    "5",
                    "15",
                    "14",
                    "20",
                    "17",
                    "18",
                    "18",
                    "10",
                    "16",
                    "14",
                    "8",
                    "9",
                    "11",
                    "14",
                    "14",
                    "16",
                    "17",
                    "15",
                    "18",
                    "17",
                    "18",
                    "14",
                    "10",
                    "18",
                    "11",
                    "14",
                    "15",
                    "20",
                    "25",
                    "12",
                    "19",
                    "9",
                    "22",
                    "17",
                    "19",
                    "14",
                    "21",
                    "27",
                    "13",
                    "12",
                    "20",
                    "17",
                    "14",
                    "14",
                    "25",
                    "7",
                    "8",
                    "17",
                    "20",
                    "16",
                    "15",
                    "10",
                    "19",
                    "13",
                    "9",
                    "19",
                    "16",
                    "10",
                    "17",
                    "9",
                    "11",
                    "17",
                    "14",
                    "11",
                    "9",
                    "9",
                    "9",
                    "8",
                    "18",
                    "14",
                    "12",
                    "9",
                    "9",
                    "17",
                    "5",
                    "15",
                    "14",
                    "20",
                    "17",
                    "18",
                    "18",
                    "10",
                    "16",
                    "14",
                    "8",
                    "9",
                    "11",
                    "14",
                    "14",
                    "16",
                    "17",
                    "15",
                    "18",
                    "17",
                    "18",
                    "14",
                    "10",
                    "18",
                    "11",
                    "14",
                    "15",
                    "20",
                    "25",
                    "12",
                    "19",
                    "9",
                    "22",
                    "17",
                    "19",
                    "14",
                    "21",
                    "27",
                    "13",
                    "12",
                    "20",
                    "17",
                    "14",
                    "14",
                    "25",
                    "7",
                    "8",
                    "17",
                    "20",
                    "16",
                    "15",
                    "10",
                    "19",
                    "13",
                    "9",
                    "19",
                    "16",
                    "10",
                    "17",
                    "9",
                    "11",
                    "17",
                    "14",
                    "11",
                    "9",
                    "9",
                    "9",
                    "8",
                    "18",
                    "14",
                    "12",
                    "9",
                    "9",
                    "17",
                    "5",
                    "15",
                    "14",
                    "20",
                    "17",
                    "18",
                    "18",
                    "10",
                    "16",
                    "14",
                    "8",
                    "9",
                    "11",
                    "14",
                    "14",
                    "16",
                    "17",
                    "15",
                    "18",
                    "17",
                    "18",
                    "14",
                    "10",
                    "18",
                    "11",
                    "14",
                    "15",
                    "20",
                    "25",
                    "12",
                    "19",
                    "9",
                    "22",
                    "17",
                    "19",
                    "14",
                    "21",
                    "27",
                    "13",
                    "12",
                    "20",
                    "17",
                    "14",
                    "14",
                    "25",
                    "7",
                    "8",
                    "17",
                    "20",
                    "16",
                    "15",
                    "10",
                    "19",
                    "13",
                    "9",
                    "19",
                    "16",
                    "10",
                    "17",
                    "9",
                    "11",
                    "17"
                  ],
                  "xaxis": "x",
                  "yaxis": "y"
                },
                {
                  "alignmentgroup": "True",
                  "hovertemplate": "Time=%{x}<extra></extra>",
                  "legendgroup": "",
                  "marker": {
                    "color": "#636efa"
                  },
                  "name": "",
                  "notched": true,
                  "offsetgroup": "",
                  "showlegend": false,
                  "type": "box",
                  "x": [
                    "16",
                    "14",
                    "12",
                    "11",
                    "20",
                    "19",
                    "16",
                    "22",
                    "7",
                    "10",
                    "9",
                    "11",
                    "21",
                    "14",
                    "11",
                    "9",
                    "9",
                    "9",
                    "8",
                    "18",
                    "14",
                    "12",
                    "9",
                    "9",
                    "17",
                    "5",
                    "15",
                    "14",
                    "20",
                    "17",
                    "18",
                    "18",
                    "10",
                    "16",
                    "14",
                    "8",
                    "9",
                    "11",
                    "14",
                    "14",
                    "16",
                    "17",
                    "15",
                    "18",
                    "17",
                    "18",
                    "14",
                    "10",
                    "18",
                    "11",
                    "14",
                    "15",
                    "20",
                    "25",
                    "12",
                    "19",
                    "9",
                    "22",
                    "17",
                    "19",
                    "14",
                    "21",
                    "27",
                    "13",
                    "12",
                    "20",
                    "17",
                    "14",
                    "14",
                    "25",
                    "7",
                    "8",
                    "17",
                    "20",
                    "16",
                    "15",
                    "10",
                    "19",
                    "13",
                    "9",
                    "19",
                    "16",
                    "10",
                    "17",
                    "9",
                    "11",
                    "17",
                    "14",
                    "11",
                    "9",
                    "9",
                    "9",
                    "8",
                    "18",
                    "14",
                    "12",
                    "9",
                    "9",
                    "17",
                    "5",
                    "15",
                    "14",
                    "20",
                    "17",
                    "18",
                    "18",
                    "10",
                    "16",
                    "14",
                    "8",
                    "9",
                    "11",
                    "14",
                    "14",
                    "16",
                    "17",
                    "15",
                    "18",
                    "17",
                    "18",
                    "14",
                    "10",
                    "18",
                    "11",
                    "14",
                    "15",
                    "20",
                    "25",
                    "12",
                    "19",
                    "9",
                    "22",
                    "17",
                    "19",
                    "14",
                    "21",
                    "27",
                    "13",
                    "12",
                    "20",
                    "17",
                    "14",
                    "14",
                    "25",
                    "7",
                    "8",
                    "17",
                    "20",
                    "16",
                    "15",
                    "10",
                    "19",
                    "13",
                    "9",
                    "19",
                    "16",
                    "10",
                    "17",
                    "9",
                    "11",
                    "17",
                    "14",
                    "11",
                    "9",
                    "9",
                    "9",
                    "8",
                    "18",
                    "14",
                    "12",
                    "9",
                    "9",
                    "17",
                    "5",
                    "15",
                    "14",
                    "20",
                    "17",
                    "18",
                    "18",
                    "10",
                    "16",
                    "14",
                    "8",
                    "9",
                    "11",
                    "14",
                    "14",
                    "16",
                    "17",
                    "15",
                    "18",
                    "17",
                    "18",
                    "14",
                    "10",
                    "18",
                    "11",
                    "14",
                    "15",
                    "20",
                    "25",
                    "12",
                    "19",
                    "9",
                    "22",
                    "17",
                    "19",
                    "14",
                    "21",
                    "27",
                    "13",
                    "12",
                    "20",
                    "17",
                    "14",
                    "14",
                    "25",
                    "7",
                    "8",
                    "17",
                    "20",
                    "16",
                    "15",
                    "10",
                    "19",
                    "13",
                    "9",
                    "19",
                    "16",
                    "10",
                    "17",
                    "9",
                    "11",
                    "17",
                    "14",
                    "11",
                    "9",
                    "9",
                    "9",
                    "8",
                    "18",
                    "14",
                    "12",
                    "9",
                    "9",
                    "17",
                    "5",
                    "15",
                    "14",
                    "20",
                    "17",
                    "18",
                    "18",
                    "10",
                    "16",
                    "14",
                    "8",
                    "9",
                    "11",
                    "14",
                    "14",
                    "16",
                    "17",
                    "15",
                    "18",
                    "17",
                    "18",
                    "14",
                    "10",
                    "18",
                    "11",
                    "14",
                    "15",
                    "20",
                    "25",
                    "12",
                    "19",
                    "9",
                    "22",
                    "17",
                    "19",
                    "14",
                    "21",
                    "27",
                    "13",
                    "12",
                    "20",
                    "17",
                    "14",
                    "14",
                    "25",
                    "7",
                    "8",
                    "17",
                    "20",
                    "16",
                    "15",
                    "10",
                    "19",
                    "13",
                    "9",
                    "19",
                    "16",
                    "10",
                    "17",
                    "9",
                    "11",
                    "17",
                    "14",
                    "11",
                    "9",
                    "9",
                    "9",
                    "8",
                    "18",
                    "14",
                    "12",
                    "9",
                    "9",
                    "17",
                    "5",
                    "15",
                    "14",
                    "20",
                    "17",
                    "18",
                    "18",
                    "10",
                    "16",
                    "14",
                    "8",
                    "9",
                    "11",
                    "14",
                    "14",
                    "16",
                    "17",
                    "15",
                    "18",
                    "17",
                    "18",
                    "14",
                    "10",
                    "18",
                    "11",
                    "14",
                    "15",
                    "20",
                    "25",
                    "12",
                    "19",
                    "9",
                    "22",
                    "17",
                    "19",
                    "14",
                    "21",
                    "27",
                    "13",
                    "12",
                    "20",
                    "17",
                    "14",
                    "14",
                    "25",
                    "7",
                    "8",
                    "17",
                    "20",
                    "16",
                    "15",
                    "10",
                    "19",
                    "13",
                    "9",
                    "19",
                    "16",
                    "10",
                    "17",
                    "9",
                    "11",
                    "17"
                  ],
                  "xaxis": "x2",
                  "yaxis": "y2"
                }
              ],
              "layout": {
                "bargap": 0.1,
                "barmode": "relative",
                "legend": {
                  "tracegroupgap": 0
                },
                "template": {
                  "data": {
                    "bar": [
                      {
                        "error_x": {
                          "color": "#2a3f5f"
                        },
                        "error_y": {
                          "color": "#2a3f5f"
                        },
                        "marker": {
                          "line": {
                            "color": "#E5ECF6",
                            "width": 0.5
                          },
                          "pattern": {
                            "fillmode": "overlay",
                            "size": 10,
                            "solidity": 0.2
                          }
                        },
                        "type": "bar"
                      }
                    ],
                    "barpolar": [
                      {
                        "marker": {
                          "line": {
                            "color": "#E5ECF6",
                            "width": 0.5
                          },
                          "pattern": {
                            "fillmode": "overlay",
                            "size": 10,
                            "solidity": 0.2
                          }
                        },
                        "type": "barpolar"
                      }
                    ],
                    "carpet": [
                      {
                        "aaxis": {
                          "endlinecolor": "#2a3f5f",
                          "gridcolor": "white",
                          "linecolor": "white",
                          "minorgridcolor": "white",
                          "startlinecolor": "#2a3f5f"
                        },
                        "baxis": {
                          "endlinecolor": "#2a3f5f",
                          "gridcolor": "white",
                          "linecolor": "white",
                          "minorgridcolor": "white",
                          "startlinecolor": "#2a3f5f"
                        },
                        "type": "carpet"
                      }
                    ],
                    "choropleth": [
                      {
                        "colorbar": {
                          "outlinewidth": 0,
                          "ticks": ""
                        },
                        "type": "choropleth"
                      }
                    ],
                    "contour": [
                      {
                        "colorbar": {
                          "outlinewidth": 0,
                          "ticks": ""
                        },
                        "colorscale": [
                          [
                            0,
                            "#0d0887"
                          ],
                          [
                            0.1111111111111111,
                            "#46039f"
                          ],
                          [
                            0.2222222222222222,
                            "#7201a8"
                          ],
                          [
                            0.3333333333333333,
                            "#9c179e"
                          ],
                          [
                            0.4444444444444444,
                            "#bd3786"
                          ],
                          [
                            0.5555555555555556,
                            "#d8576b"
                          ],
                          [
                            0.6666666666666666,
                            "#ed7953"
                          ],
                          [
                            0.7777777777777778,
                            "#fb9f3a"
                          ],
                          [
                            0.8888888888888888,
                            "#fdca26"
                          ],
                          [
                            1,
                            "#f0f921"
                          ]
                        ],
                        "type": "contour"
                      }
                    ],
                    "contourcarpet": [
                      {
                        "colorbar": {
                          "outlinewidth": 0,
                          "ticks": ""
                        },
                        "type": "contourcarpet"
                      }
                    ],
                    "heatmap": [
                      {
                        "colorbar": {
                          "outlinewidth": 0,
                          "ticks": ""
                        },
                        "colorscale": [
                          [
                            0,
                            "#0d0887"
                          ],
                          [
                            0.1111111111111111,
                            "#46039f"
                          ],
                          [
                            0.2222222222222222,
                            "#7201a8"
                          ],
                          [
                            0.3333333333333333,
                            "#9c179e"
                          ],
                          [
                            0.4444444444444444,
                            "#bd3786"
                          ],
                          [
                            0.5555555555555556,
                            "#d8576b"
                          ],
                          [
                            0.6666666666666666,
                            "#ed7953"
                          ],
                          [
                            0.7777777777777778,
                            "#fb9f3a"
                          ],
                          [
                            0.8888888888888888,
                            "#fdca26"
                          ],
                          [
                            1,
                            "#f0f921"
                          ]
                        ],
                        "type": "heatmap"
                      }
                    ],
                    "heatmapgl": [
                      {
                        "colorbar": {
                          "outlinewidth": 0,
                          "ticks": ""
                        },
                        "colorscale": [
                          [
                            0,
                            "#0d0887"
                          ],
                          [
                            0.1111111111111111,
                            "#46039f"
                          ],
                          [
                            0.2222222222222222,
                            "#7201a8"
                          ],
                          [
                            0.3333333333333333,
                            "#9c179e"
                          ],
                          [
                            0.4444444444444444,
                            "#bd3786"
                          ],
                          [
                            0.5555555555555556,
                            "#d8576b"
                          ],
                          [
                            0.6666666666666666,
                            "#ed7953"
                          ],
                          [
                            0.7777777777777778,
                            "#fb9f3a"
                          ],
                          [
                            0.8888888888888888,
                            "#fdca26"
                          ],
                          [
                            1,
                            "#f0f921"
                          ]
                        ],
                        "type": "heatmapgl"
                      }
                    ],
                    "histogram": [
                      {
                        "marker": {
                          "pattern": {
                            "fillmode": "overlay",
                            "size": 10,
                            "solidity": 0.2
                          }
                        },
                        "type": "histogram"
                      }
                    ],
                    "histogram2d": [
                      {
                        "colorbar": {
                          "outlinewidth": 0,
                          "ticks": ""
                        },
                        "colorscale": [
                          [
                            0,
                            "#0d0887"
                          ],
                          [
                            0.1111111111111111,
                            "#46039f"
                          ],
                          [
                            0.2222222222222222,
                            "#7201a8"
                          ],
                          [
                            0.3333333333333333,
                            "#9c179e"
                          ],
                          [
                            0.4444444444444444,
                            "#bd3786"
                          ],
                          [
                            0.5555555555555556,
                            "#d8576b"
                          ],
                          [
                            0.6666666666666666,
                            "#ed7953"
                          ],
                          [
                            0.7777777777777778,
                            "#fb9f3a"
                          ],
                          [
                            0.8888888888888888,
                            "#fdca26"
                          ],
                          [
                            1,
                            "#f0f921"
                          ]
                        ],
                        "type": "histogram2d"
                      }
                    ],
                    "histogram2dcontour": [
                      {
                        "colorbar": {
                          "outlinewidth": 0,
                          "ticks": ""
                        },
                        "colorscale": [
                          [
                            0,
                            "#0d0887"
                          ],
                          [
                            0.1111111111111111,
                            "#46039f"
                          ],
                          [
                            0.2222222222222222,
                            "#7201a8"
                          ],
                          [
                            0.3333333333333333,
                            "#9c179e"
                          ],
                          [
                            0.4444444444444444,
                            "#bd3786"
                          ],
                          [
                            0.5555555555555556,
                            "#d8576b"
                          ],
                          [
                            0.6666666666666666,
                            "#ed7953"
                          ],
                          [
                            0.7777777777777778,
                            "#fb9f3a"
                          ],
                          [
                            0.8888888888888888,
                            "#fdca26"
                          ],
                          [
                            1,
                            "#f0f921"
                          ]
                        ],
                        "type": "histogram2dcontour"
                      }
                    ],
                    "mesh3d": [
                      {
                        "colorbar": {
                          "outlinewidth": 0,
                          "ticks": ""
                        },
                        "type": "mesh3d"
                      }
                    ],
                    "parcoords": [
                      {
                        "line": {
                          "colorbar": {
                            "outlinewidth": 0,
                            "ticks": ""
                          }
                        },
                        "type": "parcoords"
                      }
                    ],
                    "pie": [
                      {
                        "automargin": true,
                        "type": "pie"
                      }
                    ],
                    "scatter": [
                      {
                        "fillpattern": {
                          "fillmode": "overlay",
                          "size": 10,
                          "solidity": 0.2
                        },
                        "type": "scatter"
                      }
                    ],
                    "scatter3d": [
                      {
                        "line": {
                          "colorbar": {
                            "outlinewidth": 0,
                            "ticks": ""
                          }
                        },
                        "marker": {
                          "colorbar": {
                            "outlinewidth": 0,
                            "ticks": ""
                          }
                        },
                        "type": "scatter3d"
                      }
                    ],
                    "scattercarpet": [
                      {
                        "marker": {
                          "colorbar": {
                            "outlinewidth": 0,
                            "ticks": ""
                          }
                        },
                        "type": "scattercarpet"
                      }
                    ],
                    "scattergeo": [
                      {
                        "marker": {
                          "colorbar": {
                            "outlinewidth": 0,
                            "ticks": ""
                          }
                        },
                        "type": "scattergeo"
                      }
                    ],
                    "scattergl": [
                      {
                        "marker": {
                          "colorbar": {
                            "outlinewidth": 0,
                            "ticks": ""
                          }
                        },
                        "type": "scattergl"
                      }
                    ],
                    "scattermapbox": [
                      {
                        "marker": {
                          "colorbar": {
                            "outlinewidth": 0,
                            "ticks": ""
                          }
                        },
                        "type": "scattermapbox"
                      }
                    ],
                    "scatterpolar": [
                      {
                        "marker": {
                          "colorbar": {
                            "outlinewidth": 0,
                            "ticks": ""
                          }
                        },
                        "type": "scatterpolar"
                      }
                    ],
                    "scatterpolargl": [
                      {
                        "marker": {
                          "colorbar": {
                            "outlinewidth": 0,
                            "ticks": ""
                          }
                        },
                        "type": "scatterpolargl"
                      }
                    ],
                    "scatterternary": [
                      {
                        "marker": {
                          "colorbar": {
                            "outlinewidth": 0,
                            "ticks": ""
                          }
                        },
                        "type": "scatterternary"
                      }
                    ],
                    "surface": [
                      {
                        "colorbar": {
                          "outlinewidth": 0,
                          "ticks": ""
                        },
                        "colorscale": [
                          [
                            0,
                            "#0d0887"
                          ],
                          [
                            0.1111111111111111,
                            "#46039f"
                          ],
                          [
                            0.2222222222222222,
                            "#7201a8"
                          ],
                          [
                            0.3333333333333333,
                            "#9c179e"
                          ],
                          [
                            0.4444444444444444,
                            "#bd3786"
                          ],
                          [
                            0.5555555555555556,
                            "#d8576b"
                          ],
                          [
                            0.6666666666666666,
                            "#ed7953"
                          ],
                          [
                            0.7777777777777778,
                            "#fb9f3a"
                          ],
                          [
                            0.8888888888888888,
                            "#fdca26"
                          ],
                          [
                            1,
                            "#f0f921"
                          ]
                        ],
                        "type": "surface"
                      }
                    ],
                    "table": [
                      {
                        "cells": {
                          "fill": {
                            "color": "#EBF0F8"
                          },
                          "line": {
                            "color": "white"
                          }
                        },
                        "header": {
                          "fill": {
                            "color": "#C8D4E3"
                          },
                          "line": {
                            "color": "white"
                          }
                        },
                        "type": "table"
                      }
                    ]
                  },
                  "layout": {
                    "annotationdefaults": {
                      "arrowcolor": "#2a3f5f",
                      "arrowhead": 0,
                      "arrowwidth": 1
                    },
                    "autotypenumbers": "strict",
                    "coloraxis": {
                      "colorbar": {
                        "outlinewidth": 0,
                        "ticks": ""
                      }
                    },
                    "colorscale": {
                      "diverging": [
                        [
                          0,
                          "#8e0152"
                        ],
                        [
                          0.1,
                          "#c51b7d"
                        ],
                        [
                          0.2,
                          "#de77ae"
                        ],
                        [
                          0.3,
                          "#f1b6da"
                        ],
                        [
                          0.4,
                          "#fde0ef"
                        ],
                        [
                          0.5,
                          "#f7f7f7"
                        ],
                        [
                          0.6,
                          "#e6f5d0"
                        ],
                        [
                          0.7,
                          "#b8e186"
                        ],
                        [
                          0.8,
                          "#7fbc41"
                        ],
                        [
                          0.9,
                          "#4d9221"
                        ],
                        [
                          1,
                          "#276419"
                        ]
                      ],
                      "sequential": [
                        [
                          0,
                          "#0d0887"
                        ],
                        [
                          0.1111111111111111,
                          "#46039f"
                        ],
                        [
                          0.2222222222222222,
                          "#7201a8"
                        ],
                        [
                          0.3333333333333333,
                          "#9c179e"
                        ],
                        [
                          0.4444444444444444,
                          "#bd3786"
                        ],
                        [
                          0.5555555555555556,
                          "#d8576b"
                        ],
                        [
                          0.6666666666666666,
                          "#ed7953"
                        ],
                        [
                          0.7777777777777778,
                          "#fb9f3a"
                        ],
                        [
                          0.8888888888888888,
                          "#fdca26"
                        ],
                        [
                          1,
                          "#f0f921"
                        ]
                      ],
                      "sequentialminus": [
                        [
                          0,
                          "#0d0887"
                        ],
                        [
                          0.1111111111111111,
                          "#46039f"
                        ],
                        [
                          0.2222222222222222,
                          "#7201a8"
                        ],
                        [
                          0.3333333333333333,
                          "#9c179e"
                        ],
                        [
                          0.4444444444444444,
                          "#bd3786"
                        ],
                        [
                          0.5555555555555556,
                          "#d8576b"
                        ],
                        [
                          0.6666666666666666,
                          "#ed7953"
                        ],
                        [
                          0.7777777777777778,
                          "#fb9f3a"
                        ],
                        [
                          0.8888888888888888,
                          "#fdca26"
                        ],
                        [
                          1,
                          "#f0f921"
                        ]
                      ]
                    },
                    "colorway": [
                      "#636efa",
                      "#EF553B",
                      "#00cc96",
                      "#ab63fa",
                      "#FFA15A",
                      "#19d3f3",
                      "#FF6692",
                      "#B6E880",
                      "#FF97FF",
                      "#FECB52"
                    ],
                    "font": {
                      "color": "#2a3f5f"
                    },
                    "geo": {
                      "bgcolor": "white",
                      "lakecolor": "white",
                      "landcolor": "#E5ECF6",
                      "showlakes": true,
                      "showland": true,
                      "subunitcolor": "white"
                    },
                    "hoverlabel": {
                      "align": "left"
                    },
                    "hovermode": "closest",
                    "mapbox": {
                      "style": "light"
                    },
                    "paper_bgcolor": "white",
                    "plot_bgcolor": "#E5ECF6",
                    "polar": {
                      "angularaxis": {
                        "gridcolor": "white",
                        "linecolor": "white",
                        "ticks": ""
                      },
                      "bgcolor": "#E5ECF6",
                      "radialaxis": {
                        "gridcolor": "white",
                        "linecolor": "white",
                        "ticks": ""
                      }
                    },
                    "scene": {
                      "xaxis": {
                        "backgroundcolor": "#E5ECF6",
                        "gridcolor": "white",
                        "gridwidth": 2,
                        "linecolor": "white",
                        "showbackground": true,
                        "ticks": "",
                        "zerolinecolor": "white"
                      },
                      "yaxis": {
                        "backgroundcolor": "#E5ECF6",
                        "gridcolor": "white",
                        "gridwidth": 2,
                        "linecolor": "white",
                        "showbackground": true,
                        "ticks": "",
                        "zerolinecolor": "white"
                      },
                      "zaxis": {
                        "backgroundcolor": "#E5ECF6",
                        "gridcolor": "white",
                        "gridwidth": 2,
                        "linecolor": "white",
                        "showbackground": true,
                        "ticks": "",
                        "zerolinecolor": "white"
                      }
                    },
                    "shapedefaults": {
                      "line": {
                        "color": "#2a3f5f"
                      }
                    },
                    "ternary": {
                      "aaxis": {
                        "gridcolor": "white",
                        "linecolor": "white",
                        "ticks": ""
                      },
                      "baxis": {
                        "gridcolor": "white",
                        "linecolor": "white",
                        "ticks": ""
                      },
                      "bgcolor": "#E5ECF6",
                      "caxis": {
                        "gridcolor": "white",
                        "linecolor": "white",
                        "ticks": ""
                      }
                    },
                    "title": {
                      "x": 0.05
                    },
                    "xaxis": {
                      "automargin": true,
                      "gridcolor": "white",
                      "linecolor": "white",
                      "ticks": "",
                      "title": {
                        "standoff": 15
                      },
                      "zerolinecolor": "white",
                      "zerolinewidth": 2
                    },
                    "yaxis": {
                      "automargin": true,
                      "gridcolor": "white",
                      "linecolor": "white",
                      "ticks": "",
                      "title": {
                        "standoff": 15
                      },
                      "zerolinecolor": "white",
                      "zerolinewidth": 2
                    }
                  }
                },
                "title": {
                  "text": "Distribution of Time"
                },
                "xaxis": {
                  "anchor": "y",
                  "domain": [
                    0,
                    1
                  ],
                  "title": {
                    "text": "Time"
                  }
                },
                "xaxis2": {
                  "anchor": "y2",
                  "domain": [
                    0,
                    1
                  ],
                  "matches": "x",
                  "showgrid": true,
                  "showticklabels": false
                },
                "yaxis": {
                  "anchor": "x",
                  "domain": [
                    0,
                    0.8316
                  ],
                  "title": {
                    "text": "count"
                  }
                },
                "yaxis2": {
                  "anchor": "x2",
                  "domain": [
                    0.8416,
                    1
                  ],
                  "matches": "y2",
                  "showgrid": false,
                  "showline": false,
                  "showticklabels": false,
                  "ticks": ""
                }
              }
            }
          },
          "metadata": {},
          "output_type": "display_data"
        }
      ],
      "source": [
        "fig = px.histogram(df,\n",
        "                  x='Time',\n",
        "                  marginal='box',\n",
        "                  title=\"Distribution of Time\")\n",
        "fig.update_layout(bargap=0.1)\n",
        "fig.show()"
      ]
    },
    {
      "cell_type": "code",
      "execution_count": 36,
      "metadata": {
        "colab": {
          "base_uri": "https://localhost:8080/",
          "height": 542
        },
        "id": "-iISxrNrJfyQ",
        "outputId": "95eb8fad-63eb-4db3-afae-9eb1966c6a8d"
      },
      "outputs": [
        {
          "data": {
            "application/vnd.plotly.v1+json": {
              "config": {
                "plotlyServerURL": "https://plot.ly"
              },
              "data": [
                {
                  "alignmentgroup": "True",
                  "bingroup": "x",
                  "hovertemplate": "Max Altitude=%{x}<br>count=%{y}<extra></extra>",
                  "legendgroup": "",
                  "marker": {
                    "color": "#636efa",
                    "pattern": {
                      "shape": ""
                    }
                  },
                  "name": "",
                  "offsetgroup": "",
                  "orientation": "v",
                  "showlegend": false,
                  "type": "histogram",
                  "x": [
                    "5545 ",
                    "5545 ",
                    "5545 ",
                    "5545 ",
                    "5545 ",
                    "5545 ",
                    "5360 ",
                    "5545 ",
                    "3900 ",
                    "3860 ",
                    "3860 ",
                    "5545 ",
                    "5545 ",
                    "4210 ",
                    "4210 ",
                    "4230 ",
                    "4210 ",
                    "4200 ",
                    "4200 ",
                    "5416 ",
                    "5416 ",
                    "5416 ",
                    "2012",
                    "3210 ",
                    "5416 ",
                    "1990 ",
                    "5106 ",
                    "5220 ",
                    "5220 ",
                    "4210 ",
                    "4200 ",
                    "4210 ",
                    "5050 ",
                    "4600",
                    "5050 ",
                    "2607 ",
                    "3650 ",
                    "4130",
                    "5545",
                    "5545",
                    "5545",
                    "5416",
                    "5545",
                    "5545",
                    "3870",
                    "6340",
                    "5357",
                    "3540",
                    "5160",
                    "5000",
                    "4130",
                    "3055",
                    "5546",
                    "5143",
                    "3870",
                    "6000",
                    "1730",
                    "4870",
                    "5000",
                    "5416",
                    "5416",
                    "5320",
                    "4460",
                    "4500",
                    "3210",
                    "5416",
                    "5416",
                    "5122",
                    "3870",
                    "5416",
                    "5545",
                    "1550",
                    "3870",
                    "5545",
                    "5545",
                    "5545",
                    "3860",
                    "5545",
                    "5357",
                    "5545",
                    "5416",
                    "4130",
                    "3210",
                    "4200",
                    "4500",
                    "4773",
                    "5220",
                    "4210 ",
                    "4210 ",
                    "4230 ",
                    "4210 ",
                    "4200 ",
                    "4200 ",
                    "5416 ",
                    "5416 ",
                    "5416 ",
                    "2012",
                    "3210 ",
                    "5416 ",
                    "1990 ",
                    "5106 ",
                    "5220 ",
                    "5220 ",
                    "4210 ",
                    "4200 ",
                    "4210 ",
                    "5050 ",
                    "4600",
                    "5050 ",
                    "2607 ",
                    "3650 ",
                    "4130",
                    "5545",
                    "5545",
                    "5545",
                    "5416",
                    "5545",
                    "5545",
                    "3870",
                    "6340",
                    "5357",
                    "3540",
                    "5160",
                    "5000",
                    "4130",
                    "3055",
                    "5546",
                    "5143",
                    "3870",
                    "6000",
                    "1730",
                    "4870",
                    "5000",
                    "5416",
                    "5416",
                    "5320",
                    "4460",
                    "4500",
                    "3210",
                    "5416",
                    "5416",
                    "5122",
                    "3870",
                    "5416",
                    "5545",
                    "1550",
                    "3870",
                    "5545",
                    "5545",
                    "5545",
                    "3860",
                    "5545",
                    "5357",
                    "5545",
                    "5416",
                    "4130",
                    "3210",
                    "4200",
                    "4500",
                    "4773",
                    "5220",
                    "4210 ",
                    "4210 ",
                    "4230 ",
                    "4210 ",
                    "4200 ",
                    "4200 ",
                    "5416 ",
                    "5416 ",
                    "5416 ",
                    "2012",
                    "3210 ",
                    "5416 ",
                    "1990 ",
                    "5106 ",
                    "5220 ",
                    "5220 ",
                    "4210 ",
                    "4200 ",
                    "4210 ",
                    "5050 ",
                    "4600",
                    "5050 ",
                    "2607 ",
                    "3650 ",
                    "4130",
                    "5545",
                    "5545",
                    "5545",
                    "5416",
                    "5545",
                    "5545",
                    "3870",
                    "6340",
                    "5357",
                    "3540",
                    "5160",
                    "5000",
                    "4130",
                    "3055",
                    "5546",
                    "5143",
                    "3870",
                    "6000",
                    "1730",
                    "4870",
                    "5000",
                    "5416",
                    "5416",
                    "5320",
                    "4460",
                    "4500",
                    "3210",
                    "5416",
                    "5416",
                    "5122",
                    "3870",
                    "5416",
                    "5545",
                    "1550",
                    "3870",
                    "5545",
                    "5545",
                    "5545",
                    "3860",
                    "5545",
                    "5357",
                    "5545",
                    "5416",
                    "4130",
                    "3210",
                    "4200",
                    "4500",
                    "4773",
                    "5220",
                    "4210 ",
                    "4210 ",
                    "4230 ",
                    "4210 ",
                    "4200 ",
                    "4200 ",
                    "5416 ",
                    "5416 ",
                    "5416 ",
                    "2012",
                    "3210 ",
                    "5416 ",
                    "1990 ",
                    "5106 ",
                    "5220 ",
                    "5220 ",
                    "4210 ",
                    "4200 ",
                    "4210 ",
                    "5050 ",
                    "4600",
                    "5050 ",
                    "2607 ",
                    "3650 ",
                    "4130",
                    "5545",
                    "5545",
                    "5545",
                    "5416",
                    "5545",
                    "5545",
                    "3870",
                    "6340",
                    "5357",
                    "3540",
                    "5160",
                    "5000",
                    "4130",
                    "3055",
                    "5546",
                    "5143",
                    "3870",
                    "6000",
                    "1730",
                    "4870",
                    "5000",
                    "5416",
                    "5416",
                    "5320",
                    "4460",
                    "4500",
                    "3210",
                    "5416",
                    "5416",
                    "5122",
                    "3870",
                    "5416",
                    "5545",
                    "1550",
                    "3870",
                    "5545",
                    "5545",
                    "5545",
                    "3860",
                    "5545",
                    "5357",
                    "5545",
                    "5416",
                    "4130",
                    "3210",
                    "4200",
                    "4500",
                    "4773",
                    "5220",
                    "4210 ",
                    "4210 ",
                    "4230 ",
                    "4210 ",
                    "4200 ",
                    "4200 ",
                    "5416 ",
                    "5416 ",
                    "5416 ",
                    "2012",
                    "3210 ",
                    "5416 ",
                    "1990 ",
                    "5106 ",
                    "5220 ",
                    "5220 ",
                    "4210 ",
                    "4200 ",
                    "4210 ",
                    "5050 ",
                    "4600",
                    "5050 ",
                    "2607 ",
                    "3650 ",
                    "4130",
                    "5545",
                    "5545",
                    "5545",
                    "5416",
                    "5545",
                    "5545",
                    "3870",
                    "6340",
                    "5357",
                    "3540",
                    "5160",
                    "5000",
                    "4130",
                    "3055",
                    "5546",
                    "5143",
                    "3870",
                    "6000",
                    "1730",
                    "4870",
                    "5000",
                    "5416",
                    "5416",
                    "5320",
                    "4460",
                    "4500",
                    "3210",
                    "5416",
                    "5416",
                    "5122",
                    "3870",
                    "5416",
                    "5545",
                    "1550",
                    "3870",
                    "5545",
                    "5545",
                    "5545",
                    "3860",
                    "5545",
                    "5357",
                    "5545",
                    "5416",
                    "4130",
                    "3210",
                    "4200",
                    "4500",
                    "4773",
                    "5220"
                  ],
                  "xaxis": "x",
                  "yaxis": "y"
                },
                {
                  "alignmentgroup": "True",
                  "hovertemplate": "Max Altitude=%{x}<extra></extra>",
                  "legendgroup": "",
                  "marker": {
                    "color": "#636efa"
                  },
                  "name": "",
                  "notched": true,
                  "offsetgroup": "",
                  "showlegend": false,
                  "type": "box",
                  "x": [
                    "5545 ",
                    "5545 ",
                    "5545 ",
                    "5545 ",
                    "5545 ",
                    "5545 ",
                    "5360 ",
                    "5545 ",
                    "3900 ",
                    "3860 ",
                    "3860 ",
                    "5545 ",
                    "5545 ",
                    "4210 ",
                    "4210 ",
                    "4230 ",
                    "4210 ",
                    "4200 ",
                    "4200 ",
                    "5416 ",
                    "5416 ",
                    "5416 ",
                    "2012",
                    "3210 ",
                    "5416 ",
                    "1990 ",
                    "5106 ",
                    "5220 ",
                    "5220 ",
                    "4210 ",
                    "4200 ",
                    "4210 ",
                    "5050 ",
                    "4600",
                    "5050 ",
                    "2607 ",
                    "3650 ",
                    "4130",
                    "5545",
                    "5545",
                    "5545",
                    "5416",
                    "5545",
                    "5545",
                    "3870",
                    "6340",
                    "5357",
                    "3540",
                    "5160",
                    "5000",
                    "4130",
                    "3055",
                    "5546",
                    "5143",
                    "3870",
                    "6000",
                    "1730",
                    "4870",
                    "5000",
                    "5416",
                    "5416",
                    "5320",
                    "4460",
                    "4500",
                    "3210",
                    "5416",
                    "5416",
                    "5122",
                    "3870",
                    "5416",
                    "5545",
                    "1550",
                    "3870",
                    "5545",
                    "5545",
                    "5545",
                    "3860",
                    "5545",
                    "5357",
                    "5545",
                    "5416",
                    "4130",
                    "3210",
                    "4200",
                    "4500",
                    "4773",
                    "5220",
                    "4210 ",
                    "4210 ",
                    "4230 ",
                    "4210 ",
                    "4200 ",
                    "4200 ",
                    "5416 ",
                    "5416 ",
                    "5416 ",
                    "2012",
                    "3210 ",
                    "5416 ",
                    "1990 ",
                    "5106 ",
                    "5220 ",
                    "5220 ",
                    "4210 ",
                    "4200 ",
                    "4210 ",
                    "5050 ",
                    "4600",
                    "5050 ",
                    "2607 ",
                    "3650 ",
                    "4130",
                    "5545",
                    "5545",
                    "5545",
                    "5416",
                    "5545",
                    "5545",
                    "3870",
                    "6340",
                    "5357",
                    "3540",
                    "5160",
                    "5000",
                    "4130",
                    "3055",
                    "5546",
                    "5143",
                    "3870",
                    "6000",
                    "1730",
                    "4870",
                    "5000",
                    "5416",
                    "5416",
                    "5320",
                    "4460",
                    "4500",
                    "3210",
                    "5416",
                    "5416",
                    "5122",
                    "3870",
                    "5416",
                    "5545",
                    "1550",
                    "3870",
                    "5545",
                    "5545",
                    "5545",
                    "3860",
                    "5545",
                    "5357",
                    "5545",
                    "5416",
                    "4130",
                    "3210",
                    "4200",
                    "4500",
                    "4773",
                    "5220",
                    "4210 ",
                    "4210 ",
                    "4230 ",
                    "4210 ",
                    "4200 ",
                    "4200 ",
                    "5416 ",
                    "5416 ",
                    "5416 ",
                    "2012",
                    "3210 ",
                    "5416 ",
                    "1990 ",
                    "5106 ",
                    "5220 ",
                    "5220 ",
                    "4210 ",
                    "4200 ",
                    "4210 ",
                    "5050 ",
                    "4600",
                    "5050 ",
                    "2607 ",
                    "3650 ",
                    "4130",
                    "5545",
                    "5545",
                    "5545",
                    "5416",
                    "5545",
                    "5545",
                    "3870",
                    "6340",
                    "5357",
                    "3540",
                    "5160",
                    "5000",
                    "4130",
                    "3055",
                    "5546",
                    "5143",
                    "3870",
                    "6000",
                    "1730",
                    "4870",
                    "5000",
                    "5416",
                    "5416",
                    "5320",
                    "4460",
                    "4500",
                    "3210",
                    "5416",
                    "5416",
                    "5122",
                    "3870",
                    "5416",
                    "5545",
                    "1550",
                    "3870",
                    "5545",
                    "5545",
                    "5545",
                    "3860",
                    "5545",
                    "5357",
                    "5545",
                    "5416",
                    "4130",
                    "3210",
                    "4200",
                    "4500",
                    "4773",
                    "5220",
                    "4210 ",
                    "4210 ",
                    "4230 ",
                    "4210 ",
                    "4200 ",
                    "4200 ",
                    "5416 ",
                    "5416 ",
                    "5416 ",
                    "2012",
                    "3210 ",
                    "5416 ",
                    "1990 ",
                    "5106 ",
                    "5220 ",
                    "5220 ",
                    "4210 ",
                    "4200 ",
                    "4210 ",
                    "5050 ",
                    "4600",
                    "5050 ",
                    "2607 ",
                    "3650 ",
                    "4130",
                    "5545",
                    "5545",
                    "5545",
                    "5416",
                    "5545",
                    "5545",
                    "3870",
                    "6340",
                    "5357",
                    "3540",
                    "5160",
                    "5000",
                    "4130",
                    "3055",
                    "5546",
                    "5143",
                    "3870",
                    "6000",
                    "1730",
                    "4870",
                    "5000",
                    "5416",
                    "5416",
                    "5320",
                    "4460",
                    "4500",
                    "3210",
                    "5416",
                    "5416",
                    "5122",
                    "3870",
                    "5416",
                    "5545",
                    "1550",
                    "3870",
                    "5545",
                    "5545",
                    "5545",
                    "3860",
                    "5545",
                    "5357",
                    "5545",
                    "5416",
                    "4130",
                    "3210",
                    "4200",
                    "4500",
                    "4773",
                    "5220",
                    "4210 ",
                    "4210 ",
                    "4230 ",
                    "4210 ",
                    "4200 ",
                    "4200 ",
                    "5416 ",
                    "5416 ",
                    "5416 ",
                    "2012",
                    "3210 ",
                    "5416 ",
                    "1990 ",
                    "5106 ",
                    "5220 ",
                    "5220 ",
                    "4210 ",
                    "4200 ",
                    "4210 ",
                    "5050 ",
                    "4600",
                    "5050 ",
                    "2607 ",
                    "3650 ",
                    "4130",
                    "5545",
                    "5545",
                    "5545",
                    "5416",
                    "5545",
                    "5545",
                    "3870",
                    "6340",
                    "5357",
                    "3540",
                    "5160",
                    "5000",
                    "4130",
                    "3055",
                    "5546",
                    "5143",
                    "3870",
                    "6000",
                    "1730",
                    "4870",
                    "5000",
                    "5416",
                    "5416",
                    "5320",
                    "4460",
                    "4500",
                    "3210",
                    "5416",
                    "5416",
                    "5122",
                    "3870",
                    "5416",
                    "5545",
                    "1550",
                    "3870",
                    "5545",
                    "5545",
                    "5545",
                    "3860",
                    "5545",
                    "5357",
                    "5545",
                    "5416",
                    "4130",
                    "3210",
                    "4200",
                    "4500",
                    "4773",
                    "5220"
                  ],
                  "xaxis": "x2",
                  "yaxis": "y2"
                }
              ],
              "layout": {
                "bargap": 0.1,
                "barmode": "relative",
                "legend": {
                  "tracegroupgap": 0
                },
                "template": {
                  "data": {
                    "bar": [
                      {
                        "error_x": {
                          "color": "#2a3f5f"
                        },
                        "error_y": {
                          "color": "#2a3f5f"
                        },
                        "marker": {
                          "line": {
                            "color": "#E5ECF6",
                            "width": 0.5
                          },
                          "pattern": {
                            "fillmode": "overlay",
                            "size": 10,
                            "solidity": 0.2
                          }
                        },
                        "type": "bar"
                      }
                    ],
                    "barpolar": [
                      {
                        "marker": {
                          "line": {
                            "color": "#E5ECF6",
                            "width": 0.5
                          },
                          "pattern": {
                            "fillmode": "overlay",
                            "size": 10,
                            "solidity": 0.2
                          }
                        },
                        "type": "barpolar"
                      }
                    ],
                    "carpet": [
                      {
                        "aaxis": {
                          "endlinecolor": "#2a3f5f",
                          "gridcolor": "white",
                          "linecolor": "white",
                          "minorgridcolor": "white",
                          "startlinecolor": "#2a3f5f"
                        },
                        "baxis": {
                          "endlinecolor": "#2a3f5f",
                          "gridcolor": "white",
                          "linecolor": "white",
                          "minorgridcolor": "white",
                          "startlinecolor": "#2a3f5f"
                        },
                        "type": "carpet"
                      }
                    ],
                    "choropleth": [
                      {
                        "colorbar": {
                          "outlinewidth": 0,
                          "ticks": ""
                        },
                        "type": "choropleth"
                      }
                    ],
                    "contour": [
                      {
                        "colorbar": {
                          "outlinewidth": 0,
                          "ticks": ""
                        },
                        "colorscale": [
                          [
                            0,
                            "#0d0887"
                          ],
                          [
                            0.1111111111111111,
                            "#46039f"
                          ],
                          [
                            0.2222222222222222,
                            "#7201a8"
                          ],
                          [
                            0.3333333333333333,
                            "#9c179e"
                          ],
                          [
                            0.4444444444444444,
                            "#bd3786"
                          ],
                          [
                            0.5555555555555556,
                            "#d8576b"
                          ],
                          [
                            0.6666666666666666,
                            "#ed7953"
                          ],
                          [
                            0.7777777777777778,
                            "#fb9f3a"
                          ],
                          [
                            0.8888888888888888,
                            "#fdca26"
                          ],
                          [
                            1,
                            "#f0f921"
                          ]
                        ],
                        "type": "contour"
                      }
                    ],
                    "contourcarpet": [
                      {
                        "colorbar": {
                          "outlinewidth": 0,
                          "ticks": ""
                        },
                        "type": "contourcarpet"
                      }
                    ],
                    "heatmap": [
                      {
                        "colorbar": {
                          "outlinewidth": 0,
                          "ticks": ""
                        },
                        "colorscale": [
                          [
                            0,
                            "#0d0887"
                          ],
                          [
                            0.1111111111111111,
                            "#46039f"
                          ],
                          [
                            0.2222222222222222,
                            "#7201a8"
                          ],
                          [
                            0.3333333333333333,
                            "#9c179e"
                          ],
                          [
                            0.4444444444444444,
                            "#bd3786"
                          ],
                          [
                            0.5555555555555556,
                            "#d8576b"
                          ],
                          [
                            0.6666666666666666,
                            "#ed7953"
                          ],
                          [
                            0.7777777777777778,
                            "#fb9f3a"
                          ],
                          [
                            0.8888888888888888,
                            "#fdca26"
                          ],
                          [
                            1,
                            "#f0f921"
                          ]
                        ],
                        "type": "heatmap"
                      }
                    ],
                    "heatmapgl": [
                      {
                        "colorbar": {
                          "outlinewidth": 0,
                          "ticks": ""
                        },
                        "colorscale": [
                          [
                            0,
                            "#0d0887"
                          ],
                          [
                            0.1111111111111111,
                            "#46039f"
                          ],
                          [
                            0.2222222222222222,
                            "#7201a8"
                          ],
                          [
                            0.3333333333333333,
                            "#9c179e"
                          ],
                          [
                            0.4444444444444444,
                            "#bd3786"
                          ],
                          [
                            0.5555555555555556,
                            "#d8576b"
                          ],
                          [
                            0.6666666666666666,
                            "#ed7953"
                          ],
                          [
                            0.7777777777777778,
                            "#fb9f3a"
                          ],
                          [
                            0.8888888888888888,
                            "#fdca26"
                          ],
                          [
                            1,
                            "#f0f921"
                          ]
                        ],
                        "type": "heatmapgl"
                      }
                    ],
                    "histogram": [
                      {
                        "marker": {
                          "pattern": {
                            "fillmode": "overlay",
                            "size": 10,
                            "solidity": 0.2
                          }
                        },
                        "type": "histogram"
                      }
                    ],
                    "histogram2d": [
                      {
                        "colorbar": {
                          "outlinewidth": 0,
                          "ticks": ""
                        },
                        "colorscale": [
                          [
                            0,
                            "#0d0887"
                          ],
                          [
                            0.1111111111111111,
                            "#46039f"
                          ],
                          [
                            0.2222222222222222,
                            "#7201a8"
                          ],
                          [
                            0.3333333333333333,
                            "#9c179e"
                          ],
                          [
                            0.4444444444444444,
                            "#bd3786"
                          ],
                          [
                            0.5555555555555556,
                            "#d8576b"
                          ],
                          [
                            0.6666666666666666,
                            "#ed7953"
                          ],
                          [
                            0.7777777777777778,
                            "#fb9f3a"
                          ],
                          [
                            0.8888888888888888,
                            "#fdca26"
                          ],
                          [
                            1,
                            "#f0f921"
                          ]
                        ],
                        "type": "histogram2d"
                      }
                    ],
                    "histogram2dcontour": [
                      {
                        "colorbar": {
                          "outlinewidth": 0,
                          "ticks": ""
                        },
                        "colorscale": [
                          [
                            0,
                            "#0d0887"
                          ],
                          [
                            0.1111111111111111,
                            "#46039f"
                          ],
                          [
                            0.2222222222222222,
                            "#7201a8"
                          ],
                          [
                            0.3333333333333333,
                            "#9c179e"
                          ],
                          [
                            0.4444444444444444,
                            "#bd3786"
                          ],
                          [
                            0.5555555555555556,
                            "#d8576b"
                          ],
                          [
                            0.6666666666666666,
                            "#ed7953"
                          ],
                          [
                            0.7777777777777778,
                            "#fb9f3a"
                          ],
                          [
                            0.8888888888888888,
                            "#fdca26"
                          ],
                          [
                            1,
                            "#f0f921"
                          ]
                        ],
                        "type": "histogram2dcontour"
                      }
                    ],
                    "mesh3d": [
                      {
                        "colorbar": {
                          "outlinewidth": 0,
                          "ticks": ""
                        },
                        "type": "mesh3d"
                      }
                    ],
                    "parcoords": [
                      {
                        "line": {
                          "colorbar": {
                            "outlinewidth": 0,
                            "ticks": ""
                          }
                        },
                        "type": "parcoords"
                      }
                    ],
                    "pie": [
                      {
                        "automargin": true,
                        "type": "pie"
                      }
                    ],
                    "scatter": [
                      {
                        "fillpattern": {
                          "fillmode": "overlay",
                          "size": 10,
                          "solidity": 0.2
                        },
                        "type": "scatter"
                      }
                    ],
                    "scatter3d": [
                      {
                        "line": {
                          "colorbar": {
                            "outlinewidth": 0,
                            "ticks": ""
                          }
                        },
                        "marker": {
                          "colorbar": {
                            "outlinewidth": 0,
                            "ticks": ""
                          }
                        },
                        "type": "scatter3d"
                      }
                    ],
                    "scattercarpet": [
                      {
                        "marker": {
                          "colorbar": {
                            "outlinewidth": 0,
                            "ticks": ""
                          }
                        },
                        "type": "scattercarpet"
                      }
                    ],
                    "scattergeo": [
                      {
                        "marker": {
                          "colorbar": {
                            "outlinewidth": 0,
                            "ticks": ""
                          }
                        },
                        "type": "scattergeo"
                      }
                    ],
                    "scattergl": [
                      {
                        "marker": {
                          "colorbar": {
                            "outlinewidth": 0,
                            "ticks": ""
                          }
                        },
                        "type": "scattergl"
                      }
                    ],
                    "scattermapbox": [
                      {
                        "marker": {
                          "colorbar": {
                            "outlinewidth": 0,
                            "ticks": ""
                          }
                        },
                        "type": "scattermapbox"
                      }
                    ],
                    "scatterpolar": [
                      {
                        "marker": {
                          "colorbar": {
                            "outlinewidth": 0,
                            "ticks": ""
                          }
                        },
                        "type": "scatterpolar"
                      }
                    ],
                    "scatterpolargl": [
                      {
                        "marker": {
                          "colorbar": {
                            "outlinewidth": 0,
                            "ticks": ""
                          }
                        },
                        "type": "scatterpolargl"
                      }
                    ],
                    "scatterternary": [
                      {
                        "marker": {
                          "colorbar": {
                            "outlinewidth": 0,
                            "ticks": ""
                          }
                        },
                        "type": "scatterternary"
                      }
                    ],
                    "surface": [
                      {
                        "colorbar": {
                          "outlinewidth": 0,
                          "ticks": ""
                        },
                        "colorscale": [
                          [
                            0,
                            "#0d0887"
                          ],
                          [
                            0.1111111111111111,
                            "#46039f"
                          ],
                          [
                            0.2222222222222222,
                            "#7201a8"
                          ],
                          [
                            0.3333333333333333,
                            "#9c179e"
                          ],
                          [
                            0.4444444444444444,
                            "#bd3786"
                          ],
                          [
                            0.5555555555555556,
                            "#d8576b"
                          ],
                          [
                            0.6666666666666666,
                            "#ed7953"
                          ],
                          [
                            0.7777777777777778,
                            "#fb9f3a"
                          ],
                          [
                            0.8888888888888888,
                            "#fdca26"
                          ],
                          [
                            1,
                            "#f0f921"
                          ]
                        ],
                        "type": "surface"
                      }
                    ],
                    "table": [
                      {
                        "cells": {
                          "fill": {
                            "color": "#EBF0F8"
                          },
                          "line": {
                            "color": "white"
                          }
                        },
                        "header": {
                          "fill": {
                            "color": "#C8D4E3"
                          },
                          "line": {
                            "color": "white"
                          }
                        },
                        "type": "table"
                      }
                    ]
                  },
                  "layout": {
                    "annotationdefaults": {
                      "arrowcolor": "#2a3f5f",
                      "arrowhead": 0,
                      "arrowwidth": 1
                    },
                    "autotypenumbers": "strict",
                    "coloraxis": {
                      "colorbar": {
                        "outlinewidth": 0,
                        "ticks": ""
                      }
                    },
                    "colorscale": {
                      "diverging": [
                        [
                          0,
                          "#8e0152"
                        ],
                        [
                          0.1,
                          "#c51b7d"
                        ],
                        [
                          0.2,
                          "#de77ae"
                        ],
                        [
                          0.3,
                          "#f1b6da"
                        ],
                        [
                          0.4,
                          "#fde0ef"
                        ],
                        [
                          0.5,
                          "#f7f7f7"
                        ],
                        [
                          0.6,
                          "#e6f5d0"
                        ],
                        [
                          0.7,
                          "#b8e186"
                        ],
                        [
                          0.8,
                          "#7fbc41"
                        ],
                        [
                          0.9,
                          "#4d9221"
                        ],
                        [
                          1,
                          "#276419"
                        ]
                      ],
                      "sequential": [
                        [
                          0,
                          "#0d0887"
                        ],
                        [
                          0.1111111111111111,
                          "#46039f"
                        ],
                        [
                          0.2222222222222222,
                          "#7201a8"
                        ],
                        [
                          0.3333333333333333,
                          "#9c179e"
                        ],
                        [
                          0.4444444444444444,
                          "#bd3786"
                        ],
                        [
                          0.5555555555555556,
                          "#d8576b"
                        ],
                        [
                          0.6666666666666666,
                          "#ed7953"
                        ],
                        [
                          0.7777777777777778,
                          "#fb9f3a"
                        ],
                        [
                          0.8888888888888888,
                          "#fdca26"
                        ],
                        [
                          1,
                          "#f0f921"
                        ]
                      ],
                      "sequentialminus": [
                        [
                          0,
                          "#0d0887"
                        ],
                        [
                          0.1111111111111111,
                          "#46039f"
                        ],
                        [
                          0.2222222222222222,
                          "#7201a8"
                        ],
                        [
                          0.3333333333333333,
                          "#9c179e"
                        ],
                        [
                          0.4444444444444444,
                          "#bd3786"
                        ],
                        [
                          0.5555555555555556,
                          "#d8576b"
                        ],
                        [
                          0.6666666666666666,
                          "#ed7953"
                        ],
                        [
                          0.7777777777777778,
                          "#fb9f3a"
                        ],
                        [
                          0.8888888888888888,
                          "#fdca26"
                        ],
                        [
                          1,
                          "#f0f921"
                        ]
                      ]
                    },
                    "colorway": [
                      "#636efa",
                      "#EF553B",
                      "#00cc96",
                      "#ab63fa",
                      "#FFA15A",
                      "#19d3f3",
                      "#FF6692",
                      "#B6E880",
                      "#FF97FF",
                      "#FECB52"
                    ],
                    "font": {
                      "color": "#2a3f5f"
                    },
                    "geo": {
                      "bgcolor": "white",
                      "lakecolor": "white",
                      "landcolor": "#E5ECF6",
                      "showlakes": true,
                      "showland": true,
                      "subunitcolor": "white"
                    },
                    "hoverlabel": {
                      "align": "left"
                    },
                    "hovermode": "closest",
                    "mapbox": {
                      "style": "light"
                    },
                    "paper_bgcolor": "white",
                    "plot_bgcolor": "#E5ECF6",
                    "polar": {
                      "angularaxis": {
                        "gridcolor": "white",
                        "linecolor": "white",
                        "ticks": ""
                      },
                      "bgcolor": "#E5ECF6",
                      "radialaxis": {
                        "gridcolor": "white",
                        "linecolor": "white",
                        "ticks": ""
                      }
                    },
                    "scene": {
                      "xaxis": {
                        "backgroundcolor": "#E5ECF6",
                        "gridcolor": "white",
                        "gridwidth": 2,
                        "linecolor": "white",
                        "showbackground": true,
                        "ticks": "",
                        "zerolinecolor": "white"
                      },
                      "yaxis": {
                        "backgroundcolor": "#E5ECF6",
                        "gridcolor": "white",
                        "gridwidth": 2,
                        "linecolor": "white",
                        "showbackground": true,
                        "ticks": "",
                        "zerolinecolor": "white"
                      },
                      "zaxis": {
                        "backgroundcolor": "#E5ECF6",
                        "gridcolor": "white",
                        "gridwidth": 2,
                        "linecolor": "white",
                        "showbackground": true,
                        "ticks": "",
                        "zerolinecolor": "white"
                      }
                    },
                    "shapedefaults": {
                      "line": {
                        "color": "#2a3f5f"
                      }
                    },
                    "ternary": {
                      "aaxis": {
                        "gridcolor": "white",
                        "linecolor": "white",
                        "ticks": ""
                      },
                      "baxis": {
                        "gridcolor": "white",
                        "linecolor": "white",
                        "ticks": ""
                      },
                      "bgcolor": "#E5ECF6",
                      "caxis": {
                        "gridcolor": "white",
                        "linecolor": "white",
                        "ticks": ""
                      }
                    },
                    "title": {
                      "x": 0.05
                    },
                    "xaxis": {
                      "automargin": true,
                      "gridcolor": "white",
                      "linecolor": "white",
                      "ticks": "",
                      "title": {
                        "standoff": 15
                      },
                      "zerolinecolor": "white",
                      "zerolinewidth": 2
                    },
                    "yaxis": {
                      "automargin": true,
                      "gridcolor": "white",
                      "linecolor": "white",
                      "ticks": "",
                      "title": {
                        "standoff": 15
                      },
                      "zerolinecolor": "white",
                      "zerolinewidth": 2
                    }
                  }
                },
                "title": {
                  "text": "Distribution of Max Altitude"
                },
                "xaxis": {
                  "anchor": "y",
                  "domain": [
                    0,
                    1
                  ],
                  "title": {
                    "text": "Max Altitude"
                  }
                },
                "xaxis2": {
                  "anchor": "y2",
                  "domain": [
                    0,
                    1
                  ],
                  "matches": "x",
                  "showgrid": true,
                  "showticklabels": false
                },
                "yaxis": {
                  "anchor": "x",
                  "domain": [
                    0,
                    0.8316
                  ],
                  "title": {
                    "text": "count"
                  }
                },
                "yaxis2": {
                  "anchor": "x2",
                  "domain": [
                    0.8416,
                    1
                  ],
                  "matches": "y2",
                  "showgrid": false,
                  "showline": false,
                  "showticklabels": false,
                  "ticks": ""
                }
              }
            }
          },
          "metadata": {},
          "output_type": "display_data"
        }
      ],
      "source": [
        "fig = px.histogram(df,\n",
        "                  x='Max Altitude',\n",
        "                  marginal='box',\n",
        "                  title=\"Distribution of Max Altitude\")\n",
        "fig.update_layout(bargap=0.1)\n",
        "fig.show()"
      ]
    },
    {
      "cell_type": "code",
      "execution_count": 37,
      "metadata": {
        "colab": {
          "base_uri": "https://localhost:8080/",
          "height": 542
        },
        "id": "CJfmotY0Ji-Q",
        "outputId": "3c20f0a7-6717-495e-cda3-83948130af8f"
      },
      "outputs": [
        {
          "data": {
            "application/vnd.plotly.v1+json": {
              "config": {
                "plotlyServerURL": "https://plot.ly"
              },
              "data": [
                {
                  "customdata": [
                    [
                      3
                    ],
                    [
                      3
                    ],
                    [
                      3
                    ],
                    [
                      3
                    ],
                    [
                      3
                    ],
                    [
                      5
                    ],
                    [
                      3
                    ],
                    [
                      5
                    ],
                    [
                      1
                    ],
                    [
                      1
                    ],
                    [
                      1
                    ],
                    [
                      3
                    ],
                    [
                      5
                    ],
                    [
                      3
                    ],
                    [
                      1
                    ],
                    [
                      3
                    ],
                    [
                      1
                    ],
                    [
                      1
                    ],
                    [
                      1
                    ],
                    [
                      3
                    ],
                    [
                      3
                    ],
                    [
                      5
                    ],
                    [
                      1
                    ],
                    [
                      0
                    ],
                    [
                      5
                    ],
                    [
                      0
                    ],
                    [
                      5
                    ],
                    [
                      3
                    ],
                    [
                      5
                    ],
                    [
                      1
                    ],
                    [
                      1
                    ],
                    [
                      1
                    ],
                    [
                      1
                    ],
                    [
                      1
                    ],
                    [
                      1
                    ],
                    [
                      0
                    ],
                    [
                      0
                    ],
                    [
                      4
                    ],
                    [
                      4
                    ],
                    [
                      4
                    ],
                    [
                      4
                    ],
                    [
                      4
                    ],
                    [
                      4
                    ],
                    [
                      4
                    ],
                    [
                      4
                    ],
                    [
                      4
                    ],
                    [
                      4
                    ],
                    [
                      3
                    ],
                    [
                      4
                    ],
                    [
                      4
                    ],
                    [
                      4
                    ],
                    [
                      3
                    ],
                    [
                      4
                    ],
                    [
                      4
                    ],
                    [
                      2
                    ],
                    [
                      4
                    ],
                    [
                      3
                    ],
                    [
                      5
                    ],
                    [
                      3
                    ],
                    [
                      4
                    ],
                    [
                      4
                    ],
                    [
                      5
                    ],
                    [
                      4
                    ],
                    [
                      4
                    ],
                    [
                      1
                    ],
                    [
                      4
                    ],
                    [
                      4
                    ],
                    [
                      5
                    ],
                    [
                      3
                    ],
                    [
                      4
                    ],
                    [
                      3
                    ],
                    [
                      3
                    ],
                    [
                      3
                    ],
                    [
                      5
                    ],
                    [
                      4
                    ],
                    [
                      4
                    ],
                    [
                      2
                    ],
                    [
                      4
                    ],
                    [
                      3
                    ],
                    [
                      3
                    ],
                    [
                      4
                    ],
                    [
                      3
                    ],
                    [
                      0
                    ],
                    [
                      4
                    ],
                    [
                      2
                    ],
                    [
                      3
                    ],
                    [
                      4
                    ],
                    [
                      3
                    ],
                    [
                      1
                    ],
                    [
                      3
                    ],
                    [
                      1
                    ],
                    [
                      1
                    ],
                    [
                      1
                    ],
                    [
                      3
                    ],
                    [
                      3
                    ],
                    [
                      5
                    ],
                    [
                      1
                    ],
                    [
                      0
                    ],
                    [
                      5
                    ],
                    [
                      0
                    ],
                    [
                      5
                    ],
                    [
                      3
                    ],
                    [
                      5
                    ],
                    [
                      1
                    ],
                    [
                      1
                    ],
                    [
                      1
                    ],
                    [
                      1
                    ],
                    [
                      1
                    ],
                    [
                      1
                    ],
                    [
                      0
                    ],
                    [
                      0
                    ],
                    [
                      4
                    ],
                    [
                      4
                    ],
                    [
                      4
                    ],
                    [
                      4
                    ],
                    [
                      4
                    ],
                    [
                      4
                    ],
                    [
                      4
                    ],
                    [
                      4
                    ],
                    [
                      4
                    ],
                    [
                      4
                    ],
                    [
                      3
                    ],
                    [
                      4
                    ],
                    [
                      4
                    ],
                    [
                      4
                    ],
                    [
                      3
                    ],
                    [
                      4
                    ],
                    [
                      4
                    ],
                    [
                      2
                    ],
                    [
                      4
                    ],
                    [
                      3
                    ],
                    [
                      5
                    ],
                    [
                      3
                    ],
                    [
                      4
                    ],
                    [
                      4
                    ],
                    [
                      5
                    ],
                    [
                      4
                    ],
                    [
                      4
                    ],
                    [
                      1
                    ],
                    [
                      4
                    ],
                    [
                      4
                    ],
                    [
                      5
                    ],
                    [
                      3
                    ],
                    [
                      4
                    ],
                    [
                      3
                    ],
                    [
                      3
                    ],
                    [
                      3
                    ],
                    [
                      5
                    ],
                    [
                      4
                    ],
                    [
                      4
                    ],
                    [
                      2
                    ],
                    [
                      4
                    ],
                    [
                      3
                    ],
                    [
                      3
                    ],
                    [
                      4
                    ],
                    [
                      3
                    ],
                    [
                      0
                    ],
                    [
                      4
                    ],
                    [
                      2
                    ],
                    [
                      3
                    ],
                    [
                      4
                    ],
                    [
                      3
                    ],
                    [
                      1
                    ],
                    [
                      3
                    ],
                    [
                      1
                    ],
                    [
                      1
                    ],
                    [
                      1
                    ],
                    [
                      3
                    ],
                    [
                      3
                    ],
                    [
                      5
                    ],
                    [
                      1
                    ],
                    [
                      0
                    ],
                    [
                      5
                    ],
                    [
                      0
                    ],
                    [
                      5
                    ],
                    [
                      3
                    ],
                    [
                      5
                    ],
                    [
                      1
                    ],
                    [
                      1
                    ],
                    [
                      1
                    ],
                    [
                      1
                    ],
                    [
                      1
                    ],
                    [
                      1
                    ],
                    [
                      0
                    ],
                    [
                      0
                    ],
                    [
                      4
                    ],
                    [
                      4
                    ],
                    [
                      4
                    ],
                    [
                      4
                    ],
                    [
                      4
                    ],
                    [
                      4
                    ],
                    [
                      4
                    ],
                    [
                      4
                    ],
                    [
                      4
                    ],
                    [
                      4
                    ],
                    [
                      3
                    ],
                    [
                      4
                    ],
                    [
                      4
                    ],
                    [
                      4
                    ],
                    [
                      3
                    ],
                    [
                      4
                    ],
                    [
                      4
                    ],
                    [
                      2
                    ],
                    [
                      4
                    ],
                    [
                      3
                    ],
                    [
                      5
                    ],
                    [
                      3
                    ],
                    [
                      4
                    ],
                    [
                      4
                    ],
                    [
                      5
                    ],
                    [
                      4
                    ],
                    [
                      4
                    ],
                    [
                      1
                    ],
                    [
                      4
                    ],
                    [
                      4
                    ],
                    [
                      5
                    ],
                    [
                      3
                    ],
                    [
                      4
                    ],
                    [
                      3
                    ],
                    [
                      3
                    ],
                    [
                      3
                    ],
                    [
                      5
                    ],
                    [
                      4
                    ],
                    [
                      4
                    ],
                    [
                      2
                    ],
                    [
                      4
                    ],
                    [
                      3
                    ],
                    [
                      3
                    ],
                    [
                      4
                    ],
                    [
                      3
                    ],
                    [
                      0
                    ],
                    [
                      4
                    ],
                    [
                      2
                    ],
                    [
                      3
                    ],
                    [
                      4
                    ],
                    [
                      3
                    ],
                    [
                      1
                    ],
                    [
                      3
                    ],
                    [
                      1
                    ],
                    [
                      1
                    ],
                    [
                      1
                    ],
                    [
                      3
                    ],
                    [
                      3
                    ],
                    [
                      5
                    ],
                    [
                      1
                    ],
                    [
                      0
                    ],
                    [
                      5
                    ],
                    [
                      0
                    ],
                    [
                      5
                    ],
                    [
                      3
                    ],
                    [
                      5
                    ],
                    [
                      1
                    ],
                    [
                      1
                    ],
                    [
                      1
                    ],
                    [
                      1
                    ],
                    [
                      1
                    ],
                    [
                      1
                    ],
                    [
                      0
                    ],
                    [
                      0
                    ],
                    [
                      4
                    ],
                    [
                      4
                    ],
                    [
                      4
                    ],
                    [
                      4
                    ],
                    [
                      4
                    ],
                    [
                      4
                    ],
                    [
                      4
                    ],
                    [
                      4
                    ],
                    [
                      4
                    ],
                    [
                      4
                    ],
                    [
                      3
                    ],
                    [
                      4
                    ],
                    [
                      4
                    ],
                    [
                      4
                    ],
                    [
                      3
                    ],
                    [
                      4
                    ],
                    [
                      4
                    ],
                    [
                      2
                    ],
                    [
                      4
                    ],
                    [
                      3
                    ],
                    [
                      5
                    ],
                    [
                      3
                    ],
                    [
                      4
                    ],
                    [
                      4
                    ],
                    [
                      5
                    ],
                    [
                      4
                    ],
                    [
                      4
                    ],
                    [
                      1
                    ],
                    [
                      4
                    ],
                    [
                      4
                    ],
                    [
                      5
                    ],
                    [
                      3
                    ],
                    [
                      4
                    ],
                    [
                      3
                    ],
                    [
                      3
                    ],
                    [
                      3
                    ],
                    [
                      5
                    ],
                    [
                      4
                    ],
                    [
                      4
                    ],
                    [
                      2
                    ],
                    [
                      4
                    ],
                    [
                      3
                    ],
                    [
                      3
                    ],
                    [
                      4
                    ],
                    [
                      3
                    ],
                    [
                      0
                    ],
                    [
                      4
                    ],
                    [
                      2
                    ],
                    [
                      3
                    ],
                    [
                      4
                    ],
                    [
                      3
                    ],
                    [
                      1
                    ],
                    [
                      3
                    ],
                    [
                      1
                    ],
                    [
                      1
                    ],
                    [
                      1
                    ],
                    [
                      3
                    ],
                    [
                      3
                    ],
                    [
                      5
                    ],
                    [
                      1
                    ],
                    [
                      0
                    ],
                    [
                      5
                    ],
                    [
                      0
                    ],
                    [
                      5
                    ],
                    [
                      3
                    ],
                    [
                      5
                    ],
                    [
                      1
                    ],
                    [
                      1
                    ],
                    [
                      1
                    ],
                    [
                      1
                    ],
                    [
                      1
                    ],
                    [
                      1
                    ],
                    [
                      0
                    ],
                    [
                      0
                    ],
                    [
                      4
                    ],
                    [
                      4
                    ],
                    [
                      4
                    ],
                    [
                      4
                    ],
                    [
                      4
                    ],
                    [
                      4
                    ],
                    [
                      4
                    ],
                    [
                      4
                    ],
                    [
                      4
                    ],
                    [
                      4
                    ],
                    [
                      3
                    ],
                    [
                      4
                    ],
                    [
                      4
                    ],
                    [
                      4
                    ],
                    [
                      3
                    ],
                    [
                      4
                    ],
                    [
                      4
                    ],
                    [
                      2
                    ],
                    [
                      4
                    ],
                    [
                      3
                    ],
                    [
                      5
                    ],
                    [
                      3
                    ],
                    [
                      4
                    ],
                    [
                      4
                    ],
                    [
                      5
                    ],
                    [
                      4
                    ],
                    [
                      4
                    ],
                    [
                      1
                    ],
                    [
                      4
                    ],
                    [
                      4
                    ],
                    [
                      5
                    ],
                    [
                      3
                    ],
                    [
                      4
                    ],
                    [
                      3
                    ],
                    [
                      3
                    ],
                    [
                      3
                    ],
                    [
                      5
                    ],
                    [
                      4
                    ],
                    [
                      4
                    ],
                    [
                      2
                    ],
                    [
                      4
                    ],
                    [
                      3
                    ],
                    [
                      3
                    ],
                    [
                      4
                    ],
                    [
                      3
                    ],
                    [
                      0
                    ],
                    [
                      4
                    ],
                    [
                      2
                    ],
                    [
                      3
                    ],
                    [
                      4
                    ]
                  ],
                  "hovertemplate": "Cost=%{x}<br>Max Altitude=%{y}<br>Trip Grade=%{marker.color}<extra></extra>",
                  "legendgroup": "",
                  "marker": {
                    "color": [
                      3,
                      3,
                      3,
                      3,
                      3,
                      5,
                      3,
                      5,
                      1,
                      1,
                      1,
                      3,
                      5,
                      3,
                      1,
                      3,
                      1,
                      1,
                      1,
                      3,
                      3,
                      5,
                      1,
                      0,
                      5,
                      0,
                      5,
                      3,
                      5,
                      1,
                      1,
                      1,
                      1,
                      1,
                      1,
                      0,
                      0,
                      4,
                      4,
                      4,
                      4,
                      4,
                      4,
                      4,
                      4,
                      4,
                      4,
                      3,
                      4,
                      4,
                      4,
                      3,
                      4,
                      4,
                      2,
                      4,
                      3,
                      5,
                      3,
                      4,
                      4,
                      5,
                      4,
                      4,
                      1,
                      4,
                      4,
                      5,
                      3,
                      4,
                      3,
                      3,
                      3,
                      5,
                      4,
                      4,
                      2,
                      4,
                      3,
                      3,
                      4,
                      3,
                      0,
                      4,
                      2,
                      3,
                      4,
                      3,
                      1,
                      3,
                      1,
                      1,
                      1,
                      3,
                      3,
                      5,
                      1,
                      0,
                      5,
                      0,
                      5,
                      3,
                      5,
                      1,
                      1,
                      1,
                      1,
                      1,
                      1,
                      0,
                      0,
                      4,
                      4,
                      4,
                      4,
                      4,
                      4,
                      4,
                      4,
                      4,
                      4,
                      3,
                      4,
                      4,
                      4,
                      3,
                      4,
                      4,
                      2,
                      4,
                      3,
                      5,
                      3,
                      4,
                      4,
                      5,
                      4,
                      4,
                      1,
                      4,
                      4,
                      5,
                      3,
                      4,
                      3,
                      3,
                      3,
                      5,
                      4,
                      4,
                      2,
                      4,
                      3,
                      3,
                      4,
                      3,
                      0,
                      4,
                      2,
                      3,
                      4,
                      3,
                      1,
                      3,
                      1,
                      1,
                      1,
                      3,
                      3,
                      5,
                      1,
                      0,
                      5,
                      0,
                      5,
                      3,
                      5,
                      1,
                      1,
                      1,
                      1,
                      1,
                      1,
                      0,
                      0,
                      4,
                      4,
                      4,
                      4,
                      4,
                      4,
                      4,
                      4,
                      4,
                      4,
                      3,
                      4,
                      4,
                      4,
                      3,
                      4,
                      4,
                      2,
                      4,
                      3,
                      5,
                      3,
                      4,
                      4,
                      5,
                      4,
                      4,
                      1,
                      4,
                      4,
                      5,
                      3,
                      4,
                      3,
                      3,
                      3,
                      5,
                      4,
                      4,
                      2,
                      4,
                      3,
                      3,
                      4,
                      3,
                      0,
                      4,
                      2,
                      3,
                      4,
                      3,
                      1,
                      3,
                      1,
                      1,
                      1,
                      3,
                      3,
                      5,
                      1,
                      0,
                      5,
                      0,
                      5,
                      3,
                      5,
                      1,
                      1,
                      1,
                      1,
                      1,
                      1,
                      0,
                      0,
                      4,
                      4,
                      4,
                      4,
                      4,
                      4,
                      4,
                      4,
                      4,
                      4,
                      3,
                      4,
                      4,
                      4,
                      3,
                      4,
                      4,
                      2,
                      4,
                      3,
                      5,
                      3,
                      4,
                      4,
                      5,
                      4,
                      4,
                      1,
                      4,
                      4,
                      5,
                      3,
                      4,
                      3,
                      3,
                      3,
                      5,
                      4,
                      4,
                      2,
                      4,
                      3,
                      3,
                      4,
                      3,
                      0,
                      4,
                      2,
                      3,
                      4,
                      3,
                      1,
                      3,
                      1,
                      1,
                      1,
                      3,
                      3,
                      5,
                      1,
                      0,
                      5,
                      0,
                      5,
                      3,
                      5,
                      1,
                      1,
                      1,
                      1,
                      1,
                      1,
                      0,
                      0,
                      4,
                      4,
                      4,
                      4,
                      4,
                      4,
                      4,
                      4,
                      4,
                      4,
                      3,
                      4,
                      4,
                      4,
                      3,
                      4,
                      4,
                      2,
                      4,
                      3,
                      5,
                      3,
                      4,
                      4,
                      5,
                      4,
                      4,
                      1,
                      4,
                      4,
                      5,
                      3,
                      4,
                      3,
                      3,
                      3,
                      5,
                      4,
                      4,
                      2,
                      4,
                      3,
                      3,
                      4,
                      3,
                      0,
                      4,
                      2,
                      3,
                      4
                    ],
                    "coloraxis": "coloraxis",
                    "opacity": 0.8,
                    "size": 5,
                    "symbol": "circle"
                  },
                  "mode": "markers",
                  "name": "",
                  "orientation": "h",
                  "showlegend": false,
                  "type": "scatter",
                  "x": [
                    1420,
                    1295,
                    2000,
                    3300,
                    1800,
                    1720,
                    1450,
                    1950,
                    1060,
                    1150,
                    1100,
                    4200,
                    1900,
                    1090,
                    1090,
                    980,
                    1750,
                    850,
                    850,
                    1350,
                    1250,
                    1250,
                    1450,
                    860,
                    1450,
                    590,
                    1450,
                    1380,
                    1850,
                    2150,
                    2300,
                    2150,
                    750,
                    1180,
                    920,
                    750,
                    780,
                    1499,
                    1750,
                    1499,
                    1499,
                    1499,
                    1499,
                    1499,
                    1499,
                    1499,
                    1499,
                    1499,
                    1499,
                    1499,
                    1499,
                    1499,
                    1499,
                    1499,
                    1499,
                    1499,
                    1499,
                    1499,
                    1499,
                    1499,
                    1499,
                    1499,
                    1499,
                    1499,
                    1499,
                    1499,
                    1499,
                    1499,
                    1499,
                    1499,
                    1499,
                    1499,
                    1499,
                    1499,
                    1450,
                    1390,
                    1040,
                    1530,
                    1190,
                    3600,
                    1100,
                    1090,
                    450,
                    2100,
                    590,
                    690,
                    1190,
                    1090,
                    1090,
                    980,
                    1750,
                    850,
                    850,
                    1350,
                    1250,
                    1250,
                    1450,
                    860,
                    1450,
                    590,
                    1450,
                    1380,
                    1850,
                    2150,
                    2300,
                    2150,
                    750,
                    1180,
                    920,
                    750,
                    780,
                    1499,
                    1750,
                    1499,
                    1499,
                    1499,
                    1499,
                    1499,
                    1499,
                    1499,
                    1499,
                    1499,
                    1499,
                    1499,
                    1499,
                    1499,
                    1499,
                    1499,
                    1499,
                    1499,
                    1499,
                    1499,
                    1499,
                    1499,
                    1499,
                    1499,
                    1499,
                    1499,
                    1499,
                    1499,
                    1499,
                    1499,
                    1499,
                    1499,
                    1499,
                    1499,
                    1499,
                    1499,
                    1450,
                    1390,
                    1040,
                    1530,
                    1190,
                    3600,
                    1100,
                    1090,
                    450,
                    2100,
                    590,
                    690,
                    1190,
                    1090,
                    1090,
                    980,
                    1750,
                    850,
                    850,
                    1350,
                    1250,
                    1250,
                    1450,
                    860,
                    1450,
                    590,
                    1450,
                    1380,
                    1850,
                    2150,
                    2300,
                    2150,
                    750,
                    1180,
                    920,
                    750,
                    780,
                    1499,
                    1750,
                    1499,
                    1499,
                    1499,
                    1499,
                    1499,
                    1499,
                    1499,
                    1499,
                    1499,
                    1499,
                    1499,
                    1499,
                    1499,
                    1499,
                    1499,
                    1499,
                    1499,
                    1499,
                    1499,
                    1499,
                    1499,
                    1499,
                    1499,
                    1499,
                    1499,
                    1499,
                    1499,
                    1499,
                    1499,
                    1499,
                    1499,
                    1499,
                    1499,
                    1499,
                    1499,
                    1450,
                    1390,
                    1040,
                    1530,
                    1190,
                    3600,
                    1100,
                    1090,
                    450,
                    2100,
                    590,
                    690,
                    1190,
                    1090,
                    1090,
                    980,
                    1750,
                    850,
                    850,
                    1350,
                    1250,
                    1250,
                    1450,
                    860,
                    1450,
                    590,
                    1450,
                    1380,
                    1850,
                    2150,
                    2300,
                    2150,
                    750,
                    1180,
                    920,
                    750,
                    780,
                    1499,
                    1750,
                    1499,
                    1499,
                    1499,
                    1499,
                    1499,
                    1499,
                    1499,
                    1499,
                    1499,
                    1499,
                    1499,
                    1499,
                    1499,
                    1499,
                    1499,
                    1499,
                    1499,
                    1499,
                    1499,
                    1499,
                    1499,
                    1499,
                    1499,
                    1499,
                    1499,
                    1499,
                    1499,
                    1499,
                    1499,
                    1499,
                    1499,
                    1499,
                    1499,
                    1499,
                    1499,
                    1450,
                    1390,
                    1040,
                    1530,
                    1190,
                    3600,
                    1100,
                    1090,
                    450,
                    2100,
                    590,
                    690,
                    1190,
                    1090,
                    1090,
                    980,
                    1750,
                    850,
                    850,
                    1350,
                    1250,
                    1250,
                    1450,
                    860,
                    1450,
                    590,
                    1450,
                    1380,
                    1850,
                    2150,
                    2300,
                    2150,
                    750,
                    1180,
                    920,
                    750,
                    780,
                    1499,
                    1750,
                    1499,
                    1499,
                    1499,
                    1499,
                    1499,
                    1499,
                    1499,
                    1499,
                    1499,
                    1499,
                    1499,
                    1499,
                    1499,
                    1499,
                    1499,
                    1499,
                    1499,
                    1499,
                    1499,
                    1499,
                    1499,
                    1499,
                    1499,
                    1499,
                    1499,
                    1499,
                    1499,
                    1499,
                    1499,
                    1499,
                    1499,
                    1499,
                    1499,
                    1499,
                    1499,
                    1450,
                    1390,
                    1040,
                    1530,
                    1190,
                    3600,
                    1100,
                    1090,
                    450,
                    2100,
                    590,
                    690,
                    1190
                  ],
                  "xaxis": "x",
                  "y": [
                    "5545 ",
                    "5545 ",
                    "5545 ",
                    "5545 ",
                    "5545 ",
                    "5545 ",
                    "5360 ",
                    "5545 ",
                    "3900 ",
                    "3860 ",
                    "3860 ",
                    "5545 ",
                    "5545 ",
                    "4210 ",
                    "4210 ",
                    "4230 ",
                    "4210 ",
                    "4200 ",
                    "4200 ",
                    "5416 ",
                    "5416 ",
                    "5416 ",
                    "2012",
                    "3210 ",
                    "5416 ",
                    "1990 ",
                    "5106 ",
                    "5220 ",
                    "5220 ",
                    "4210 ",
                    "4200 ",
                    "4210 ",
                    "5050 ",
                    "4600",
                    "5050 ",
                    "2607 ",
                    "3650 ",
                    "4130",
                    "5545",
                    "5545",
                    "5545",
                    "5416",
                    "5545",
                    "5545",
                    "3870",
                    "6340",
                    "5357",
                    "3540",
                    "5160",
                    "5000",
                    "4130",
                    "3055",
                    "5546",
                    "5143",
                    "3870",
                    "6000",
                    "1730",
                    "4870",
                    "5000",
                    "5416",
                    "5416",
                    "5320",
                    "4460",
                    "4500",
                    "3210",
                    "5416",
                    "5416",
                    "5122",
                    "3870",
                    "5416",
                    "5545",
                    "1550",
                    "3870",
                    "5545",
                    "5545",
                    "5545",
                    "3860",
                    "5545",
                    "5357",
                    "5545",
                    "5416",
                    "4130",
                    "3210",
                    "4200",
                    "4500",
                    "4773",
                    "5220",
                    "4210 ",
                    "4210 ",
                    "4230 ",
                    "4210 ",
                    "4200 ",
                    "4200 ",
                    "5416 ",
                    "5416 ",
                    "5416 ",
                    "2012",
                    "3210 ",
                    "5416 ",
                    "1990 ",
                    "5106 ",
                    "5220 ",
                    "5220 ",
                    "4210 ",
                    "4200 ",
                    "4210 ",
                    "5050 ",
                    "4600",
                    "5050 ",
                    "2607 ",
                    "3650 ",
                    "4130",
                    "5545",
                    "5545",
                    "5545",
                    "5416",
                    "5545",
                    "5545",
                    "3870",
                    "6340",
                    "5357",
                    "3540",
                    "5160",
                    "5000",
                    "4130",
                    "3055",
                    "5546",
                    "5143",
                    "3870",
                    "6000",
                    "1730",
                    "4870",
                    "5000",
                    "5416",
                    "5416",
                    "5320",
                    "4460",
                    "4500",
                    "3210",
                    "5416",
                    "5416",
                    "5122",
                    "3870",
                    "5416",
                    "5545",
                    "1550",
                    "3870",
                    "5545",
                    "5545",
                    "5545",
                    "3860",
                    "5545",
                    "5357",
                    "5545",
                    "5416",
                    "4130",
                    "3210",
                    "4200",
                    "4500",
                    "4773",
                    "5220",
                    "4210 ",
                    "4210 ",
                    "4230 ",
                    "4210 ",
                    "4200 ",
                    "4200 ",
                    "5416 ",
                    "5416 ",
                    "5416 ",
                    "2012",
                    "3210 ",
                    "5416 ",
                    "1990 ",
                    "5106 ",
                    "5220 ",
                    "5220 ",
                    "4210 ",
                    "4200 ",
                    "4210 ",
                    "5050 ",
                    "4600",
                    "5050 ",
                    "2607 ",
                    "3650 ",
                    "4130",
                    "5545",
                    "5545",
                    "5545",
                    "5416",
                    "5545",
                    "5545",
                    "3870",
                    "6340",
                    "5357",
                    "3540",
                    "5160",
                    "5000",
                    "4130",
                    "3055",
                    "5546",
                    "5143",
                    "3870",
                    "6000",
                    "1730",
                    "4870",
                    "5000",
                    "5416",
                    "5416",
                    "5320",
                    "4460",
                    "4500",
                    "3210",
                    "5416",
                    "5416",
                    "5122",
                    "3870",
                    "5416",
                    "5545",
                    "1550",
                    "3870",
                    "5545",
                    "5545",
                    "5545",
                    "3860",
                    "5545",
                    "5357",
                    "5545",
                    "5416",
                    "4130",
                    "3210",
                    "4200",
                    "4500",
                    "4773",
                    "5220",
                    "4210 ",
                    "4210 ",
                    "4230 ",
                    "4210 ",
                    "4200 ",
                    "4200 ",
                    "5416 ",
                    "5416 ",
                    "5416 ",
                    "2012",
                    "3210 ",
                    "5416 ",
                    "1990 ",
                    "5106 ",
                    "5220 ",
                    "5220 ",
                    "4210 ",
                    "4200 ",
                    "4210 ",
                    "5050 ",
                    "4600",
                    "5050 ",
                    "2607 ",
                    "3650 ",
                    "4130",
                    "5545",
                    "5545",
                    "5545",
                    "5416",
                    "5545",
                    "5545",
                    "3870",
                    "6340",
                    "5357",
                    "3540",
                    "5160",
                    "5000",
                    "4130",
                    "3055",
                    "5546",
                    "5143",
                    "3870",
                    "6000",
                    "1730",
                    "4870",
                    "5000",
                    "5416",
                    "5416",
                    "5320",
                    "4460",
                    "4500",
                    "3210",
                    "5416",
                    "5416",
                    "5122",
                    "3870",
                    "5416",
                    "5545",
                    "1550",
                    "3870",
                    "5545",
                    "5545",
                    "5545",
                    "3860",
                    "5545",
                    "5357",
                    "5545",
                    "5416",
                    "4130",
                    "3210",
                    "4200",
                    "4500",
                    "4773",
                    "5220",
                    "4210 ",
                    "4210 ",
                    "4230 ",
                    "4210 ",
                    "4200 ",
                    "4200 ",
                    "5416 ",
                    "5416 ",
                    "5416 ",
                    "2012",
                    "3210 ",
                    "5416 ",
                    "1990 ",
                    "5106 ",
                    "5220 ",
                    "5220 ",
                    "4210 ",
                    "4200 ",
                    "4210 ",
                    "5050 ",
                    "4600",
                    "5050 ",
                    "2607 ",
                    "3650 ",
                    "4130",
                    "5545",
                    "5545",
                    "5545",
                    "5416",
                    "5545",
                    "5545",
                    "3870",
                    "6340",
                    "5357",
                    "3540",
                    "5160",
                    "5000",
                    "4130",
                    "3055",
                    "5546",
                    "5143",
                    "3870",
                    "6000",
                    "1730",
                    "4870",
                    "5000",
                    "5416",
                    "5416",
                    "5320",
                    "4460",
                    "4500",
                    "3210",
                    "5416",
                    "5416",
                    "5122",
                    "3870",
                    "5416",
                    "5545",
                    "1550",
                    "3870",
                    "5545",
                    "5545",
                    "5545",
                    "3860",
                    "5545",
                    "5357",
                    "5545",
                    "5416",
                    "4130",
                    "3210",
                    "4200",
                    "4500",
                    "4773",
                    "5220"
                  ],
                  "yaxis": "y"
                }
              ],
              "layout": {
                "coloraxis": {
                  "colorbar": {
                    "title": {
                      "text": "Trip Grade"
                    }
                  },
                  "colorscale": [
                    [
                      0,
                      "#0d0887"
                    ],
                    [
                      0.1111111111111111,
                      "#46039f"
                    ],
                    [
                      0.2222222222222222,
                      "#7201a8"
                    ],
                    [
                      0.3333333333333333,
                      "#9c179e"
                    ],
                    [
                      0.4444444444444444,
                      "#bd3786"
                    ],
                    [
                      0.5555555555555556,
                      "#d8576b"
                    ],
                    [
                      0.6666666666666666,
                      "#ed7953"
                    ],
                    [
                      0.7777777777777778,
                      "#fb9f3a"
                    ],
                    [
                      0.8888888888888888,
                      "#fdca26"
                    ],
                    [
                      1,
                      "#f0f921"
                    ]
                  ]
                },
                "legend": {
                  "tracegroupgap": 0
                },
                "template": {
                  "data": {
                    "bar": [
                      {
                        "error_x": {
                          "color": "#2a3f5f"
                        },
                        "error_y": {
                          "color": "#2a3f5f"
                        },
                        "marker": {
                          "line": {
                            "color": "#E5ECF6",
                            "width": 0.5
                          },
                          "pattern": {
                            "fillmode": "overlay",
                            "size": 10,
                            "solidity": 0.2
                          }
                        },
                        "type": "bar"
                      }
                    ],
                    "barpolar": [
                      {
                        "marker": {
                          "line": {
                            "color": "#E5ECF6",
                            "width": 0.5
                          },
                          "pattern": {
                            "fillmode": "overlay",
                            "size": 10,
                            "solidity": 0.2
                          }
                        },
                        "type": "barpolar"
                      }
                    ],
                    "carpet": [
                      {
                        "aaxis": {
                          "endlinecolor": "#2a3f5f",
                          "gridcolor": "white",
                          "linecolor": "white",
                          "minorgridcolor": "white",
                          "startlinecolor": "#2a3f5f"
                        },
                        "baxis": {
                          "endlinecolor": "#2a3f5f",
                          "gridcolor": "white",
                          "linecolor": "white",
                          "minorgridcolor": "white",
                          "startlinecolor": "#2a3f5f"
                        },
                        "type": "carpet"
                      }
                    ],
                    "choropleth": [
                      {
                        "colorbar": {
                          "outlinewidth": 0,
                          "ticks": ""
                        },
                        "type": "choropleth"
                      }
                    ],
                    "contour": [
                      {
                        "colorbar": {
                          "outlinewidth": 0,
                          "ticks": ""
                        },
                        "colorscale": [
                          [
                            0,
                            "#0d0887"
                          ],
                          [
                            0.1111111111111111,
                            "#46039f"
                          ],
                          [
                            0.2222222222222222,
                            "#7201a8"
                          ],
                          [
                            0.3333333333333333,
                            "#9c179e"
                          ],
                          [
                            0.4444444444444444,
                            "#bd3786"
                          ],
                          [
                            0.5555555555555556,
                            "#d8576b"
                          ],
                          [
                            0.6666666666666666,
                            "#ed7953"
                          ],
                          [
                            0.7777777777777778,
                            "#fb9f3a"
                          ],
                          [
                            0.8888888888888888,
                            "#fdca26"
                          ],
                          [
                            1,
                            "#f0f921"
                          ]
                        ],
                        "type": "contour"
                      }
                    ],
                    "contourcarpet": [
                      {
                        "colorbar": {
                          "outlinewidth": 0,
                          "ticks": ""
                        },
                        "type": "contourcarpet"
                      }
                    ],
                    "heatmap": [
                      {
                        "colorbar": {
                          "outlinewidth": 0,
                          "ticks": ""
                        },
                        "colorscale": [
                          [
                            0,
                            "#0d0887"
                          ],
                          [
                            0.1111111111111111,
                            "#46039f"
                          ],
                          [
                            0.2222222222222222,
                            "#7201a8"
                          ],
                          [
                            0.3333333333333333,
                            "#9c179e"
                          ],
                          [
                            0.4444444444444444,
                            "#bd3786"
                          ],
                          [
                            0.5555555555555556,
                            "#d8576b"
                          ],
                          [
                            0.6666666666666666,
                            "#ed7953"
                          ],
                          [
                            0.7777777777777778,
                            "#fb9f3a"
                          ],
                          [
                            0.8888888888888888,
                            "#fdca26"
                          ],
                          [
                            1,
                            "#f0f921"
                          ]
                        ],
                        "type": "heatmap"
                      }
                    ],
                    "heatmapgl": [
                      {
                        "colorbar": {
                          "outlinewidth": 0,
                          "ticks": ""
                        },
                        "colorscale": [
                          [
                            0,
                            "#0d0887"
                          ],
                          [
                            0.1111111111111111,
                            "#46039f"
                          ],
                          [
                            0.2222222222222222,
                            "#7201a8"
                          ],
                          [
                            0.3333333333333333,
                            "#9c179e"
                          ],
                          [
                            0.4444444444444444,
                            "#bd3786"
                          ],
                          [
                            0.5555555555555556,
                            "#d8576b"
                          ],
                          [
                            0.6666666666666666,
                            "#ed7953"
                          ],
                          [
                            0.7777777777777778,
                            "#fb9f3a"
                          ],
                          [
                            0.8888888888888888,
                            "#fdca26"
                          ],
                          [
                            1,
                            "#f0f921"
                          ]
                        ],
                        "type": "heatmapgl"
                      }
                    ],
                    "histogram": [
                      {
                        "marker": {
                          "pattern": {
                            "fillmode": "overlay",
                            "size": 10,
                            "solidity": 0.2
                          }
                        },
                        "type": "histogram"
                      }
                    ],
                    "histogram2d": [
                      {
                        "colorbar": {
                          "outlinewidth": 0,
                          "ticks": ""
                        },
                        "colorscale": [
                          [
                            0,
                            "#0d0887"
                          ],
                          [
                            0.1111111111111111,
                            "#46039f"
                          ],
                          [
                            0.2222222222222222,
                            "#7201a8"
                          ],
                          [
                            0.3333333333333333,
                            "#9c179e"
                          ],
                          [
                            0.4444444444444444,
                            "#bd3786"
                          ],
                          [
                            0.5555555555555556,
                            "#d8576b"
                          ],
                          [
                            0.6666666666666666,
                            "#ed7953"
                          ],
                          [
                            0.7777777777777778,
                            "#fb9f3a"
                          ],
                          [
                            0.8888888888888888,
                            "#fdca26"
                          ],
                          [
                            1,
                            "#f0f921"
                          ]
                        ],
                        "type": "histogram2d"
                      }
                    ],
                    "histogram2dcontour": [
                      {
                        "colorbar": {
                          "outlinewidth": 0,
                          "ticks": ""
                        },
                        "colorscale": [
                          [
                            0,
                            "#0d0887"
                          ],
                          [
                            0.1111111111111111,
                            "#46039f"
                          ],
                          [
                            0.2222222222222222,
                            "#7201a8"
                          ],
                          [
                            0.3333333333333333,
                            "#9c179e"
                          ],
                          [
                            0.4444444444444444,
                            "#bd3786"
                          ],
                          [
                            0.5555555555555556,
                            "#d8576b"
                          ],
                          [
                            0.6666666666666666,
                            "#ed7953"
                          ],
                          [
                            0.7777777777777778,
                            "#fb9f3a"
                          ],
                          [
                            0.8888888888888888,
                            "#fdca26"
                          ],
                          [
                            1,
                            "#f0f921"
                          ]
                        ],
                        "type": "histogram2dcontour"
                      }
                    ],
                    "mesh3d": [
                      {
                        "colorbar": {
                          "outlinewidth": 0,
                          "ticks": ""
                        },
                        "type": "mesh3d"
                      }
                    ],
                    "parcoords": [
                      {
                        "line": {
                          "colorbar": {
                            "outlinewidth": 0,
                            "ticks": ""
                          }
                        },
                        "type": "parcoords"
                      }
                    ],
                    "pie": [
                      {
                        "automargin": true,
                        "type": "pie"
                      }
                    ],
                    "scatter": [
                      {
                        "fillpattern": {
                          "fillmode": "overlay",
                          "size": 10,
                          "solidity": 0.2
                        },
                        "type": "scatter"
                      }
                    ],
                    "scatter3d": [
                      {
                        "line": {
                          "colorbar": {
                            "outlinewidth": 0,
                            "ticks": ""
                          }
                        },
                        "marker": {
                          "colorbar": {
                            "outlinewidth": 0,
                            "ticks": ""
                          }
                        },
                        "type": "scatter3d"
                      }
                    ],
                    "scattercarpet": [
                      {
                        "marker": {
                          "colorbar": {
                            "outlinewidth": 0,
                            "ticks": ""
                          }
                        },
                        "type": "scattercarpet"
                      }
                    ],
                    "scattergeo": [
                      {
                        "marker": {
                          "colorbar": {
                            "outlinewidth": 0,
                            "ticks": ""
                          }
                        },
                        "type": "scattergeo"
                      }
                    ],
                    "scattergl": [
                      {
                        "marker": {
                          "colorbar": {
                            "outlinewidth": 0,
                            "ticks": ""
                          }
                        },
                        "type": "scattergl"
                      }
                    ],
                    "scattermapbox": [
                      {
                        "marker": {
                          "colorbar": {
                            "outlinewidth": 0,
                            "ticks": ""
                          }
                        },
                        "type": "scattermapbox"
                      }
                    ],
                    "scatterpolar": [
                      {
                        "marker": {
                          "colorbar": {
                            "outlinewidth": 0,
                            "ticks": ""
                          }
                        },
                        "type": "scatterpolar"
                      }
                    ],
                    "scatterpolargl": [
                      {
                        "marker": {
                          "colorbar": {
                            "outlinewidth": 0,
                            "ticks": ""
                          }
                        },
                        "type": "scatterpolargl"
                      }
                    ],
                    "scatterternary": [
                      {
                        "marker": {
                          "colorbar": {
                            "outlinewidth": 0,
                            "ticks": ""
                          }
                        },
                        "type": "scatterternary"
                      }
                    ],
                    "surface": [
                      {
                        "colorbar": {
                          "outlinewidth": 0,
                          "ticks": ""
                        },
                        "colorscale": [
                          [
                            0,
                            "#0d0887"
                          ],
                          [
                            0.1111111111111111,
                            "#46039f"
                          ],
                          [
                            0.2222222222222222,
                            "#7201a8"
                          ],
                          [
                            0.3333333333333333,
                            "#9c179e"
                          ],
                          [
                            0.4444444444444444,
                            "#bd3786"
                          ],
                          [
                            0.5555555555555556,
                            "#d8576b"
                          ],
                          [
                            0.6666666666666666,
                            "#ed7953"
                          ],
                          [
                            0.7777777777777778,
                            "#fb9f3a"
                          ],
                          [
                            0.8888888888888888,
                            "#fdca26"
                          ],
                          [
                            1,
                            "#f0f921"
                          ]
                        ],
                        "type": "surface"
                      }
                    ],
                    "table": [
                      {
                        "cells": {
                          "fill": {
                            "color": "#EBF0F8"
                          },
                          "line": {
                            "color": "white"
                          }
                        },
                        "header": {
                          "fill": {
                            "color": "#C8D4E3"
                          },
                          "line": {
                            "color": "white"
                          }
                        },
                        "type": "table"
                      }
                    ]
                  },
                  "layout": {
                    "annotationdefaults": {
                      "arrowcolor": "#2a3f5f",
                      "arrowhead": 0,
                      "arrowwidth": 1
                    },
                    "autotypenumbers": "strict",
                    "coloraxis": {
                      "colorbar": {
                        "outlinewidth": 0,
                        "ticks": ""
                      }
                    },
                    "colorscale": {
                      "diverging": [
                        [
                          0,
                          "#8e0152"
                        ],
                        [
                          0.1,
                          "#c51b7d"
                        ],
                        [
                          0.2,
                          "#de77ae"
                        ],
                        [
                          0.3,
                          "#f1b6da"
                        ],
                        [
                          0.4,
                          "#fde0ef"
                        ],
                        [
                          0.5,
                          "#f7f7f7"
                        ],
                        [
                          0.6,
                          "#e6f5d0"
                        ],
                        [
                          0.7,
                          "#b8e186"
                        ],
                        [
                          0.8,
                          "#7fbc41"
                        ],
                        [
                          0.9,
                          "#4d9221"
                        ],
                        [
                          1,
                          "#276419"
                        ]
                      ],
                      "sequential": [
                        [
                          0,
                          "#0d0887"
                        ],
                        [
                          0.1111111111111111,
                          "#46039f"
                        ],
                        [
                          0.2222222222222222,
                          "#7201a8"
                        ],
                        [
                          0.3333333333333333,
                          "#9c179e"
                        ],
                        [
                          0.4444444444444444,
                          "#bd3786"
                        ],
                        [
                          0.5555555555555556,
                          "#d8576b"
                        ],
                        [
                          0.6666666666666666,
                          "#ed7953"
                        ],
                        [
                          0.7777777777777778,
                          "#fb9f3a"
                        ],
                        [
                          0.8888888888888888,
                          "#fdca26"
                        ],
                        [
                          1,
                          "#f0f921"
                        ]
                      ],
                      "sequentialminus": [
                        [
                          0,
                          "#0d0887"
                        ],
                        [
                          0.1111111111111111,
                          "#46039f"
                        ],
                        [
                          0.2222222222222222,
                          "#7201a8"
                        ],
                        [
                          0.3333333333333333,
                          "#9c179e"
                        ],
                        [
                          0.4444444444444444,
                          "#bd3786"
                        ],
                        [
                          0.5555555555555556,
                          "#d8576b"
                        ],
                        [
                          0.6666666666666666,
                          "#ed7953"
                        ],
                        [
                          0.7777777777777778,
                          "#fb9f3a"
                        ],
                        [
                          0.8888888888888888,
                          "#fdca26"
                        ],
                        [
                          1,
                          "#f0f921"
                        ]
                      ]
                    },
                    "colorway": [
                      "#636efa",
                      "#EF553B",
                      "#00cc96",
                      "#ab63fa",
                      "#FFA15A",
                      "#19d3f3",
                      "#FF6692",
                      "#B6E880",
                      "#FF97FF",
                      "#FECB52"
                    ],
                    "font": {
                      "color": "#2a3f5f"
                    },
                    "geo": {
                      "bgcolor": "white",
                      "lakecolor": "white",
                      "landcolor": "#E5ECF6",
                      "showlakes": true,
                      "showland": true,
                      "subunitcolor": "white"
                    },
                    "hoverlabel": {
                      "align": "left"
                    },
                    "hovermode": "closest",
                    "mapbox": {
                      "style": "light"
                    },
                    "paper_bgcolor": "white",
                    "plot_bgcolor": "#E5ECF6",
                    "polar": {
                      "angularaxis": {
                        "gridcolor": "white",
                        "linecolor": "white",
                        "ticks": ""
                      },
                      "bgcolor": "#E5ECF6",
                      "radialaxis": {
                        "gridcolor": "white",
                        "linecolor": "white",
                        "ticks": ""
                      }
                    },
                    "scene": {
                      "xaxis": {
                        "backgroundcolor": "#E5ECF6",
                        "gridcolor": "white",
                        "gridwidth": 2,
                        "linecolor": "white",
                        "showbackground": true,
                        "ticks": "",
                        "zerolinecolor": "white"
                      },
                      "yaxis": {
                        "backgroundcolor": "#E5ECF6",
                        "gridcolor": "white",
                        "gridwidth": 2,
                        "linecolor": "white",
                        "showbackground": true,
                        "ticks": "",
                        "zerolinecolor": "white"
                      },
                      "zaxis": {
                        "backgroundcolor": "#E5ECF6",
                        "gridcolor": "white",
                        "gridwidth": 2,
                        "linecolor": "white",
                        "showbackground": true,
                        "ticks": "",
                        "zerolinecolor": "white"
                      }
                    },
                    "shapedefaults": {
                      "line": {
                        "color": "#2a3f5f"
                      }
                    },
                    "ternary": {
                      "aaxis": {
                        "gridcolor": "white",
                        "linecolor": "white",
                        "ticks": ""
                      },
                      "baxis": {
                        "gridcolor": "white",
                        "linecolor": "white",
                        "ticks": ""
                      },
                      "bgcolor": "#E5ECF6",
                      "caxis": {
                        "gridcolor": "white",
                        "linecolor": "white",
                        "ticks": ""
                      }
                    },
                    "title": {
                      "x": 0.05
                    },
                    "xaxis": {
                      "automargin": true,
                      "gridcolor": "white",
                      "linecolor": "white",
                      "ticks": "",
                      "title": {
                        "standoff": 15
                      },
                      "zerolinecolor": "white",
                      "zerolinewidth": 2
                    },
                    "yaxis": {
                      "automargin": true,
                      "gridcolor": "white",
                      "linecolor": "white",
                      "ticks": "",
                      "title": {
                        "standoff": 15
                      },
                      "zerolinecolor": "white",
                      "zerolinewidth": 2
                    }
                  }
                },
                "title": {
                  "text": "Cost vs Max Altitude"
                },
                "xaxis": {
                  "anchor": "y",
                  "domain": [
                    0,
                    1
                  ],
                  "title": {
                    "text": "Cost"
                  }
                },
                "yaxis": {
                  "anchor": "x",
                  "domain": [
                    0,
                    1
                  ],
                  "title": {
                    "text": "Max Altitude"
                  }
                }
              }
            }
          },
          "metadata": {},
          "output_type": "display_data"
        }
      ],
      "source": [
        "fig = px.scatter(df,\n",
        "                 x='Cost',\n",
        "                 y='Max Altitude',\n",
        "                 color='Trip Grade',\n",
        "                 opacity=0.8,\n",
        "                 title=\"Cost vs Max Altitude\",\n",
        "                 hover_data=[\"Trip Grade\"]\n",
        "                )\n",
        "fig.update_traces(marker_size=5)\n",
        "fig.show()"
      ]
    },
    {
      "cell_type": "code",
      "execution_count": 38,
      "metadata": {
        "colab": {
          "base_uri": "https://localhost:8080/",
          "height": 542
        },
        "id": "RRkh4Y4rJmb3",
        "outputId": "cd0f3b16-3ade-4186-86f3-85c63f9b0994"
      },
      "outputs": [
        {
          "data": {
            "application/vnd.plotly.v1+json": {
              "config": {
                "plotlyServerURL": "https://plot.ly"
              },
              "data": [
                {
                  "alignmentgroup": "True",
                  "box": {
                    "visible": false
                  },
                  "customdata": [
                    [
                      1420
                    ],
                    [
                      1295
                    ],
                    [
                      2000
                    ],
                    [
                      3300
                    ],
                    [
                      1800
                    ],
                    [
                      1450
                    ],
                    [
                      4200
                    ],
                    [
                      1090
                    ],
                    [
                      980
                    ],
                    [
                      1350
                    ],
                    [
                      1250
                    ],
                    [
                      1380
                    ],
                    [
                      1499
                    ],
                    [
                      1499
                    ],
                    [
                      1499
                    ],
                    [
                      1499
                    ],
                    [
                      1499
                    ],
                    [
                      1499
                    ],
                    [
                      1499
                    ],
                    [
                      1499
                    ],
                    [
                      1190
                    ],
                    [
                      3600
                    ],
                    [
                      1090
                    ],
                    [
                      690
                    ],
                    [
                      1090
                    ],
                    [
                      980
                    ],
                    [
                      1350
                    ],
                    [
                      1250
                    ],
                    [
                      1380
                    ],
                    [
                      1499
                    ],
                    [
                      1499
                    ],
                    [
                      1499
                    ],
                    [
                      1499
                    ],
                    [
                      1499
                    ],
                    [
                      1499
                    ],
                    [
                      1499
                    ],
                    [
                      1499
                    ],
                    [
                      1190
                    ],
                    [
                      3600
                    ],
                    [
                      1090
                    ],
                    [
                      690
                    ],
                    [
                      1090
                    ],
                    [
                      980
                    ],
                    [
                      1350
                    ],
                    [
                      1250
                    ],
                    [
                      1380
                    ],
                    [
                      1499
                    ],
                    [
                      1499
                    ],
                    [
                      1499
                    ],
                    [
                      1499
                    ],
                    [
                      1499
                    ],
                    [
                      1499
                    ],
                    [
                      1499
                    ],
                    [
                      1499
                    ],
                    [
                      1190
                    ],
                    [
                      3600
                    ],
                    [
                      1090
                    ],
                    [
                      690
                    ],
                    [
                      1090
                    ],
                    [
                      980
                    ],
                    [
                      1350
                    ],
                    [
                      1250
                    ],
                    [
                      1380
                    ],
                    [
                      1499
                    ],
                    [
                      1499
                    ],
                    [
                      1499
                    ],
                    [
                      1499
                    ],
                    [
                      1499
                    ],
                    [
                      1499
                    ],
                    [
                      1499
                    ],
                    [
                      1499
                    ],
                    [
                      1190
                    ],
                    [
                      3600
                    ],
                    [
                      1090
                    ],
                    [
                      690
                    ],
                    [
                      1090
                    ],
                    [
                      980
                    ],
                    [
                      1350
                    ],
                    [
                      1250
                    ],
                    [
                      1380
                    ],
                    [
                      1499
                    ],
                    [
                      1499
                    ],
                    [
                      1499
                    ],
                    [
                      1499
                    ],
                    [
                      1499
                    ],
                    [
                      1499
                    ],
                    [
                      1499
                    ],
                    [
                      1499
                    ],
                    [
                      1190
                    ],
                    [
                      3600
                    ],
                    [
                      1090
                    ],
                    [
                      690
                    ]
                  ],
                  "hovertemplate": "Trip Grade=%{x}<br>Max Altitude=%{y}<br>Cost=%{customdata[0]}<extra></extra>",
                  "legendgroup": "3",
                  "marker": {
                    "color": "#636efa",
                    "size": 5
                  },
                  "name": "3",
                  "offsetgroup": "3",
                  "orientation": "h",
                  "scalegroup": "True",
                  "showlegend": true,
                  "type": "violin",
                  "x": [
                    3,
                    3,
                    3,
                    3,
                    3,
                    3,
                    3,
                    3,
                    3,
                    3,
                    3,
                    3,
                    3,
                    3,
                    3,
                    3,
                    3,
                    3,
                    3,
                    3,
                    3,
                    3,
                    3,
                    3,
                    3,
                    3,
                    3,
                    3,
                    3,
                    3,
                    3,
                    3,
                    3,
                    3,
                    3,
                    3,
                    3,
                    3,
                    3,
                    3,
                    3,
                    3,
                    3,
                    3,
                    3,
                    3,
                    3,
                    3,
                    3,
                    3,
                    3,
                    3,
                    3,
                    3,
                    3,
                    3,
                    3,
                    3,
                    3,
                    3,
                    3,
                    3,
                    3,
                    3,
                    3,
                    3,
                    3,
                    3,
                    3,
                    3,
                    3,
                    3,
                    3,
                    3,
                    3,
                    3,
                    3,
                    3,
                    3,
                    3,
                    3,
                    3,
                    3,
                    3,
                    3,
                    3,
                    3,
                    3,
                    3,
                    3,
                    3,
                    3
                  ],
                  "x0": " ",
                  "xaxis": "x",
                  "y": [
                    "5545 ",
                    "5545 ",
                    "5545 ",
                    "5545 ",
                    "5545 ",
                    "5360 ",
                    "5545 ",
                    "4210 ",
                    "4230 ",
                    "5416 ",
                    "5416 ",
                    "5220 ",
                    "3540",
                    "3055",
                    "1730",
                    "5000",
                    "3870",
                    "5545",
                    "1550",
                    "3870",
                    "5357",
                    "5545",
                    "4130",
                    "4773",
                    "4210 ",
                    "4230 ",
                    "5416 ",
                    "5416 ",
                    "5220 ",
                    "3540",
                    "3055",
                    "1730",
                    "5000",
                    "3870",
                    "5545",
                    "1550",
                    "3870",
                    "5357",
                    "5545",
                    "4130",
                    "4773",
                    "4210 ",
                    "4230 ",
                    "5416 ",
                    "5416 ",
                    "5220 ",
                    "3540",
                    "3055",
                    "1730",
                    "5000",
                    "3870",
                    "5545",
                    "1550",
                    "3870",
                    "5357",
                    "5545",
                    "4130",
                    "4773",
                    "4210 ",
                    "4230 ",
                    "5416 ",
                    "5416 ",
                    "5220 ",
                    "3540",
                    "3055",
                    "1730",
                    "5000",
                    "3870",
                    "5545",
                    "1550",
                    "3870",
                    "5357",
                    "5545",
                    "4130",
                    "4773",
                    "4210 ",
                    "4230 ",
                    "5416 ",
                    "5416 ",
                    "5220 ",
                    "3540",
                    "3055",
                    "1730",
                    "5000",
                    "3870",
                    "5545",
                    "1550",
                    "3870",
                    "5357",
                    "5545",
                    "4130",
                    "4773"
                  ],
                  "y0": " ",
                  "yaxis": "y"
                },
                {
                  "alignmentgroup": "True",
                  "box": {
                    "visible": false
                  },
                  "customdata": [
                    [
                      1720
                    ],
                    [
                      1950
                    ],
                    [
                      1900
                    ],
                    [
                      1250
                    ],
                    [
                      1450
                    ],
                    [
                      1450
                    ],
                    [
                      1850
                    ],
                    [
                      1499
                    ],
                    [
                      1499
                    ],
                    [
                      1499
                    ],
                    [
                      1499
                    ],
                    [
                      1250
                    ],
                    [
                      1450
                    ],
                    [
                      1450
                    ],
                    [
                      1850
                    ],
                    [
                      1499
                    ],
                    [
                      1499
                    ],
                    [
                      1499
                    ],
                    [
                      1499
                    ],
                    [
                      1250
                    ],
                    [
                      1450
                    ],
                    [
                      1450
                    ],
                    [
                      1850
                    ],
                    [
                      1499
                    ],
                    [
                      1499
                    ],
                    [
                      1499
                    ],
                    [
                      1499
                    ],
                    [
                      1250
                    ],
                    [
                      1450
                    ],
                    [
                      1450
                    ],
                    [
                      1850
                    ],
                    [
                      1499
                    ],
                    [
                      1499
                    ],
                    [
                      1499
                    ],
                    [
                      1499
                    ],
                    [
                      1250
                    ],
                    [
                      1450
                    ],
                    [
                      1450
                    ],
                    [
                      1850
                    ],
                    [
                      1499
                    ],
                    [
                      1499
                    ],
                    [
                      1499
                    ],
                    [
                      1499
                    ]
                  ],
                  "hovertemplate": "Trip Grade=%{x}<br>Max Altitude=%{y}<br>Cost=%{customdata[0]}<extra></extra>",
                  "legendgroup": "5",
                  "marker": {
                    "color": "#EF553B",
                    "size": 5
                  },
                  "name": "5",
                  "offsetgroup": "5",
                  "orientation": "h",
                  "scalegroup": "True",
                  "showlegend": true,
                  "type": "violin",
                  "x": [
                    5,
                    5,
                    5,
                    5,
                    5,
                    5,
                    5,
                    5,
                    5,
                    5,
                    5,
                    5,
                    5,
                    5,
                    5,
                    5,
                    5,
                    5,
                    5,
                    5,
                    5,
                    5,
                    5,
                    5,
                    5,
                    5,
                    5,
                    5,
                    5,
                    5,
                    5,
                    5,
                    5,
                    5,
                    5,
                    5,
                    5,
                    5,
                    5,
                    5,
                    5,
                    5,
                    5
                  ],
                  "x0": " ",
                  "xaxis": "x",
                  "y": [
                    "5545 ",
                    "5545 ",
                    "5545 ",
                    "5416 ",
                    "5416 ",
                    "5106 ",
                    "5220 ",
                    "4870",
                    "5320",
                    "5122",
                    "5545",
                    "5416 ",
                    "5416 ",
                    "5106 ",
                    "5220 ",
                    "4870",
                    "5320",
                    "5122",
                    "5545",
                    "5416 ",
                    "5416 ",
                    "5106 ",
                    "5220 ",
                    "4870",
                    "5320",
                    "5122",
                    "5545",
                    "5416 ",
                    "5416 ",
                    "5106 ",
                    "5220 ",
                    "4870",
                    "5320",
                    "5122",
                    "5545",
                    "5416 ",
                    "5416 ",
                    "5106 ",
                    "5220 ",
                    "4870",
                    "5320",
                    "5122",
                    "5545"
                  ],
                  "y0": " ",
                  "yaxis": "y"
                },
                {
                  "alignmentgroup": "True",
                  "box": {
                    "visible": false
                  },
                  "customdata": [
                    [
                      1060
                    ],
                    [
                      1150
                    ],
                    [
                      1100
                    ],
                    [
                      1090
                    ],
                    [
                      1750
                    ],
                    [
                      850
                    ],
                    [
                      850
                    ],
                    [
                      1450
                    ],
                    [
                      2150
                    ],
                    [
                      2300
                    ],
                    [
                      2150
                    ],
                    [
                      750
                    ],
                    [
                      1180
                    ],
                    [
                      920
                    ],
                    [
                      1499
                    ],
                    [
                      1090
                    ],
                    [
                      1750
                    ],
                    [
                      850
                    ],
                    [
                      850
                    ],
                    [
                      1450
                    ],
                    [
                      2150
                    ],
                    [
                      2300
                    ],
                    [
                      2150
                    ],
                    [
                      750
                    ],
                    [
                      1180
                    ],
                    [
                      920
                    ],
                    [
                      1499
                    ],
                    [
                      1090
                    ],
                    [
                      1750
                    ],
                    [
                      850
                    ],
                    [
                      850
                    ],
                    [
                      1450
                    ],
                    [
                      2150
                    ],
                    [
                      2300
                    ],
                    [
                      2150
                    ],
                    [
                      750
                    ],
                    [
                      1180
                    ],
                    [
                      920
                    ],
                    [
                      1499
                    ],
                    [
                      1090
                    ],
                    [
                      1750
                    ],
                    [
                      850
                    ],
                    [
                      850
                    ],
                    [
                      1450
                    ],
                    [
                      2150
                    ],
                    [
                      2300
                    ],
                    [
                      2150
                    ],
                    [
                      750
                    ],
                    [
                      1180
                    ],
                    [
                      920
                    ],
                    [
                      1499
                    ],
                    [
                      1090
                    ],
                    [
                      1750
                    ],
                    [
                      850
                    ],
                    [
                      850
                    ],
                    [
                      1450
                    ],
                    [
                      2150
                    ],
                    [
                      2300
                    ],
                    [
                      2150
                    ],
                    [
                      750
                    ],
                    [
                      1180
                    ],
                    [
                      920
                    ],
                    [
                      1499
                    ]
                  ],
                  "hovertemplate": "Trip Grade=%{x}<br>Max Altitude=%{y}<br>Cost=%{customdata[0]}<extra></extra>",
                  "legendgroup": "1",
                  "marker": {
                    "color": "#00cc96",
                    "size": 5
                  },
                  "name": "1",
                  "offsetgroup": "1",
                  "orientation": "h",
                  "scalegroup": "True",
                  "showlegend": true,
                  "type": "violin",
                  "x": [
                    1,
                    1,
                    1,
                    1,
                    1,
                    1,
                    1,
                    1,
                    1,
                    1,
                    1,
                    1,
                    1,
                    1,
                    1,
                    1,
                    1,
                    1,
                    1,
                    1,
                    1,
                    1,
                    1,
                    1,
                    1,
                    1,
                    1,
                    1,
                    1,
                    1,
                    1,
                    1,
                    1,
                    1,
                    1,
                    1,
                    1,
                    1,
                    1,
                    1,
                    1,
                    1,
                    1,
                    1,
                    1,
                    1,
                    1,
                    1,
                    1,
                    1,
                    1,
                    1,
                    1,
                    1,
                    1,
                    1,
                    1,
                    1,
                    1,
                    1,
                    1,
                    1,
                    1
                  ],
                  "x0": " ",
                  "xaxis": "x",
                  "y": [
                    "3900 ",
                    "3860 ",
                    "3860 ",
                    "4210 ",
                    "4210 ",
                    "4200 ",
                    "4200 ",
                    "2012",
                    "4210 ",
                    "4200 ",
                    "4210 ",
                    "5050 ",
                    "4600",
                    "5050 ",
                    "3210",
                    "4210 ",
                    "4210 ",
                    "4200 ",
                    "4200 ",
                    "2012",
                    "4210 ",
                    "4200 ",
                    "4210 ",
                    "5050 ",
                    "4600",
                    "5050 ",
                    "3210",
                    "4210 ",
                    "4210 ",
                    "4200 ",
                    "4200 ",
                    "2012",
                    "4210 ",
                    "4200 ",
                    "4210 ",
                    "5050 ",
                    "4600",
                    "5050 ",
                    "3210",
                    "4210 ",
                    "4210 ",
                    "4200 ",
                    "4200 ",
                    "2012",
                    "4210 ",
                    "4200 ",
                    "4210 ",
                    "5050 ",
                    "4600",
                    "5050 ",
                    "3210",
                    "4210 ",
                    "4210 ",
                    "4200 ",
                    "4200 ",
                    "2012",
                    "4210 ",
                    "4200 ",
                    "4210 ",
                    "5050 ",
                    "4600",
                    "5050 ",
                    "3210"
                  ],
                  "y0": " ",
                  "yaxis": "y"
                },
                {
                  "alignmentgroup": "True",
                  "box": {
                    "visible": false
                  },
                  "customdata": [
                    [
                      860
                    ],
                    [
                      590
                    ],
                    [
                      750
                    ],
                    [
                      780
                    ],
                    [
                      450
                    ],
                    [
                      860
                    ],
                    [
                      590
                    ],
                    [
                      750
                    ],
                    [
                      780
                    ],
                    [
                      450
                    ],
                    [
                      860
                    ],
                    [
                      590
                    ],
                    [
                      750
                    ],
                    [
                      780
                    ],
                    [
                      450
                    ],
                    [
                      860
                    ],
                    [
                      590
                    ],
                    [
                      750
                    ],
                    [
                      780
                    ],
                    [
                      450
                    ],
                    [
                      860
                    ],
                    [
                      590
                    ],
                    [
                      750
                    ],
                    [
                      780
                    ],
                    [
                      450
                    ]
                  ],
                  "hovertemplate": "Trip Grade=%{x}<br>Max Altitude=%{y}<br>Cost=%{customdata[0]}<extra></extra>",
                  "legendgroup": "0",
                  "marker": {
                    "color": "#ab63fa",
                    "size": 5
                  },
                  "name": "0",
                  "offsetgroup": "0",
                  "orientation": "h",
                  "scalegroup": "True",
                  "showlegend": true,
                  "type": "violin",
                  "x": [
                    0,
                    0,
                    0,
                    0,
                    0,
                    0,
                    0,
                    0,
                    0,
                    0,
                    0,
                    0,
                    0,
                    0,
                    0,
                    0,
                    0,
                    0,
                    0,
                    0,
                    0,
                    0,
                    0,
                    0,
                    0
                  ],
                  "x0": " ",
                  "xaxis": "x",
                  "y": [
                    "3210 ",
                    "1990 ",
                    "2607 ",
                    "3650 ",
                    "3210",
                    "3210 ",
                    "1990 ",
                    "2607 ",
                    "3650 ",
                    "3210",
                    "3210 ",
                    "1990 ",
                    "2607 ",
                    "3650 ",
                    "3210",
                    "3210 ",
                    "1990 ",
                    "2607 ",
                    "3650 ",
                    "3210",
                    "3210 ",
                    "1990 ",
                    "2607 ",
                    "3650 ",
                    "3210"
                  ],
                  "y0": " ",
                  "yaxis": "y"
                },
                {
                  "alignmentgroup": "True",
                  "box": {
                    "visible": false
                  },
                  "customdata": [
                    [
                      1499
                    ],
                    [
                      1750
                    ],
                    [
                      1499
                    ],
                    [
                      1499
                    ],
                    [
                      1499
                    ],
                    [
                      1499
                    ],
                    [
                      1499
                    ],
                    [
                      1499
                    ],
                    [
                      1499
                    ],
                    [
                      1499
                    ],
                    [
                      1499
                    ],
                    [
                      1499
                    ],
                    [
                      1499
                    ],
                    [
                      1499
                    ],
                    [
                      1499
                    ],
                    [
                      1499
                    ],
                    [
                      1499
                    ],
                    [
                      1499
                    ],
                    [
                      1499
                    ],
                    [
                      1499
                    ],
                    [
                      1499
                    ],
                    [
                      1499
                    ],
                    [
                      1499
                    ],
                    [
                      1450
                    ],
                    [
                      1390
                    ],
                    [
                      1530
                    ],
                    [
                      1100
                    ],
                    [
                      2100
                    ],
                    [
                      1190
                    ],
                    [
                      1499
                    ],
                    [
                      1750
                    ],
                    [
                      1499
                    ],
                    [
                      1499
                    ],
                    [
                      1499
                    ],
                    [
                      1499
                    ],
                    [
                      1499
                    ],
                    [
                      1499
                    ],
                    [
                      1499
                    ],
                    [
                      1499
                    ],
                    [
                      1499
                    ],
                    [
                      1499
                    ],
                    [
                      1499
                    ],
                    [
                      1499
                    ],
                    [
                      1499
                    ],
                    [
                      1499
                    ],
                    [
                      1499
                    ],
                    [
                      1499
                    ],
                    [
                      1499
                    ],
                    [
                      1499
                    ],
                    [
                      1499
                    ],
                    [
                      1499
                    ],
                    [
                      1499
                    ],
                    [
                      1450
                    ],
                    [
                      1390
                    ],
                    [
                      1530
                    ],
                    [
                      1100
                    ],
                    [
                      2100
                    ],
                    [
                      1190
                    ],
                    [
                      1499
                    ],
                    [
                      1750
                    ],
                    [
                      1499
                    ],
                    [
                      1499
                    ],
                    [
                      1499
                    ],
                    [
                      1499
                    ],
                    [
                      1499
                    ],
                    [
                      1499
                    ],
                    [
                      1499
                    ],
                    [
                      1499
                    ],
                    [
                      1499
                    ],
                    [
                      1499
                    ],
                    [
                      1499
                    ],
                    [
                      1499
                    ],
                    [
                      1499
                    ],
                    [
                      1499
                    ],
                    [
                      1499
                    ],
                    [
                      1499
                    ],
                    [
                      1499
                    ],
                    [
                      1499
                    ],
                    [
                      1499
                    ],
                    [
                      1499
                    ],
                    [
                      1499
                    ],
                    [
                      1450
                    ],
                    [
                      1390
                    ],
                    [
                      1530
                    ],
                    [
                      1100
                    ],
                    [
                      2100
                    ],
                    [
                      1190
                    ],
                    [
                      1499
                    ],
                    [
                      1750
                    ],
                    [
                      1499
                    ],
                    [
                      1499
                    ],
                    [
                      1499
                    ],
                    [
                      1499
                    ],
                    [
                      1499
                    ],
                    [
                      1499
                    ],
                    [
                      1499
                    ],
                    [
                      1499
                    ],
                    [
                      1499
                    ],
                    [
                      1499
                    ],
                    [
                      1499
                    ],
                    [
                      1499
                    ],
                    [
                      1499
                    ],
                    [
                      1499
                    ],
                    [
                      1499
                    ],
                    [
                      1499
                    ],
                    [
                      1499
                    ],
                    [
                      1499
                    ],
                    [
                      1499
                    ],
                    [
                      1499
                    ],
                    [
                      1499
                    ],
                    [
                      1450
                    ],
                    [
                      1390
                    ],
                    [
                      1530
                    ],
                    [
                      1100
                    ],
                    [
                      2100
                    ],
                    [
                      1190
                    ],
                    [
                      1499
                    ],
                    [
                      1750
                    ],
                    [
                      1499
                    ],
                    [
                      1499
                    ],
                    [
                      1499
                    ],
                    [
                      1499
                    ],
                    [
                      1499
                    ],
                    [
                      1499
                    ],
                    [
                      1499
                    ],
                    [
                      1499
                    ],
                    [
                      1499
                    ],
                    [
                      1499
                    ],
                    [
                      1499
                    ],
                    [
                      1499
                    ],
                    [
                      1499
                    ],
                    [
                      1499
                    ],
                    [
                      1499
                    ],
                    [
                      1499
                    ],
                    [
                      1499
                    ],
                    [
                      1499
                    ],
                    [
                      1499
                    ],
                    [
                      1499
                    ],
                    [
                      1499
                    ],
                    [
                      1450
                    ],
                    [
                      1390
                    ],
                    [
                      1530
                    ],
                    [
                      1100
                    ],
                    [
                      2100
                    ],
                    [
                      1190
                    ]
                  ],
                  "hovertemplate": "Trip Grade=%{x}<br>Max Altitude=%{y}<br>Cost=%{customdata[0]}<extra></extra>",
                  "legendgroup": "4",
                  "marker": {
                    "color": "#FFA15A",
                    "size": 5
                  },
                  "name": "4",
                  "offsetgroup": "4",
                  "orientation": "h",
                  "scalegroup": "True",
                  "showlegend": true,
                  "type": "violin",
                  "x": [
                    4,
                    4,
                    4,
                    4,
                    4,
                    4,
                    4,
                    4,
                    4,
                    4,
                    4,
                    4,
                    4,
                    4,
                    4,
                    4,
                    4,
                    4,
                    4,
                    4,
                    4,
                    4,
                    4,
                    4,
                    4,
                    4,
                    4,
                    4,
                    4,
                    4,
                    4,
                    4,
                    4,
                    4,
                    4,
                    4,
                    4,
                    4,
                    4,
                    4,
                    4,
                    4,
                    4,
                    4,
                    4,
                    4,
                    4,
                    4,
                    4,
                    4,
                    4,
                    4,
                    4,
                    4,
                    4,
                    4,
                    4,
                    4,
                    4,
                    4,
                    4,
                    4,
                    4,
                    4,
                    4,
                    4,
                    4,
                    4,
                    4,
                    4,
                    4,
                    4,
                    4,
                    4,
                    4,
                    4,
                    4,
                    4,
                    4,
                    4,
                    4,
                    4,
                    4,
                    4,
                    4,
                    4,
                    4,
                    4,
                    4,
                    4,
                    4,
                    4,
                    4,
                    4,
                    4,
                    4,
                    4,
                    4,
                    4,
                    4,
                    4,
                    4,
                    4,
                    4,
                    4,
                    4,
                    4,
                    4,
                    4,
                    4,
                    4,
                    4,
                    4,
                    4,
                    4,
                    4,
                    4,
                    4,
                    4,
                    4,
                    4,
                    4,
                    4,
                    4,
                    4,
                    4,
                    4,
                    4,
                    4,
                    4,
                    4,
                    4,
                    4,
                    4,
                    4,
                    4,
                    4,
                    4,
                    4,
                    4,
                    4,
                    4,
                    4,
                    4,
                    4
                  ],
                  "x0": " ",
                  "xaxis": "x",
                  "y": [
                    "4130",
                    "5545",
                    "5545",
                    "5545",
                    "5416",
                    "5545",
                    "5545",
                    "3870",
                    "6340",
                    "5357",
                    "5160",
                    "5000",
                    "4130",
                    "5546",
                    "5143",
                    "6000",
                    "5416",
                    "5416",
                    "4460",
                    "4500",
                    "5416",
                    "5416",
                    "5416",
                    "5545",
                    "5545",
                    "5545",
                    "5416",
                    "4200",
                    "5220",
                    "4130",
                    "5545",
                    "5545",
                    "5545",
                    "5416",
                    "5545",
                    "5545",
                    "3870",
                    "6340",
                    "5357",
                    "5160",
                    "5000",
                    "4130",
                    "5546",
                    "5143",
                    "6000",
                    "5416",
                    "5416",
                    "4460",
                    "4500",
                    "5416",
                    "5416",
                    "5416",
                    "5545",
                    "5545",
                    "5545",
                    "5416",
                    "4200",
                    "5220",
                    "4130",
                    "5545",
                    "5545",
                    "5545",
                    "5416",
                    "5545",
                    "5545",
                    "3870",
                    "6340",
                    "5357",
                    "5160",
                    "5000",
                    "4130",
                    "5546",
                    "5143",
                    "6000",
                    "5416",
                    "5416",
                    "4460",
                    "4500",
                    "5416",
                    "5416",
                    "5416",
                    "5545",
                    "5545",
                    "5545",
                    "5416",
                    "4200",
                    "5220",
                    "4130",
                    "5545",
                    "5545",
                    "5545",
                    "5416",
                    "5545",
                    "5545",
                    "3870",
                    "6340",
                    "5357",
                    "5160",
                    "5000",
                    "4130",
                    "5546",
                    "5143",
                    "6000",
                    "5416",
                    "5416",
                    "4460",
                    "4500",
                    "5416",
                    "5416",
                    "5416",
                    "5545",
                    "5545",
                    "5545",
                    "5416",
                    "4200",
                    "5220",
                    "4130",
                    "5545",
                    "5545",
                    "5545",
                    "5416",
                    "5545",
                    "5545",
                    "3870",
                    "6340",
                    "5357",
                    "5160",
                    "5000",
                    "4130",
                    "5546",
                    "5143",
                    "6000",
                    "5416",
                    "5416",
                    "4460",
                    "4500",
                    "5416",
                    "5416",
                    "5416",
                    "5545",
                    "5545",
                    "5545",
                    "5416",
                    "4200",
                    "5220"
                  ],
                  "y0": " ",
                  "yaxis": "y"
                },
                {
                  "alignmentgroup": "True",
                  "box": {
                    "visible": false
                  },
                  "customdata": [
                    [
                      1499
                    ],
                    [
                      1040
                    ],
                    [
                      590
                    ],
                    [
                      1499
                    ],
                    [
                      1040
                    ],
                    [
                      590
                    ],
                    [
                      1499
                    ],
                    [
                      1040
                    ],
                    [
                      590
                    ],
                    [
                      1499
                    ],
                    [
                      1040
                    ],
                    [
                      590
                    ],
                    [
                      1499
                    ],
                    [
                      1040
                    ],
                    [
                      590
                    ]
                  ],
                  "hovertemplate": "Trip Grade=%{x}<br>Max Altitude=%{y}<br>Cost=%{customdata[0]}<extra></extra>",
                  "legendgroup": "2",
                  "marker": {
                    "color": "#19d3f3",
                    "size": 5
                  },
                  "name": "2",
                  "offsetgroup": "2",
                  "orientation": "h",
                  "scalegroup": "True",
                  "showlegend": true,
                  "type": "violin",
                  "x": [
                    2,
                    2,
                    2,
                    2,
                    2,
                    2,
                    2,
                    2,
                    2,
                    2,
                    2,
                    2,
                    2,
                    2,
                    2
                  ],
                  "x0": " ",
                  "xaxis": "x",
                  "y": [
                    "3870",
                    "3860",
                    "4500",
                    "3870",
                    "3860",
                    "4500",
                    "3870",
                    "3860",
                    "4500",
                    "3870",
                    "3860",
                    "4500",
                    "3870",
                    "3860",
                    "4500"
                  ],
                  "y0": " ",
                  "yaxis": "y"
                }
              ],
              "layout": {
                "legend": {
                  "title": {
                    "text": "Trip Grade"
                  },
                  "tracegroupgap": 0
                },
                "template": {
                  "data": {
                    "bar": [
                      {
                        "error_x": {
                          "color": "#2a3f5f"
                        },
                        "error_y": {
                          "color": "#2a3f5f"
                        },
                        "marker": {
                          "line": {
                            "color": "#E5ECF6",
                            "width": 0.5
                          },
                          "pattern": {
                            "fillmode": "overlay",
                            "size": 10,
                            "solidity": 0.2
                          }
                        },
                        "type": "bar"
                      }
                    ],
                    "barpolar": [
                      {
                        "marker": {
                          "line": {
                            "color": "#E5ECF6",
                            "width": 0.5
                          },
                          "pattern": {
                            "fillmode": "overlay",
                            "size": 10,
                            "solidity": 0.2
                          }
                        },
                        "type": "barpolar"
                      }
                    ],
                    "carpet": [
                      {
                        "aaxis": {
                          "endlinecolor": "#2a3f5f",
                          "gridcolor": "white",
                          "linecolor": "white",
                          "minorgridcolor": "white",
                          "startlinecolor": "#2a3f5f"
                        },
                        "baxis": {
                          "endlinecolor": "#2a3f5f",
                          "gridcolor": "white",
                          "linecolor": "white",
                          "minorgridcolor": "white",
                          "startlinecolor": "#2a3f5f"
                        },
                        "type": "carpet"
                      }
                    ],
                    "choropleth": [
                      {
                        "colorbar": {
                          "outlinewidth": 0,
                          "ticks": ""
                        },
                        "type": "choropleth"
                      }
                    ],
                    "contour": [
                      {
                        "colorbar": {
                          "outlinewidth": 0,
                          "ticks": ""
                        },
                        "colorscale": [
                          [
                            0,
                            "#0d0887"
                          ],
                          [
                            0.1111111111111111,
                            "#46039f"
                          ],
                          [
                            0.2222222222222222,
                            "#7201a8"
                          ],
                          [
                            0.3333333333333333,
                            "#9c179e"
                          ],
                          [
                            0.4444444444444444,
                            "#bd3786"
                          ],
                          [
                            0.5555555555555556,
                            "#d8576b"
                          ],
                          [
                            0.6666666666666666,
                            "#ed7953"
                          ],
                          [
                            0.7777777777777778,
                            "#fb9f3a"
                          ],
                          [
                            0.8888888888888888,
                            "#fdca26"
                          ],
                          [
                            1,
                            "#f0f921"
                          ]
                        ],
                        "type": "contour"
                      }
                    ],
                    "contourcarpet": [
                      {
                        "colorbar": {
                          "outlinewidth": 0,
                          "ticks": ""
                        },
                        "type": "contourcarpet"
                      }
                    ],
                    "heatmap": [
                      {
                        "colorbar": {
                          "outlinewidth": 0,
                          "ticks": ""
                        },
                        "colorscale": [
                          [
                            0,
                            "#0d0887"
                          ],
                          [
                            0.1111111111111111,
                            "#46039f"
                          ],
                          [
                            0.2222222222222222,
                            "#7201a8"
                          ],
                          [
                            0.3333333333333333,
                            "#9c179e"
                          ],
                          [
                            0.4444444444444444,
                            "#bd3786"
                          ],
                          [
                            0.5555555555555556,
                            "#d8576b"
                          ],
                          [
                            0.6666666666666666,
                            "#ed7953"
                          ],
                          [
                            0.7777777777777778,
                            "#fb9f3a"
                          ],
                          [
                            0.8888888888888888,
                            "#fdca26"
                          ],
                          [
                            1,
                            "#f0f921"
                          ]
                        ],
                        "type": "heatmap"
                      }
                    ],
                    "heatmapgl": [
                      {
                        "colorbar": {
                          "outlinewidth": 0,
                          "ticks": ""
                        },
                        "colorscale": [
                          [
                            0,
                            "#0d0887"
                          ],
                          [
                            0.1111111111111111,
                            "#46039f"
                          ],
                          [
                            0.2222222222222222,
                            "#7201a8"
                          ],
                          [
                            0.3333333333333333,
                            "#9c179e"
                          ],
                          [
                            0.4444444444444444,
                            "#bd3786"
                          ],
                          [
                            0.5555555555555556,
                            "#d8576b"
                          ],
                          [
                            0.6666666666666666,
                            "#ed7953"
                          ],
                          [
                            0.7777777777777778,
                            "#fb9f3a"
                          ],
                          [
                            0.8888888888888888,
                            "#fdca26"
                          ],
                          [
                            1,
                            "#f0f921"
                          ]
                        ],
                        "type": "heatmapgl"
                      }
                    ],
                    "histogram": [
                      {
                        "marker": {
                          "pattern": {
                            "fillmode": "overlay",
                            "size": 10,
                            "solidity": 0.2
                          }
                        },
                        "type": "histogram"
                      }
                    ],
                    "histogram2d": [
                      {
                        "colorbar": {
                          "outlinewidth": 0,
                          "ticks": ""
                        },
                        "colorscale": [
                          [
                            0,
                            "#0d0887"
                          ],
                          [
                            0.1111111111111111,
                            "#46039f"
                          ],
                          [
                            0.2222222222222222,
                            "#7201a8"
                          ],
                          [
                            0.3333333333333333,
                            "#9c179e"
                          ],
                          [
                            0.4444444444444444,
                            "#bd3786"
                          ],
                          [
                            0.5555555555555556,
                            "#d8576b"
                          ],
                          [
                            0.6666666666666666,
                            "#ed7953"
                          ],
                          [
                            0.7777777777777778,
                            "#fb9f3a"
                          ],
                          [
                            0.8888888888888888,
                            "#fdca26"
                          ],
                          [
                            1,
                            "#f0f921"
                          ]
                        ],
                        "type": "histogram2d"
                      }
                    ],
                    "histogram2dcontour": [
                      {
                        "colorbar": {
                          "outlinewidth": 0,
                          "ticks": ""
                        },
                        "colorscale": [
                          [
                            0,
                            "#0d0887"
                          ],
                          [
                            0.1111111111111111,
                            "#46039f"
                          ],
                          [
                            0.2222222222222222,
                            "#7201a8"
                          ],
                          [
                            0.3333333333333333,
                            "#9c179e"
                          ],
                          [
                            0.4444444444444444,
                            "#bd3786"
                          ],
                          [
                            0.5555555555555556,
                            "#d8576b"
                          ],
                          [
                            0.6666666666666666,
                            "#ed7953"
                          ],
                          [
                            0.7777777777777778,
                            "#fb9f3a"
                          ],
                          [
                            0.8888888888888888,
                            "#fdca26"
                          ],
                          [
                            1,
                            "#f0f921"
                          ]
                        ],
                        "type": "histogram2dcontour"
                      }
                    ],
                    "mesh3d": [
                      {
                        "colorbar": {
                          "outlinewidth": 0,
                          "ticks": ""
                        },
                        "type": "mesh3d"
                      }
                    ],
                    "parcoords": [
                      {
                        "line": {
                          "colorbar": {
                            "outlinewidth": 0,
                            "ticks": ""
                          }
                        },
                        "type": "parcoords"
                      }
                    ],
                    "pie": [
                      {
                        "automargin": true,
                        "type": "pie"
                      }
                    ],
                    "scatter": [
                      {
                        "fillpattern": {
                          "fillmode": "overlay",
                          "size": 10,
                          "solidity": 0.2
                        },
                        "type": "scatter"
                      }
                    ],
                    "scatter3d": [
                      {
                        "line": {
                          "colorbar": {
                            "outlinewidth": 0,
                            "ticks": ""
                          }
                        },
                        "marker": {
                          "colorbar": {
                            "outlinewidth": 0,
                            "ticks": ""
                          }
                        },
                        "type": "scatter3d"
                      }
                    ],
                    "scattercarpet": [
                      {
                        "marker": {
                          "colorbar": {
                            "outlinewidth": 0,
                            "ticks": ""
                          }
                        },
                        "type": "scattercarpet"
                      }
                    ],
                    "scattergeo": [
                      {
                        "marker": {
                          "colorbar": {
                            "outlinewidth": 0,
                            "ticks": ""
                          }
                        },
                        "type": "scattergeo"
                      }
                    ],
                    "scattergl": [
                      {
                        "marker": {
                          "colorbar": {
                            "outlinewidth": 0,
                            "ticks": ""
                          }
                        },
                        "type": "scattergl"
                      }
                    ],
                    "scattermapbox": [
                      {
                        "marker": {
                          "colorbar": {
                            "outlinewidth": 0,
                            "ticks": ""
                          }
                        },
                        "type": "scattermapbox"
                      }
                    ],
                    "scatterpolar": [
                      {
                        "marker": {
                          "colorbar": {
                            "outlinewidth": 0,
                            "ticks": ""
                          }
                        },
                        "type": "scatterpolar"
                      }
                    ],
                    "scatterpolargl": [
                      {
                        "marker": {
                          "colorbar": {
                            "outlinewidth": 0,
                            "ticks": ""
                          }
                        },
                        "type": "scatterpolargl"
                      }
                    ],
                    "scatterternary": [
                      {
                        "marker": {
                          "colorbar": {
                            "outlinewidth": 0,
                            "ticks": ""
                          }
                        },
                        "type": "scatterternary"
                      }
                    ],
                    "surface": [
                      {
                        "colorbar": {
                          "outlinewidth": 0,
                          "ticks": ""
                        },
                        "colorscale": [
                          [
                            0,
                            "#0d0887"
                          ],
                          [
                            0.1111111111111111,
                            "#46039f"
                          ],
                          [
                            0.2222222222222222,
                            "#7201a8"
                          ],
                          [
                            0.3333333333333333,
                            "#9c179e"
                          ],
                          [
                            0.4444444444444444,
                            "#bd3786"
                          ],
                          [
                            0.5555555555555556,
                            "#d8576b"
                          ],
                          [
                            0.6666666666666666,
                            "#ed7953"
                          ],
                          [
                            0.7777777777777778,
                            "#fb9f3a"
                          ],
                          [
                            0.8888888888888888,
                            "#fdca26"
                          ],
                          [
                            1,
                            "#f0f921"
                          ]
                        ],
                        "type": "surface"
                      }
                    ],
                    "table": [
                      {
                        "cells": {
                          "fill": {
                            "color": "#EBF0F8"
                          },
                          "line": {
                            "color": "white"
                          }
                        },
                        "header": {
                          "fill": {
                            "color": "#C8D4E3"
                          },
                          "line": {
                            "color": "white"
                          }
                        },
                        "type": "table"
                      }
                    ]
                  },
                  "layout": {
                    "annotationdefaults": {
                      "arrowcolor": "#2a3f5f",
                      "arrowhead": 0,
                      "arrowwidth": 1
                    },
                    "autotypenumbers": "strict",
                    "coloraxis": {
                      "colorbar": {
                        "outlinewidth": 0,
                        "ticks": ""
                      }
                    },
                    "colorscale": {
                      "diverging": [
                        [
                          0,
                          "#8e0152"
                        ],
                        [
                          0.1,
                          "#c51b7d"
                        ],
                        [
                          0.2,
                          "#de77ae"
                        ],
                        [
                          0.3,
                          "#f1b6da"
                        ],
                        [
                          0.4,
                          "#fde0ef"
                        ],
                        [
                          0.5,
                          "#f7f7f7"
                        ],
                        [
                          0.6,
                          "#e6f5d0"
                        ],
                        [
                          0.7,
                          "#b8e186"
                        ],
                        [
                          0.8,
                          "#7fbc41"
                        ],
                        [
                          0.9,
                          "#4d9221"
                        ],
                        [
                          1,
                          "#276419"
                        ]
                      ],
                      "sequential": [
                        [
                          0,
                          "#0d0887"
                        ],
                        [
                          0.1111111111111111,
                          "#46039f"
                        ],
                        [
                          0.2222222222222222,
                          "#7201a8"
                        ],
                        [
                          0.3333333333333333,
                          "#9c179e"
                        ],
                        [
                          0.4444444444444444,
                          "#bd3786"
                        ],
                        [
                          0.5555555555555556,
                          "#d8576b"
                        ],
                        [
                          0.6666666666666666,
                          "#ed7953"
                        ],
                        [
                          0.7777777777777778,
                          "#fb9f3a"
                        ],
                        [
                          0.8888888888888888,
                          "#fdca26"
                        ],
                        [
                          1,
                          "#f0f921"
                        ]
                      ],
                      "sequentialminus": [
                        [
                          0,
                          "#0d0887"
                        ],
                        [
                          0.1111111111111111,
                          "#46039f"
                        ],
                        [
                          0.2222222222222222,
                          "#7201a8"
                        ],
                        [
                          0.3333333333333333,
                          "#9c179e"
                        ],
                        [
                          0.4444444444444444,
                          "#bd3786"
                        ],
                        [
                          0.5555555555555556,
                          "#d8576b"
                        ],
                        [
                          0.6666666666666666,
                          "#ed7953"
                        ],
                        [
                          0.7777777777777778,
                          "#fb9f3a"
                        ],
                        [
                          0.8888888888888888,
                          "#fdca26"
                        ],
                        [
                          1,
                          "#f0f921"
                        ]
                      ]
                    },
                    "colorway": [
                      "#636efa",
                      "#EF553B",
                      "#00cc96",
                      "#ab63fa",
                      "#FFA15A",
                      "#19d3f3",
                      "#FF6692",
                      "#B6E880",
                      "#FF97FF",
                      "#FECB52"
                    ],
                    "font": {
                      "color": "#2a3f5f"
                    },
                    "geo": {
                      "bgcolor": "white",
                      "lakecolor": "white",
                      "landcolor": "#E5ECF6",
                      "showlakes": true,
                      "showland": true,
                      "subunitcolor": "white"
                    },
                    "hoverlabel": {
                      "align": "left"
                    },
                    "hovermode": "closest",
                    "mapbox": {
                      "style": "light"
                    },
                    "paper_bgcolor": "white",
                    "plot_bgcolor": "#E5ECF6",
                    "polar": {
                      "angularaxis": {
                        "gridcolor": "white",
                        "linecolor": "white",
                        "ticks": ""
                      },
                      "bgcolor": "#E5ECF6",
                      "radialaxis": {
                        "gridcolor": "white",
                        "linecolor": "white",
                        "ticks": ""
                      }
                    },
                    "scene": {
                      "xaxis": {
                        "backgroundcolor": "#E5ECF6",
                        "gridcolor": "white",
                        "gridwidth": 2,
                        "linecolor": "white",
                        "showbackground": true,
                        "ticks": "",
                        "zerolinecolor": "white"
                      },
                      "yaxis": {
                        "backgroundcolor": "#E5ECF6",
                        "gridcolor": "white",
                        "gridwidth": 2,
                        "linecolor": "white",
                        "showbackground": true,
                        "ticks": "",
                        "zerolinecolor": "white"
                      },
                      "zaxis": {
                        "backgroundcolor": "#E5ECF6",
                        "gridcolor": "white",
                        "gridwidth": 2,
                        "linecolor": "white",
                        "showbackground": true,
                        "ticks": "",
                        "zerolinecolor": "white"
                      }
                    },
                    "shapedefaults": {
                      "line": {
                        "color": "#2a3f5f"
                      }
                    },
                    "ternary": {
                      "aaxis": {
                        "gridcolor": "white",
                        "linecolor": "white",
                        "ticks": ""
                      },
                      "baxis": {
                        "gridcolor": "white",
                        "linecolor": "white",
                        "ticks": ""
                      },
                      "bgcolor": "#E5ECF6",
                      "caxis": {
                        "gridcolor": "white",
                        "linecolor": "white",
                        "ticks": ""
                      }
                    },
                    "title": {
                      "x": 0.05
                    },
                    "xaxis": {
                      "automargin": true,
                      "gridcolor": "white",
                      "linecolor": "white",
                      "ticks": "",
                      "title": {
                        "standoff": 15
                      },
                      "zerolinecolor": "white",
                      "zerolinewidth": 2
                    },
                    "yaxis": {
                      "automargin": true,
                      "gridcolor": "white",
                      "linecolor": "white",
                      "ticks": "",
                      "title": {
                        "standoff": 15
                      },
                      "zerolinecolor": "white",
                      "zerolinewidth": 2
                    }
                  }
                },
                "title": {
                  "text": "Trip Grade vs Max Altitude"
                },
                "violinmode": "group",
                "xaxis": {
                  "anchor": "y",
                  "categoryarray": [
                    3,
                    5,
                    1,
                    0,
                    4,
                    2
                  ],
                  "categoryorder": "array",
                  "domain": [
                    0,
                    1
                  ],
                  "title": {
                    "text": "Trip Grade"
                  }
                },
                "yaxis": {
                  "anchor": "x",
                  "domain": [
                    0,
                    1
                  ],
                  "title": {
                    "text": "Max Altitude"
                  }
                }
              }
            }
          },
          "metadata": {},
          "output_type": "display_data"
        }
      ],
      "source": [
        "fig = px.violin(df,\n",
        "                 x='Trip Grade',\n",
        "                 y='Max Altitude',\n",
        "                 color=\"Trip Grade\",\n",
        "                 title=\"Trip Grade vs Max Altitude\",\n",
        "                 hover_data=[\"Cost\"]\n",
        "                )\n",
        "fig.update_traces(marker_size=5)\n",
        "fig.show()"
      ]
    },
    {
      "cell_type": "code",
      "execution_count": 39,
      "metadata": {
        "colab": {
          "base_uri": "https://localhost:8080/",
          "height": 542
        },
        "id": "tsK-QI66JqFX",
        "outputId": "2af3998f-c0fb-49f7-8b3b-20e02607011b"
      },
      "outputs": [
        {
          "data": {
            "application/vnd.plotly.v1+json": {
              "config": {
                "plotlyServerURL": "https://plot.ly"
              },
              "data": [
                {
                  "alignmentgroup": "True",
                  "hovertemplate": "Accommodation=%{x}<br>Cost=%{y}<extra></extra>",
                  "legendgroup": "Hotel/Guesthouse",
                  "marker": {
                    "color": "#636efa"
                  },
                  "name": "Hotel/Guesthouse",
                  "notched": false,
                  "offsetgroup": "Hotel/Guesthouse",
                  "orientation": "v",
                  "showlegend": true,
                  "type": "box",
                  "x": [
                    "Hotel/Guesthouse",
                    "Hotel/Guesthouse",
                    "Hotel/Guesthouse",
                    "Hotel/Guesthouse",
                    "Hotel/Guesthouse",
                    "Hotel/Guesthouse",
                    "Hotel/Guesthouse",
                    "Hotel/Guesthouse",
                    "Hotel/Guesthouse",
                    "Hotel/Guesthouse",
                    "Hotel/Guesthouse",
                    "Hotel/Guesthouse",
                    "Hotel/Guesthouse",
                    "Hotel/Guesthouse",
                    "Hotel/Guesthouse",
                    "Hotel/Guesthouse",
                    "Hotel/Guesthouse",
                    "Hotel/Guesthouse",
                    "Hotel/Guesthouse",
                    "Hotel/Guesthouse",
                    "Hotel/Guesthouse",
                    "Hotel/Guesthouse",
                    "Hotel/Guesthouse",
                    "Hotel/Guesthouse",
                    "Hotel/Guesthouse",
                    "Hotel/Guesthouse",
                    "Hotel/Guesthouse",
                    "Hotel/Guesthouse",
                    "Hotel/Guesthouse",
                    "Hotel/Guesthouse",
                    "Hotel/Guesthouse",
                    "Hotel/Guesthouse",
                    "Hotel/Guesthouse",
                    "Hotel/Guesthouse",
                    "Hotel/Guesthouse",
                    "Hotel/Guesthouse",
                    "Hotel/Guesthouse",
                    "Hotel/Guesthouse",
                    "Hotel/Guesthouse",
                    "Hotel/Guesthouse",
                    "Hotel/Guesthouse",
                    "Hotel/Guesthouse",
                    "Hotel/Guesthouse",
                    "Hotel/Guesthouse",
                    "Hotel/Guesthouse",
                    "Hotel/Guesthouse",
                    "Hotel/Guesthouse",
                    "Hotel/Guesthouse",
                    "Hotel/Guesthouse",
                    "Hotel/Guesthouse",
                    "Hotel/Guesthouse",
                    "Hotel/Guesthouse",
                    "Hotel/Guesthouse",
                    "Hotel/Guesthouse",
                    "Hotel/Guesthouse",
                    "Hotel/Guesthouse",
                    "Hotel/Guesthouse",
                    "Hotel/Guesthouse",
                    "Hotel/Guesthouse",
                    "Hotel/Guesthouse",
                    "Hotel/Guesthouse",
                    "Hotel/Guesthouse",
                    "Hotel/Guesthouse",
                    "Hotel/Guesthouse",
                    "Hotel/Guesthouse",
                    "Hotel/Guesthouse",
                    "Hotel/Guesthouse",
                    "Hotel/Guesthouse",
                    "Hotel/Guesthouse",
                    "Hotel/Guesthouse",
                    "Hotel/Guesthouse",
                    "Hotel/Guesthouse",
                    "Hotel/Guesthouse",
                    "Hotel/Guesthouse",
                    "Hotel/Guesthouse",
                    "Hotel/Guesthouse",
                    "Hotel/Guesthouse",
                    "Hotel/Guesthouse",
                    "Hotel/Guesthouse",
                    "Hotel/Guesthouse",
                    "Hotel/Guesthouse",
                    "Hotel/Guesthouse",
                    "Hotel/Guesthouse",
                    "Hotel/Guesthouse",
                    "Hotel/Guesthouse",
                    "Hotel/Guesthouse",
                    "Hotel/Guesthouse",
                    "Hotel/Guesthouse",
                    "Hotel/Guesthouse",
                    "Hotel/Guesthouse",
                    "Hotel/Guesthouse",
                    "Hotel/Guesthouse",
                    "Hotel/Guesthouse",
                    "Hotel/Guesthouse",
                    "Hotel/Guesthouse",
                    "Hotel/Guesthouse",
                    "Hotel/Guesthouse",
                    "Hotel/Guesthouse",
                    "Hotel/Guesthouse",
                    "Hotel/Guesthouse",
                    "Hotel/Guesthouse",
                    "Hotel/Guesthouse",
                    "Hotel/Guesthouse",
                    "Hotel/Guesthouse",
                    "Hotel/Guesthouse",
                    "Hotel/Guesthouse",
                    "Hotel/Guesthouse",
                    "Hotel/Guesthouse",
                    "Hotel/Guesthouse",
                    "Hotel/Guesthouse",
                    "Hotel/Guesthouse",
                    "Hotel/Guesthouse",
                    "Hotel/Guesthouse",
                    "Hotel/Guesthouse",
                    "Hotel/Guesthouse",
                    "Hotel/Guesthouse",
                    "Hotel/Guesthouse",
                    "Hotel/Guesthouse",
                    "Hotel/Guesthouse",
                    "Hotel/Guesthouse",
                    "Hotel/Guesthouse",
                    "Hotel/Guesthouse",
                    "Hotel/Guesthouse",
                    "Hotel/Guesthouse",
                    "Hotel/Guesthouse",
                    "Hotel/Guesthouse",
                    "Hotel/Guesthouse",
                    "Hotel/Guesthouse",
                    "Hotel/Guesthouse",
                    "Hotel/Guesthouse",
                    "Hotel/Guesthouse",
                    "Hotel/Guesthouse",
                    "Hotel/Guesthouse",
                    "Hotel/Guesthouse",
                    "Hotel/Guesthouse",
                    "Hotel/Guesthouse",
                    "Hotel/Guesthouse",
                    "Hotel/Guesthouse",
                    "Hotel/Guesthouse",
                    "Hotel/Guesthouse",
                    "Hotel/Guesthouse",
                    "Hotel/Guesthouse",
                    "Hotel/Guesthouse",
                    "Hotel/Guesthouse",
                    "Hotel/Guesthouse",
                    "Hotel/Guesthouse",
                    "Hotel/Guesthouse",
                    "Hotel/Guesthouse",
                    "Hotel/Guesthouse",
                    "Hotel/Guesthouse",
                    "Hotel/Guesthouse",
                    "Hotel/Guesthouse",
                    "Hotel/Guesthouse",
                    "Hotel/Guesthouse",
                    "Hotel/Guesthouse",
                    "Hotel/Guesthouse",
                    "Hotel/Guesthouse",
                    "Hotel/Guesthouse",
                    "Hotel/Guesthouse",
                    "Hotel/Guesthouse",
                    "Hotel/Guesthouse",
                    "Hotel/Guesthouse",
                    "Hotel/Guesthouse",
                    "Hotel/Guesthouse",
                    "Hotel/Guesthouse",
                    "Hotel/Guesthouse",
                    "Hotel/Guesthouse",
                    "Hotel/Guesthouse",
                    "Hotel/Guesthouse",
                    "Hotel/Guesthouse",
                    "Hotel/Guesthouse",
                    "Hotel/Guesthouse",
                    "Hotel/Guesthouse",
                    "Hotel/Guesthouse",
                    "Hotel/Guesthouse",
                    "Hotel/Guesthouse",
                    "Hotel/Guesthouse",
                    "Hotel/Guesthouse",
                    "Hotel/Guesthouse",
                    "Hotel/Guesthouse",
                    "Hotel/Guesthouse",
                    "Hotel/Guesthouse",
                    "Hotel/Guesthouse",
                    "Hotel/Guesthouse",
                    "Hotel/Guesthouse",
                    "Hotel/Guesthouse",
                    "Hotel/Guesthouse",
                    "Hotel/Guesthouse",
                    "Hotel/Guesthouse",
                    "Hotel/Guesthouse",
                    "Hotel/Guesthouse",
                    "Hotel/Guesthouse",
                    "Hotel/Guesthouse",
                    "Hotel/Guesthouse",
                    "Hotel/Guesthouse",
                    "Hotel/Guesthouse",
                    "Hotel/Guesthouse",
                    "Hotel/Guesthouse",
                    "Hotel/Guesthouse",
                    "Hotel/Guesthouse",
                    "Hotel/Guesthouse",
                    "Hotel/Guesthouse",
                    "Hotel/Guesthouse",
                    "Hotel/Guesthouse",
                    "Hotel/Guesthouse",
                    "Hotel/Guesthouse",
                    "Hotel/Guesthouse",
                    "Hotel/Guesthouse",
                    "Hotel/Guesthouse",
                    "Hotel/Guesthouse",
                    "Hotel/Guesthouse",
                    "Hotel/Guesthouse",
                    "Hotel/Guesthouse",
                    "Hotel/Guesthouse",
                    "Hotel/Guesthouse",
                    "Hotel/Guesthouse",
                    "Hotel/Guesthouse",
                    "Hotel/Guesthouse",
                    "Hotel/Guesthouse",
                    "Hotel/Guesthouse",
                    "Hotel/Guesthouse",
                    "Hotel/Guesthouse",
                    "Hotel/Guesthouse",
                    "Hotel/Guesthouse",
                    "Hotel/Guesthouse",
                    "Hotel/Guesthouse",
                    "Hotel/Guesthouse",
                    "Hotel/Guesthouse",
                    "Hotel/Guesthouse",
                    "Hotel/Guesthouse",
                    "Hotel/Guesthouse",
                    "Hotel/Guesthouse",
                    "Hotel/Guesthouse",
                    "Hotel/Guesthouse",
                    "Hotel/Guesthouse",
                    "Hotel/Guesthouse",
                    "Hotel/Guesthouse",
                    "Hotel/Guesthouse",
                    "Hotel/Guesthouse",
                    "Hotel/Guesthouse",
                    "Hotel/Guesthouse",
                    "Hotel/Guesthouse",
                    "Hotel/Guesthouse",
                    "Hotel/Guesthouse",
                    "Hotel/Guesthouse",
                    "Hotel/Guesthouse",
                    "Hotel/Guesthouse",
                    "Hotel/Guesthouse",
                    "Hotel/Guesthouse",
                    "Hotel/Guesthouse",
                    "Hotel/Guesthouse",
                    "Hotel/Guesthouse",
                    "Hotel/Guesthouse",
                    "Hotel/Guesthouse",
                    "Hotel/Guesthouse",
                    "Hotel/Guesthouse",
                    "Hotel/Guesthouse",
                    "Hotel/Guesthouse",
                    "Hotel/Guesthouse",
                    "Hotel/Guesthouse",
                    "Hotel/Guesthouse",
                    "Hotel/Guesthouse",
                    "Hotel/Guesthouse",
                    "Hotel/Guesthouse",
                    "Hotel/Guesthouse",
                    "Hotel/Guesthouse",
                    "Hotel/Guesthouse",
                    "Hotel/Guesthouse",
                    "Hotel/Guesthouse",
                    "Hotel/Guesthouse",
                    "Hotel/Guesthouse",
                    "Hotel/Guesthouse",
                    "Hotel/Guesthouse",
                    "Hotel/Guesthouse",
                    "Hotel/Guesthouse",
                    "Hotel/Guesthouse",
                    "Hotel/Guesthouse",
                    "Hotel/Guesthouse",
                    "Hotel/Guesthouse",
                    "Hotel/Guesthouse",
                    "Hotel/Guesthouse",
                    "Hotel/Guesthouse",
                    "Hotel/Guesthouse",
                    "Hotel/Guesthouse",
                    "Hotel/Guesthouse",
                    "Hotel/Guesthouse",
                    "Hotel/Guesthouse",
                    "Hotel/Guesthouse",
                    "Hotel/Guesthouse",
                    "Hotel/Guesthouse",
                    "Hotel/Guesthouse",
                    "Hotel/Guesthouse",
                    "Hotel/Guesthouse",
                    "Hotel/Guesthouse",
                    "Hotel/Guesthouse",
                    "Hotel/Guesthouse",
                    "Hotel/Guesthouse",
                    "Hotel/Guesthouse",
                    "Hotel/Guesthouse",
                    "Hotel/Guesthouse",
                    "Hotel/Guesthouse",
                    "Hotel/Guesthouse",
                    "Hotel/Guesthouse",
                    "Hotel/Guesthouse",
                    "Hotel/Guesthouse",
                    "Hotel/Guesthouse",
                    "Hotel/Guesthouse",
                    "Hotel/Guesthouse",
                    "Hotel/Guesthouse",
                    "Hotel/Guesthouse",
                    "Hotel/Guesthouse",
                    "Hotel/Guesthouse",
                    "Hotel/Guesthouse",
                    "Hotel/Guesthouse",
                    "Hotel/Guesthouse",
                    "Hotel/Guesthouse",
                    "Hotel/Guesthouse",
                    "Hotel/Guesthouse",
                    "Hotel/Guesthouse",
                    "Hotel/Guesthouse",
                    "Hotel/Guesthouse",
                    "Hotel/Guesthouse"
                  ],
                  "x0": " ",
                  "xaxis": "x",
                  "y": [
                    1420,
                    1295,
                    2000,
                    3300,
                    1800,
                    1720,
                    1450,
                    1950,
                    1060,
                    1150,
                    1100,
                    1900,
                    1090,
                    980,
                    850,
                    850,
                    1250,
                    1450,
                    1450,
                    1850,
                    2150,
                    1180,
                    920,
                    780,
                    1499,
                    1750,
                    1499,
                    1499,
                    1499,
                    1499,
                    1499,
                    1499,
                    1499,
                    1499,
                    1499,
                    1499,
                    1499,
                    1499,
                    1499,
                    1499,
                    1499,
                    1499,
                    1499,
                    1499,
                    1499,
                    1499,
                    1499,
                    1499,
                    1499,
                    1499,
                    1499,
                    1499,
                    1499,
                    1499,
                    1499,
                    1499,
                    1499,
                    1499,
                    1499,
                    1499,
                    1499,
                    1450,
                    1390,
                    1040,
                    1530,
                    1190,
                    3600,
                    1100,
                    1090,
                    450,
                    2100,
                    590,
                    690,
                    1190,
                    1090,
                    980,
                    850,
                    850,
                    1250,
                    1450,
                    1450,
                    1850,
                    2150,
                    1180,
                    920,
                    780,
                    1499,
                    1750,
                    1499,
                    1499,
                    1499,
                    1499,
                    1499,
                    1499,
                    1499,
                    1499,
                    1499,
                    1499,
                    1499,
                    1499,
                    1499,
                    1499,
                    1499,
                    1499,
                    1499,
                    1499,
                    1499,
                    1499,
                    1499,
                    1499,
                    1499,
                    1499,
                    1499,
                    1499,
                    1499,
                    1499,
                    1499,
                    1499,
                    1499,
                    1499,
                    1499,
                    1499,
                    1499,
                    1450,
                    1390,
                    1040,
                    1530,
                    1190,
                    3600,
                    1100,
                    1090,
                    450,
                    2100,
                    590,
                    690,
                    1190,
                    1090,
                    980,
                    850,
                    850,
                    1250,
                    1450,
                    1450,
                    1850,
                    2150,
                    1180,
                    920,
                    780,
                    1499,
                    1750,
                    1499,
                    1499,
                    1499,
                    1499,
                    1499,
                    1499,
                    1499,
                    1499,
                    1499,
                    1499,
                    1499,
                    1499,
                    1499,
                    1499,
                    1499,
                    1499,
                    1499,
                    1499,
                    1499,
                    1499,
                    1499,
                    1499,
                    1499,
                    1499,
                    1499,
                    1499,
                    1499,
                    1499,
                    1499,
                    1499,
                    1499,
                    1499,
                    1499,
                    1499,
                    1499,
                    1450,
                    1390,
                    1040,
                    1530,
                    1190,
                    3600,
                    1100,
                    1090,
                    450,
                    2100,
                    590,
                    690,
                    1190,
                    1090,
                    980,
                    850,
                    850,
                    1250,
                    1450,
                    1450,
                    1850,
                    2150,
                    1180,
                    920,
                    780,
                    1499,
                    1750,
                    1499,
                    1499,
                    1499,
                    1499,
                    1499,
                    1499,
                    1499,
                    1499,
                    1499,
                    1499,
                    1499,
                    1499,
                    1499,
                    1499,
                    1499,
                    1499,
                    1499,
                    1499,
                    1499,
                    1499,
                    1499,
                    1499,
                    1499,
                    1499,
                    1499,
                    1499,
                    1499,
                    1499,
                    1499,
                    1499,
                    1499,
                    1499,
                    1499,
                    1499,
                    1499,
                    1450,
                    1390,
                    1040,
                    1530,
                    1190,
                    3600,
                    1100,
                    1090,
                    450,
                    2100,
                    590,
                    690,
                    1190,
                    1090,
                    980,
                    850,
                    850,
                    1250,
                    1450,
                    1450,
                    1850,
                    2150,
                    1180,
                    920,
                    780,
                    1499,
                    1750,
                    1499,
                    1499,
                    1499,
                    1499,
                    1499,
                    1499,
                    1499,
                    1499,
                    1499,
                    1499,
                    1499,
                    1499,
                    1499,
                    1499,
                    1499,
                    1499,
                    1499,
                    1499,
                    1499,
                    1499,
                    1499,
                    1499,
                    1499,
                    1499,
                    1499,
                    1499,
                    1499,
                    1499,
                    1499,
                    1499,
                    1499,
                    1499,
                    1499,
                    1499,
                    1499,
                    1450,
                    1390,
                    1040,
                    1530,
                    1190,
                    3600,
                    1100,
                    1090,
                    450,
                    2100,
                    590,
                    690,
                    1190
                  ],
                  "y0": " ",
                  "yaxis": "y"
                },
                {
                  "alignmentgroup": "True",
                  "hovertemplate": "Accommodation=%{x}<br>Cost=%{y}<extra></extra>",
                  "legendgroup": "Hotel/Teahouse",
                  "marker": {
                    "color": "#EF553B"
                  },
                  "name": "Hotel/Teahouse",
                  "notched": false,
                  "offsetgroup": "Hotel/Teahouse",
                  "orientation": "v",
                  "showlegend": true,
                  "type": "box",
                  "x": [
                    "Hotel/Teahouse",
                    "Hotel/Teahouse",
                    "Hotel/Teahouse",
                    "Hotel/Teahouse",
                    "Hotel/Teahouse",
                    "Hotel/Teahouse",
                    "Hotel/Teahouse",
                    "Hotel/Teahouse",
                    "Hotel/Teahouse",
                    "Hotel/Teahouse",
                    "Hotel/Teahouse",
                    "Hotel/Teahouse",
                    "Hotel/Teahouse",
                    "Hotel/Teahouse",
                    "Hotel/Teahouse",
                    "Hotel/Teahouse",
                    "Hotel/Teahouse",
                    "Hotel/Teahouse",
                    "Hotel/Teahouse",
                    "Hotel/Teahouse",
                    "Hotel/Teahouse",
                    "Hotel/Teahouse",
                    "Hotel/Teahouse",
                    "Hotel/Teahouse",
                    "Hotel/Teahouse",
                    "Hotel/Teahouse",
                    "Hotel/Teahouse",
                    "Hotel/Teahouse",
                    "Hotel/Teahouse",
                    "Hotel/Teahouse",
                    "Hotel/Teahouse",
                    "Hotel/Teahouse",
                    "Hotel/Teahouse",
                    "Hotel/Teahouse",
                    "Hotel/Teahouse",
                    "Hotel/Teahouse",
                    "Hotel/Teahouse",
                    "Hotel/Teahouse",
                    "Hotel/Teahouse",
                    "Hotel/Teahouse",
                    "Hotel/Teahouse"
                  ],
                  "x0": " ",
                  "xaxis": "x",
                  "y": [
                    4200,
                    1090,
                    1750,
                    1350,
                    1250,
                    860,
                    1380,
                    2150,
                    750,
                    1090,
                    1750,
                    1350,
                    1250,
                    860,
                    1380,
                    2150,
                    750,
                    1090,
                    1750,
                    1350,
                    1250,
                    860,
                    1380,
                    2150,
                    750,
                    1090,
                    1750,
                    1350,
                    1250,
                    860,
                    1380,
                    2150,
                    750,
                    1090,
                    1750,
                    1350,
                    1250,
                    860,
                    1380,
                    2150,
                    750
                  ],
                  "y0": " ",
                  "yaxis": "y"
                },
                {
                  "alignmentgroup": "True",
                  "hovertemplate": "Accommodation=%{x}<br>Cost=%{y}<extra></extra>",
                  "legendgroup": "Luxury Lodge",
                  "marker": {
                    "color": "#00cc96"
                  },
                  "name": "Luxury Lodge",
                  "notched": false,
                  "offsetgroup": "Luxury Lodge",
                  "orientation": "v",
                  "showlegend": true,
                  "type": "box",
                  "x": [
                    "Luxury Lodge",
                    "Luxury Lodge",
                    "Luxury Lodge",
                    "Luxury Lodge",
                    "Luxury Lodge"
                  ],
                  "x0": " ",
                  "xaxis": "x",
                  "y": [
                    1450,
                    1450,
                    1450,
                    1450,
                    1450
                  ],
                  "y0": " ",
                  "yaxis": "y"
                },
                {
                  "alignmentgroup": "True",
                  "hovertemplate": "Accommodation=%{x}<br>Cost=%{y}<extra></extra>",
                  "legendgroup": "Lodge",
                  "marker": {
                    "color": "#ab63fa"
                  },
                  "name": "Lodge",
                  "notched": false,
                  "offsetgroup": "Lodge",
                  "orientation": "v",
                  "showlegend": true,
                  "type": "box",
                  "x": [
                    "Lodge",
                    "Lodge",
                    "Lodge",
                    "Lodge",
                    "Lodge",
                    "Lodge",
                    "Lodge",
                    "Lodge",
                    "Lodge",
                    "Lodge"
                  ],
                  "x0": " ",
                  "xaxis": "x",
                  "y": [
                    590,
                    2300,
                    590,
                    2300,
                    590,
                    2300,
                    590,
                    2300,
                    590,
                    2300
                  ],
                  "y0": " ",
                  "yaxis": "y"
                },
                {
                  "alignmentgroup": "True",
                  "hovertemplate": "Accommodation=%{x}<br>Cost=%{y}<extra></extra>",
                  "legendgroup": "Teahouse/Lodge",
                  "marker": {
                    "color": "#FFA15A"
                  },
                  "name": "Teahouse/Lodge",
                  "notched": false,
                  "offsetgroup": "Teahouse/Lodge",
                  "orientation": "v",
                  "showlegend": true,
                  "type": "box",
                  "x": [
                    "Teahouse/Lodge",
                    "Teahouse/Lodge",
                    "Teahouse/Lodge",
                    "Teahouse/Lodge",
                    "Teahouse/Lodge"
                  ],
                  "x0": " ",
                  "xaxis": "x",
                  "y": [
                    750,
                    750,
                    750,
                    750,
                    750
                  ],
                  "y0": " ",
                  "yaxis": "y"
                }
              ],
              "layout": {
                "boxmode": "overlay",
                "legend": {
                  "title": {
                    "text": "Accommodation"
                  },
                  "tracegroupgap": 0
                },
                "template": {
                  "data": {
                    "bar": [
                      {
                        "error_x": {
                          "color": "#2a3f5f"
                        },
                        "error_y": {
                          "color": "#2a3f5f"
                        },
                        "marker": {
                          "line": {
                            "color": "#E5ECF6",
                            "width": 0.5
                          },
                          "pattern": {
                            "fillmode": "overlay",
                            "size": 10,
                            "solidity": 0.2
                          }
                        },
                        "type": "bar"
                      }
                    ],
                    "barpolar": [
                      {
                        "marker": {
                          "line": {
                            "color": "#E5ECF6",
                            "width": 0.5
                          },
                          "pattern": {
                            "fillmode": "overlay",
                            "size": 10,
                            "solidity": 0.2
                          }
                        },
                        "type": "barpolar"
                      }
                    ],
                    "carpet": [
                      {
                        "aaxis": {
                          "endlinecolor": "#2a3f5f",
                          "gridcolor": "white",
                          "linecolor": "white",
                          "minorgridcolor": "white",
                          "startlinecolor": "#2a3f5f"
                        },
                        "baxis": {
                          "endlinecolor": "#2a3f5f",
                          "gridcolor": "white",
                          "linecolor": "white",
                          "minorgridcolor": "white",
                          "startlinecolor": "#2a3f5f"
                        },
                        "type": "carpet"
                      }
                    ],
                    "choropleth": [
                      {
                        "colorbar": {
                          "outlinewidth": 0,
                          "ticks": ""
                        },
                        "type": "choropleth"
                      }
                    ],
                    "contour": [
                      {
                        "colorbar": {
                          "outlinewidth": 0,
                          "ticks": ""
                        },
                        "colorscale": [
                          [
                            0,
                            "#0d0887"
                          ],
                          [
                            0.1111111111111111,
                            "#46039f"
                          ],
                          [
                            0.2222222222222222,
                            "#7201a8"
                          ],
                          [
                            0.3333333333333333,
                            "#9c179e"
                          ],
                          [
                            0.4444444444444444,
                            "#bd3786"
                          ],
                          [
                            0.5555555555555556,
                            "#d8576b"
                          ],
                          [
                            0.6666666666666666,
                            "#ed7953"
                          ],
                          [
                            0.7777777777777778,
                            "#fb9f3a"
                          ],
                          [
                            0.8888888888888888,
                            "#fdca26"
                          ],
                          [
                            1,
                            "#f0f921"
                          ]
                        ],
                        "type": "contour"
                      }
                    ],
                    "contourcarpet": [
                      {
                        "colorbar": {
                          "outlinewidth": 0,
                          "ticks": ""
                        },
                        "type": "contourcarpet"
                      }
                    ],
                    "heatmap": [
                      {
                        "colorbar": {
                          "outlinewidth": 0,
                          "ticks": ""
                        },
                        "colorscale": [
                          [
                            0,
                            "#0d0887"
                          ],
                          [
                            0.1111111111111111,
                            "#46039f"
                          ],
                          [
                            0.2222222222222222,
                            "#7201a8"
                          ],
                          [
                            0.3333333333333333,
                            "#9c179e"
                          ],
                          [
                            0.4444444444444444,
                            "#bd3786"
                          ],
                          [
                            0.5555555555555556,
                            "#d8576b"
                          ],
                          [
                            0.6666666666666666,
                            "#ed7953"
                          ],
                          [
                            0.7777777777777778,
                            "#fb9f3a"
                          ],
                          [
                            0.8888888888888888,
                            "#fdca26"
                          ],
                          [
                            1,
                            "#f0f921"
                          ]
                        ],
                        "type": "heatmap"
                      }
                    ],
                    "heatmapgl": [
                      {
                        "colorbar": {
                          "outlinewidth": 0,
                          "ticks": ""
                        },
                        "colorscale": [
                          [
                            0,
                            "#0d0887"
                          ],
                          [
                            0.1111111111111111,
                            "#46039f"
                          ],
                          [
                            0.2222222222222222,
                            "#7201a8"
                          ],
                          [
                            0.3333333333333333,
                            "#9c179e"
                          ],
                          [
                            0.4444444444444444,
                            "#bd3786"
                          ],
                          [
                            0.5555555555555556,
                            "#d8576b"
                          ],
                          [
                            0.6666666666666666,
                            "#ed7953"
                          ],
                          [
                            0.7777777777777778,
                            "#fb9f3a"
                          ],
                          [
                            0.8888888888888888,
                            "#fdca26"
                          ],
                          [
                            1,
                            "#f0f921"
                          ]
                        ],
                        "type": "heatmapgl"
                      }
                    ],
                    "histogram": [
                      {
                        "marker": {
                          "pattern": {
                            "fillmode": "overlay",
                            "size": 10,
                            "solidity": 0.2
                          }
                        },
                        "type": "histogram"
                      }
                    ],
                    "histogram2d": [
                      {
                        "colorbar": {
                          "outlinewidth": 0,
                          "ticks": ""
                        },
                        "colorscale": [
                          [
                            0,
                            "#0d0887"
                          ],
                          [
                            0.1111111111111111,
                            "#46039f"
                          ],
                          [
                            0.2222222222222222,
                            "#7201a8"
                          ],
                          [
                            0.3333333333333333,
                            "#9c179e"
                          ],
                          [
                            0.4444444444444444,
                            "#bd3786"
                          ],
                          [
                            0.5555555555555556,
                            "#d8576b"
                          ],
                          [
                            0.6666666666666666,
                            "#ed7953"
                          ],
                          [
                            0.7777777777777778,
                            "#fb9f3a"
                          ],
                          [
                            0.8888888888888888,
                            "#fdca26"
                          ],
                          [
                            1,
                            "#f0f921"
                          ]
                        ],
                        "type": "histogram2d"
                      }
                    ],
                    "histogram2dcontour": [
                      {
                        "colorbar": {
                          "outlinewidth": 0,
                          "ticks": ""
                        },
                        "colorscale": [
                          [
                            0,
                            "#0d0887"
                          ],
                          [
                            0.1111111111111111,
                            "#46039f"
                          ],
                          [
                            0.2222222222222222,
                            "#7201a8"
                          ],
                          [
                            0.3333333333333333,
                            "#9c179e"
                          ],
                          [
                            0.4444444444444444,
                            "#bd3786"
                          ],
                          [
                            0.5555555555555556,
                            "#d8576b"
                          ],
                          [
                            0.6666666666666666,
                            "#ed7953"
                          ],
                          [
                            0.7777777777777778,
                            "#fb9f3a"
                          ],
                          [
                            0.8888888888888888,
                            "#fdca26"
                          ],
                          [
                            1,
                            "#f0f921"
                          ]
                        ],
                        "type": "histogram2dcontour"
                      }
                    ],
                    "mesh3d": [
                      {
                        "colorbar": {
                          "outlinewidth": 0,
                          "ticks": ""
                        },
                        "type": "mesh3d"
                      }
                    ],
                    "parcoords": [
                      {
                        "line": {
                          "colorbar": {
                            "outlinewidth": 0,
                            "ticks": ""
                          }
                        },
                        "type": "parcoords"
                      }
                    ],
                    "pie": [
                      {
                        "automargin": true,
                        "type": "pie"
                      }
                    ],
                    "scatter": [
                      {
                        "fillpattern": {
                          "fillmode": "overlay",
                          "size": 10,
                          "solidity": 0.2
                        },
                        "type": "scatter"
                      }
                    ],
                    "scatter3d": [
                      {
                        "line": {
                          "colorbar": {
                            "outlinewidth": 0,
                            "ticks": ""
                          }
                        },
                        "marker": {
                          "colorbar": {
                            "outlinewidth": 0,
                            "ticks": ""
                          }
                        },
                        "type": "scatter3d"
                      }
                    ],
                    "scattercarpet": [
                      {
                        "marker": {
                          "colorbar": {
                            "outlinewidth": 0,
                            "ticks": ""
                          }
                        },
                        "type": "scattercarpet"
                      }
                    ],
                    "scattergeo": [
                      {
                        "marker": {
                          "colorbar": {
                            "outlinewidth": 0,
                            "ticks": ""
                          }
                        },
                        "type": "scattergeo"
                      }
                    ],
                    "scattergl": [
                      {
                        "marker": {
                          "colorbar": {
                            "outlinewidth": 0,
                            "ticks": ""
                          }
                        },
                        "type": "scattergl"
                      }
                    ],
                    "scattermapbox": [
                      {
                        "marker": {
                          "colorbar": {
                            "outlinewidth": 0,
                            "ticks": ""
                          }
                        },
                        "type": "scattermapbox"
                      }
                    ],
                    "scatterpolar": [
                      {
                        "marker": {
                          "colorbar": {
                            "outlinewidth": 0,
                            "ticks": ""
                          }
                        },
                        "type": "scatterpolar"
                      }
                    ],
                    "scatterpolargl": [
                      {
                        "marker": {
                          "colorbar": {
                            "outlinewidth": 0,
                            "ticks": ""
                          }
                        },
                        "type": "scatterpolargl"
                      }
                    ],
                    "scatterternary": [
                      {
                        "marker": {
                          "colorbar": {
                            "outlinewidth": 0,
                            "ticks": ""
                          }
                        },
                        "type": "scatterternary"
                      }
                    ],
                    "surface": [
                      {
                        "colorbar": {
                          "outlinewidth": 0,
                          "ticks": ""
                        },
                        "colorscale": [
                          [
                            0,
                            "#0d0887"
                          ],
                          [
                            0.1111111111111111,
                            "#46039f"
                          ],
                          [
                            0.2222222222222222,
                            "#7201a8"
                          ],
                          [
                            0.3333333333333333,
                            "#9c179e"
                          ],
                          [
                            0.4444444444444444,
                            "#bd3786"
                          ],
                          [
                            0.5555555555555556,
                            "#d8576b"
                          ],
                          [
                            0.6666666666666666,
                            "#ed7953"
                          ],
                          [
                            0.7777777777777778,
                            "#fb9f3a"
                          ],
                          [
                            0.8888888888888888,
                            "#fdca26"
                          ],
                          [
                            1,
                            "#f0f921"
                          ]
                        ],
                        "type": "surface"
                      }
                    ],
                    "table": [
                      {
                        "cells": {
                          "fill": {
                            "color": "#EBF0F8"
                          },
                          "line": {
                            "color": "white"
                          }
                        },
                        "header": {
                          "fill": {
                            "color": "#C8D4E3"
                          },
                          "line": {
                            "color": "white"
                          }
                        },
                        "type": "table"
                      }
                    ]
                  },
                  "layout": {
                    "annotationdefaults": {
                      "arrowcolor": "#2a3f5f",
                      "arrowhead": 0,
                      "arrowwidth": 1
                    },
                    "autotypenumbers": "strict",
                    "coloraxis": {
                      "colorbar": {
                        "outlinewidth": 0,
                        "ticks": ""
                      }
                    },
                    "colorscale": {
                      "diverging": [
                        [
                          0,
                          "#8e0152"
                        ],
                        [
                          0.1,
                          "#c51b7d"
                        ],
                        [
                          0.2,
                          "#de77ae"
                        ],
                        [
                          0.3,
                          "#f1b6da"
                        ],
                        [
                          0.4,
                          "#fde0ef"
                        ],
                        [
                          0.5,
                          "#f7f7f7"
                        ],
                        [
                          0.6,
                          "#e6f5d0"
                        ],
                        [
                          0.7,
                          "#b8e186"
                        ],
                        [
                          0.8,
                          "#7fbc41"
                        ],
                        [
                          0.9,
                          "#4d9221"
                        ],
                        [
                          1,
                          "#276419"
                        ]
                      ],
                      "sequential": [
                        [
                          0,
                          "#0d0887"
                        ],
                        [
                          0.1111111111111111,
                          "#46039f"
                        ],
                        [
                          0.2222222222222222,
                          "#7201a8"
                        ],
                        [
                          0.3333333333333333,
                          "#9c179e"
                        ],
                        [
                          0.4444444444444444,
                          "#bd3786"
                        ],
                        [
                          0.5555555555555556,
                          "#d8576b"
                        ],
                        [
                          0.6666666666666666,
                          "#ed7953"
                        ],
                        [
                          0.7777777777777778,
                          "#fb9f3a"
                        ],
                        [
                          0.8888888888888888,
                          "#fdca26"
                        ],
                        [
                          1,
                          "#f0f921"
                        ]
                      ],
                      "sequentialminus": [
                        [
                          0,
                          "#0d0887"
                        ],
                        [
                          0.1111111111111111,
                          "#46039f"
                        ],
                        [
                          0.2222222222222222,
                          "#7201a8"
                        ],
                        [
                          0.3333333333333333,
                          "#9c179e"
                        ],
                        [
                          0.4444444444444444,
                          "#bd3786"
                        ],
                        [
                          0.5555555555555556,
                          "#d8576b"
                        ],
                        [
                          0.6666666666666666,
                          "#ed7953"
                        ],
                        [
                          0.7777777777777778,
                          "#fb9f3a"
                        ],
                        [
                          0.8888888888888888,
                          "#fdca26"
                        ],
                        [
                          1,
                          "#f0f921"
                        ]
                      ]
                    },
                    "colorway": [
                      "#636efa",
                      "#EF553B",
                      "#00cc96",
                      "#ab63fa",
                      "#FFA15A",
                      "#19d3f3",
                      "#FF6692",
                      "#B6E880",
                      "#FF97FF",
                      "#FECB52"
                    ],
                    "font": {
                      "color": "#2a3f5f"
                    },
                    "geo": {
                      "bgcolor": "white",
                      "lakecolor": "white",
                      "landcolor": "#E5ECF6",
                      "showlakes": true,
                      "showland": true,
                      "subunitcolor": "white"
                    },
                    "hoverlabel": {
                      "align": "left"
                    },
                    "hovermode": "closest",
                    "mapbox": {
                      "style": "light"
                    },
                    "paper_bgcolor": "white",
                    "plot_bgcolor": "#E5ECF6",
                    "polar": {
                      "angularaxis": {
                        "gridcolor": "white",
                        "linecolor": "white",
                        "ticks": ""
                      },
                      "bgcolor": "#E5ECF6",
                      "radialaxis": {
                        "gridcolor": "white",
                        "linecolor": "white",
                        "ticks": ""
                      }
                    },
                    "scene": {
                      "xaxis": {
                        "backgroundcolor": "#E5ECF6",
                        "gridcolor": "white",
                        "gridwidth": 2,
                        "linecolor": "white",
                        "showbackground": true,
                        "ticks": "",
                        "zerolinecolor": "white"
                      },
                      "yaxis": {
                        "backgroundcolor": "#E5ECF6",
                        "gridcolor": "white",
                        "gridwidth": 2,
                        "linecolor": "white",
                        "showbackground": true,
                        "ticks": "",
                        "zerolinecolor": "white"
                      },
                      "zaxis": {
                        "backgroundcolor": "#E5ECF6",
                        "gridcolor": "white",
                        "gridwidth": 2,
                        "linecolor": "white",
                        "showbackground": true,
                        "ticks": "",
                        "zerolinecolor": "white"
                      }
                    },
                    "shapedefaults": {
                      "line": {
                        "color": "#2a3f5f"
                      }
                    },
                    "ternary": {
                      "aaxis": {
                        "gridcolor": "white",
                        "linecolor": "white",
                        "ticks": ""
                      },
                      "baxis": {
                        "gridcolor": "white",
                        "linecolor": "white",
                        "ticks": ""
                      },
                      "bgcolor": "#E5ECF6",
                      "caxis": {
                        "gridcolor": "white",
                        "linecolor": "white",
                        "ticks": ""
                      }
                    },
                    "title": {
                      "x": 0.05
                    },
                    "xaxis": {
                      "automargin": true,
                      "gridcolor": "white",
                      "linecolor": "white",
                      "ticks": "",
                      "title": {
                        "standoff": 15
                      },
                      "zerolinecolor": "white",
                      "zerolinewidth": 2
                    },
                    "yaxis": {
                      "automargin": true,
                      "gridcolor": "white",
                      "linecolor": "white",
                      "ticks": "",
                      "title": {
                        "standoff": 15
                      },
                      "zerolinecolor": "white",
                      "zerolinewidth": 2
                    }
                  }
                },
                "title": {
                  "text": "Cost vs Accommodation Type"
                },
                "xaxis": {
                  "anchor": "y",
                  "categoryarray": [
                    "Hotel/Guesthouse",
                    "Hotel/Teahouse",
                    "Luxury Lodge",
                    "Lodge",
                    "Teahouse/Lodge"
                  ],
                  "categoryorder": "array",
                  "domain": [
                    0,
                    1
                  ],
                  "title": {
                    "text": "Accommodation"
                  }
                },
                "yaxis": {
                  "anchor": "x",
                  "domain": [
                    0,
                    1
                  ],
                  "title": {
                    "text": "Cost"
                  }
                }
              }
            }
          },
          "metadata": {},
          "output_type": "display_data"
        }
      ],
      "source": [
        "fig = px.box(df,\n",
        "             x=\"Accommodation\",\n",
        "             y=\"Cost\",\n",
        "             title=\"Cost vs Accommodation Type\",\n",
        "             color='Accommodation'\n",
        ")\n",
        "fig.show()"
      ]
    },
    {
      "cell_type": "markdown",
      "metadata": {
        "id": "PuEYVflgJtQY"
      },
      "source": [
        "## **Outliers on `Cost`**"
      ]
    },
    {
      "cell_type": "code",
      "execution_count": 40,
      "metadata": {
        "colab": {
          "base_uri": "https://localhost:8080/"
        },
        "id": "pEovJueyMyzZ",
        "outputId": "af61e433-ee7b-4785-f432-d6cc466a4a11"
      },
      "outputs": [
        {
          "name": "stdout",
          "output_type": "stream",
          "text": [
            "Unique values in Cost column: [1420. 1295. 2000. 3300. 1800. 1720. 1450. 1950. 1060. 1150. 1100. 4200.\n",
            " 1900. 1090.  980. 1750.  850. 1350. 1250.  860.  590. 1380. 1850. 2150.\n",
            " 2300.  750. 1180.  920.  780. 1499. 1390. 1040. 1530. 1190. 3600.  450.\n",
            " 2100.  690.]\n"
          ]
        }
      ],
      "source": [
        "print(\"Unique values in Cost column:\", df['Cost'].unique())"
      ]
    },
    {
      "cell_type": "code",
      "execution_count": 41,
      "metadata": {
        "colab": {
          "base_uri": "https://localhost:8080/",
          "height": 542
        },
        "id": "l6H-J9HEJ5eo",
        "outputId": "4f5bc4c1-79b5-496e-90d0-33d0dcdba677"
      },
      "outputs": [
        {
          "data": {
            "application/vnd.plotly.v1+json": {
              "config": {
                "plotlyServerURL": "https://plot.ly"
              },
              "data": [
                {
                  "alignmentgroup": "True",
                  "customdata": [
                    [
                      "Everest Base Camp Trek",
                      "16"
                    ],
                    [
                      "Everest Base Camp Short Trek",
                      "14"
                    ],
                    [
                      "Everest Base Camp Heli Shuttle Trek",
                      "12"
                    ],
                    [
                      "Everest Base Camp Heli Trek",
                      "11"
                    ],
                    [
                      "Everest Base Camp Trek for Seniors",
                      "20"
                    ],
                    [
                      "Everest Chola Pass Trek",
                      "19"
                    ],
                    [
                      "Gokyo Lake Renjo La Pass Trek",
                      "16"
                    ],
                    [
                      "Everest High Passes Trek",
                      "22"
                    ],
                    [
                      "Short Everest Trek",
                      "7"
                    ],
                    [
                      "Everest Panorama Trek",
                      "10"
                    ],
                    [
                      "Everest View Trek",
                      "9"
                    ],
                    [
                      "Luxury Everest Base Camp Heli Trek",
                      "11"
                    ],
                    [
                      "Everest Base Camp Trek with Chola and Renjo La Pass",
                      "21"
                    ],
                    [
                      "Annapurna Base Camp Trek",
                      "14"
                    ],
                    [
                      "Annapurna Base Camp Short Trek",
                      "11"
                    ],
                    [
                      "Instant Annapurna Base Camp Trek",
                      "9"
                    ],
                    [
                      "Annapurna Base Camp Heli Trek",
                      "9"
                    ],
                    [
                      "Mardi Himal Trek",
                      "9"
                    ],
                    [
                      "Mardi Himal Trekking",
                      "8"
                    ],
                    [
                      "Classic Annapurna Circuit Trek",
                      "18"
                    ],
                    [
                      "Annapurna Circuit Trek",
                      "14"
                    ],
                    [
                      "Annapurna Circuit Short Trek",
                      "12"
                    ],
                    [
                      "Annapurna Luxury Trek",
                      "9"
                    ],
                    [
                      "Annapurna Panorama Trek",
                      "9"
                    ],
                    [
                      "Annapurna Tilicho Lake Trek",
                      "17"
                    ],
                    [
                      "Short Annapurna Trek",
                      "5"
                    ],
                    [
                      "Manaslu Circuit Trek",
                      "15"
                    ],
                    [
                      "Manaslu Circuit Trekking",
                      "14"
                    ],
                    [
                      "Tsum Valley with Manaslu Trek",
                      "20"
                    ],
                    [
                      "Upper Mustang Trek",
                      "17"
                    ],
                    [
                      "Upper Mustang Trek with Yara",
                      "18"
                    ],
                    [
                      "Upper Mustang Tiji Festival Trek",
                      "18"
                    ],
                    [
                      "Langtang Valley Trek",
                      "10"
                    ],
                    [
                      "Langtang Gosaikunda Trek",
                      "16"
                    ],
                    [
                      "Tamang Heritage Trek",
                      "14"
                    ],
                    [
                      "Tamang Heritage Trail",
                      "8"
                    ],
                    [
                      "Helambu Trek",
                      "9"
                    ],
                    [
                      "Annapurna Base Camp Trek",
                      "11"
                    ],
                    [
                      "Everest Base Camp Trek for Youths",
                      "14"
                    ],
                    [
                      "Everest Base Camp Short Trek",
                      "14"
                    ],
                    [
                      "Everest Base Camp Trek",
                      "16"
                    ],
                    [
                      "Annapurna Circuit Trek",
                      "17"
                    ],
                    [
                      "Everest Base Camp Luxury Lodge Trek",
                      "15"
                    ],
                    [
                      "Everest Base Camp Trek via Gokyo Lakes and Cho La Pass",
                      "18"
                    ],
                    [
                      "Upper Mustang Trek",
                      "17"
                    ],
                    [
                      "Everest Advanced Base Camp Trek from Tibet",
                      "18"
                    ],
                    [
                      "Gokyo Lakes and Gokyo Ri Trek",
                      "14"
                    ],
                    [
                      "Mardi Himal Trek",
                      "10"
                    ],
                    [
                      "Manaslu Circuit Trek",
                      "18"
                    ],
                    [
                      "Langtang Valley Trek",
                      "11"
                    ],
                    [
                      "Annapurna Sanctuary Trek",
                      "14"
                    ],
                    [
                      "Rara Lake Trek",
                      "15"
                    ],
                    [
                      "Everest High Passes Trek",
                      "20"
                    ],
                    [
                      "Kanchenjunga Circuit Trek",
                      "25"
                    ],
                    [
                      "Everest View Trek",
                      "12"
                    ],
                    [
                      "Tsum Valley Trek",
                      "19"
                    ],
                    [
                      "The Royal Trek",
                      "9"
                    ],
                    [
                      "Makalu Base Camp Trek",
                      "22"
                    ],
                    [
                      "Langtang, Gosainkunda and Helambu Trek",
                      "17"
                    ],
                    [
                      "Nar Phu Valley Trek",
                      "19"
                    ],
                    [
                      "Annapurna Circle Trek",
                      "14"
                    ],
                    [
                      "Everest Kangshung Face Trek",
                      "21"
                    ],
                    [
                      "Tsum Valley and Manaslu Trek",
                      "27"
                    ],
                    [
                      "Khopra Ridge Community Trek",
                      "13"
                    ],
                    [
                      "Nepal Experience Tour",
                      "12"
                    ],
                    [
                      "Annapurna Circuit Trek with Tilicho Lake and Poon Hill",
                      "20"
                    ],
                    [
                      "Annapurna With Tilicho Lake Trek",
                      "17"
                    ],
                    [
                      "Langtang Valley Trek with Ganja la Pass",
                      "14"
                    ],
                    [
                      "Tamang Heritage Trek",
                      "14"
                    ],
                    [
                      "Manaslu and Annapurna Trek with Tilicho Lake",
                      "25"
                    ],
                    [
                      "Nepal Trekking and Everest Himalaya Heli Tour",
                      "7"
                    ],
                    [
                      "Nepal Hiking and Culture Tour",
                      "8"
                    ],
                    [
                      "Annapurna Sunrise and Everest View Trek",
                      "17"
                    ],
                    [
                      "Tenzing Hillary Everest Marathon",
                      "20"
                    ],
                    [
                      "Everest Base Camp Trek",
                      "16"
                    ],
                    [
                      "Everest Kalapathar Trekking",
                      "15"
                    ],
                    [
                      "Everest Panorama Trek",
                      "10"
                    ],
                    [
                      "Everest Base Camp Trek via Gokyo Lake",
                      "19"
                    ],
                    [
                      "Gokyo Lake Trek",
                      "13"
                    ],
                    [
                      "Everest Base Camp Heli Trek",
                      "9"
                    ],
                    [
                      "Annapurna Circuit Trek",
                      "19"
                    ],
                    [
                      "Annapurna Base Camp Trek",
                      "16"
                    ],
                    [
                      "Ghorepani Poon Hill Trek",
                      "10"
                    ],
                    [
                      "Upper Mustang Trek",
                      "17"
                    ],
                    [
                      "Mardi Himal Trek",
                      "9"
                    ],
                    [
                      "Langtang Valley Trekking",
                      "11"
                    ],
                    [
                      "Manaslu Circuit Trek",
                      "17"
                    ],
                    [
                      "Annapurna Base Camp Trek",
                      "14"
                    ],
                    [
                      "Annapurna Base Camp Short Trek",
                      "11"
                    ],
                    [
                      "Instant Annapurna Base Camp Trek",
                      "9"
                    ],
                    [
                      "Annapurna Base Camp Heli Trek",
                      "9"
                    ],
                    [
                      "Mardi Himal Trek",
                      "9"
                    ],
                    [
                      "Mardi Himal Trekking",
                      "8"
                    ],
                    [
                      "Classic Annapurna Circuit Trek",
                      "18"
                    ],
                    [
                      "Annapurna Circuit Trek",
                      "14"
                    ],
                    [
                      "Annapurna Circuit Short Trek",
                      "12"
                    ],
                    [
                      "Annapurna Luxury Trek",
                      "9"
                    ],
                    [
                      "Annapurna Panorama Trek",
                      "9"
                    ],
                    [
                      "Annapurna Tilicho Lake Trek",
                      "17"
                    ],
                    [
                      "Short Annapurna Trek",
                      "5"
                    ],
                    [
                      "Manaslu Circuit Trek",
                      "15"
                    ],
                    [
                      "Manaslu Circuit Trekking",
                      "14"
                    ],
                    [
                      "Tsum Valley with Manaslu Trek",
                      "20"
                    ],
                    [
                      "Upper Mustang Trek",
                      "17"
                    ],
                    [
                      "Upper Mustang Trek with Yara",
                      "18"
                    ],
                    [
                      "Upper Mustang Tiji Festival Trek",
                      "18"
                    ],
                    [
                      "Langtang Valley Trek",
                      "10"
                    ],
                    [
                      "Langtang Gosaikunda Trek",
                      "16"
                    ],
                    [
                      "Tamang Heritage Trek",
                      "14"
                    ],
                    [
                      "Tamang Heritage Trail",
                      "8"
                    ],
                    [
                      "Helambu Trek",
                      "9"
                    ],
                    [
                      "Annapurna Base Camp Trek",
                      "11"
                    ],
                    [
                      "Everest Base Camp Trek for Youths",
                      "14"
                    ],
                    [
                      "Everest Base Camp Short Trek",
                      "14"
                    ],
                    [
                      "Everest Base Camp Trek",
                      "16"
                    ],
                    [
                      "Annapurna Circuit Trek",
                      "17"
                    ],
                    [
                      "Everest Base Camp Luxury Lodge Trek",
                      "15"
                    ],
                    [
                      "Everest Base Camp Trek via Gokyo Lakes and Cho La Pass",
                      "18"
                    ],
                    [
                      "Upper Mustang Trek",
                      "17"
                    ],
                    [
                      "Everest Advanced Base Camp Trek from Tibet",
                      "18"
                    ],
                    [
                      "Gokyo Lakes and Gokyo Ri Trek",
                      "14"
                    ],
                    [
                      "Mardi Himal Trek",
                      "10"
                    ],
                    [
                      "Manaslu Circuit Trek",
                      "18"
                    ],
                    [
                      "Langtang Valley Trek",
                      "11"
                    ],
                    [
                      "Annapurna Sanctuary Trek",
                      "14"
                    ],
                    [
                      "Rara Lake Trek",
                      "15"
                    ],
                    [
                      "Everest High Passes Trek",
                      "20"
                    ],
                    [
                      "Kanchenjunga Circuit Trek",
                      "25"
                    ],
                    [
                      "Everest View Trek",
                      "12"
                    ],
                    [
                      "Tsum Valley Trek",
                      "19"
                    ],
                    [
                      "The Royal Trek",
                      "9"
                    ],
                    [
                      "Makalu Base Camp Trek",
                      "22"
                    ],
                    [
                      "Langtang, Gosainkunda and Helambu Trek",
                      "17"
                    ],
                    [
                      "Nar Phu Valley Trek",
                      "19"
                    ],
                    [
                      "Annapurna Circle Trek",
                      "14"
                    ],
                    [
                      "Everest Kangshung Face Trek",
                      "21"
                    ],
                    [
                      "Tsum Valley and Manaslu Trek",
                      "27"
                    ],
                    [
                      "Khopra Ridge Community Trek",
                      "13"
                    ],
                    [
                      "Nepal Experience Tour",
                      "12"
                    ],
                    [
                      "Annapurna Circuit Trek with Tilicho Lake and Poon Hill",
                      "20"
                    ],
                    [
                      "Annapurna With Tilicho Lake Trek",
                      "17"
                    ],
                    [
                      "Langtang Valley Trek with Ganja la Pass",
                      "14"
                    ],
                    [
                      "Tamang Heritage Trek",
                      "14"
                    ],
                    [
                      "Manaslu and Annapurna Trek with Tilicho Lake",
                      "25"
                    ],
                    [
                      "Nepal Trekking and Everest Himalaya Heli Tour",
                      "7"
                    ],
                    [
                      "Nepal Hiking and Culture Tour",
                      "8"
                    ],
                    [
                      "Annapurna Sunrise and Everest View Trek",
                      "17"
                    ],
                    [
                      "Tenzing Hillary Everest Marathon",
                      "20"
                    ],
                    [
                      "Everest Base Camp Trek",
                      "16"
                    ],
                    [
                      "Everest Kalapathar Trekking",
                      "15"
                    ],
                    [
                      "Everest Panorama Trek",
                      "10"
                    ],
                    [
                      "Everest Base Camp Trek via Gokyo Lake",
                      "19"
                    ],
                    [
                      "Gokyo Lake Trek",
                      "13"
                    ],
                    [
                      "Everest Base Camp Heli Trek",
                      "9"
                    ],
                    [
                      "Annapurna Circuit Trek",
                      "19"
                    ],
                    [
                      "Annapurna Base Camp Trek",
                      "16"
                    ],
                    [
                      "Ghorepani Poon Hill Trek",
                      "10"
                    ],
                    [
                      "Upper Mustang Trek",
                      "17"
                    ],
                    [
                      "Mardi Himal Trek",
                      "9"
                    ],
                    [
                      "Langtang Valley Trekking",
                      "11"
                    ],
                    [
                      "Manaslu Circuit Trek",
                      "17"
                    ],
                    [
                      "Annapurna Base Camp Trek",
                      "14"
                    ],
                    [
                      "Annapurna Base Camp Short Trek",
                      "11"
                    ],
                    [
                      "Instant Annapurna Base Camp Trek",
                      "9"
                    ],
                    [
                      "Annapurna Base Camp Heli Trek",
                      "9"
                    ],
                    [
                      "Mardi Himal Trek",
                      "9"
                    ],
                    [
                      "Mardi Himal Trekking",
                      "8"
                    ],
                    [
                      "Classic Annapurna Circuit Trek",
                      "18"
                    ],
                    [
                      "Annapurna Circuit Trek",
                      "14"
                    ],
                    [
                      "Annapurna Circuit Short Trek",
                      "12"
                    ],
                    [
                      "Annapurna Luxury Trek",
                      "9"
                    ],
                    [
                      "Annapurna Panorama Trek",
                      "9"
                    ],
                    [
                      "Annapurna Tilicho Lake Trek",
                      "17"
                    ],
                    [
                      "Short Annapurna Trek",
                      "5"
                    ],
                    [
                      "Manaslu Circuit Trek",
                      "15"
                    ],
                    [
                      "Manaslu Circuit Trekking",
                      "14"
                    ],
                    [
                      "Tsum Valley with Manaslu Trek",
                      "20"
                    ],
                    [
                      "Upper Mustang Trek",
                      "17"
                    ],
                    [
                      "Upper Mustang Trek with Yara",
                      "18"
                    ],
                    [
                      "Upper Mustang Tiji Festival Trek",
                      "18"
                    ],
                    [
                      "Langtang Valley Trek",
                      "10"
                    ],
                    [
                      "Langtang Gosaikunda Trek",
                      "16"
                    ],
                    [
                      "Tamang Heritage Trek",
                      "14"
                    ],
                    [
                      "Tamang Heritage Trail",
                      "8"
                    ],
                    [
                      "Helambu Trek",
                      "9"
                    ],
                    [
                      "Annapurna Base Camp Trek",
                      "11"
                    ],
                    [
                      "Everest Base Camp Trek for Youths",
                      "14"
                    ],
                    [
                      "Everest Base Camp Short Trek",
                      "14"
                    ],
                    [
                      "Everest Base Camp Trek",
                      "16"
                    ],
                    [
                      "Annapurna Circuit Trek",
                      "17"
                    ],
                    [
                      "Everest Base Camp Luxury Lodge Trek",
                      "15"
                    ],
                    [
                      "Everest Base Camp Trek via Gokyo Lakes and Cho La Pass",
                      "18"
                    ],
                    [
                      "Upper Mustang Trek",
                      "17"
                    ],
                    [
                      "Everest Advanced Base Camp Trek from Tibet",
                      "18"
                    ],
                    [
                      "Gokyo Lakes and Gokyo Ri Trek",
                      "14"
                    ],
                    [
                      "Mardi Himal Trek",
                      "10"
                    ],
                    [
                      "Manaslu Circuit Trek",
                      "18"
                    ],
                    [
                      "Langtang Valley Trek",
                      "11"
                    ],
                    [
                      "Annapurna Sanctuary Trek",
                      "14"
                    ],
                    [
                      "Rara Lake Trek",
                      "15"
                    ],
                    [
                      "Everest High Passes Trek",
                      "20"
                    ],
                    [
                      "Kanchenjunga Circuit Trek",
                      "25"
                    ],
                    [
                      "Everest View Trek",
                      "12"
                    ],
                    [
                      "Tsum Valley Trek",
                      "19"
                    ],
                    [
                      "The Royal Trek",
                      "9"
                    ],
                    [
                      "Makalu Base Camp Trek",
                      "22"
                    ],
                    [
                      "Langtang, Gosainkunda and Helambu Trek",
                      "17"
                    ],
                    [
                      "Nar Phu Valley Trek",
                      "19"
                    ],
                    [
                      "Annapurna Circle Trek",
                      "14"
                    ],
                    [
                      "Everest Kangshung Face Trek",
                      "21"
                    ],
                    [
                      "Tsum Valley and Manaslu Trek",
                      "27"
                    ],
                    [
                      "Khopra Ridge Community Trek",
                      "13"
                    ],
                    [
                      "Nepal Experience Tour",
                      "12"
                    ],
                    [
                      "Annapurna Circuit Trek with Tilicho Lake and Poon Hill",
                      "20"
                    ],
                    [
                      "Annapurna With Tilicho Lake Trek",
                      "17"
                    ],
                    [
                      "Langtang Valley Trek with Ganja la Pass",
                      "14"
                    ],
                    [
                      "Tamang Heritage Trek",
                      "14"
                    ],
                    [
                      "Manaslu and Annapurna Trek with Tilicho Lake",
                      "25"
                    ],
                    [
                      "Nepal Trekking and Everest Himalaya Heli Tour",
                      "7"
                    ],
                    [
                      "Nepal Hiking and Culture Tour",
                      "8"
                    ],
                    [
                      "Annapurna Sunrise and Everest View Trek",
                      "17"
                    ],
                    [
                      "Tenzing Hillary Everest Marathon",
                      "20"
                    ],
                    [
                      "Everest Base Camp Trek",
                      "16"
                    ],
                    [
                      "Everest Kalapathar Trekking",
                      "15"
                    ],
                    [
                      "Everest Panorama Trek",
                      "10"
                    ],
                    [
                      "Everest Base Camp Trek via Gokyo Lake",
                      "19"
                    ],
                    [
                      "Gokyo Lake Trek",
                      "13"
                    ],
                    [
                      "Everest Base Camp Heli Trek",
                      "9"
                    ],
                    [
                      "Annapurna Circuit Trek",
                      "19"
                    ],
                    [
                      "Annapurna Base Camp Trek",
                      "16"
                    ],
                    [
                      "Ghorepani Poon Hill Trek",
                      "10"
                    ],
                    [
                      "Upper Mustang Trek",
                      "17"
                    ],
                    [
                      "Mardi Himal Trek",
                      "9"
                    ],
                    [
                      "Langtang Valley Trekking",
                      "11"
                    ],
                    [
                      "Manaslu Circuit Trek",
                      "17"
                    ],
                    [
                      "Annapurna Base Camp Trek",
                      "14"
                    ],
                    [
                      "Annapurna Base Camp Short Trek",
                      "11"
                    ],
                    [
                      "Instant Annapurna Base Camp Trek",
                      "9"
                    ],
                    [
                      "Annapurna Base Camp Heli Trek",
                      "9"
                    ],
                    [
                      "Mardi Himal Trek",
                      "9"
                    ],
                    [
                      "Mardi Himal Trekking",
                      "8"
                    ],
                    [
                      "Classic Annapurna Circuit Trek",
                      "18"
                    ],
                    [
                      "Annapurna Circuit Trek",
                      "14"
                    ],
                    [
                      "Annapurna Circuit Short Trek",
                      "12"
                    ],
                    [
                      "Annapurna Luxury Trek",
                      "9"
                    ],
                    [
                      "Annapurna Panorama Trek",
                      "9"
                    ],
                    [
                      "Annapurna Tilicho Lake Trek",
                      "17"
                    ],
                    [
                      "Short Annapurna Trek",
                      "5"
                    ],
                    [
                      "Manaslu Circuit Trek",
                      "15"
                    ],
                    [
                      "Manaslu Circuit Trekking",
                      "14"
                    ],
                    [
                      "Tsum Valley with Manaslu Trek",
                      "20"
                    ],
                    [
                      "Upper Mustang Trek",
                      "17"
                    ],
                    [
                      "Upper Mustang Trek with Yara",
                      "18"
                    ],
                    [
                      "Upper Mustang Tiji Festival Trek",
                      "18"
                    ],
                    [
                      "Langtang Valley Trek",
                      "10"
                    ],
                    [
                      "Langtang Gosaikunda Trek",
                      "16"
                    ],
                    [
                      "Tamang Heritage Trek",
                      "14"
                    ],
                    [
                      "Tamang Heritage Trail",
                      "8"
                    ],
                    [
                      "Helambu Trek",
                      "9"
                    ],
                    [
                      "Annapurna Base Camp Trek",
                      "11"
                    ],
                    [
                      "Everest Base Camp Trek for Youths",
                      "14"
                    ],
                    [
                      "Everest Base Camp Short Trek",
                      "14"
                    ],
                    [
                      "Everest Base Camp Trek",
                      "16"
                    ],
                    [
                      "Annapurna Circuit Trek",
                      "17"
                    ],
                    [
                      "Everest Base Camp Luxury Lodge Trek",
                      "15"
                    ],
                    [
                      "Everest Base Camp Trek via Gokyo Lakes and Cho La Pass",
                      "18"
                    ],
                    [
                      "Upper Mustang Trek",
                      "17"
                    ],
                    [
                      "Everest Advanced Base Camp Trek from Tibet",
                      "18"
                    ],
                    [
                      "Gokyo Lakes and Gokyo Ri Trek",
                      "14"
                    ],
                    [
                      "Mardi Himal Trek",
                      "10"
                    ],
                    [
                      "Manaslu Circuit Trek",
                      "18"
                    ],
                    [
                      "Langtang Valley Trek",
                      "11"
                    ],
                    [
                      "Annapurna Sanctuary Trek",
                      "14"
                    ],
                    [
                      "Rara Lake Trek",
                      "15"
                    ],
                    [
                      "Everest High Passes Trek",
                      "20"
                    ],
                    [
                      "Kanchenjunga Circuit Trek",
                      "25"
                    ],
                    [
                      "Everest View Trek",
                      "12"
                    ],
                    [
                      "Tsum Valley Trek",
                      "19"
                    ],
                    [
                      "The Royal Trek",
                      "9"
                    ],
                    [
                      "Makalu Base Camp Trek",
                      "22"
                    ],
                    [
                      "Langtang, Gosainkunda and Helambu Trek",
                      "17"
                    ],
                    [
                      "Nar Phu Valley Trek",
                      "19"
                    ],
                    [
                      "Annapurna Circle Trek",
                      "14"
                    ],
                    [
                      "Everest Kangshung Face Trek",
                      "21"
                    ],
                    [
                      "Tsum Valley and Manaslu Trek",
                      "27"
                    ],
                    [
                      "Khopra Ridge Community Trek",
                      "13"
                    ],
                    [
                      "Nepal Experience Tour",
                      "12"
                    ],
                    [
                      "Annapurna Circuit Trek with Tilicho Lake and Poon Hill",
                      "20"
                    ],
                    [
                      "Annapurna With Tilicho Lake Trek",
                      "17"
                    ],
                    [
                      "Langtang Valley Trek with Ganja la Pass",
                      "14"
                    ],
                    [
                      "Tamang Heritage Trek",
                      "14"
                    ],
                    [
                      "Manaslu and Annapurna Trek with Tilicho Lake",
                      "25"
                    ],
                    [
                      "Nepal Trekking and Everest Himalaya Heli Tour",
                      "7"
                    ],
                    [
                      "Nepal Hiking and Culture Tour",
                      "8"
                    ],
                    [
                      "Annapurna Sunrise and Everest View Trek",
                      "17"
                    ],
                    [
                      "Tenzing Hillary Everest Marathon",
                      "20"
                    ],
                    [
                      "Everest Base Camp Trek",
                      "16"
                    ],
                    [
                      "Everest Kalapathar Trekking",
                      "15"
                    ],
                    [
                      "Everest Panorama Trek",
                      "10"
                    ],
                    [
                      "Everest Base Camp Trek via Gokyo Lake",
                      "19"
                    ],
                    [
                      "Gokyo Lake Trek",
                      "13"
                    ],
                    [
                      "Everest Base Camp Heli Trek",
                      "9"
                    ],
                    [
                      "Annapurna Circuit Trek",
                      "19"
                    ],
                    [
                      "Annapurna Base Camp Trek",
                      "16"
                    ],
                    [
                      "Ghorepani Poon Hill Trek",
                      "10"
                    ],
                    [
                      "Upper Mustang Trek",
                      "17"
                    ],
                    [
                      "Mardi Himal Trek",
                      "9"
                    ],
                    [
                      "Langtang Valley Trekking",
                      "11"
                    ],
                    [
                      "Manaslu Circuit Trek",
                      "17"
                    ],
                    [
                      "Annapurna Base Camp Trek",
                      "14"
                    ],
                    [
                      "Annapurna Base Camp Short Trek",
                      "11"
                    ],
                    [
                      "Instant Annapurna Base Camp Trek",
                      "9"
                    ],
                    [
                      "Annapurna Base Camp Heli Trek",
                      "9"
                    ],
                    [
                      "Mardi Himal Trek",
                      "9"
                    ],
                    [
                      "Mardi Himal Trekking",
                      "8"
                    ],
                    [
                      "Classic Annapurna Circuit Trek",
                      "18"
                    ],
                    [
                      "Annapurna Circuit Trek",
                      "14"
                    ],
                    [
                      "Annapurna Circuit Short Trek",
                      "12"
                    ],
                    [
                      "Annapurna Luxury Trek",
                      "9"
                    ],
                    [
                      "Annapurna Panorama Trek",
                      "9"
                    ],
                    [
                      "Annapurna Tilicho Lake Trek",
                      "17"
                    ],
                    [
                      "Short Annapurna Trek",
                      "5"
                    ],
                    [
                      "Manaslu Circuit Trek",
                      "15"
                    ],
                    [
                      "Manaslu Circuit Trekking",
                      "14"
                    ],
                    [
                      "Tsum Valley with Manaslu Trek",
                      "20"
                    ],
                    [
                      "Upper Mustang Trek",
                      "17"
                    ],
                    [
                      "Upper Mustang Trek with Yara",
                      "18"
                    ],
                    [
                      "Upper Mustang Tiji Festival Trek",
                      "18"
                    ],
                    [
                      "Langtang Valley Trek",
                      "10"
                    ],
                    [
                      "Langtang Gosaikunda Trek",
                      "16"
                    ],
                    [
                      "Tamang Heritage Trek",
                      "14"
                    ],
                    [
                      "Tamang Heritage Trail",
                      "8"
                    ],
                    [
                      "Helambu Trek",
                      "9"
                    ],
                    [
                      "Annapurna Base Camp Trek",
                      "11"
                    ],
                    [
                      "Everest Base Camp Trek for Youths",
                      "14"
                    ],
                    [
                      "Everest Base Camp Short Trek",
                      "14"
                    ],
                    [
                      "Everest Base Camp Trek",
                      "16"
                    ],
                    [
                      "Annapurna Circuit Trek",
                      "17"
                    ],
                    [
                      "Everest Base Camp Luxury Lodge Trek",
                      "15"
                    ],
                    [
                      "Everest Base Camp Trek via Gokyo Lakes and Cho La Pass",
                      "18"
                    ],
                    [
                      "Upper Mustang Trek",
                      "17"
                    ],
                    [
                      "Everest Advanced Base Camp Trek from Tibet",
                      "18"
                    ],
                    [
                      "Gokyo Lakes and Gokyo Ri Trek",
                      "14"
                    ],
                    [
                      "Mardi Himal Trek",
                      "10"
                    ],
                    [
                      "Manaslu Circuit Trek",
                      "18"
                    ],
                    [
                      "Langtang Valley Trek",
                      "11"
                    ],
                    [
                      "Annapurna Sanctuary Trek",
                      "14"
                    ],
                    [
                      "Rara Lake Trek",
                      "15"
                    ],
                    [
                      "Everest High Passes Trek",
                      "20"
                    ],
                    [
                      "Kanchenjunga Circuit Trek",
                      "25"
                    ],
                    [
                      "Everest View Trek",
                      "12"
                    ],
                    [
                      "Tsum Valley Trek",
                      "19"
                    ],
                    [
                      "The Royal Trek",
                      "9"
                    ],
                    [
                      "Makalu Base Camp Trek",
                      "22"
                    ],
                    [
                      "Langtang, Gosainkunda and Helambu Trek",
                      "17"
                    ],
                    [
                      "Nar Phu Valley Trek",
                      "19"
                    ],
                    [
                      "Annapurna Circle Trek",
                      "14"
                    ],
                    [
                      "Everest Kangshung Face Trek",
                      "21"
                    ],
                    [
                      "Tsum Valley and Manaslu Trek",
                      "27"
                    ],
                    [
                      "Khopra Ridge Community Trek",
                      "13"
                    ],
                    [
                      "Nepal Experience Tour",
                      "12"
                    ],
                    [
                      "Annapurna Circuit Trek with Tilicho Lake and Poon Hill",
                      "20"
                    ],
                    [
                      "Annapurna With Tilicho Lake Trek",
                      "17"
                    ],
                    [
                      "Langtang Valley Trek with Ganja la Pass",
                      "14"
                    ],
                    [
                      "Tamang Heritage Trek",
                      "14"
                    ],
                    [
                      "Manaslu and Annapurna Trek with Tilicho Lake",
                      "25"
                    ],
                    [
                      "Nepal Trekking and Everest Himalaya Heli Tour",
                      "7"
                    ],
                    [
                      "Nepal Hiking and Culture Tour",
                      "8"
                    ],
                    [
                      "Annapurna Sunrise and Everest View Trek",
                      "17"
                    ],
                    [
                      "Tenzing Hillary Everest Marathon",
                      "20"
                    ],
                    [
                      "Everest Base Camp Trek",
                      "16"
                    ],
                    [
                      "Everest Kalapathar Trekking",
                      "15"
                    ],
                    [
                      "Everest Panorama Trek",
                      "10"
                    ],
                    [
                      "Everest Base Camp Trek via Gokyo Lake",
                      "19"
                    ],
                    [
                      "Gokyo Lake Trek",
                      "13"
                    ],
                    [
                      "Everest Base Camp Heli Trek",
                      "9"
                    ],
                    [
                      "Annapurna Circuit Trek",
                      "19"
                    ],
                    [
                      "Annapurna Base Camp Trek",
                      "16"
                    ],
                    [
                      "Ghorepani Poon Hill Trek",
                      "10"
                    ],
                    [
                      "Upper Mustang Trek",
                      "17"
                    ],
                    [
                      "Mardi Himal Trek",
                      "9"
                    ],
                    [
                      "Langtang Valley Trekking",
                      "11"
                    ],
                    [
                      "Manaslu Circuit Trek",
                      "17"
                    ]
                  ],
                  "hovertemplate": "Cost=%{y}<br>Trek=%{customdata[0]}<br>Time=%{customdata[1]}<extra></extra>",
                  "legendgroup": "",
                  "marker": {
                    "color": "#636efa"
                  },
                  "name": "",
                  "notched": false,
                  "offsetgroup": "",
                  "orientation": "v",
                  "showlegend": false,
                  "type": "box",
                  "x0": " ",
                  "xaxis": "x",
                  "y": [
                    1420,
                    1295,
                    2000,
                    3300,
                    1800,
                    1720,
                    1450,
                    1950,
                    1060,
                    1150,
                    1100,
                    4200,
                    1900,
                    1090,
                    1090,
                    980,
                    1750,
                    850,
                    850,
                    1350,
                    1250,
                    1250,
                    1450,
                    860,
                    1450,
                    590,
                    1450,
                    1380,
                    1850,
                    2150,
                    2300,
                    2150,
                    750,
                    1180,
                    920,
                    750,
                    780,
                    1499,
                    1750,
                    1499,
                    1499,
                    1499,
                    1499,
                    1499,
                    1499,
                    1499,
                    1499,
                    1499,
                    1499,
                    1499,
                    1499,
                    1499,
                    1499,
                    1499,
                    1499,
                    1499,
                    1499,
                    1499,
                    1499,
                    1499,
                    1499,
                    1499,
                    1499,
                    1499,
                    1499,
                    1499,
                    1499,
                    1499,
                    1499,
                    1499,
                    1499,
                    1499,
                    1499,
                    1499,
                    1450,
                    1390,
                    1040,
                    1530,
                    1190,
                    3600,
                    1100,
                    1090,
                    450,
                    2100,
                    590,
                    690,
                    1190,
                    1090,
                    1090,
                    980,
                    1750,
                    850,
                    850,
                    1350,
                    1250,
                    1250,
                    1450,
                    860,
                    1450,
                    590,
                    1450,
                    1380,
                    1850,
                    2150,
                    2300,
                    2150,
                    750,
                    1180,
                    920,
                    750,
                    780,
                    1499,
                    1750,
                    1499,
                    1499,
                    1499,
                    1499,
                    1499,
                    1499,
                    1499,
                    1499,
                    1499,
                    1499,
                    1499,
                    1499,
                    1499,
                    1499,
                    1499,
                    1499,
                    1499,
                    1499,
                    1499,
                    1499,
                    1499,
                    1499,
                    1499,
                    1499,
                    1499,
                    1499,
                    1499,
                    1499,
                    1499,
                    1499,
                    1499,
                    1499,
                    1499,
                    1499,
                    1499,
                    1450,
                    1390,
                    1040,
                    1530,
                    1190,
                    3600,
                    1100,
                    1090,
                    450,
                    2100,
                    590,
                    690,
                    1190,
                    1090,
                    1090,
                    980,
                    1750,
                    850,
                    850,
                    1350,
                    1250,
                    1250,
                    1450,
                    860,
                    1450,
                    590,
                    1450,
                    1380,
                    1850,
                    2150,
                    2300,
                    2150,
                    750,
                    1180,
                    920,
                    750,
                    780,
                    1499,
                    1750,
                    1499,
                    1499,
                    1499,
                    1499,
                    1499,
                    1499,
                    1499,
                    1499,
                    1499,
                    1499,
                    1499,
                    1499,
                    1499,
                    1499,
                    1499,
                    1499,
                    1499,
                    1499,
                    1499,
                    1499,
                    1499,
                    1499,
                    1499,
                    1499,
                    1499,
                    1499,
                    1499,
                    1499,
                    1499,
                    1499,
                    1499,
                    1499,
                    1499,
                    1499,
                    1499,
                    1450,
                    1390,
                    1040,
                    1530,
                    1190,
                    3600,
                    1100,
                    1090,
                    450,
                    2100,
                    590,
                    690,
                    1190,
                    1090,
                    1090,
                    980,
                    1750,
                    850,
                    850,
                    1350,
                    1250,
                    1250,
                    1450,
                    860,
                    1450,
                    590,
                    1450,
                    1380,
                    1850,
                    2150,
                    2300,
                    2150,
                    750,
                    1180,
                    920,
                    750,
                    780,
                    1499,
                    1750,
                    1499,
                    1499,
                    1499,
                    1499,
                    1499,
                    1499,
                    1499,
                    1499,
                    1499,
                    1499,
                    1499,
                    1499,
                    1499,
                    1499,
                    1499,
                    1499,
                    1499,
                    1499,
                    1499,
                    1499,
                    1499,
                    1499,
                    1499,
                    1499,
                    1499,
                    1499,
                    1499,
                    1499,
                    1499,
                    1499,
                    1499,
                    1499,
                    1499,
                    1499,
                    1499,
                    1450,
                    1390,
                    1040,
                    1530,
                    1190,
                    3600,
                    1100,
                    1090,
                    450,
                    2100,
                    590,
                    690,
                    1190,
                    1090,
                    1090,
                    980,
                    1750,
                    850,
                    850,
                    1350,
                    1250,
                    1250,
                    1450,
                    860,
                    1450,
                    590,
                    1450,
                    1380,
                    1850,
                    2150,
                    2300,
                    2150,
                    750,
                    1180,
                    920,
                    750,
                    780,
                    1499,
                    1750,
                    1499,
                    1499,
                    1499,
                    1499,
                    1499,
                    1499,
                    1499,
                    1499,
                    1499,
                    1499,
                    1499,
                    1499,
                    1499,
                    1499,
                    1499,
                    1499,
                    1499,
                    1499,
                    1499,
                    1499,
                    1499,
                    1499,
                    1499,
                    1499,
                    1499,
                    1499,
                    1499,
                    1499,
                    1499,
                    1499,
                    1499,
                    1499,
                    1499,
                    1499,
                    1499,
                    1450,
                    1390,
                    1040,
                    1530,
                    1190,
                    3600,
                    1100,
                    1090,
                    450,
                    2100,
                    590,
                    690,
                    1190
                  ],
                  "y0": " ",
                  "yaxis": "y"
                }
              ],
              "layout": {
                "boxmode": "group",
                "legend": {
                  "tracegroupgap": 0
                },
                "template": {
                  "data": {
                    "bar": [
                      {
                        "error_x": {
                          "color": "#2a3f5f"
                        },
                        "error_y": {
                          "color": "#2a3f5f"
                        },
                        "marker": {
                          "line": {
                            "color": "#E5ECF6",
                            "width": 0.5
                          },
                          "pattern": {
                            "fillmode": "overlay",
                            "size": 10,
                            "solidity": 0.2
                          }
                        },
                        "type": "bar"
                      }
                    ],
                    "barpolar": [
                      {
                        "marker": {
                          "line": {
                            "color": "#E5ECF6",
                            "width": 0.5
                          },
                          "pattern": {
                            "fillmode": "overlay",
                            "size": 10,
                            "solidity": 0.2
                          }
                        },
                        "type": "barpolar"
                      }
                    ],
                    "carpet": [
                      {
                        "aaxis": {
                          "endlinecolor": "#2a3f5f",
                          "gridcolor": "white",
                          "linecolor": "white",
                          "minorgridcolor": "white",
                          "startlinecolor": "#2a3f5f"
                        },
                        "baxis": {
                          "endlinecolor": "#2a3f5f",
                          "gridcolor": "white",
                          "linecolor": "white",
                          "minorgridcolor": "white",
                          "startlinecolor": "#2a3f5f"
                        },
                        "type": "carpet"
                      }
                    ],
                    "choropleth": [
                      {
                        "colorbar": {
                          "outlinewidth": 0,
                          "ticks": ""
                        },
                        "type": "choropleth"
                      }
                    ],
                    "contour": [
                      {
                        "colorbar": {
                          "outlinewidth": 0,
                          "ticks": ""
                        },
                        "colorscale": [
                          [
                            0,
                            "#0d0887"
                          ],
                          [
                            0.1111111111111111,
                            "#46039f"
                          ],
                          [
                            0.2222222222222222,
                            "#7201a8"
                          ],
                          [
                            0.3333333333333333,
                            "#9c179e"
                          ],
                          [
                            0.4444444444444444,
                            "#bd3786"
                          ],
                          [
                            0.5555555555555556,
                            "#d8576b"
                          ],
                          [
                            0.6666666666666666,
                            "#ed7953"
                          ],
                          [
                            0.7777777777777778,
                            "#fb9f3a"
                          ],
                          [
                            0.8888888888888888,
                            "#fdca26"
                          ],
                          [
                            1,
                            "#f0f921"
                          ]
                        ],
                        "type": "contour"
                      }
                    ],
                    "contourcarpet": [
                      {
                        "colorbar": {
                          "outlinewidth": 0,
                          "ticks": ""
                        },
                        "type": "contourcarpet"
                      }
                    ],
                    "heatmap": [
                      {
                        "colorbar": {
                          "outlinewidth": 0,
                          "ticks": ""
                        },
                        "colorscale": [
                          [
                            0,
                            "#0d0887"
                          ],
                          [
                            0.1111111111111111,
                            "#46039f"
                          ],
                          [
                            0.2222222222222222,
                            "#7201a8"
                          ],
                          [
                            0.3333333333333333,
                            "#9c179e"
                          ],
                          [
                            0.4444444444444444,
                            "#bd3786"
                          ],
                          [
                            0.5555555555555556,
                            "#d8576b"
                          ],
                          [
                            0.6666666666666666,
                            "#ed7953"
                          ],
                          [
                            0.7777777777777778,
                            "#fb9f3a"
                          ],
                          [
                            0.8888888888888888,
                            "#fdca26"
                          ],
                          [
                            1,
                            "#f0f921"
                          ]
                        ],
                        "type": "heatmap"
                      }
                    ],
                    "heatmapgl": [
                      {
                        "colorbar": {
                          "outlinewidth": 0,
                          "ticks": ""
                        },
                        "colorscale": [
                          [
                            0,
                            "#0d0887"
                          ],
                          [
                            0.1111111111111111,
                            "#46039f"
                          ],
                          [
                            0.2222222222222222,
                            "#7201a8"
                          ],
                          [
                            0.3333333333333333,
                            "#9c179e"
                          ],
                          [
                            0.4444444444444444,
                            "#bd3786"
                          ],
                          [
                            0.5555555555555556,
                            "#d8576b"
                          ],
                          [
                            0.6666666666666666,
                            "#ed7953"
                          ],
                          [
                            0.7777777777777778,
                            "#fb9f3a"
                          ],
                          [
                            0.8888888888888888,
                            "#fdca26"
                          ],
                          [
                            1,
                            "#f0f921"
                          ]
                        ],
                        "type": "heatmapgl"
                      }
                    ],
                    "histogram": [
                      {
                        "marker": {
                          "pattern": {
                            "fillmode": "overlay",
                            "size": 10,
                            "solidity": 0.2
                          }
                        },
                        "type": "histogram"
                      }
                    ],
                    "histogram2d": [
                      {
                        "colorbar": {
                          "outlinewidth": 0,
                          "ticks": ""
                        },
                        "colorscale": [
                          [
                            0,
                            "#0d0887"
                          ],
                          [
                            0.1111111111111111,
                            "#46039f"
                          ],
                          [
                            0.2222222222222222,
                            "#7201a8"
                          ],
                          [
                            0.3333333333333333,
                            "#9c179e"
                          ],
                          [
                            0.4444444444444444,
                            "#bd3786"
                          ],
                          [
                            0.5555555555555556,
                            "#d8576b"
                          ],
                          [
                            0.6666666666666666,
                            "#ed7953"
                          ],
                          [
                            0.7777777777777778,
                            "#fb9f3a"
                          ],
                          [
                            0.8888888888888888,
                            "#fdca26"
                          ],
                          [
                            1,
                            "#f0f921"
                          ]
                        ],
                        "type": "histogram2d"
                      }
                    ],
                    "histogram2dcontour": [
                      {
                        "colorbar": {
                          "outlinewidth": 0,
                          "ticks": ""
                        },
                        "colorscale": [
                          [
                            0,
                            "#0d0887"
                          ],
                          [
                            0.1111111111111111,
                            "#46039f"
                          ],
                          [
                            0.2222222222222222,
                            "#7201a8"
                          ],
                          [
                            0.3333333333333333,
                            "#9c179e"
                          ],
                          [
                            0.4444444444444444,
                            "#bd3786"
                          ],
                          [
                            0.5555555555555556,
                            "#d8576b"
                          ],
                          [
                            0.6666666666666666,
                            "#ed7953"
                          ],
                          [
                            0.7777777777777778,
                            "#fb9f3a"
                          ],
                          [
                            0.8888888888888888,
                            "#fdca26"
                          ],
                          [
                            1,
                            "#f0f921"
                          ]
                        ],
                        "type": "histogram2dcontour"
                      }
                    ],
                    "mesh3d": [
                      {
                        "colorbar": {
                          "outlinewidth": 0,
                          "ticks": ""
                        },
                        "type": "mesh3d"
                      }
                    ],
                    "parcoords": [
                      {
                        "line": {
                          "colorbar": {
                            "outlinewidth": 0,
                            "ticks": ""
                          }
                        },
                        "type": "parcoords"
                      }
                    ],
                    "pie": [
                      {
                        "automargin": true,
                        "type": "pie"
                      }
                    ],
                    "scatter": [
                      {
                        "fillpattern": {
                          "fillmode": "overlay",
                          "size": 10,
                          "solidity": 0.2
                        },
                        "type": "scatter"
                      }
                    ],
                    "scatter3d": [
                      {
                        "line": {
                          "colorbar": {
                            "outlinewidth": 0,
                            "ticks": ""
                          }
                        },
                        "marker": {
                          "colorbar": {
                            "outlinewidth": 0,
                            "ticks": ""
                          }
                        },
                        "type": "scatter3d"
                      }
                    ],
                    "scattercarpet": [
                      {
                        "marker": {
                          "colorbar": {
                            "outlinewidth": 0,
                            "ticks": ""
                          }
                        },
                        "type": "scattercarpet"
                      }
                    ],
                    "scattergeo": [
                      {
                        "marker": {
                          "colorbar": {
                            "outlinewidth": 0,
                            "ticks": ""
                          }
                        },
                        "type": "scattergeo"
                      }
                    ],
                    "scattergl": [
                      {
                        "marker": {
                          "colorbar": {
                            "outlinewidth": 0,
                            "ticks": ""
                          }
                        },
                        "type": "scattergl"
                      }
                    ],
                    "scattermapbox": [
                      {
                        "marker": {
                          "colorbar": {
                            "outlinewidth": 0,
                            "ticks": ""
                          }
                        },
                        "type": "scattermapbox"
                      }
                    ],
                    "scatterpolar": [
                      {
                        "marker": {
                          "colorbar": {
                            "outlinewidth": 0,
                            "ticks": ""
                          }
                        },
                        "type": "scatterpolar"
                      }
                    ],
                    "scatterpolargl": [
                      {
                        "marker": {
                          "colorbar": {
                            "outlinewidth": 0,
                            "ticks": ""
                          }
                        },
                        "type": "scatterpolargl"
                      }
                    ],
                    "scatterternary": [
                      {
                        "marker": {
                          "colorbar": {
                            "outlinewidth": 0,
                            "ticks": ""
                          }
                        },
                        "type": "scatterternary"
                      }
                    ],
                    "surface": [
                      {
                        "colorbar": {
                          "outlinewidth": 0,
                          "ticks": ""
                        },
                        "colorscale": [
                          [
                            0,
                            "#0d0887"
                          ],
                          [
                            0.1111111111111111,
                            "#46039f"
                          ],
                          [
                            0.2222222222222222,
                            "#7201a8"
                          ],
                          [
                            0.3333333333333333,
                            "#9c179e"
                          ],
                          [
                            0.4444444444444444,
                            "#bd3786"
                          ],
                          [
                            0.5555555555555556,
                            "#d8576b"
                          ],
                          [
                            0.6666666666666666,
                            "#ed7953"
                          ],
                          [
                            0.7777777777777778,
                            "#fb9f3a"
                          ],
                          [
                            0.8888888888888888,
                            "#fdca26"
                          ],
                          [
                            1,
                            "#f0f921"
                          ]
                        ],
                        "type": "surface"
                      }
                    ],
                    "table": [
                      {
                        "cells": {
                          "fill": {
                            "color": "#EBF0F8"
                          },
                          "line": {
                            "color": "white"
                          }
                        },
                        "header": {
                          "fill": {
                            "color": "#C8D4E3"
                          },
                          "line": {
                            "color": "white"
                          }
                        },
                        "type": "table"
                      }
                    ]
                  },
                  "layout": {
                    "annotationdefaults": {
                      "arrowcolor": "#2a3f5f",
                      "arrowhead": 0,
                      "arrowwidth": 1
                    },
                    "autotypenumbers": "strict",
                    "coloraxis": {
                      "colorbar": {
                        "outlinewidth": 0,
                        "ticks": ""
                      }
                    },
                    "colorscale": {
                      "diverging": [
                        [
                          0,
                          "#8e0152"
                        ],
                        [
                          0.1,
                          "#c51b7d"
                        ],
                        [
                          0.2,
                          "#de77ae"
                        ],
                        [
                          0.3,
                          "#f1b6da"
                        ],
                        [
                          0.4,
                          "#fde0ef"
                        ],
                        [
                          0.5,
                          "#f7f7f7"
                        ],
                        [
                          0.6,
                          "#e6f5d0"
                        ],
                        [
                          0.7,
                          "#b8e186"
                        ],
                        [
                          0.8,
                          "#7fbc41"
                        ],
                        [
                          0.9,
                          "#4d9221"
                        ],
                        [
                          1,
                          "#276419"
                        ]
                      ],
                      "sequential": [
                        [
                          0,
                          "#0d0887"
                        ],
                        [
                          0.1111111111111111,
                          "#46039f"
                        ],
                        [
                          0.2222222222222222,
                          "#7201a8"
                        ],
                        [
                          0.3333333333333333,
                          "#9c179e"
                        ],
                        [
                          0.4444444444444444,
                          "#bd3786"
                        ],
                        [
                          0.5555555555555556,
                          "#d8576b"
                        ],
                        [
                          0.6666666666666666,
                          "#ed7953"
                        ],
                        [
                          0.7777777777777778,
                          "#fb9f3a"
                        ],
                        [
                          0.8888888888888888,
                          "#fdca26"
                        ],
                        [
                          1,
                          "#f0f921"
                        ]
                      ],
                      "sequentialminus": [
                        [
                          0,
                          "#0d0887"
                        ],
                        [
                          0.1111111111111111,
                          "#46039f"
                        ],
                        [
                          0.2222222222222222,
                          "#7201a8"
                        ],
                        [
                          0.3333333333333333,
                          "#9c179e"
                        ],
                        [
                          0.4444444444444444,
                          "#bd3786"
                        ],
                        [
                          0.5555555555555556,
                          "#d8576b"
                        ],
                        [
                          0.6666666666666666,
                          "#ed7953"
                        ],
                        [
                          0.7777777777777778,
                          "#fb9f3a"
                        ],
                        [
                          0.8888888888888888,
                          "#fdca26"
                        ],
                        [
                          1,
                          "#f0f921"
                        ]
                      ]
                    },
                    "colorway": [
                      "#636efa",
                      "#EF553B",
                      "#00cc96",
                      "#ab63fa",
                      "#FFA15A",
                      "#19d3f3",
                      "#FF6692",
                      "#B6E880",
                      "#FF97FF",
                      "#FECB52"
                    ],
                    "font": {
                      "color": "#2a3f5f"
                    },
                    "geo": {
                      "bgcolor": "white",
                      "lakecolor": "white",
                      "landcolor": "#E5ECF6",
                      "showlakes": true,
                      "showland": true,
                      "subunitcolor": "white"
                    },
                    "hoverlabel": {
                      "align": "left"
                    },
                    "hovermode": "closest",
                    "mapbox": {
                      "style": "light"
                    },
                    "paper_bgcolor": "white",
                    "plot_bgcolor": "#E5ECF6",
                    "polar": {
                      "angularaxis": {
                        "gridcolor": "white",
                        "linecolor": "white",
                        "ticks": ""
                      },
                      "bgcolor": "#E5ECF6",
                      "radialaxis": {
                        "gridcolor": "white",
                        "linecolor": "white",
                        "ticks": ""
                      }
                    },
                    "scene": {
                      "xaxis": {
                        "backgroundcolor": "#E5ECF6",
                        "gridcolor": "white",
                        "gridwidth": 2,
                        "linecolor": "white",
                        "showbackground": true,
                        "ticks": "",
                        "zerolinecolor": "white"
                      },
                      "yaxis": {
                        "backgroundcolor": "#E5ECF6",
                        "gridcolor": "white",
                        "gridwidth": 2,
                        "linecolor": "white",
                        "showbackground": true,
                        "ticks": "",
                        "zerolinecolor": "white"
                      },
                      "zaxis": {
                        "backgroundcolor": "#E5ECF6",
                        "gridcolor": "white",
                        "gridwidth": 2,
                        "linecolor": "white",
                        "showbackground": true,
                        "ticks": "",
                        "zerolinecolor": "white"
                      }
                    },
                    "shapedefaults": {
                      "line": {
                        "color": "#2a3f5f"
                      }
                    },
                    "ternary": {
                      "aaxis": {
                        "gridcolor": "white",
                        "linecolor": "white",
                        "ticks": ""
                      },
                      "baxis": {
                        "gridcolor": "white",
                        "linecolor": "white",
                        "ticks": ""
                      },
                      "bgcolor": "#E5ECF6",
                      "caxis": {
                        "gridcolor": "white",
                        "linecolor": "white",
                        "ticks": ""
                      }
                    },
                    "title": {
                      "x": 0.05
                    },
                    "xaxis": {
                      "automargin": true,
                      "gridcolor": "white",
                      "linecolor": "white",
                      "ticks": "",
                      "title": {
                        "standoff": 15
                      },
                      "zerolinecolor": "white",
                      "zerolinewidth": 2
                    },
                    "yaxis": {
                      "automargin": true,
                      "gridcolor": "white",
                      "linecolor": "white",
                      "ticks": "",
                      "title": {
                        "standoff": 15
                      },
                      "zerolinecolor": "white",
                      "zerolinewidth": 2
                    }
                  }
                },
                "title": {
                  "text": "Box plot for Trek Costs"
                },
                "xaxis": {
                  "anchor": "y",
                  "domain": [
                    0,
                    1
                  ]
                },
                "yaxis": {
                  "anchor": "x",
                  "domain": [
                    0,
                    1
                  ],
                  "title": {
                    "text": "Cost"
                  }
                }
              }
            }
          },
          "metadata": {},
          "output_type": "display_data"
        }
      ],
      "source": [
        "fig = px.box(df,\n",
        "             y='Cost',\n",
        "             title='Box plot for Trek Costs',\n",
        "             hover_data=['Trek', 'Time']\n",
        "            )\n",
        "\n",
        "fig.show()"
      ]
    },
    {
      "cell_type": "code",
      "execution_count": 42,
      "metadata": {
        "colab": {
          "base_uri": "https://localhost:8080/"
        },
        "id": "992CP1aSM_JG",
        "outputId": "d8bba625-af75-494d-ade3-385f6afb74aa"
      },
      "outputs": [
        {
          "name": "stdout",
          "output_type": "stream",
          "text": [
            "Q1: 1190.0\n",
            "Q3: 1499.0\n",
            "IQR: 309.0\n",
            "Lower Bound for outliers: 726.5\n",
            "Upper Bound for outliers: 1962.5\n"
          ]
        }
      ],
      "source": [
        "# Calculate Q1 (25th percentile) and Q3 (75th percentile)\n",
        "Q1 = df['Cost'].quantile(0.25)\n",
        "Q3 = df['Cost'].quantile(0.75)\n",
        "IQR = Q3 - Q1\n",
        "\n",
        "# Determine the lower and upper bounds\n",
        "lower_bound = Q1 - 1.5 * IQR\n",
        "upper_bound = Q3 + 1.5 * IQR\n",
        "\n",
        "# Print calculated quartiles and bounds for debugging\n",
        "print(\"Q1:\", Q1)\n",
        "print(\"Q3:\", Q3)\n",
        "print(\"IQR:\", IQR)\n",
        "print(\"Lower Bound for outliers:\", lower_bound)\n",
        "print(\"Upper Bound for outliers:\", upper_bound)\n",
        "\n",
        "# Identify the outliers\n",
        "outliers = df[(df['Cost'] < lower_bound) | (df['Cost'] > upper_bound)]"
      ]
    },
    {
      "cell_type": "markdown",
      "metadata": {
        "id": "mkOaPN46KG4H"
      },
      "source": [
        "### **Removing outliers on `Cost`**"
      ]
    },
    {
      "cell_type": "code",
      "execution_count": null,
      "metadata": {
        "id": "DJa62FEoKCMs"
      },
      "outputs": [],
      "source": []
    },
    {
      "cell_type": "markdown",
      "metadata": {
        "id": "X6uoeGnyrn1I"
      },
      "source": [
        "## **`Annual Income` Column**"
      ]
    },
    {
      "cell_type": "code",
      "execution_count": 43,
      "metadata": {
        "id": "4RvqQVQFLJIE"
      },
      "outputs": [],
      "source": [
        "#Renaming the column name\n",
        "df.rename(columns={'AnnualIncome': 'Annual Income'}, inplace=True)"
      ]
    },
    {
      "cell_type": "code",
      "execution_count": 44,
      "metadata": {
        "colab": {
          "base_uri": "https://localhost:8080/"
        },
        "id": "NsZr5mlwQI-N",
        "outputId": "2aad0324-03c7-4c6e-ed43-9e25ccbba8e5"
      },
      "outputs": [
        {
          "name": "stdout",
          "output_type": "stream",
          "text": [
            "Unique values in Annual Income column: [ 400000 1250000  500000  700000 1150000 1300000 1350000 1450000  800000\n",
            " 1400000  850000 1500000 1050000  350000 1100000  600000  900000  550000\n",
            "  300000  750000 1200000 1000000  950000 1700000 1750000  650000  450000\n",
            " 1650000 1800000 1550000]\n"
          ]
        }
      ],
      "source": [
        "print(\"Unique values in Annual Income column:\", df['Annual Income'].unique())"
      ]
    },
    {
      "cell_type": "code",
      "execution_count": 45,
      "metadata": {
        "colab": {
          "base_uri": "https://localhost:8080/",
          "height": 542
        },
        "id": "rIn0q7tgQ5CH",
        "outputId": "ad4bc183-9203-4b56-97c4-f511e20eddf4"
      },
      "outputs": [
        {
          "data": {
            "application/vnd.plotly.v1+json": {
              "config": {
                "plotlyServerURL": "https://plot.ly"
              },
              "data": [
                {
                  "alignmentgroup": "True",
                  "hovertemplate": "Annual Income=%{y}<extra></extra>",
                  "legendgroup": "",
                  "marker": {
                    "color": "#636efa"
                  },
                  "name": "",
                  "notched": false,
                  "offsetgroup": "",
                  "orientation": "v",
                  "showlegend": false,
                  "type": "box",
                  "x0": " ",
                  "xaxis": "x",
                  "y": [
                    400000,
                    1250000,
                    500000,
                    700000,
                    700000,
                    1150000,
                    1300000,
                    1350000,
                    1450000,
                    800000,
                    400000,
                    1400000,
                    850000,
                    1500000,
                    400000,
                    700000,
                    1150000,
                    800000,
                    1050000,
                    1500000,
                    1150000,
                    350000,
                    1100000,
                    600000,
                    1500000,
                    800000,
                    1300000,
                    1250000,
                    600000,
                    900000,
                    550000,
                    300000,
                    750000,
                    850000,
                    800000,
                    1400000,
                    300000,
                    700000,
                    1100000,
                    1500000,
                    1400000,
                    550000,
                    1500000,
                    1200000,
                    1400000,
                    1400000,
                    1400000,
                    1100000,
                    600000,
                    1350000,
                    1250000,
                    1050000,
                    1250000,
                    300000,
                    1200000,
                    750000,
                    550000,
                    1000000,
                    1400000,
                    1400000,
                    1250000,
                    800000,
                    800000,
                    500000,
                    1450000,
                    600000,
                    800000,
                    1500000,
                    350000,
                    300000,
                    1300000,
                    750000,
                    800000,
                    750000,
                    700000,
                    1300000,
                    1200000,
                    400000,
                    1300000,
                    400000,
                    1300000,
                    1150000,
                    1250000,
                    950000,
                    350000,
                    1700000,
                    900000,
                    300000,
                    1050000,
                    300000,
                    1050000,
                    300000,
                    1150000,
                    700000,
                    1300000,
                    1400000,
                    700000,
                    350000,
                    1100000,
                    600000,
                    1300000,
                    1500000,
                    500000,
                    1400000,
                    1150000,
                    750000,
                    1300000,
                    850000,
                    1300000,
                    1700000,
                    400000,
                    800000,
                    800000,
                    900000,
                    500000,
                    900000,
                    1150000,
                    400000,
                    1500000,
                    500000,
                    800000,
                    1400000,
                    800000,
                    850000,
                    350000,
                    500000,
                    800000,
                    750000,
                    1350000,
                    1050000,
                    800000,
                    750000,
                    1100000,
                    1750000,
                    600000,
                    800000,
                    500000,
                    600000,
                    1150000,
                    800000,
                    550000,
                    1400000,
                    350000,
                    1300000,
                    1250000,
                    1150000,
                    750000,
                    400000,
                    1400000,
                    800000,
                    650000,
                    1200000,
                    1200000,
                    600000,
                    700000,
                    1300000,
                    900000,
                    600000,
                    1250000,
                    900000,
                    1200000,
                    1400000,
                    500000,
                    350000,
                    300000,
                    1000000,
                    800000,
                    400000,
                    850000,
                    600000,
                    1350000,
                    900000,
                    600000,
                    450000,
                    700000,
                    800000,
                    1050000,
                    1250000,
                    350000,
                    1250000,
                    750000,
                    1300000,
                    800000,
                    1700000,
                    750000,
                    300000,
                    500000,
                    650000,
                    500000,
                    1400000,
                    900000,
                    650000,
                    800000,
                    1300000,
                    1100000,
                    1400000,
                    1000000,
                    1150000,
                    1350000,
                    1450000,
                    1050000,
                    1400000,
                    600000,
                    1100000,
                    900000,
                    1150000,
                    1150000,
                    350000,
                    1350000,
                    1700000,
                    1200000,
                    450000,
                    750000,
                    1400000,
                    850000,
                    1100000,
                    1050000,
                    800000,
                    1500000,
                    1250000,
                    800000,
                    1200000,
                    1200000,
                    650000,
                    1100000,
                    1250000,
                    1300000,
                    1300000,
                    1000000,
                    1000000,
                    900000,
                    1200000,
                    1250000,
                    1200000,
                    1300000,
                    550000,
                    1500000,
                    500000,
                    600000,
                    1250000,
                    350000,
                    800000,
                    400000,
                    750000,
                    500000,
                    1150000,
                    350000,
                    1050000,
                    1300000,
                    1150000,
                    1000000,
                    300000,
                    1350000,
                    1400000,
                    1200000,
                    1500000,
                    1300000,
                    550000,
                    900000,
                    400000,
                    1400000,
                    1100000,
                    750000,
                    800000,
                    350000,
                    850000,
                    400000,
                    1100000,
                    500000,
                    800000,
                    1300000,
                    900000,
                    700000,
                    1000000,
                    850000,
                    1400000,
                    1050000,
                    950000,
                    800000,
                    350000,
                    800000,
                    750000,
                    1400000,
                    600000,
                    750000,
                    750000,
                    600000,
                    1200000,
                    1100000,
                    500000,
                    900000,
                    1300000,
                    850000,
                    1250000,
                    1200000,
                    550000,
                    350000,
                    800000,
                    1700000,
                    450000,
                    900000,
                    850000,
                    700000,
                    300000,
                    1050000,
                    1250000,
                    650000,
                    1150000,
                    1000000,
                    650000,
                    550000,
                    1500000,
                    850000,
                    1150000,
                    1400000,
                    300000,
                    950000,
                    800000,
                    1100000,
                    1700000,
                    800000,
                    500000,
                    750000,
                    1400000,
                    300000,
                    1250000,
                    1150000,
                    1300000,
                    700000,
                    1100000,
                    800000,
                    550000,
                    1650000,
                    1400000,
                    1050000,
                    800000,
                    350000,
                    550000,
                    600000,
                    1050000,
                    800000,
                    550000,
                    1100000,
                    1250000,
                    800000,
                    1200000,
                    1800000,
                    1300000,
                    1400000,
                    500000,
                    950000,
                    1200000,
                    1350000,
                    300000,
                    1150000,
                    1400000,
                    1000000,
                    500000,
                    1000000,
                    1150000,
                    550000,
                    1350000,
                    700000,
                    1300000,
                    1200000,
                    1700000,
                    300000,
                    1300000,
                    800000,
                    800000,
                    1300000,
                    900000,
                    350000,
                    900000,
                    600000,
                    1100000,
                    1300000,
                    1550000,
                    1700000,
                    1550000,
                    1200000,
                    1200000,
                    1400000
                  ],
                  "y0": " ",
                  "yaxis": "y"
                }
              ],
              "layout": {
                "boxmode": "group",
                "legend": {
                  "tracegroupgap": 0
                },
                "template": {
                  "data": {
                    "bar": [
                      {
                        "error_x": {
                          "color": "#2a3f5f"
                        },
                        "error_y": {
                          "color": "#2a3f5f"
                        },
                        "marker": {
                          "line": {
                            "color": "#E5ECF6",
                            "width": 0.5
                          },
                          "pattern": {
                            "fillmode": "overlay",
                            "size": 10,
                            "solidity": 0.2
                          }
                        },
                        "type": "bar"
                      }
                    ],
                    "barpolar": [
                      {
                        "marker": {
                          "line": {
                            "color": "#E5ECF6",
                            "width": 0.5
                          },
                          "pattern": {
                            "fillmode": "overlay",
                            "size": 10,
                            "solidity": 0.2
                          }
                        },
                        "type": "barpolar"
                      }
                    ],
                    "carpet": [
                      {
                        "aaxis": {
                          "endlinecolor": "#2a3f5f",
                          "gridcolor": "white",
                          "linecolor": "white",
                          "minorgridcolor": "white",
                          "startlinecolor": "#2a3f5f"
                        },
                        "baxis": {
                          "endlinecolor": "#2a3f5f",
                          "gridcolor": "white",
                          "linecolor": "white",
                          "minorgridcolor": "white",
                          "startlinecolor": "#2a3f5f"
                        },
                        "type": "carpet"
                      }
                    ],
                    "choropleth": [
                      {
                        "colorbar": {
                          "outlinewidth": 0,
                          "ticks": ""
                        },
                        "type": "choropleth"
                      }
                    ],
                    "contour": [
                      {
                        "colorbar": {
                          "outlinewidth": 0,
                          "ticks": ""
                        },
                        "colorscale": [
                          [
                            0,
                            "#0d0887"
                          ],
                          [
                            0.1111111111111111,
                            "#46039f"
                          ],
                          [
                            0.2222222222222222,
                            "#7201a8"
                          ],
                          [
                            0.3333333333333333,
                            "#9c179e"
                          ],
                          [
                            0.4444444444444444,
                            "#bd3786"
                          ],
                          [
                            0.5555555555555556,
                            "#d8576b"
                          ],
                          [
                            0.6666666666666666,
                            "#ed7953"
                          ],
                          [
                            0.7777777777777778,
                            "#fb9f3a"
                          ],
                          [
                            0.8888888888888888,
                            "#fdca26"
                          ],
                          [
                            1,
                            "#f0f921"
                          ]
                        ],
                        "type": "contour"
                      }
                    ],
                    "contourcarpet": [
                      {
                        "colorbar": {
                          "outlinewidth": 0,
                          "ticks": ""
                        },
                        "type": "contourcarpet"
                      }
                    ],
                    "heatmap": [
                      {
                        "colorbar": {
                          "outlinewidth": 0,
                          "ticks": ""
                        },
                        "colorscale": [
                          [
                            0,
                            "#0d0887"
                          ],
                          [
                            0.1111111111111111,
                            "#46039f"
                          ],
                          [
                            0.2222222222222222,
                            "#7201a8"
                          ],
                          [
                            0.3333333333333333,
                            "#9c179e"
                          ],
                          [
                            0.4444444444444444,
                            "#bd3786"
                          ],
                          [
                            0.5555555555555556,
                            "#d8576b"
                          ],
                          [
                            0.6666666666666666,
                            "#ed7953"
                          ],
                          [
                            0.7777777777777778,
                            "#fb9f3a"
                          ],
                          [
                            0.8888888888888888,
                            "#fdca26"
                          ],
                          [
                            1,
                            "#f0f921"
                          ]
                        ],
                        "type": "heatmap"
                      }
                    ],
                    "heatmapgl": [
                      {
                        "colorbar": {
                          "outlinewidth": 0,
                          "ticks": ""
                        },
                        "colorscale": [
                          [
                            0,
                            "#0d0887"
                          ],
                          [
                            0.1111111111111111,
                            "#46039f"
                          ],
                          [
                            0.2222222222222222,
                            "#7201a8"
                          ],
                          [
                            0.3333333333333333,
                            "#9c179e"
                          ],
                          [
                            0.4444444444444444,
                            "#bd3786"
                          ],
                          [
                            0.5555555555555556,
                            "#d8576b"
                          ],
                          [
                            0.6666666666666666,
                            "#ed7953"
                          ],
                          [
                            0.7777777777777778,
                            "#fb9f3a"
                          ],
                          [
                            0.8888888888888888,
                            "#fdca26"
                          ],
                          [
                            1,
                            "#f0f921"
                          ]
                        ],
                        "type": "heatmapgl"
                      }
                    ],
                    "histogram": [
                      {
                        "marker": {
                          "pattern": {
                            "fillmode": "overlay",
                            "size": 10,
                            "solidity": 0.2
                          }
                        },
                        "type": "histogram"
                      }
                    ],
                    "histogram2d": [
                      {
                        "colorbar": {
                          "outlinewidth": 0,
                          "ticks": ""
                        },
                        "colorscale": [
                          [
                            0,
                            "#0d0887"
                          ],
                          [
                            0.1111111111111111,
                            "#46039f"
                          ],
                          [
                            0.2222222222222222,
                            "#7201a8"
                          ],
                          [
                            0.3333333333333333,
                            "#9c179e"
                          ],
                          [
                            0.4444444444444444,
                            "#bd3786"
                          ],
                          [
                            0.5555555555555556,
                            "#d8576b"
                          ],
                          [
                            0.6666666666666666,
                            "#ed7953"
                          ],
                          [
                            0.7777777777777778,
                            "#fb9f3a"
                          ],
                          [
                            0.8888888888888888,
                            "#fdca26"
                          ],
                          [
                            1,
                            "#f0f921"
                          ]
                        ],
                        "type": "histogram2d"
                      }
                    ],
                    "histogram2dcontour": [
                      {
                        "colorbar": {
                          "outlinewidth": 0,
                          "ticks": ""
                        },
                        "colorscale": [
                          [
                            0,
                            "#0d0887"
                          ],
                          [
                            0.1111111111111111,
                            "#46039f"
                          ],
                          [
                            0.2222222222222222,
                            "#7201a8"
                          ],
                          [
                            0.3333333333333333,
                            "#9c179e"
                          ],
                          [
                            0.4444444444444444,
                            "#bd3786"
                          ],
                          [
                            0.5555555555555556,
                            "#d8576b"
                          ],
                          [
                            0.6666666666666666,
                            "#ed7953"
                          ],
                          [
                            0.7777777777777778,
                            "#fb9f3a"
                          ],
                          [
                            0.8888888888888888,
                            "#fdca26"
                          ],
                          [
                            1,
                            "#f0f921"
                          ]
                        ],
                        "type": "histogram2dcontour"
                      }
                    ],
                    "mesh3d": [
                      {
                        "colorbar": {
                          "outlinewidth": 0,
                          "ticks": ""
                        },
                        "type": "mesh3d"
                      }
                    ],
                    "parcoords": [
                      {
                        "line": {
                          "colorbar": {
                            "outlinewidth": 0,
                            "ticks": ""
                          }
                        },
                        "type": "parcoords"
                      }
                    ],
                    "pie": [
                      {
                        "automargin": true,
                        "type": "pie"
                      }
                    ],
                    "scatter": [
                      {
                        "fillpattern": {
                          "fillmode": "overlay",
                          "size": 10,
                          "solidity": 0.2
                        },
                        "type": "scatter"
                      }
                    ],
                    "scatter3d": [
                      {
                        "line": {
                          "colorbar": {
                            "outlinewidth": 0,
                            "ticks": ""
                          }
                        },
                        "marker": {
                          "colorbar": {
                            "outlinewidth": 0,
                            "ticks": ""
                          }
                        },
                        "type": "scatter3d"
                      }
                    ],
                    "scattercarpet": [
                      {
                        "marker": {
                          "colorbar": {
                            "outlinewidth": 0,
                            "ticks": ""
                          }
                        },
                        "type": "scattercarpet"
                      }
                    ],
                    "scattergeo": [
                      {
                        "marker": {
                          "colorbar": {
                            "outlinewidth": 0,
                            "ticks": ""
                          }
                        },
                        "type": "scattergeo"
                      }
                    ],
                    "scattergl": [
                      {
                        "marker": {
                          "colorbar": {
                            "outlinewidth": 0,
                            "ticks": ""
                          }
                        },
                        "type": "scattergl"
                      }
                    ],
                    "scattermapbox": [
                      {
                        "marker": {
                          "colorbar": {
                            "outlinewidth": 0,
                            "ticks": ""
                          }
                        },
                        "type": "scattermapbox"
                      }
                    ],
                    "scatterpolar": [
                      {
                        "marker": {
                          "colorbar": {
                            "outlinewidth": 0,
                            "ticks": ""
                          }
                        },
                        "type": "scatterpolar"
                      }
                    ],
                    "scatterpolargl": [
                      {
                        "marker": {
                          "colorbar": {
                            "outlinewidth": 0,
                            "ticks": ""
                          }
                        },
                        "type": "scatterpolargl"
                      }
                    ],
                    "scatterternary": [
                      {
                        "marker": {
                          "colorbar": {
                            "outlinewidth": 0,
                            "ticks": ""
                          }
                        },
                        "type": "scatterternary"
                      }
                    ],
                    "surface": [
                      {
                        "colorbar": {
                          "outlinewidth": 0,
                          "ticks": ""
                        },
                        "colorscale": [
                          [
                            0,
                            "#0d0887"
                          ],
                          [
                            0.1111111111111111,
                            "#46039f"
                          ],
                          [
                            0.2222222222222222,
                            "#7201a8"
                          ],
                          [
                            0.3333333333333333,
                            "#9c179e"
                          ],
                          [
                            0.4444444444444444,
                            "#bd3786"
                          ],
                          [
                            0.5555555555555556,
                            "#d8576b"
                          ],
                          [
                            0.6666666666666666,
                            "#ed7953"
                          ],
                          [
                            0.7777777777777778,
                            "#fb9f3a"
                          ],
                          [
                            0.8888888888888888,
                            "#fdca26"
                          ],
                          [
                            1,
                            "#f0f921"
                          ]
                        ],
                        "type": "surface"
                      }
                    ],
                    "table": [
                      {
                        "cells": {
                          "fill": {
                            "color": "#EBF0F8"
                          },
                          "line": {
                            "color": "white"
                          }
                        },
                        "header": {
                          "fill": {
                            "color": "#C8D4E3"
                          },
                          "line": {
                            "color": "white"
                          }
                        },
                        "type": "table"
                      }
                    ]
                  },
                  "layout": {
                    "annotationdefaults": {
                      "arrowcolor": "#2a3f5f",
                      "arrowhead": 0,
                      "arrowwidth": 1
                    },
                    "autotypenumbers": "strict",
                    "coloraxis": {
                      "colorbar": {
                        "outlinewidth": 0,
                        "ticks": ""
                      }
                    },
                    "colorscale": {
                      "diverging": [
                        [
                          0,
                          "#8e0152"
                        ],
                        [
                          0.1,
                          "#c51b7d"
                        ],
                        [
                          0.2,
                          "#de77ae"
                        ],
                        [
                          0.3,
                          "#f1b6da"
                        ],
                        [
                          0.4,
                          "#fde0ef"
                        ],
                        [
                          0.5,
                          "#f7f7f7"
                        ],
                        [
                          0.6,
                          "#e6f5d0"
                        ],
                        [
                          0.7,
                          "#b8e186"
                        ],
                        [
                          0.8,
                          "#7fbc41"
                        ],
                        [
                          0.9,
                          "#4d9221"
                        ],
                        [
                          1,
                          "#276419"
                        ]
                      ],
                      "sequential": [
                        [
                          0,
                          "#0d0887"
                        ],
                        [
                          0.1111111111111111,
                          "#46039f"
                        ],
                        [
                          0.2222222222222222,
                          "#7201a8"
                        ],
                        [
                          0.3333333333333333,
                          "#9c179e"
                        ],
                        [
                          0.4444444444444444,
                          "#bd3786"
                        ],
                        [
                          0.5555555555555556,
                          "#d8576b"
                        ],
                        [
                          0.6666666666666666,
                          "#ed7953"
                        ],
                        [
                          0.7777777777777778,
                          "#fb9f3a"
                        ],
                        [
                          0.8888888888888888,
                          "#fdca26"
                        ],
                        [
                          1,
                          "#f0f921"
                        ]
                      ],
                      "sequentialminus": [
                        [
                          0,
                          "#0d0887"
                        ],
                        [
                          0.1111111111111111,
                          "#46039f"
                        ],
                        [
                          0.2222222222222222,
                          "#7201a8"
                        ],
                        [
                          0.3333333333333333,
                          "#9c179e"
                        ],
                        [
                          0.4444444444444444,
                          "#bd3786"
                        ],
                        [
                          0.5555555555555556,
                          "#d8576b"
                        ],
                        [
                          0.6666666666666666,
                          "#ed7953"
                        ],
                        [
                          0.7777777777777778,
                          "#fb9f3a"
                        ],
                        [
                          0.8888888888888888,
                          "#fdca26"
                        ],
                        [
                          1,
                          "#f0f921"
                        ]
                      ]
                    },
                    "colorway": [
                      "#636efa",
                      "#EF553B",
                      "#00cc96",
                      "#ab63fa",
                      "#FFA15A",
                      "#19d3f3",
                      "#FF6692",
                      "#B6E880",
                      "#FF97FF",
                      "#FECB52"
                    ],
                    "font": {
                      "color": "#2a3f5f"
                    },
                    "geo": {
                      "bgcolor": "white",
                      "lakecolor": "white",
                      "landcolor": "#E5ECF6",
                      "showlakes": true,
                      "showland": true,
                      "subunitcolor": "white"
                    },
                    "hoverlabel": {
                      "align": "left"
                    },
                    "hovermode": "closest",
                    "mapbox": {
                      "style": "light"
                    },
                    "paper_bgcolor": "white",
                    "plot_bgcolor": "#E5ECF6",
                    "polar": {
                      "angularaxis": {
                        "gridcolor": "white",
                        "linecolor": "white",
                        "ticks": ""
                      },
                      "bgcolor": "#E5ECF6",
                      "radialaxis": {
                        "gridcolor": "white",
                        "linecolor": "white",
                        "ticks": ""
                      }
                    },
                    "scene": {
                      "xaxis": {
                        "backgroundcolor": "#E5ECF6",
                        "gridcolor": "white",
                        "gridwidth": 2,
                        "linecolor": "white",
                        "showbackground": true,
                        "ticks": "",
                        "zerolinecolor": "white"
                      },
                      "yaxis": {
                        "backgroundcolor": "#E5ECF6",
                        "gridcolor": "white",
                        "gridwidth": 2,
                        "linecolor": "white",
                        "showbackground": true,
                        "ticks": "",
                        "zerolinecolor": "white"
                      },
                      "zaxis": {
                        "backgroundcolor": "#E5ECF6",
                        "gridcolor": "white",
                        "gridwidth": 2,
                        "linecolor": "white",
                        "showbackground": true,
                        "ticks": "",
                        "zerolinecolor": "white"
                      }
                    },
                    "shapedefaults": {
                      "line": {
                        "color": "#2a3f5f"
                      }
                    },
                    "ternary": {
                      "aaxis": {
                        "gridcolor": "white",
                        "linecolor": "white",
                        "ticks": ""
                      },
                      "baxis": {
                        "gridcolor": "white",
                        "linecolor": "white",
                        "ticks": ""
                      },
                      "bgcolor": "#E5ECF6",
                      "caxis": {
                        "gridcolor": "white",
                        "linecolor": "white",
                        "ticks": ""
                      }
                    },
                    "title": {
                      "x": 0.05
                    },
                    "xaxis": {
                      "automargin": true,
                      "gridcolor": "white",
                      "linecolor": "white",
                      "ticks": "",
                      "title": {
                        "standoff": 15
                      },
                      "zerolinecolor": "white",
                      "zerolinewidth": 2
                    },
                    "yaxis": {
                      "automargin": true,
                      "gridcolor": "white",
                      "linecolor": "white",
                      "ticks": "",
                      "title": {
                        "standoff": 15
                      },
                      "zerolinecolor": "white",
                      "zerolinewidth": 2
                    }
                  }
                },
                "title": {
                  "text": "Box plot for Annual Income"
                },
                "xaxis": {
                  "anchor": "y",
                  "domain": [
                    0,
                    1
                  ]
                },
                "yaxis": {
                  "anchor": "x",
                  "domain": [
                    0,
                    1
                  ],
                  "title": {
                    "text": "Annual Income"
                  }
                }
              }
            }
          },
          "metadata": {},
          "output_type": "display_data"
        }
      ],
      "source": [
        "fig = px.box(df,\n",
        "             y='Annual Income',\n",
        "             title='Box plot for Annual Income',\n",
        "             hover_data=['Annual Income']\n",
        "            )\n",
        "\n",
        "fig.show()"
      ]
    },
    {
      "cell_type": "markdown",
      "metadata": {
        "id": "EasbEj-rglBa"
      },
      "source": [
        "##**Dropping Unneccesary Columns**\n",
        "The columns doesn’t contribute to the decision-making or insights offered by our cognitive system"
      ]
    },
    {
      "cell_type": "code",
      "execution_count": 46,
      "metadata": {
        "id": "_h9XhBOmgjV5"
      },
      "outputs": [],
      "source": [
        "df = df.drop(columns=['Employment Type', 'GraduateOrNot', 'Regional code', 'Year', 'Health Incidents', 'Equipment Used'])"
      ]
    },
    {
      "cell_type": "code",
      "execution_count": 47,
      "metadata": {
        "colab": {
          "base_uri": "https://localhost:8080/",
          "height": 965
        },
        "id": "8zISSBNRilem",
        "outputId": "4b92cdd1-ab7c-48ff-c1dc-626da1bf818b"
      },
      "outputs": [
        {
          "data": {
            "text/html": [
              "<div>\n",
              "<style scoped>\n",
              "    .dataframe tbody tr th:only-of-type {\n",
              "        vertical-align: middle;\n",
              "    }\n",
              "\n",
              "    .dataframe tbody tr th {\n",
              "        vertical-align: top;\n",
              "    }\n",
              "\n",
              "    .dataframe thead th {\n",
              "        text-align: right;\n",
              "    }\n",
              "</style>\n",
              "<table border=\"1\" class=\"dataframe\">\n",
              "  <thead>\n",
              "    <tr style=\"text-align: right;\">\n",
              "      <th></th>\n",
              "      <th>Trek</th>\n",
              "      <th>Cost</th>\n",
              "      <th>Time</th>\n",
              "      <th>Trip Grade</th>\n",
              "      <th>Max Altitude</th>\n",
              "      <th>Accommodation</th>\n",
              "      <th>Best Travel Time</th>\n",
              "      <th>Date of Travel</th>\n",
              "      <th>Sex</th>\n",
              "      <th>Age</th>\n",
              "      <th>...</th>\n",
              "      <th>Fitness Level</th>\n",
              "      <th>Weather Conditions</th>\n",
              "      <th>Trekking Group Size</th>\n",
              "      <th>Guide/No Guide</th>\n",
              "      <th>Purpose of Travel</th>\n",
              "      <th>Review/Satisfaction</th>\n",
              "      <th>Spring</th>\n",
              "      <th>Summer</th>\n",
              "      <th>Autumn</th>\n",
              "      <th>Winter</th>\n",
              "    </tr>\n",
              "  </thead>\n",
              "  <tbody>\n",
              "    <tr>\n",
              "      <th>0</th>\n",
              "      <td>Everest Base Camp Trek</td>\n",
              "      <td>1420.0</td>\n",
              "      <td>16</td>\n",
              "      <td>3</td>\n",
              "      <td>5545</td>\n",
              "      <td>Hotel/Guesthouse</td>\n",
              "      <td>Mar - May &amp; Sep - Dec</td>\n",
              "      <td>2022-09-13</td>\n",
              "      <td>Other</td>\n",
              "      <td>31</td>\n",
              "      <td>...</td>\n",
              "      <td>Intermediate</td>\n",
              "      <td>Clear</td>\n",
              "      <td>10.0</td>\n",
              "      <td>Guide</td>\n",
              "      <td>Leisure</td>\n",
              "      <td>4.5</td>\n",
              "      <td>1</td>\n",
              "      <td>0</td>\n",
              "      <td>1</td>\n",
              "      <td>1</td>\n",
              "    </tr>\n",
              "    <tr>\n",
              "      <th>1</th>\n",
              "      <td>Everest Base Camp Short Trek</td>\n",
              "      <td>1295.0</td>\n",
              "      <td>14</td>\n",
              "      <td>3</td>\n",
              "      <td>5545</td>\n",
              "      <td>Hotel/Guesthouse</td>\n",
              "      <td>Mar - May &amp; Sep - Dec</td>\n",
              "      <td>2021-09-04</td>\n",
              "      <td>Female</td>\n",
              "      <td>31</td>\n",
              "      <td>...</td>\n",
              "      <td>NaN</td>\n",
              "      <td>NaN</td>\n",
              "      <td>NaN</td>\n",
              "      <td>NaN</td>\n",
              "      <td>NaN</td>\n",
              "      <td>NaN</td>\n",
              "      <td>1</td>\n",
              "      <td>0</td>\n",
              "      <td>1</td>\n",
              "      <td>1</td>\n",
              "    </tr>\n",
              "    <tr>\n",
              "      <th>2</th>\n",
              "      <td>Everest Base Camp Heli Shuttle Trek</td>\n",
              "      <td>2000.0</td>\n",
              "      <td>12</td>\n",
              "      <td>3</td>\n",
              "      <td>5545</td>\n",
              "      <td>Hotel/Guesthouse</td>\n",
              "      <td>Mar - May &amp; Sep - Dec</td>\n",
              "      <td>2021-01-25</td>\n",
              "      <td>Female</td>\n",
              "      <td>34</td>\n",
              "      <td>...</td>\n",
              "      <td>Advanced</td>\n",
              "      <td>Snowy</td>\n",
              "      <td>12.0</td>\n",
              "      <td>Guide</td>\n",
              "      <td>Charity</td>\n",
              "      <td>5.0</td>\n",
              "      <td>1</td>\n",
              "      <td>0</td>\n",
              "      <td>1</td>\n",
              "      <td>1</td>\n",
              "    </tr>\n",
              "    <tr>\n",
              "      <th>3</th>\n",
              "      <td>Everest Base Camp Heli Trek</td>\n",
              "      <td>3300.0</td>\n",
              "      <td>11</td>\n",
              "      <td>3</td>\n",
              "      <td>5545</td>\n",
              "      <td>Hotel/Guesthouse</td>\n",
              "      <td>Mar - May &amp; Sep - Dec</td>\n",
              "      <td>2022-01-28</td>\n",
              "      <td>Other</td>\n",
              "      <td>28</td>\n",
              "      <td>...</td>\n",
              "      <td>Intermediate</td>\n",
              "      <td>Clear</td>\n",
              "      <td>5.0</td>\n",
              "      <td>Guide</td>\n",
              "      <td>Leisure</td>\n",
              "      <td>4.0</td>\n",
              "      <td>1</td>\n",
              "      <td>0</td>\n",
              "      <td>1</td>\n",
              "      <td>1</td>\n",
              "    </tr>\n",
              "    <tr>\n",
              "      <th>4</th>\n",
              "      <td>Everest Base Camp Trek for Seniors</td>\n",
              "      <td>1800.0</td>\n",
              "      <td>20</td>\n",
              "      <td>3</td>\n",
              "      <td>5545</td>\n",
              "      <td>Hotel/Guesthouse</td>\n",
              "      <td>Mar - May &amp; Sep - Dec</td>\n",
              "      <td>2021-10-21</td>\n",
              "      <td>Other</td>\n",
              "      <td>28</td>\n",
              "      <td>...</td>\n",
              "      <td>Beginner</td>\n",
              "      <td>Cloudy</td>\n",
              "      <td>6.0</td>\n",
              "      <td>No Guide</td>\n",
              "      <td>Adventure</td>\n",
              "      <td>3.5</td>\n",
              "      <td>1</td>\n",
              "      <td>0</td>\n",
              "      <td>1</td>\n",
              "      <td>1</td>\n",
              "    </tr>\n",
              "    <tr>\n",
              "      <th>5</th>\n",
              "      <td>Everest Chola Pass Trek</td>\n",
              "      <td>1720.0</td>\n",
              "      <td>19</td>\n",
              "      <td>5</td>\n",
              "      <td>5545</td>\n",
              "      <td>Hotel/Guesthouse</td>\n",
              "      <td>Mar - May &amp; Sep - Dec</td>\n",
              "      <td>2022-01-25</td>\n",
              "      <td>Other</td>\n",
              "      <td>25</td>\n",
              "      <td>...</td>\n",
              "      <td>Intermediate</td>\n",
              "      <td>Clear</td>\n",
              "      <td>10.0</td>\n",
              "      <td>Guide</td>\n",
              "      <td>Leisure</td>\n",
              "      <td>4.5</td>\n",
              "      <td>1</td>\n",
              "      <td>0</td>\n",
              "      <td>1</td>\n",
              "      <td>1</td>\n",
              "    </tr>\n",
              "    <tr>\n",
              "      <th>6</th>\n",
              "      <td>Gokyo Lake Renjo La Pass Trek</td>\n",
              "      <td>1450.0</td>\n",
              "      <td>16</td>\n",
              "      <td>3</td>\n",
              "      <td>5360</td>\n",
              "      <td>Hotel/Guesthouse</td>\n",
              "      <td>Mar - May &amp; Sep - Dec</td>\n",
              "      <td>2022-08-07</td>\n",
              "      <td>Male</td>\n",
              "      <td>31</td>\n",
              "      <td>...</td>\n",
              "      <td>NaN</td>\n",
              "      <td>NaN</td>\n",
              "      <td>NaN</td>\n",
              "      <td>NaN</td>\n",
              "      <td>NaN</td>\n",
              "      <td>NaN</td>\n",
              "      <td>1</td>\n",
              "      <td>0</td>\n",
              "      <td>1</td>\n",
              "      <td>1</td>\n",
              "    </tr>\n",
              "    <tr>\n",
              "      <th>7</th>\n",
              "      <td>Everest High Passes Trek</td>\n",
              "      <td>1950.0</td>\n",
              "      <td>22</td>\n",
              "      <td>5</td>\n",
              "      <td>5545</td>\n",
              "      <td>Hotel/Guesthouse</td>\n",
              "      <td>Apr - May &amp; Sep - Nov</td>\n",
              "      <td>2021-01-04</td>\n",
              "      <td>Other</td>\n",
              "      <td>31</td>\n",
              "      <td>...</td>\n",
              "      <td>Advanced</td>\n",
              "      <td>Snowy</td>\n",
              "      <td>12.0</td>\n",
              "      <td>Guide</td>\n",
              "      <td>Charity</td>\n",
              "      <td>5.0</td>\n",
              "      <td>1</td>\n",
              "      <td>0</td>\n",
              "      <td>1</td>\n",
              "      <td>0</td>\n",
              "    </tr>\n",
              "    <tr>\n",
              "      <th>8</th>\n",
              "      <td>Short Everest Trek</td>\n",
              "      <td>1060.0</td>\n",
              "      <td>7</td>\n",
              "      <td>1</td>\n",
              "      <td>3900</td>\n",
              "      <td>Hotel/Guesthouse</td>\n",
              "      <td>Mar - May &amp; Sep - Dec</td>\n",
              "      <td>2022-06-28</td>\n",
              "      <td>Female</td>\n",
              "      <td>28</td>\n",
              "      <td>...</td>\n",
              "      <td>Intermediate</td>\n",
              "      <td>Clear</td>\n",
              "      <td>5.0</td>\n",
              "      <td>Guide</td>\n",
              "      <td>Leisure</td>\n",
              "      <td>4.0</td>\n",
              "      <td>1</td>\n",
              "      <td>0</td>\n",
              "      <td>1</td>\n",
              "      <td>1</td>\n",
              "    </tr>\n",
              "    <tr>\n",
              "      <th>9</th>\n",
              "      <td>Everest Panorama Trek</td>\n",
              "      <td>1150.0</td>\n",
              "      <td>10</td>\n",
              "      <td>1</td>\n",
              "      <td>3860</td>\n",
              "      <td>Hotel/Guesthouse</td>\n",
              "      <td>Jan - May &amp; Sep - Dec</td>\n",
              "      <td>2020-01-31</td>\n",
              "      <td>Female</td>\n",
              "      <td>33</td>\n",
              "      <td>...</td>\n",
              "      <td>Beginner</td>\n",
              "      <td>Cloudy</td>\n",
              "      <td>6.0</td>\n",
              "      <td>No Guide</td>\n",
              "      <td>Adventure</td>\n",
              "      <td>3.5</td>\n",
              "      <td>1</td>\n",
              "      <td>0</td>\n",
              "      <td>1</td>\n",
              "      <td>1</td>\n",
              "    </tr>\n",
              "  </tbody>\n",
              "</table>\n",
              "<p>10 rows × 23 columns</p>\n",
              "</div>"
            ],
            "text/plain": [
              "                                  Trek    Cost Time  Trip Grade Max Altitude  \\\n",
              "0               Everest Base Camp Trek  1420.0   16           3        5545    \n",
              "1         Everest Base Camp Short Trek  1295.0   14           3        5545    \n",
              "2  Everest Base Camp Heli Shuttle Trek  2000.0   12           3        5545    \n",
              "3          Everest Base Camp Heli Trek  3300.0   11           3        5545    \n",
              "4   Everest Base Camp Trek for Seniors  1800.0   20           3        5545    \n",
              "5              Everest Chola Pass Trek  1720.0   19           5        5545    \n",
              "6        Gokyo Lake Renjo La Pass Trek  1450.0   16           3        5360    \n",
              "7             Everest High Passes Trek  1950.0   22           5        5545    \n",
              "8                   Short Everest Trek  1060.0    7           1        3900    \n",
              "9                Everest Panorama Trek  1150.0   10           1        3860    \n",
              "\n",
              "      Accommodation       Best Travel Time Date of Travel     Sex  Age  ...  \\\n",
              "0  Hotel/Guesthouse  Mar - May & Sep - Dec     2022-09-13   Other   31  ...   \n",
              "1  Hotel/Guesthouse  Mar - May & Sep - Dec     2021-09-04  Female   31  ...   \n",
              "2  Hotel/Guesthouse  Mar - May & Sep - Dec     2021-01-25  Female   34  ...   \n",
              "3  Hotel/Guesthouse  Mar - May & Sep - Dec     2022-01-28   Other   28  ...   \n",
              "4  Hotel/Guesthouse  Mar - May & Sep - Dec     2021-10-21   Other   28  ...   \n",
              "5  Hotel/Guesthouse  Mar - May & Sep - Dec     2022-01-25   Other   25  ...   \n",
              "6  Hotel/Guesthouse  Mar - May & Sep - Dec     2022-08-07    Male   31  ...   \n",
              "7  Hotel/Guesthouse  Apr - May & Sep - Nov     2021-01-04   Other   31  ...   \n",
              "8  Hotel/Guesthouse  Mar - May & Sep - Dec     2022-06-28  Female   28  ...   \n",
              "9  Hotel/Guesthouse  Jan - May & Sep - Dec     2020-01-31  Female   33  ...   \n",
              "\n",
              "   Fitness Level Weather Conditions Trekking Group Size Guide/No Guide  \\\n",
              "0   Intermediate              Clear                10.0          Guide   \n",
              "1            NaN                NaN                 NaN            NaN   \n",
              "2       Advanced              Snowy                12.0          Guide   \n",
              "3   Intermediate              Clear                 5.0          Guide   \n",
              "4       Beginner             Cloudy                 6.0       No Guide   \n",
              "5   Intermediate              Clear                10.0          Guide   \n",
              "6            NaN                NaN                 NaN            NaN   \n",
              "7       Advanced              Snowy                12.0          Guide   \n",
              "8   Intermediate              Clear                 5.0          Guide   \n",
              "9       Beginner             Cloudy                 6.0       No Guide   \n",
              "\n",
              "  Purpose of Travel  Review/Satisfaction Spring Summer  Autumn  Winter  \n",
              "0           Leisure                  4.5      1      0       1       1  \n",
              "1               NaN                  NaN      1      0       1       1  \n",
              "2           Charity                  5.0      1      0       1       1  \n",
              "3           Leisure                  4.0      1      0       1       1  \n",
              "4         Adventure                  3.5      1      0       1       1  \n",
              "5           Leisure                  4.5      1      0       1       1  \n",
              "6               NaN                  NaN      1      0       1       1  \n",
              "7           Charity                  5.0      1      0       1       0  \n",
              "8           Leisure                  4.0      1      0       1       1  \n",
              "9         Adventure                  3.5      1      0       1       1  \n",
              "\n",
              "[10 rows x 23 columns]"
            ]
          },
          "execution_count": 47,
          "metadata": {},
          "output_type": "execute_result"
        }
      ],
      "source": [
        "df.head(10)"
      ]
    },
    {
      "cell_type": "markdown",
      "metadata": {
        "id": "pvxq4fd_kvfe"
      },
      "source": [
        "## **`Frequent Flyer` Column**"
      ]
    },
    {
      "cell_type": "code",
      "execution_count": 48,
      "metadata": {
        "colab": {
          "base_uri": "https://localhost:8080/"
        },
        "id": "WHjPkPVOjAec",
        "outputId": "876263aa-2559-487f-8b4f-98f2c14f72ec"
      },
      "outputs": [
        {
          "name": "stdout",
          "output_type": "stream",
          "text": [
            "['No' 'Yes']\n",
            "   Frequent Flyer\n",
            "0               0\n",
            "1               0\n",
            "2               0\n",
            "3               0\n",
            "4               1\n"
          ]
        }
      ],
      "source": [
        "#Renaming the column name\n",
        "df.rename(columns={'FrequentFlyer': 'Frequent Flyer'}, inplace=True)\n",
        "\n",
        "# Check the unique values in the 'Frequent Flyer' column\n",
        "print(df['Frequent Flyer'].unique())\n",
        "\n",
        "# Replace only 'Yes' with 1 and 'No' with 0, and leave other values unchanged\n",
        "df['Frequent Flyer'] = df['Frequent Flyer'].apply(lambda x: 1 if x == 'Yes' else (0 if x == 'No' else x))\n",
        "\n",
        "# Display the first few rows to verify the changes\n",
        "print(df[['Frequent Flyer']].head())"
      ]
    },
    {
      "cell_type": "code",
      "execution_count": 49,
      "metadata": {
        "colab": {
          "base_uri": "https://localhost:8080/"
        },
        "id": "5n3E2WYjlLWC",
        "outputId": "794929a8-a9cd-4ce8-ce29-ea635c42e967"
      },
      "outputs": [
        {
          "name": "stdout",
          "output_type": "stream",
          "text": [
            "Frequent Flyer\n",
            "0    297\n",
            "1     86\n",
            "Name: count, dtype: int64\n"
          ]
        }
      ],
      "source": [
        "print(df['Frequent Flyer'].value_counts())"
      ]
    },
    {
      "cell_type": "markdown",
      "metadata": {
        "id": "NQrHiqoZl-Hs"
      },
      "source": [
        "## **`Country` Column**"
      ]
    },
    {
      "cell_type": "code",
      "execution_count": 50,
      "metadata": {
        "colab": {
          "base_uri": "https://localhost:8080/"
        },
        "id": "0lXZKfTaltsW",
        "outputId": "435c9b2c-bc45-44bf-a2b4-fc5e52baeb5d"
      },
      "outputs": [
        {
          "name": "stdout",
          "output_type": "stream",
          "text": [
            "['total' 'Afghanistan' 'Albania' 'Algeria' 'Andra' 'Angola'\n",
            " 'Antigua Berbuda' 'Azerbaijan' 'Argentina' 'Australia' 'Austria'\n",
            " 'Bahamas' 'Barrane' 'Bangladesh' 'Armenia' 'Barbados' 'Belgium' 'Bhutan'\n",
            " 'Bolivia' 'Bosnia Herzegovna' 'Botwana' 'Brazil' 'Belize' 'Solomon'\n",
            " 'Brunei' 'Bulgaria' 'Myanmar' 'Brush' 'Belarus' 'Cambodia' 'Cameroon'\n",
            " 'Canada' 'Carbo verde' 'Central Africa' 'Sri Lanka' 'Chad' 'Chile'\n",
            " 'China' 'Taiwan' 'Columbia' 'Komoro' 'Congo' 'Congo Democratic Republic'\n",
            " 'Costa Rica' 'Croatia' 'Cuba' 'Cyprus' 'Czech Republic' 'Benan' 'Denmark'\n",
            " 'Dominica' 'dominican republic' 'Ecuador' 'El Salvador'\n",
            " 'Equatorial guinea' 'Ethiopia' 'Eritria' 'Estonia' 'Georgia' 'Fiji'\n",
            " 'Finland' 'France' 'Jibuti' 'Gabon' 'Gambia' 'Palestine' 'Germany'\n",
            " 'Ghana' 'Kiribass' 'Greece' 'Grenada' 'Guatemala' 'Guinea' 'Gaiana'\n",
            " 'Haiti' 'Honduras' 'China (Hong Kong)' 'Hong Kong DI' 'Hong Kong SAR'\n",
            " 'Hungary' 'Iceland' 'India' 'Indonesia' 'Iran' 'Iraq' 'Ireland' 'Israel'\n",
            " 'Italy' 'Court Jiboire' 'Jamaica' 'Kazakhstan' 'Jordan' 'Kenya'\n",
            " 'north korea' 'South Korea' 'Kuwait' 'Kyrgyzstan' 'Laos' 'Lebanon'\n",
            " 'Lesot' 'Latvia' 'Liberia' 'Libya' 'Liechtenstein' 'Lithuania'\n",
            " 'Luxembourg' 'Macau' 'Macau travel certificate' 'Madagascar' 'Malawi'\n",
            " 'Malaysia' 'Maldives' 'Mari' 'Malta' 'Mauritania' 'Mauritius' 'Mexico'\n",
            " 'Monaco' 'Mongolia' 'Moldoba' 'Montenegro' 'Morocco' 'Mozambique' 'Oman'\n",
            " 'Namibia' 'Naure' 'Nepal' 'Netherlands' 'Vanuatsu' 'new zealand'\n",
            " 'Nicaragua' 'Nigail' 'Nigeria' 'Norway' 'Micronesia' 'Marshall' 'Palao'\n",
            " 'Pakistan' 'Panama' 'Papua New Guinea' 'Paraguay' 'Peru' 'Philippines'\n",
            " 'Poland' 'Portugal' 'Guinea Visau' 'East Timor Democratic Republic'\n",
            " 'Qatar' 'Romania' 'Russia' 'Rwanda' 'St. Christopher Navis' 'St. Lucia'\n",
            " 'St. Vincent' 'Sun Marino' 'Santa Principa' 'Saudi Arabia' 'Senegal'\n",
            " 'Serbia' 'Saechel' 'Sierra Leone' 'Singapore' 'Slovakia' 'Vietnam'\n",
            " 'Slovenia' 'Somalia' 'Republic of South Africa' 'Zimbabwe' 'Spain'\n",
            " 'South Sudan' 'Sudan' 'Slinum' 'Swaji Land' 'Sweden' 'Switzerland'\n",
            " 'Syria' 'Tajikistan' 'Thailand' 'Togo' 'Tonga'\n",
            " 'Republic of Trinidad and Tobago' 'United Arab Emirates' 'Tunisia'\n",
            " 'Turkey' 'Torque menistan' 'Tsubaru' 'Uganda' 'Ukraine'\n",
            " 'Former Macedonia Yugoslavia Republic' 'Egypt' 'British' 'Tanzania'\n",
            " 'united states of america' 'Burkina Faso' 'Uruguay' 'Uzbekistan'\n",
            " 'Venezuela' 'Samoa Independent State' 'Yemen' 'Zambia' 'Kosovo' 'others'\n",
            " 'Zaire']\n"
          ]
        }
      ],
      "source": [
        "print(df['Country'].unique())"
      ]
    },
    {
      "cell_type": "code",
      "execution_count": 51,
      "metadata": {
        "colab": {
          "base_uri": "https://localhost:8080/",
          "height": 423
        },
        "id": "AQfEHU-orutL",
        "outputId": "07c9bba3-94eb-496c-bf2c-77c569fbbc17"
      },
      "outputs": [
        {
          "data": {
            "text/html": [
              "<div>\n",
              "<style scoped>\n",
              "    .dataframe tbody tr th:only-of-type {\n",
              "        vertical-align: middle;\n",
              "    }\n",
              "\n",
              "    .dataframe tbody tr th {\n",
              "        vertical-align: top;\n",
              "    }\n",
              "\n",
              "    .dataframe thead th {\n",
              "        text-align: right;\n",
              "    }\n",
              "</style>\n",
              "<table border=\"1\" class=\"dataframe\">\n",
              "  <thead>\n",
              "    <tr style=\"text-align: right;\">\n",
              "      <th></th>\n",
              "      <th>Country</th>\n",
              "    </tr>\n",
              "  </thead>\n",
              "  <tbody>\n",
              "    <tr>\n",
              "      <th>0</th>\n",
              "      <td>Unknown</td>\n",
              "    </tr>\n",
              "    <tr>\n",
              "      <th>1</th>\n",
              "      <td>Afghanistan</td>\n",
              "    </tr>\n",
              "    <tr>\n",
              "      <th>2</th>\n",
              "      <td>Albania</td>\n",
              "    </tr>\n",
              "    <tr>\n",
              "      <th>3</th>\n",
              "      <td>Algeria</td>\n",
              "    </tr>\n",
              "    <tr>\n",
              "      <th>4</th>\n",
              "      <td>Russia</td>\n",
              "    </tr>\n",
              "    <tr>\n",
              "      <th>...</th>\n",
              "      <td>...</td>\n",
              "    </tr>\n",
              "    <tr>\n",
              "      <th>378</th>\n",
              "      <td>Syria</td>\n",
              "    </tr>\n",
              "    <tr>\n",
              "      <th>379</th>\n",
              "      <td>Tajikistan</td>\n",
              "    </tr>\n",
              "    <tr>\n",
              "      <th>380</th>\n",
              "      <td>Thailand</td>\n",
              "    </tr>\n",
              "    <tr>\n",
              "      <th>381</th>\n",
              "      <td>Togo</td>\n",
              "    </tr>\n",
              "    <tr>\n",
              "      <th>382</th>\n",
              "      <td>Nepal</td>\n",
              "    </tr>\n",
              "  </tbody>\n",
              "</table>\n",
              "<p>383 rows × 1 columns</p>\n",
              "</div>"
            ],
            "text/plain": [
              "         Country\n",
              "0        Unknown\n",
              "1    Afghanistan\n",
              "2        Albania\n",
              "3        Algeria\n",
              "4         Russia\n",
              "..           ...\n",
              "378        Syria\n",
              "379   Tajikistan\n",
              "380     Thailand\n",
              "381         Togo\n",
              "382        Nepal\n",
              "\n",
              "[383 rows x 1 columns]"
            ]
          },
          "execution_count": 51,
          "metadata": {},
          "output_type": "execute_result"
        }
      ],
      "source": [
        "# Define the country mapping\n",
        "country_mapping = {\n",
        "    'Andra': 'Russia',\n",
        "    'Antigua Berbuda': 'Antigua and Barbuda',\n",
        "    'Bosnia Herzegovna': 'Bosnia and Herzegovina',\n",
        "    'Botwana': 'Botswana',\n",
        "    'Carbo verde': 'Cabo Verde',\n",
        "    'Benan': 'Benin',\n",
        "    'dominican republic': 'Dominican Republic',\n",
        "    'Equatorial guinea': 'Equatorial Guinea',\n",
        "    'Eritria': 'Eritrea',\n",
        "    'Jibuti': 'Djibouti',\n",
        "    'Kiribass': 'Kiribati',\n",
        "    'Court Jiboire': 'Côte d\\'Ivoire',\n",
        "    'Moldoba': 'Moldova',\n",
        "    'Vanuatsu': 'Vanuatu',\n",
        "    'new zealand': 'New Zealand',\n",
        "    'Nigail': 'Nigeria',\n",
        "    'Guinea Visau': 'Guinea-Bissau',\n",
        "    'St. Christopher Navis': 'Saint Kitts and Nevis',\n",
        "    'Sun Marino': 'San Marino',\n",
        "    'Santa Principa': 'Sao Tome and Principe',\n",
        "    'Saechel': 'Seychelles',\n",
        "    'Slinum': 'Slovenia',\n",
        "    'Swaji Land': 'Swaziland',\n",
        "    'Torque menistan': 'Turkmenistan',\n",
        "    'Tsubaru': 'Togo',\n",
        "    'Former Macedonia Yugoslavia Republic': 'North Macedonia',\n",
        "    'British': 'United Kingdom',\n",
        "    'united states of america': 'United States',\n",
        "    'Samoa Independent State': 'Samoa',\n",
        "}\n",
        "\n",
        "# Function to clean country names\n",
        "def clean_country(country):\n",
        "    country = country.strip()  # Remove leading/trailing spaces\n",
        "    if country.lower() in ['total', 'others']:\n",
        "        return 'Unknown'\n",
        "    if country == 'Macau travel certificate':\n",
        "        return 'Macau'\n",
        "    return country_mapping.get(country, country)  # Map or return original\n",
        "\n",
        "# Apply the cleaning function\n",
        "df['Country'] = df['Country'].apply(clean_country)\n",
        "df[['Country']]"
      ]
    },
    {
      "cell_type": "code",
      "execution_count": 52,
      "metadata": {
        "colab": {
          "base_uri": "https://localhost:8080/"
        },
        "id": "SIj_g-XUsEnP",
        "outputId": "8e60e0c5-5e9c-40fa-b885-20b7530db4bf"
      },
      "outputs": [
        {
          "name": "stdout",
          "output_type": "stream",
          "text": [
            "['Unknown' 'Afghanistan' 'Albania' 'Algeria' 'Russia' 'Angola'\n",
            " 'Antigua and Barbuda' 'Azerbaijan' 'Argentina' 'Australia' 'Austria'\n",
            " 'Bahamas' 'Barrane' 'Bangladesh' 'Armenia' 'Barbados' 'Belgium' 'Bhutan'\n",
            " 'Bolivia' 'Bosnia and Herzegovina' 'Botswana' 'Brazil' 'Belize' 'Solomon'\n",
            " 'Brunei' 'Bulgaria' 'Myanmar' 'Brush' 'Belarus' 'Cambodia' 'Cameroon'\n",
            " 'Canada' 'Cabo Verde' 'Central Africa' 'Sri Lanka' 'Chad' 'Chile' 'China'\n",
            " 'Taiwan' 'Columbia' 'Komoro' 'Congo' 'Congo Democratic Republic'\n",
            " 'Costa Rica' 'Croatia' 'Cuba' 'Cyprus' 'Czech Republic' 'Benin' 'Denmark'\n",
            " 'Dominica' 'Dominican Republic' 'Ecuador' 'El Salvador'\n",
            " 'Equatorial Guinea' 'Ethiopia' 'Eritrea' 'Estonia' 'Georgia' 'Fiji'\n",
            " 'Finland' 'France' 'Djibouti' 'Gabon' 'Gambia' 'Palestine' 'Germany'\n",
            " 'Ghana' 'Kiribati' 'Greece' 'Grenada' 'Guatemala' 'Guinea' 'Gaiana'\n",
            " 'Haiti' 'Honduras' 'China (Hong Kong)' 'Hong Kong DI' 'Hong Kong SAR'\n",
            " 'Hungary' 'Iceland' 'India' 'Indonesia' 'Iran' 'Iraq' 'Ireland' 'Israel'\n",
            " 'Italy' \"Côte d'Ivoire\" 'Jamaica' 'Kazakhstan' 'Jordan' 'Kenya'\n",
            " 'north korea' 'South Korea' 'Kuwait' 'Kyrgyzstan' 'Laos' 'Lebanon'\n",
            " 'Lesot' 'Latvia' 'Liberia' 'Libya' 'Liechtenstein' 'Lithuania'\n",
            " 'Luxembourg' 'Macau' 'Madagascar' 'Malawi' 'Malaysia' 'Maldives' 'Mari'\n",
            " 'Malta' 'Mauritania' 'Mauritius' 'Mexico' 'Monaco' 'Mongolia' 'Moldova'\n",
            " 'Montenegro' 'Morocco' 'Mozambique' 'Oman' 'Namibia' 'Naure' 'Nepal'\n",
            " 'Netherlands' 'Vanuatu' 'New Zealand' 'Nicaragua' 'Nigeria' 'Norway'\n",
            " 'Micronesia' 'Marshall' 'Palao' 'Pakistan' 'Panama' 'Papua New Guinea'\n",
            " 'Paraguay' 'Peru' 'Philippines' 'Poland' 'Portugal' 'Guinea-Bissau'\n",
            " 'East Timor Democratic Republic' 'Qatar' 'Romania' 'Rwanda'\n",
            " 'Saint Kitts and Nevis' 'St. Lucia' 'St. Vincent' 'San Marino'\n",
            " 'Sao Tome and Principe' 'Saudi Arabia' 'Senegal' 'Serbia' 'Seychelles'\n",
            " 'Sierra Leone' 'Singapore' 'Slovakia' 'Vietnam' 'Slovenia' 'Somalia'\n",
            " 'Republic of South Africa' 'Zimbabwe' 'Spain' 'South Sudan' 'Sudan'\n",
            " 'Swaziland' 'Sweden' 'Switzerland' 'Syria' 'Tajikistan' 'Thailand' 'Togo'\n",
            " 'Tonga' 'Republic of Trinidad and Tobago' 'United Arab Emirates'\n",
            " 'Tunisia' 'Turkey' 'Turkmenistan' 'Uganda' 'Ukraine' 'North Macedonia'\n",
            " 'Egypt' 'United Kingdom' 'Tanzania' 'United States' 'Burkina Faso'\n",
            " 'Uruguay' 'Uzbekistan' 'Venezuela' 'Samoa' 'Yemen' 'Zambia' 'Kosovo'\n",
            " 'Zaire']\n"
          ]
        }
      ],
      "source": [
        "print(df['Country'].unique())"
      ]
    },
    {
      "cell_type": "markdown",
      "metadata": {
        "id": "aO0QO5pf9KgV"
      },
      "source": [
        "##**`Fitness Level` Column**"
      ]
    },
    {
      "cell_type": "code",
      "execution_count": 53,
      "metadata": {
        "colab": {
          "base_uri": "https://localhost:8080/",
          "height": 423
        },
        "id": "FaS1IoeetdAy",
        "outputId": "f109ea01-f3b1-4b58-cc52-57cc44392854"
      },
      "outputs": [
        {
          "data": {
            "text/html": [
              "<div>\n",
              "<style scoped>\n",
              "    .dataframe tbody tr th:only-of-type {\n",
              "        vertical-align: middle;\n",
              "    }\n",
              "\n",
              "    .dataframe tbody tr th {\n",
              "        vertical-align: top;\n",
              "    }\n",
              "\n",
              "    .dataframe thead th {\n",
              "        text-align: right;\n",
              "    }\n",
              "</style>\n",
              "<table border=\"1\" class=\"dataframe\">\n",
              "  <thead>\n",
              "    <tr style=\"text-align: right;\">\n",
              "      <th></th>\n",
              "      <th>Fitness Level</th>\n",
              "    </tr>\n",
              "  </thead>\n",
              "  <tbody>\n",
              "    <tr>\n",
              "      <th>0</th>\n",
              "      <td>Intermediate</td>\n",
              "    </tr>\n",
              "    <tr>\n",
              "      <th>1</th>\n",
              "      <td>Unknown</td>\n",
              "    </tr>\n",
              "    <tr>\n",
              "      <th>2</th>\n",
              "      <td>Advanced</td>\n",
              "    </tr>\n",
              "    <tr>\n",
              "      <th>3</th>\n",
              "      <td>Intermediate</td>\n",
              "    </tr>\n",
              "    <tr>\n",
              "      <th>4</th>\n",
              "      <td>Beginner</td>\n",
              "    </tr>\n",
              "    <tr>\n",
              "      <th>...</th>\n",
              "      <td>...</td>\n",
              "    </tr>\n",
              "    <tr>\n",
              "      <th>378</th>\n",
              "      <td>Intermediate</td>\n",
              "    </tr>\n",
              "    <tr>\n",
              "      <th>379</th>\n",
              "      <td>Beginner</td>\n",
              "    </tr>\n",
              "    <tr>\n",
              "      <th>380</th>\n",
              "      <td>Intermediate</td>\n",
              "    </tr>\n",
              "    <tr>\n",
              "      <th>381</th>\n",
              "      <td>Beginner</td>\n",
              "    </tr>\n",
              "    <tr>\n",
              "      <th>382</th>\n",
              "      <td>Advanced</td>\n",
              "    </tr>\n",
              "  </tbody>\n",
              "</table>\n",
              "<p>383 rows × 1 columns</p>\n",
              "</div>"
            ],
            "text/plain": [
              "    Fitness Level\n",
              "0    Intermediate\n",
              "1         Unknown\n",
              "2        Advanced\n",
              "3    Intermediate\n",
              "4        Beginner\n",
              "..            ...\n",
              "378  Intermediate\n",
              "379      Beginner\n",
              "380  Intermediate\n",
              "381      Beginner\n",
              "382      Advanced\n",
              "\n",
              "[383 rows x 1 columns]"
            ]
          },
          "execution_count": 53,
          "metadata": {},
          "output_type": "execute_result"
        }
      ],
      "source": [
        "# Fill missing values in the \"Fitness Level\" column with \"Unknown\"\n",
        "df['Fitness Level'] = df['Fitness Level'].fillna('Unknown')\n",
        "\n",
        "# Standardize the text to ensure consistency (capitalize the first letter of each word)\n",
        "df['Fitness Level'] = df['Fitness Level'].str.title()\n",
        "\n",
        "df[['Fitness Level']]"
      ]
    },
    {
      "cell_type": "code",
      "execution_count": 54,
      "metadata": {
        "colab": {
          "base_uri": "https://localhost:8080/"
        },
        "id": "m1k9yDTs915N",
        "outputId": "7e1ab3ad-cae9-4a15-b4d7-70647b62cd78"
      },
      "outputs": [
        {
          "name": "stdout",
          "output_type": "stream",
          "text": [
            "Fitness Level\n",
            "Beginner        138\n",
            "Intermediate    134\n",
            "Advanced         73\n",
            "Unknown          38\n",
            "Name: count, dtype: int64\n"
          ]
        }
      ],
      "source": [
        "print(df['Fitness Level'].value_counts())"
      ]
    },
    {
      "cell_type": "markdown",
      "metadata": {
        "id": "FDSUxTJS974j"
      },
      "source": [
        "##**`Weather Conditions` Column**\n",
        "Could fill the null values based on the date of travel (take seasons into account)"
      ]
    },
    {
      "cell_type": "code",
      "execution_count": 55,
      "metadata": {
        "colab": {
          "base_uri": "https://localhost:8080/"
        },
        "id": "Gbg4cP4z97hy",
        "outputId": "dcdc9e9f-75fd-44e5-c739-eeb4ccb1d212"
      },
      "outputs": [
        {
          "name": "stdout",
          "output_type": "stream",
          "text": [
            "Weather Conditions\n",
            "Clear     134\n",
            "Snowy      73\n",
            "Cloudy     70\n",
            "Rainy      68\n",
            "Name: count, dtype: int64\n"
          ]
        }
      ],
      "source": [
        "print(df['Weather Conditions'].value_counts())"
      ]
    },
    {
      "cell_type": "code",
      "execution_count": 56,
      "metadata": {
        "colab": {
          "base_uri": "https://localhost:8080/"
        },
        "id": "96erwn-u-rPh",
        "outputId": "a8298916-82bf-410d-a438-e2819cdef003"
      },
      "outputs": [
        {
          "data": {
            "text/plain": [
              "38"
            ]
          },
          "execution_count": 56,
          "metadata": {},
          "output_type": "execute_result"
        }
      ],
      "source": [
        "# Checking null values in the \"Weather Conditions\" column\n",
        "df['Weather Conditions'].isnull().sum()"
      ]
    },
    {
      "cell_type": "code",
      "execution_count": 57,
      "metadata": {
        "colab": {
          "base_uri": "https://localhost:8080/",
          "height": 458
        },
        "id": "thWTbv5P-00T",
        "outputId": "71e92dc1-9fae-47b1-d67e-e09d6c08c6e2"
      },
      "outputs": [
        {
          "data": {
            "text/plain": [
              "0     2022-09-13\n",
              "1     2021-09-04\n",
              "2     2021-01-25\n",
              "3     2022-01-28\n",
              "4     2021-10-21\n",
              "         ...    \n",
              "378   2022-08-09\n",
              "379   2022-09-09\n",
              "380   2021-05-04\n",
              "381   2021-01-13\n",
              "382   2025-05-13\n",
              "Name: Date of Travel, Length: 383, dtype: datetime64[ns]"
            ]
          },
          "execution_count": 57,
          "metadata": {},
          "output_type": "execute_result"
        }
      ],
      "source": [
        "df['Date of Travel']"
      ]
    },
    {
      "cell_type": "code",
      "execution_count": 58,
      "metadata": {
        "id": "MGvhg2CT-4jm"
      },
      "outputs": [],
      "source": [
        "def fill_weather_by_season(row) -> str:\n",
        "    month = row['Date of Travel'].month\n",
        "    # December, January, February - Winter\n",
        "    # Convert 'Max Altitude' to a numeric type before comparison\n",
        "    try:\n",
        "        max_altitude = int(row['Max Altitude'])  # or float(row['Max Altitude'])\n",
        "    except ValueError:\n",
        "        max_altitude = 0  # or any default value if conversion fails\n",
        "\n",
        "    if month in [12, 1, 2]:\n",
        "        return \"Snowy\" if max_altitude > 3000 else \"Clear\"\n",
        "    # March, April, May - Spring\n",
        "    elif month in [3, 4, 5]:\n",
        "        return \"Clear\"\n",
        "    # June, July, August - Summer (Monsoon)\n",
        "    elif month in [6, 7, 8]:\n",
        "        return \"Rainy\"\n",
        "    # September, October, November - Autumn\n",
        "    else:\n",
        "        return \"Clear\"\n",
        "\n",
        "# Apply the function to fill missing weather conditions\n",
        "df['Weather Conditions'] = df.apply(\n",
        "    lambda row: row[\"Weather Conditions\"] if pd.notnull(row[\"Weather Conditions\"]) else fill_weather_by_season(row), axis=1\n",
        ")"
      ]
    },
    {
      "cell_type": "code",
      "execution_count": 59,
      "metadata": {
        "colab": {
          "base_uri": "https://localhost:8080/"
        },
        "id": "zkjOzwK3APZq",
        "outputId": "7aaadfae-ff14-4cbc-a43f-cda64d6ff6e6"
      },
      "outputs": [
        {
          "data": {
            "text/plain": [
              "0"
            ]
          },
          "execution_count": 59,
          "metadata": {},
          "output_type": "execute_result"
        }
      ],
      "source": [
        "df['Weather Conditions'].isnull().sum()"
      ]
    },
    {
      "cell_type": "markdown",
      "metadata": {
        "id": "pQcCgjQ9ATBX"
      },
      "source": [
        "## **`Guide/NoGuide` Column and `Purpose of Travel` Column**\n",
        " filling missing values with unknown"
      ]
    },
    {
      "cell_type": "code",
      "execution_count": 60,
      "metadata": {
        "colab": {
          "base_uri": "https://localhost:8080/"
        },
        "id": "7TDFr3xiASQA",
        "outputId": "39b548fd-2650-45e5-9e70-81de4a6579c8"
      },
      "outputs": [
        {
          "data": {
            "text/plain": [
              "0"
            ]
          },
          "execution_count": 60,
          "metadata": {},
          "output_type": "execute_result"
        }
      ],
      "source": [
        "# Fill missing values in \"Guide/No Guide\" with \"Unknown\" or \"No Guide\"\n",
        "df['Guide/No Guide'] = df['Guide/No Guide'].fillna('Unknown')\n",
        "# Fill missing values in \"Purpose of Travel\" with \"Unknown\"\n",
        "df['Purpose of Travel'] = df['Purpose of Travel'].fillna('Unknown')\n",
        "#Checking the missing values are filled or not\n",
        "df['Purpose of Travel'].isnull().sum()\n",
        "df['Guide/No Guide'].isnull().sum()"
      ]
    },
    {
      "cell_type": "markdown",
      "metadata": {
        "id": "HF23US-UFCex"
      },
      "source": [
        "## **`Trekking Group Size` Column**"
      ]
    },
    {
      "cell_type": "code",
      "execution_count": 61,
      "metadata": {
        "colab": {
          "base_uri": "https://localhost:8080/"
        },
        "id": "hxfL0quDDHuq",
        "outputId": "8510433e-9898-42ce-90d2-e33211ad4c36"
      },
      "outputs": [
        {
          "name": "stdout",
          "output_type": "stream",
          "text": [
            "[10. nan 12.  5.  6.  8.]\n"
          ]
        }
      ],
      "source": [
        "print(df['Trekking Group Size'].unique())"
      ]
    },
    {
      "cell_type": "code",
      "execution_count": 62,
      "metadata": {
        "colab": {
          "base_uri": "https://localhost:8080/"
        },
        "id": "R86ylYY6DrSK",
        "outputId": "f5c1c38f-8fc0-4e5a-bb1e-629d4091d846"
      },
      "outputs": [
        {
          "name": "stdout",
          "output_type": "stream",
          "text": [
            "Trekking Group Size\n",
            "12.0    73\n",
            "6.0     70\n",
            "8.0     68\n",
            "10.0    67\n",
            "5.0     67\n",
            "Name: count, dtype: int64\n"
          ]
        }
      ],
      "source": [
        "print(df['Trekking Group Size'].value_counts())"
      ]
    },
    {
      "cell_type": "code",
      "execution_count": 63,
      "metadata": {
        "colab": {
          "base_uri": "https://localhost:8080/",
          "height": 564
        },
        "id": "jN6qzvdgED7f",
        "outputId": "00e13d25-e282-4ac3-914d-610948e1bd91"
      },
      "outputs": [
        {
          "data": {
            "image/png": "[encoded data removed]",
            "text/plain": [
              "<Figure size 1000x600 with 1 Axes>"
            ]
          },
          "metadata": {},
          "output_type": "display_data"
        }
      ],
      "source": [
        "import matplotlib.pyplot as plt\n",
        "\n",
        "# Count the occurrences of each group size\n",
        "group_size_counts = df['Trekking Group Size'].value_counts()\n",
        "\n",
        "# Plotting\n",
        "plt.figure(figsize=(10, 6))\n",
        "group_size_counts.sort_index().plot(kind='bar', color='skyblue')\n",
        "plt.title('Distribution of Trekking Group Sizes')\n",
        "plt.xlabel('Group Size')\n",
        "plt.ylabel('Number of Occurrences')\n",
        "plt.xticks(rotation=0)\n",
        "plt.grid(axis='y')\n",
        "plt.show()"
      ]
    },
    {
      "cell_type": "markdown",
      "metadata": {
        "id": "UNKxmFxAEk6V"
      },
      "source": [
        "Data shows common group sizes (5 to 12 members) based on the Figure , the median would be better for filling missing values."
      ]
    },
    {
      "cell_type": "code",
      "execution_count": 64,
      "metadata": {
        "colab": {
          "base_uri": "https://localhost:8080/"
        },
        "id": "ij5_C_VgEf8f",
        "outputId": "572f099a-0ef9-409f-ac54-7d29de349bd3"
      },
      "outputs": [
        {
          "name": "stdout",
          "output_type": "stream",
          "text": [
            "Remaining null values: 0\n"
          ]
        }
      ],
      "source": [
        "# Calculate the median of the Trekking Group Size\n",
        "median_group_size = df['Trekking Group Size'].median()\n",
        "\n",
        "# Fill missing values with the median\n",
        "df['Trekking Group Size'] = df['Trekking Group Size'].fillna(median_group_size)\n",
        "\n",
        "# Check for remaining null values\n",
        "remaining_nulls = df['Trekking Group Size'].isnull().sum()\n",
        "print(f'Remaining null values: {remaining_nulls}')"
      ]
    },
    {
      "cell_type": "markdown",
      "metadata": {
        "id": "WMd8O63-FOKD"
      },
      "source": [
        "## **`Review/Satisfaction` Column**"
      ]
    },
    {
      "cell_type": "code",
      "execution_count": 65,
      "metadata": {
        "colab": {
          "base_uri": "https://localhost:8080/"
        },
        "id": "VlXtjAVsFg__",
        "outputId": "d604da27-6c1e-45a9-fd3f-9225bd50f977"
      },
      "outputs": [
        {
          "name": "stdout",
          "output_type": "stream",
          "text": [
            "[4.5 nan 5.  4.  3.5 3. ]\n"
          ]
        }
      ],
      "source": [
        "print(df['Review/Satisfaction'].unique())"
      ]
    },
    {
      "cell_type": "code",
      "execution_count": 66,
      "metadata": {
        "colab": {
          "base_uri": "https://localhost:8080/"
        },
        "id": "HKEZQaTdFYBO",
        "outputId": "83dd7671-dc41-4c33-de1a-346b73c99133"
      },
      "outputs": [
        {
          "name": "stdout",
          "output_type": "stream",
          "text": [
            "Review/Satisfaction\n",
            "5.0    73\n",
            "3.5    70\n",
            "3.0    68\n",
            "4.5    67\n",
            "4.0    67\n",
            "Name: count, dtype: int64\n"
          ]
        }
      ],
      "source": [
        "print(df['Review/Satisfaction'].value_counts())"
      ]
    },
    {
      "cell_type": "code",
      "execution_count": 67,
      "metadata": {
        "colab": {
          "base_uri": "https://localhost:8080/",
          "height": 685
        },
        "id": "iq-VAj1vHSi4",
        "outputId": "595d57cb-4f3c-460c-de0e-3b8cd26c3091"
      },
      "outputs": [
        {
          "name": "stderr",
          "output_type": "stream",
          "text": [
            "/var/folders/5k/8v79yq9x6tq6jrygp62tqszr0000gn/T/ipykernel_75485/1842055276.py:4: FutureWarning:\n",
            "\n",
            "\n",
            "\n",
            "Passing `palette` without assigning `hue` is deprecated and will be removed in v0.14.0. Assign the `x` variable to `hue` and set `legend=False` for the same effect.\n",
            "\n",
            "\n"
          ]
        },
        {
          "data": {
            "image/png": "[encoded data removed]",
            "text/plain": [
              "<Figure size 1200x600 with 1 Axes>"
            ]
          },
          "metadata": {},
          "output_type": "display_data"
        }
      ],
      "source": [
        "import seaborn as sns\n",
        "# Plotting the Count Plot for Frequency of Each Rating\n",
        "plt.figure(figsize=(12, 6))\n",
        "sns.countplot(x='Review/Satisfaction', data=df, palette='Set2')\n",
        "plt.title('Frequency of Review/Satisfaction Ratings')\n",
        "plt.xlabel('Review/Satisfaction Score')\n",
        "plt.ylabel('Count')\n",
        "plt.grid(True)\n",
        "plt.show()"
      ]
    },
    {
      "cell_type": "code",
      "execution_count": 68,
      "metadata": {
        "colab": {
          "base_uri": "https://localhost:8080/"
        },
        "id": "Ws7fTuhnHpG3",
        "outputId": "d05a6b6c-f2a7-42ef-e2ee-155e36889cf0"
      },
      "outputs": [
        {
          "name": "stdout",
          "output_type": "stream",
          "text": [
            "Remaining null values in Review/Satisfaction: 0\n",
            "count    383.000000\n",
            "mean       4.009138\n",
            "std        0.677264\n",
            "min        3.000000\n",
            "25%        3.500000\n",
            "50%        4.000000\n",
            "75%        4.500000\n",
            "max        5.000000\n",
            "Name: Review/Satisfaction, dtype: float64\n"
          ]
        }
      ],
      "source": [
        "#  Handling missing values\n",
        "# Using median to fill missing values\n",
        "median_review = df['Review/Satisfaction'].median()\n",
        "df['Review/Satisfaction'] = df['Review/Satisfaction'].fillna(median_review)\n",
        "\n",
        "# Checking for remaining null values and describe the distribution\n",
        "remaining_nulls = df['Review/Satisfaction'].isnull().sum()\n",
        "print(f'Remaining null values in Review/Satisfaction: {remaining_nulls}')\n",
        "\n",
        "# Optional: Describe the updated Review/Satisfaction column\n",
        "print(df['Review/Satisfaction'].describe())"
      ]
    },
    {
      "cell_type": "code",
      "execution_count": 69,
      "metadata": {
        "colab": {
          "base_uri": "https://localhost:8080/"
        },
        "id": "on25tMvIIDXq",
        "outputId": "d7771b5f-291d-4c34-d0e1-a8582afcb4a9"
      },
      "outputs": [
        {
          "name": "stdout",
          "output_type": "stream",
          "text": [
            "[4.5 4.  5.  3.5 3. ]\n"
          ]
        }
      ],
      "source": [
        "print(df['Review/Satisfaction'].unique())"
      ]
    },
    {
      "cell_type": "code",
      "execution_count": 70,
      "metadata": {},
      "outputs": [],
      "source": [
        "df.to_csv('Anushka.csv')"
      ]
    }
  ],
  "metadata": {
    "colab": {
      "provenance": []
    },
    "kernelspec": {
      "display_name": "Python 3",
      "name": "python3"
    },
    "language_info": {
      "codemirror_mode": {
        "name": "ipython",
        "version": 3
      },
      "file_extension": ".py",
      "mimetype": "text/x-python",
      "name": "python",
      "nbconvert_exporter": "python",
      "pygments_lexer": "ipython3",
      "version": "3.11.3"
    }
  },
  "nbformat": 4,
  "nbformat_minor": 0
}
